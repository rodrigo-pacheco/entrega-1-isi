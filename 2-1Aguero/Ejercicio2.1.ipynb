{
 "cells": [
  {
   "cell_type": "code",
   "execution_count": 10,
   "metadata": {},
   "outputs": [
    {
     "name": "stdout",
     "output_type": "stream",
     "text": [
      "The sql extension is already loaded. To reload it, use:\n",
      "  %reload_ext sql\n"
     ]
    },
    {
     "data": {
      "text/plain": [
       "'Connected: None@ejercicio1.db'"
      ]
     },
     "execution_count": 10,
     "metadata": {},
     "output_type": "execute_result"
    }
   ],
   "source": [
    "%load_ext sql\n",
    "%sql sqlite:///ejercicio1.db"
   ]
  },
  {
   "cell_type": "code",
   "execution_count": 17,
   "metadata": {},
   "outputs": [
    {
     "ename": "IndentationError",
     "evalue": "unexpected indent (<ipython-input-17-d461ca1f657a>, line 6)",
     "output_type": "error",
     "traceback": [
      "\u001b[0;36m  File \u001b[0;32m\"<ipython-input-17-d461ca1f657a>\"\u001b[0;36m, line \u001b[0;32m6\u001b[0m\n\u001b[0;31m    numeroAsignatura int(5),\u001b[0m\n\u001b[0m    ^\u001b[0m\n\u001b[0;31mIndentationError\u001b[0m\u001b[0;31m:\u001b[0m unexpected indent\n"
     ]
    }
   ],
   "source": [
    "%sql CREATE TABLE profesor(nif varchar(10),primary key (nif));\n",
    "%sql CREATE TABLE asignatura (numeroAsignatura int(5),primary key (numeroAsignatura));"
   ]
  },
  {
   "cell_type": "markdown",
   "metadata": {},
   "source": [
    "<img src=\"Ejercicio2.1.jpeg\">\n"
   ]
  },
  {
   "cell_type": "code",
   "execution_count": null,
   "metadata": {},
   "outputs": [],
   "source": [
    "#Apartado 1\n",
    "%sql CREATE TABLE periodoLectivo (cuatrimestre varchar(10), primary key (cuatrimestre));\n",
    "%sql CREATE TABLE imparte (nif varchar(10),\n",
    "                           numeroAsignatura int(5),\n",
    "                           cuatrimestre varchar(10),\n",
    "                           primary key (nif, numeroAsignatura, cuatrimestre),\n",
    "                           foreign key (nif) references profesor(nif),\n",
    "                           foreign key (numeroAsignatura) references asignatura(numeroAsignatura),\n",
    "                           foreign key (cuatrimestre) references periodoLectivo(cuatrimestre));"
   ]
  },
  {
   "cell_type": "code",
   "execution_count": null,
   "metadata": {},
   "outputs": [],
   "source": [
    "#Apartado 2\n",
    "%sql DROP TABLE imparte;\n",
    "%sql CREATE TABLE imparte (nif varchar(10),\n",
    "                           numeroAsignatura int(5),\n",
    "                           cuatrimestre varchar(10),\n",
    "                           primary key (nif, numeroAsignatura),\n",
    "                           foreign key (nif) references profesor(nif),\n",
    "                           foreign key (numeroAsignatura) references asignatura(numeroAsignatura));"
   ]
  },
  {
   "cell_type": "code",
   "execution_count": null,
   "metadata": {},
   "outputs": [],
   "source": [
    "#Apartado 3\n",
    "%sql DROP TABLE imparte;\n",
    "%sql CREATE TABLE imparte (nif varchar(10),\n",
    "                           numeroAsignatura int(5) not null,\n",
    "                           cuatrimestre varchar(10),\n",
    "                           primary key (nif, numeroAsignatura),\n",
    "                           foreign key (nif) references profesor(nif),\n",
    "                           foreign key (numeroAsignatura) references asignatura(numeroAsignatura));"
   ]
  },
  {
   "cell_type": "code",
   "execution_count": null,
   "metadata": {},
   "outputs": [],
   "source": [
    "#Apartado 4 (totalmente independiente)\n",
    "%sql CREATE TABLE asignatura (numeroAsignatura int(5),primary key (numeroAsignatura));\n",
    "%sql CREATE TABLE profesor(nif varchar(10),numeroAsignatura int(5), primary key (nif), foreign key (numeroAsignatura) references asignatura(numeroAsignatura));"
   ]
  },
  {
   "cell_type": "code",
   "execution_count": null,
   "metadata": {},
   "outputs": [],
   "source": [
    "#Apartado 5 (totalmente independiente)\n",
    "%sql CREATE TABLE asignatura (numeroAsignatura int(5),primary key (numeroAsignatura));\n",
    "%sql CREATE TABLE profesor(nif varchar(10) not null,numeroAsignatura int(5), primary key (nif), foreign key (numeroAsignatura) references asignatura(numeroAsignatura));"
   ]
  }
 ],
 "metadata": {
  "kernelspec": {
   "display_name": "Python 3",
   "language": "python",
   "name": "python3"
  },
  "language_info": {
   "codemirror_mode": {
    "name": "ipython",
    "version": 3
   },
   "file_extension": ".py",
   "mimetype": "text/x-python",
   "name": "python",
   "nbconvert_exporter": "python",
   "pygments_lexer": "ipython3",
   "version": "3.5.2"
  }
 },
 "nbformat": 4,
 "nbformat_minor": 2
}
