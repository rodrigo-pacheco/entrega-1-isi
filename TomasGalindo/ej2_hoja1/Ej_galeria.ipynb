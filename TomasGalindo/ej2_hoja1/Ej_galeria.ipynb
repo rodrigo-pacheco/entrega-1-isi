{
 "cells": [
  {
   "cell_type": "markdown",
   "metadata": {},
   "source": [
    "# Ejercicio Galeria de arte"
   ]
  },
  {
   "cell_type": "markdown",
   "metadata": {},
   "source": [
    "<img src=\"galeria.jpeg\">"
   ]
  },
  {
   "cell_type": "code",
   "execution_count": 14,
   "metadata": {},
   "outputs": [
    {
     "name": "stdout",
     "output_type": "stream",
     "text": [
      "The sql extension is already loaded. To reload it, use:\n",
      "  %reload_ext sql\n"
     ]
    }
   ],
   "source": [
    "#cargamos la extension para sql\n",
    "%load_ext sql"
   ]
  },
  {
   "cell_type": "code",
   "execution_count": 15,
   "metadata": {},
   "outputs": [
    {
     "data": {
      "text/plain": [
       "u'Connected: None@Arte.db'"
      ]
     },
     "execution_count": 15,
     "metadata": {},
     "output_type": "execute_result"
    }
   ],
   "source": [
    "#creamos un fichero de base de datos\n",
    "%sql sqlite:///Arte.db"
   ]
  },
  {
   "cell_type": "code",
   "execution_count": 16,
   "metadata": {},
   "outputs": [
    {
     "name": "stdout",
     "output_type": "stream",
     "text": [
      "Done.\n"
     ]
    },
    {
     "data": {
      "text/plain": [
       "[]"
      ]
     },
     "execution_count": 16,
     "metadata": {},
     "output_type": "execute_result"
    }
   ],
   "source": [
    "%%sql\n",
    "CREATE TABLE clientes(nombre VARCHAR(30),\n",
    "                     direccion VARCHAR(30),\n",
    "                     importe FLOAT,\n",
    "                     PRIMARY KEY(nombre)\n",
    "                    );"
   ]
  },
  {
   "cell_type": "code",
   "execution_count": 17,
   "metadata": {},
   "outputs": [
    {
     "name": "stdout",
     "output_type": "stream",
     "text": [
      "Done.\n"
     ]
    },
    {
     "data": {
      "text/plain": [
       "[]"
      ]
     },
     "execution_count": 17,
     "metadata": {},
     "output_type": "execute_result"
    }
   ],
   "source": [
    "%%sql\n",
    "CREATE TABLE guarda_2(nombre_clien VARCHAR(30),\n",
    "                     nombre_galeria VARCHAR(30),\n",
    "                     PRIMARY KEY(nombre_clien,nombre_galeria),\n",
    "                     FOREIGN KEY(nombre_clien) REFERENCES clientes(nombre),\n",
    "                     FOREIGN KEY(nombre_galeria) REFERENCES galeria(nombre)\n",
    "                     );"
   ]
  },
  {
   "cell_type": "code",
   "execution_count": 18,
   "metadata": {},
   "outputs": [
    {
     "name": "stdout",
     "output_type": "stream",
     "text": [
      "Done.\n"
     ]
    },
    {
     "data": {
      "text/plain": [
       "[]"
      ]
     },
     "execution_count": 18,
     "metadata": {},
     "output_type": "execute_result"
    }
   ],
   "source": [
    "%%sql\n",
    "CREATE TABLE galeria(nombre VARCHAR(30),\n",
    "                    PRIMARY KEY(nombre)\n",
    "                    );"
   ]
  },
  {
   "cell_type": "code",
   "execution_count": 20,
   "metadata": {},
   "outputs": [
    {
     "name": "stdout",
     "output_type": "stream",
     "text": [
      "Done.\n"
     ]
    },
    {
     "data": {
      "text/plain": [
       "[]"
      ]
     },
     "execution_count": 20,
     "metadata": {},
     "output_type": "execute_result"
    }
   ],
   "source": [
    "%%sql\n",
    "CREATE TABLE artista(nombre VARCHAR(30),\n",
    "                    estilo_art VARCHAR(30),\n",
    "                    fecha_nac DATE,\n",
    "                    edad INT,\n",
    "                    PRIMARY KEY(nombre)\n",
    "                    );"
   ]
  },
  {
   "cell_type": "code",
   "execution_count": 21,
   "metadata": {},
   "outputs": [
    {
     "name": "stdout",
     "output_type": "stream",
     "text": [
      "Done.\n"
     ]
    },
    {
     "data": {
      "text/plain": [
       "[]"
      ]
     },
     "execution_count": 21,
     "metadata": {},
     "output_type": "execute_result"
    }
   ],
   "source": [
    "%%sql\n",
    "CREATE TABLE guarda(nombre_galeria VARCHAR(30),\n",
    "                   nombre_artista VARCHAR(30),\n",
    "                   PRIMARY KEY(nombre_galeria,nombre_artista),\n",
    "                   FOREIGN KEY(nombre_galeria) REFERENCES galeria(nombre),\n",
    "                   FOREIGN KEY(nombre_artista) REFERENCES artista(nombre)\n",
    "                   );"
   ]
  },
  {
   "cell_type": "code",
   "execution_count": 23,
   "metadata": {},
   "outputs": [
    {
     "name": "stdout",
     "output_type": "stream",
     "text": [
      "Done.\n"
     ]
    },
    {
     "data": {
      "text/plain": [
       "[]"
      ]
     },
     "execution_count": 23,
     "metadata": {},
     "output_type": "execute_result"
    }
   ],
   "source": [
    "%%sql\n",
    "CREATE TABLE obras_de(titulo VARCHAR(30),\n",
    "                     anno_realiza DATE,\n",
    "                     Tipo VARCHAR(30),\n",
    "                     precio FLOAT,\n",
    "                     nombre_autor VARCHAR(30) NOT NULL,\n",
    "                     PRIMARY KEY(titulo),\n",
    "                     FOREIGN KEY (nombre_autor) REFERENCES artista(nombre)\n",
    "                     );"
   ]
  },
  {
   "cell_type": "code",
   "execution_count": 24,
   "metadata": {},
   "outputs": [
    {
     "name": "stdout",
     "output_type": "stream",
     "text": [
      "Done.\n"
     ]
    },
    {
     "data": {
      "text/plain": [
       "[]"
      ]
     },
     "execution_count": 24,
     "metadata": {},
     "output_type": "execute_result"
    }
   ],
   "source": [
    "%%sql\n",
    "CREATE TABLE pertenece(titulo_obra VARCHAR(30),\n",
    "                      nombre_grupo VARCHAR(30),\n",
    "                      PRIMARY KEY(titulo_obra,nombre_grupo),\n",
    "                      FOREIGN KEY(titulo_obra) REFERENCES obras_de(titulo),\n",
    "                      FOREIGN KEY(nombre_grupo)REFERENCES grupo_obras(nombre)\n",
    "                      );"
   ]
  },
  {
   "cell_type": "code",
   "execution_count": 25,
   "metadata": {},
   "outputs": [
    {
     "name": "stdout",
     "output_type": "stream",
     "text": [
      "Done.\n"
     ]
    },
    {
     "data": {
      "text/plain": [
       "[]"
      ]
     },
     "execution_count": 25,
     "metadata": {},
     "output_type": "execute_result"
    }
   ],
   "source": [
    "%%sql\n",
    "CREATE TABLE grupo_obras(nombre VARCHAR(30),\n",
    "                        PRIMARY KEY(nombre)\n",
    "                        );"
   ]
  },
  {
   "cell_type": "code",
   "execution_count": 27,
   "metadata": {},
   "outputs": [
    {
     "name": "stdout",
     "output_type": "stream",
     "text": [
      "Done.\n"
     ]
    },
    {
     "data": {
      "text/plain": [
       "[]"
      ]
     },
     "execution_count": 27,
     "metadata": {},
     "output_type": "execute_result"
    }
   ],
   "source": [
    "%%sql\n",
    "CREATE TABLE le_gustan(nombre_cliente VARCHAR(30),\n",
    "                      nombre_grupo VARCHAR(30),\n",
    "                      PRIMARY KEY(nombre_cliente,nombre_grupo),\n",
    "                      FOREIGN KEY(nombre_cliente) REFERENCES clientes(nombre),\n",
    "                      FOREIGN KEY(nombre_grupo) REFERENCES grupo_obras(nombre)\n",
    "                      );"
   ]
  },
  {
   "cell_type": "code",
   "execution_count": null,
   "metadata": {
    "collapsed": true
   },
   "outputs": [],
   "source": []
  }
 ],
 "metadata": {
  "kernelspec": {
   "display_name": "Python 2",
   "language": "python",
   "name": "python2"
  },
  "language_info": {
   "codemirror_mode": {
    "name": "ipython",
    "version": 2
   },
   "file_extension": ".py",
   "mimetype": "text/x-python",
   "name": "python",
   "nbconvert_exporter": "python",
   "pygments_lexer": "ipython2",
   "version": "2.7.13"
  }
 },
 "nbformat": 4,
 "nbformat_minor": 2
}
