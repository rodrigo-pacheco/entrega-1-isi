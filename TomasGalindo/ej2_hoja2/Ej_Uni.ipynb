{
 "cells": [
  {
   "cell_type": "markdown",
   "metadata": {},
   "source": [
    "## Diagrama de una Universidad\n",
    "\n"
   ]
  },
  {
   "cell_type": "markdown",
   "metadata": {},
   "source": [
    "cargamos la imagen\n",
    "<img src=\"universidad.jpg\">"
   ]
  },
  {
   "cell_type": "code",
   "execution_count": 1,
   "metadata": {},
   "outputs": [
    {
     "name": "stderr",
     "output_type": "stream",
     "text": [
      "/home/tomas/anaconda2/lib/python2.7/site-packages/IPython/config.py:13: ShimWarning: The `IPython.config` package has been deprecated since IPython 4.0. You should import from traitlets.config instead.\n",
      "  \"You should import from traitlets.config instead.\", ShimWarning)\n",
      "/home/tomas/anaconda2/lib/python2.7/site-packages/IPython/utils/traitlets.py:5: UserWarning: IPython.utils.traitlets has moved to a top-level traitlets package.\n",
      "  warn(\"IPython.utils.traitlets has moved to a top-level traitlets package.\")\n"
     ]
    }
   ],
   "source": [
    "#cargamos la extension para sql\n",
    "%load_ext sql"
   ]
  },
  {
   "cell_type": "code",
   "execution_count": 3,
   "metadata": {},
   "outputs": [
    {
     "data": {
      "text/plain": [
       "u'Connected: None@Uni.db'"
      ]
     },
     "execution_count": 3,
     "metadata": {},
     "output_type": "execute_result"
    }
   ],
   "source": [
    "#creamos un fichero de base de datos\n",
    "%sql sqlite:///Uni.db"
   ]
  },
  {
   "cell_type": "code",
   "execution_count": 4,
   "metadata": {},
   "outputs": [
    {
     "name": "stdout",
     "output_type": "stream",
     "text": [
      "Done.\n"
     ]
    },
    {
     "data": {
      "text/plain": [
       "[]"
      ]
     },
     "execution_count": 4,
     "metadata": {},
     "output_type": "execute_result"
    }
   ],
   "source": [
    "%%sql \n",
    "\n",
    "CREATE TABLE Profesores(nif VARCHAR(10),\n",
    "                       nombre VARCHAR(30),\n",
    "                       edad INT,\n",
    "                       cargo VARCHAR(30),\n",
    "                       especialidad VARCHAR(30),\n",
    "                       PRIMARY KEY (nif)\n",
    ");"
   ]
  },
  {
   "cell_type": "code",
   "execution_count": 5,
   "metadata": {},
   "outputs": [
    {
     "name": "stdout",
     "output_type": "stream",
     "text": [
      "Done.\n"
     ]
    },
    {
     "data": {
      "text/plain": [
       "[]"
      ]
     },
     "execution_count": 5,
     "metadata": {},
     "output_type": "execute_result"
    }
   ],
   "source": [
    "%%sql\n",
    "\n",
    "CREATE TABLE proyectos_gestinados(id_proy INT,\n",
    "                                 nomb_ent_finan VARCHAR(30),\n",
    "                                 fecha_init DATE,\n",
    "                                 fecha_fin DATE,\n",
    "                                 presuspuesto FLOAT,\n",
    "                                 nif_prof VARCHAR(10) NOT NULL,\n",
    "                                 PRIMARY KEY (id_proy),\n",
    "                                 FOREIGN KEY (nif_prof) REFERENCES profesores(nif)\n",
    ");"
   ]
  },
  {
   "cell_type": "code",
   "execution_count": 6,
   "metadata": {},
   "outputs": [
    {
     "name": "stdout",
     "output_type": "stream",
     "text": [
      "Done.\n"
     ]
    },
    {
     "data": {
      "text/plain": [
       "[]"
      ]
     },
     "execution_count": 6,
     "metadata": {},
     "output_type": "execute_result"
    }
   ],
   "source": [
    "%%sql\n",
    "\n",
    "CREATE TABLE trabaja(nif_prof VARCHAR(10),\n",
    "                    id_proy INT,\n",
    "                    PRIMARY KEY(nif_prof,id_proy),\n",
    "                    FOREIGN KEY (nif_prof) REFERENCES profesores(nif),\n",
    "                    FOREIGN KEY (id_proy) REFERENCES proyectos_gestionados(id_proy)\n",
    ");"
   ]
  },
  {
   "cell_type": "code",
   "execution_count": 7,
   "metadata": {},
   "outputs": [
    {
     "name": "stdout",
     "output_type": "stream",
     "text": [
      "Done.\n"
     ]
    },
    {
     "data": {
      "text/plain": [
       "[]"
      ]
     },
     "execution_count": 7,
     "metadata": {},
     "output_type": "execute_result"
    }
   ],
   "source": [
    "%%sql\n",
    "CREATE TABLE departamento_dirigido(num_dpto INT,\n",
    "                                  nombre VARCHAR(30),\n",
    "                                  edificio VARCHAR(30),\n",
    "                                  nif_director VARCHAR(10),\n",
    "                                  PRIMARY KEY (num_dpto),\n",
    "                                  FOREIGN KEY(nif_director) REFERENCES profesores(nif)\n",
    "                                  );"
   ]
  },
  {
   "cell_type": "code",
   "execution_count": 8,
   "metadata": {},
   "outputs": [
    {
     "name": "stdout",
     "output_type": "stream",
     "text": [
      "Done.\n"
     ]
    },
    {
     "data": {
      "text/plain": [
       "[]"
      ]
     },
     "execution_count": 8,
     "metadata": {},
     "output_type": "execute_result"
    }
   ],
   "source": [
    "%%sql\n",
    "CREATE TABLE trabaja_2(nif_prof VARCHAR(10),\n",
    "                      num_dpto INT,\n",
    "                      PRIMARY KEY(nif_prof,num_dpto),\n",
    "                      FOREIGN KEY(nif_prof) REFERENCES profesores(nif),\n",
    "                      FOREIGN KEY(num_dpto) REFERENCES departamento_dirigido(num_dpto)\n",
    "                      );"
   ]
  },
  {
   "cell_type": "code",
   "execution_count": 9,
   "metadata": {},
   "outputs": [
    {
     "name": "stdout",
     "output_type": "stream",
     "text": [
      "Done.\n"
     ]
    },
    {
     "data": {
      "text/plain": [
       "[]"
      ]
     },
     "execution_count": 9,
     "metadata": {},
     "output_type": "execute_result"
    }
   ],
   "source": [
    "%%sql\n",
    "\n",
    "CREATE TABLE estudiantes(nif VARCHAR(10),\n",
    "                        nombre VARCHAR(30),\n",
    "                        edad INT,\n",
    "                        titulacion VARCHAR(30),\n",
    "                        num_departamento INT,\n",
    "                        tutor VARCHAR(10) NOT NULL,\n",
    "                        PRIMARY KEY(nif),\n",
    "                        FOREIGN KEY(tutor) REFERENCES estudiantes(nif),\n",
    "                        FOREIGN KEY(num_departamento) REFERENCES departamento_dirigido(num_dpto)\n",
    "                        );"
   ]
  },
  {
   "cell_type": "code",
   "execution_count": 11,
   "metadata": {},
   "outputs": [
    {
     "name": "stdout",
     "output_type": "stream",
     "text": [
      "Done.\n"
     ]
    },
    {
     "data": {
      "text/plain": [
       "[]"
      ]
     },
     "execution_count": 11,
     "metadata": {},
     "output_type": "execute_result"
    }
   ],
   "source": [
    "%%sql\n",
    "CREATE TABLE ayuda_en(nif_estudiante VARCHAR(30),\n",
    "                     id_proyecto INT,\n",
    "                     nif_supervisor VARCHAR NOT NULL,\n",
    "                     PRIMARY KEY(nif_estudiante,id_proyecto),\n",
    "                     FOREIGN KEY(nif_estudiante) REFERENCES estudiante(nif),\n",
    "                     FOREIGN KEY(id_proyecto) REFERENCES proyectos_gestionados(id_proy),\n",
    "                     FOREIGN KEY(nif_supervisor) REFERENCES profesores(nif)\n",
    "                     );"
   ]
  },
  {
   "cell_type": "code",
   "execution_count": null,
   "metadata": {
    "collapsed": true
   },
   "outputs": [],
   "source": []
  }
 ],
 "metadata": {
  "kernelspec": {
   "display_name": "Python 2",
   "language": "python",
   "name": "python2"
  },
  "language_info": {
   "codemirror_mode": {
    "name": "ipython",
    "version": 2
   },
   "file_extension": ".py",
   "mimetype": "text/x-python",
   "name": "python",
   "nbconvert_exporter": "python",
   "pygments_lexer": "ipython2",
   "version": "2.7.13"
  }
 },
 "nbformat": 4,
 "nbformat_minor": 2
}
