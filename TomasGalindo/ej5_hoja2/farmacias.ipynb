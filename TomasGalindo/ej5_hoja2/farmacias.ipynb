{
 "cells": [
  {
   "cell_type": "markdown",
   "metadata": {},
   "source": [
    "## EJ 5 FARMACIAS"
   ]
  },
  {
   "cell_type": "markdown",
   "metadata": {},
   "source": [
    "<img src=\"farmacias.png\">"
   ]
  },
  {
   "cell_type": "code",
   "execution_count": 2,
   "metadata": {},
   "outputs": [
    {
     "name": "stderr",
     "output_type": "stream",
     "text": [
      "/home/tomas/anaconda2/lib/python2.7/site-packages/IPython/config.py:13: ShimWarning: The `IPython.config` package has been deprecated since IPython 4.0. You should import from traitlets.config instead.\n",
      "  \"You should import from traitlets.config instead.\", ShimWarning)\n",
      "/home/tomas/anaconda2/lib/python2.7/site-packages/IPython/utils/traitlets.py:5: UserWarning: IPython.utils.traitlets has moved to a top-level traitlets package.\n",
      "  warn(\"IPython.utils.traitlets has moved to a top-level traitlets package.\")\n"
     ]
    }
   ],
   "source": [
    "#cargamos la extension para sql\n",
    "%load_ext sql"
   ]
  },
  {
   "cell_type": "code",
   "execution_count": 3,
   "metadata": {},
   "outputs": [
    {
     "data": {
      "text/plain": [
       "u'Connected: None@farmacias.db'"
      ]
     },
     "execution_count": 3,
     "metadata": {},
     "output_type": "execute_result"
    }
   ],
   "source": [
    "#creamos un fichero de base de datos\n",
    "%sql sqlite:///farmacias.db"
   ]
  },
  {
   "cell_type": "code",
   "execution_count": 4,
   "metadata": {},
   "outputs": [
    {
     "name": "stdout",
     "output_type": "stream",
     "text": [
      "Done.\n"
     ]
    },
    {
     "data": {
      "text/plain": [
       "[]"
      ]
     },
     "execution_count": 4,
     "metadata": {},
     "output_type": "execute_result"
    }
   ],
   "source": [
    "%%sql \n",
    "\n",
    "CREATE TABLE medicos(nif VARCHAR(10),\n",
    "                    nombre VARCHAR(30),\n",
    "                    annos_exp INT,\n",
    "                    especialidad VARCHAR(30),\n",
    "                    PRIMARY KEY (nif)\n",
    ");"
   ]
  },
  {
   "cell_type": "code",
   "execution_count": 5,
   "metadata": {},
   "outputs": [
    {
     "name": "stdout",
     "output_type": "stream",
     "text": [
      "Done.\n"
     ]
    },
    {
     "data": {
      "text/plain": [
       "[]"
      ]
     },
     "execution_count": 5,
     "metadata": {},
     "output_type": "execute_result"
    }
   ],
   "source": [
    "%%sql \n",
    "\n",
    "CREATE TABLE pacientes(nif VARCHAR(10),\n",
    "                       nombre VARCHAR(30),\n",
    "                       edad INT,\n",
    "                       direccion VARCHAR(30),\n",
    "                       nif_medico VARCHAR(10),\n",
    "                       PRIMARY KEY (nif),\n",
    "                       FOREIGN KEY (nif_medico) REFERENCES medicos(nif)\n",
    ");"
   ]
  },
  {
   "cell_type": "code",
   "execution_count": 6,
   "metadata": {},
   "outputs": [
    {
     "name": "stdout",
     "output_type": "stream",
     "text": [
      "Done.\n"
     ]
    },
    {
     "data": {
      "text/plain": [
       "[]"
      ]
     },
     "execution_count": 6,
     "metadata": {},
     "output_type": "execute_result"
    }
   ],
   "source": [
    "%%sql \n",
    "\n",
    "CREATE TABLE comp_farmaceutica (nombre VARCHAR(30),\n",
    "                               telefono VARCHAR(10),\n",
    "                               PRIMARY KEY (nombre)\n",
    ");"
   ]
  },
  {
   "cell_type": "code",
   "execution_count": 7,
   "metadata": {},
   "outputs": [
    {
     "name": "stdout",
     "output_type": "stream",
     "text": [
      "Done.\n"
     ]
    },
    {
     "data": {
      "text/plain": [
       "[]"
      ]
     },
     "execution_count": 7,
     "metadata": {},
     "output_type": "execute_result"
    }
   ],
   "source": [
    "%%sql \n",
    "\n",
    "CREATE TABLE medicamento(nombre VARCHAR(30),\n",
    "                        formula VARCHAR(20),\n",
    "                        compannia_suministradora VARCHAR(30) NOT NULL,\n",
    "                        PRIMARY KEY (nombre),\n",
    "                        FOREIGN KEY (compannia_suministradora) REFERENCES comp_farmaceutica(nombre)\n",
    ");"
   ]
  },
  {
   "cell_type": "code",
   "execution_count": 9,
   "metadata": {},
   "outputs": [
    {
     "name": "stdout",
     "output_type": "stream",
     "text": [
      "Done.\n"
     ]
    },
    {
     "data": {
      "text/plain": [
       "[]"
      ]
     },
     "execution_count": 9,
     "metadata": {},
     "output_type": "execute_result"
    }
   ],
   "source": [
    "%%sql \n",
    "\n",
    "CREATE TABLE recetar(nif_medico VARCHAR(10),\n",
    "                    nombre_medicamento VARCHAR(30),\n",
    "                    nif_paciente VARCHAR(10),\n",
    "                    cantidad FLOAT,\n",
    "                    Fecha DATE,\n",
    "                    PRIMARY KEY (nif_medico,nif_paciente,nombre_medicamento),\n",
    "                    FOREIGN KEY (nif_medico) REFERENCES medicos(nif),\n",
    "                    FOREIGN KEY (nif_paciente) REFERENCES pacientes(nif),\n",
    "                    FOREIGN KEY (nombre_medicamento) REFERENCES medicamentos(nombre)\n",
    ");"
   ]
  },
  {
   "cell_type": "code",
   "execution_count": 10,
   "metadata": {},
   "outputs": [
    {
     "name": "stdout",
     "output_type": "stream",
     "text": [
      "Done.\n"
     ]
    },
    {
     "data": {
      "text/plain": [
       "[]"
      ]
     },
     "execution_count": 10,
     "metadata": {},
     "output_type": "execute_result"
    }
   ],
   "source": [
    "%%sql \n",
    "\n",
    "CREATE TABLE farmacias (nombre VARCHAR(30),\n",
    "                        telefono VARCHAR(10),\n",
    "                        direccion VARCHAR(30),\n",
    "                        PRIMARY KEY (nombre)\n",
    ");"
   ]
  },
  {
   "cell_type": "code",
   "execution_count": 11,
   "metadata": {},
   "outputs": [
    {
     "name": "stdout",
     "output_type": "stream",
     "text": [
      "Done.\n"
     ]
    },
    {
     "data": {
      "text/plain": [
       "[]"
      ]
     },
     "execution_count": 11,
     "metadata": {},
     "output_type": "execute_result"
    }
   ],
   "source": [
    "%%sql \n",
    "\n",
    "CREATE TABLE vende (nombre_farmacia VARCHAR(30),\n",
    "                    nombre_medicamento VARCHAR(30),\n",
    "                    PRIMARY KEY (nombre_farmacia,nombre_medicamento),\n",
    "                    FOREIGN KEY (nombre_medicamento) REFERENCES medicamentos(nombre),\n",
    "                    FOREIGN KEY (nombre_farmacia) REFERENCES farmacias(nombre)\n",
    "                    \n",
    ");"
   ]
  },
  {
   "cell_type": "code",
   "execution_count": 16,
   "metadata": {},
   "outputs": [
    {
     "name": "stdout",
     "output_type": "stream",
     "text": [
      "Done.\n"
     ]
    },
    {
     "data": {
      "text/plain": [
       "[]"
      ]
     },
     "execution_count": 16,
     "metadata": {},
     "output_type": "execute_result"
    }
   ],
   "source": [
    "%%sql \n",
    "\n",
    "CREATE TABLE supervisor (nif VARCHAR(10),\n",
    "                         nombre VARCHAR(30),\n",
    "                         PRIMARY KEY (nif)\n",
    "                    \n",
    ");"
   ]
  },
  {
   "cell_type": "code",
   "execution_count": 19,
   "metadata": {
    "scrolled": true
   },
   "outputs": [
    {
     "name": "stdout",
     "output_type": "stream",
     "text": [
      "Done.\n"
     ]
    },
    {
     "data": {
      "text/plain": [
       "[]"
      ]
     },
     "execution_count": 19,
     "metadata": {},
     "output_type": "execute_result"
    }
   ],
   "source": [
    "%%sql \n",
    "\n",
    "CREATE TABLE contrata (nombre_farmacia VARCHAR(30),\n",
    "                       nombre_comp_farmaceutica VARCHAR(30),\n",
    "                       echa_Ini DATE,\n",
    "                       echa_Fin DATE,\n",
    "                       condiciones VARCHAR(50),\n",
    "                       nif_supervisor VARCHAR(10) NOT NULL,\n",
    "                       PRIMARY KEY (nombre_farmacia,nombre_comp_farmaceutica, nif_supervisor),\n",
    "                       FOREIGN KEY (nombre_farmacia) REFERENCES farmacias(nombre),\n",
    "                       FOREIGN KEY (nombre_comp_farmaceutica) REFERENCES comp_farmaceutica(nombre),\n",
    "                       FOREIGN KEY (nif_supervisor) REFERENCES supervisor(nif)\n",
    "                    \n",
    ");"
   ]
  },
  {
   "cell_type": "code",
   "execution_count": null,
   "metadata": {
    "collapsed": true
   },
   "outputs": [],
   "source": []
  }
 ],
 "metadata": {
  "kernelspec": {
   "display_name": "Python 2",
   "language": "python",
   "name": "python2"
  },
  "language_info": {
   "codemirror_mode": {
    "name": "ipython",
    "version": 2
   },
   "file_extension": ".py",
   "mimetype": "text/x-python",
   "name": "python",
   "nbconvert_exporter": "python",
   "pygments_lexer": "ipython2",
   "version": "2.7.13"
  }
 },
 "nbformat": 4,
 "nbformat_minor": 2
}
