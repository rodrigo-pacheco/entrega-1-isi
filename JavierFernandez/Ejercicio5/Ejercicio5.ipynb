{
 "cells": [
  {
   "cell_type": "markdown",
   "metadata": {},
   "source": [
    "EJERCICIO 5\n",
    "======\n",
    "2. ¿Qué cambios habrı́a que aplicar al diseño que has realizado si cada medicamento debe venderse al mismo precio en todas las farmacias de la cadena?\n",
    "\n",
    "Habria que mover, el atributo precio de donde esta en el modelo original(en la relacion Vende) a la entidad Medicamentos\n",
    "\n",
    "3. ¿Qué cambios habrı́a que aplicar al diseño que has realizado si cuando un médico receta el mismo medicamento al mismo paciente más de una vez hubiese que almacenar cada una de las recetas?\n",
    "\n",
    "No sería necesario ningún cambio, nuestra base de datos esta preparada para ese caso\n",
    "\n",
    "\n",
    "TABLAS\n",
    "==="
   ]
  },
  {
   "cell_type": "code",
   "execution_count": 1,
   "metadata": {},
   "outputs": [],
   "source": [
    "%load_ext sql"
   ]
  },
  {
   "cell_type": "code",
   "execution_count": 2,
   "metadata": {},
   "outputs": [
    {
     "data": {
      "text/plain": [
       "'Connected: None@ejercicio5.db'"
      ]
     },
     "execution_count": 2,
     "metadata": {},
     "output_type": "execute_result"
    }
   ],
   "source": [
    "%sql sqlite:///ejercicio5.db"
   ]
  },
  {
   "cell_type": "code",
   "execution_count": 3,
   "metadata": {},
   "outputs": [
    {
     "name": "stdout",
     "output_type": "stream",
     "text": [
      "Done.\n",
      "Done.\n"
     ]
    },
    {
     "data": {
      "text/plain": [
       "[]"
      ]
     },
     "execution_count": 3,
     "metadata": {},
     "output_type": "execute_result"
    }
   ],
   "source": [
    "%%sql \n",
    "DROP TABLE IF EXISTS Pacientes;\n",
    "CREATE TABLE Pacientes(\n",
    "    nif VARCHAR(11),\n",
    "    nif_medico VARCHAR(11) NOT NULL,\n",
    "    direccion VARCHAR(20),\n",
    "    nombre VARCHAR(10),\n",
    "    edad INT,\n",
    "    PRIMARY KEY (nif),\n",
    "    FOREIGN KEY (nif_medico) REFERENCES Medico(nif));"
   ]
  },
  {
   "cell_type": "code",
   "execution_count": 4,
   "metadata": {},
   "outputs": [
    {
     "name": "stdout",
     "output_type": "stream",
     "text": [
      "Done.\n",
      "Done.\n"
     ]
    },
    {
     "data": {
      "text/plain": [
       "[]"
      ]
     },
     "execution_count": 4,
     "metadata": {},
     "output_type": "execute_result"
    }
   ],
   "source": [
    "%%sql \n",
    "DROP TABLE IF EXISTS Medicos;\n",
    "CREATE TABLE Medicos(\n",
    "    nif VARCHAR(11),\n",
    "    especialidad VARCHAR(20),\n",
    "    nombre VARCHAR(10),\n",
    "    años_exp INT,\n",
    "    PRIMARY KEY (nif));"
   ]
  },
  {
   "cell_type": "code",
   "execution_count": 6,
   "metadata": {},
   "outputs": [
    {
     "name": "stdout",
     "output_type": "stream",
     "text": [
      "Done.\n",
      "Done.\n"
     ]
    },
    {
     "data": {
      "text/plain": [
       "[]"
      ]
     },
     "execution_count": 6,
     "metadata": {},
     "output_type": "execute_result"
    }
   ],
   "source": [
    "%%sql\n",
    "DROP TABLE IF EXISTS Recetan;\n",
    "CREATE TABLE Recetan(\n",
    "    nif_paciente VARCHAR(12),\n",
    "    nif_medico VARCHAR(12),\n",
    "    nombre_comercial VARCHAR(20) NOT NULL,\n",
    "    nombre_compañia VARCHAR(20) NOT NULL,\n",
    "    fecha DATE,\n",
    "    cantidad INT,\n",
    "    PRIMARY KEY(nif_paciente,nif_medico,nombre_comercial,nombre_compañia),\n",
    "    FOREIGN KEY(nombre_comercial,nombre_compañia) REFERENCES Medicamentos(nombre_comercial,nombre_compañia),\n",
    "    FOREIGN KEY(nif_paciente) REFERENCES Medicos(nif),\n",
    "    FOREIGN KEY(nif_medico) REFERENCES Pacientes(nif))"
   ]
  },
  {
   "cell_type": "code",
   "execution_count": 8,
   "metadata": {},
   "outputs": [
    {
     "name": "stdout",
     "output_type": "stream",
     "text": [
      "Done.\n",
      "Done.\n"
     ]
    },
    {
     "data": {
      "text/plain": [
       "[]"
      ]
     },
     "execution_count": 8,
     "metadata": {},
     "output_type": "execute_result"
    }
   ],
   "source": [
    "%%sql\n",
    "DROP TABLE IF EXISTS Medicamento;\n",
    "CREATE TABLE Medicamento(\n",
    "    nombre_comercial VARCHAR(20),\n",
    "    nombre_compañia VARCHAR(20) NOT NULL,\n",
    "    formula VARCHAR(12),\n",
    "    PRIMARY KEY (nombre_comercial,nombre_compañia),\n",
    "    FOREIGN KEY (nombre_compañia) REFERENCES Compañia(nombre_compañia) ON DELETE CASCADE)"
   ]
  },
  {
   "cell_type": "code",
   "execution_count": 9,
   "metadata": {},
   "outputs": [
    {
     "name": "stdout",
     "output_type": "stream",
     "text": [
      "Done.\n",
      "Done.\n"
     ]
    },
    {
     "data": {
      "text/plain": [
       "[]"
      ]
     },
     "execution_count": 9,
     "metadata": {},
     "output_type": "execute_result"
    }
   ],
   "source": [
    "%%sql\n",
    "DROP TABLE IF EXISTS Compañia;\n",
    "CREATE TABLE Compañia(\n",
    "    nombre VARCHAR(12),\n",
    "    tlfno VARCHAR(11),\n",
    "    PRIMARY KEY (nombre));"
   ]
  },
  {
   "cell_type": "code",
   "execution_count": 10,
   "metadata": {},
   "outputs": [
    {
     "name": "stdout",
     "output_type": "stream",
     "text": [
      "Done.\n",
      "Done.\n"
     ]
    },
    {
     "data": {
      "text/plain": [
       "[]"
      ]
     },
     "execution_count": 10,
     "metadata": {},
     "output_type": "execute_result"
    }
   ],
   "source": [
    "%%sql\n",
    "DROP TABLE IF EXISTS Contrato;\n",
    "CREATE TABLE Contrato(\n",
    "    id INT,\n",
    "    condiciones VARCHAR(11),\n",
    "    fecha_init DATE,\n",
    "    fecha_fin DATE,\n",
    "    PRIMARY KEY (id));"
   ]
  },
  {
   "cell_type": "code",
   "execution_count": 11,
   "metadata": {},
   "outputs": [
    {
     "name": "stdout",
     "output_type": "stream",
     "text": [
      "Done.\n",
      "Done.\n"
     ]
    },
    {
     "data": {
      "text/plain": [
       "[]"
      ]
     },
     "execution_count": 11,
     "metadata": {},
     "output_type": "execute_result"
    }
   ],
   "source": [
    "%%sql\n",
    "DROP TABLE IF EXISTS Farmacia;\n",
    "CREATE TABLE Farmacia(\n",
    "    nombre VARCHAR(15),\n",
    "    direccion VARCHAR(20),\n",
    "    tlfno VARCHAR(12),\n",
    "    PRIMARY KEY(nombre,direccion));"
   ]
  },
  {
   "cell_type": "code",
   "execution_count": 12,
   "metadata": {},
   "outputs": [
    {
     "name": "stdout",
     "output_type": "stream",
     "text": [
      "Done.\n",
      "Done.\n"
     ]
    },
    {
     "data": {
      "text/plain": [
       "[]"
      ]
     },
     "execution_count": 12,
     "metadata": {},
     "output_type": "execute_result"
    }
   ],
   "source": [
    "%%sql\n",
    "DROP TABLE IF EXISTS Supervisor;\n",
    "CREATE TABLE Supervisor(\n",
    "    nif VARCHAR(12),\n",
    "    PRIMARY KEY (nif));"
   ]
  },
  {
   "cell_type": "code",
   "execution_count": 14,
   "metadata": {},
   "outputs": [
    {
     "name": "stdout",
     "output_type": "stream",
     "text": [
      "Done.\n",
      "Done.\n"
     ]
    },
    {
     "data": {
      "text/plain": [
       "[]"
      ]
     },
     "execution_count": 14,
     "metadata": {},
     "output_type": "execute_result"
    }
   ],
   "source": [
    "%%sql\n",
    "DROP TABLE IF EXISTS Contrata;\n",
    "CREATE TABLE Contrata(\n",
    "    nombre_farmacia VARCHAR(15),\n",
    "    direccion_farmacia VARCHAR(20),\n",
    "    id_contrato INT,\n",
    "    nif_supervisor VARCHAR(13),\n",
    "    PRIMARY KEY (id_contrato,direccion_farmacia,nombre_farmacia,nif_supervisor),\n",
    "    FOREIGN KEY (nombre_farmacia,direccion_farmacia) REFERENCES Farmacia(nombre,direccion),\n",
    "    FOREIGN KEY (id_contrato) REFERENCES Contrato(id));"
   ]
  },
  {
   "cell_type": "code",
   "execution_count": null,
   "metadata": {},
   "outputs": [],
   "source": [
    "%%sql\n",
    "DROP TABLE IF EXISTS Se_Le_Asigna;\n",
    "CREATE TABLA Se_Le_Asigna(\n",
    "    nif_supervisor VARCHAR(13);\n",
    "    nombre_farmacia VARCHAR(15),\n",
    "    direccion_farmacia VARCHAR(20),\n",
    "    id_contrato INT,\n",
    "    PRIMARY KEY(nif_supervisor,nombre_farmacia,direccion_farmacia,id_contrato),\n",
    "    FOREIGN KEY (nif_supervisor) REFERENCES Supervisor(nif),\n",
    "    FOREIGN KEY (id_contrato,nombre_farmacia,direccion_farmacia) REFERENCES \n",
    ")"
   ]
  }
 ],
 "metadata": {
  "kernelspec": {
   "display_name": "Python 3",
   "language": "python",
   "name": "python3"
  },
  "language_info": {
   "codemirror_mode": {
    "name": "ipython",
    "version": 3
   },
   "file_extension": ".py",
   "mimetype": "text/x-python",
   "name": "python",
   "nbconvert_exporter": "python",
   "pygments_lexer": "ipython3",
   "version": "3.5.2"
  }
 },
 "nbformat": 4,
 "nbformat_minor": 2
}
