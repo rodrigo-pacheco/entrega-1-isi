{
 "cells": [
  {
   "cell_type": "markdown",
   "metadata": {},
   "source": [
    "EJERCICIO 4\n",
    "======"
   ]
  },
  {
   "cell_type": "markdown",
   "metadata": {},
   "source": [
    "Antes de nada contestaremos a la segunda pregunta del Diagrama. Donde la pregunta es: \n",
    "\"Si hay alguna restricción que no puedes expresar en el diagrama ER indı́cala\".\n",
    "- La unica restriccion que no se puede indicar mediante el Diagrama ER, es la de indicar que varios musicos comparten una misma direccion, donde en cada direccion el telefono es unico"
   ]
  },
  {
   "cell_type": "code",
   "execution_count": 1,
   "metadata": {},
   "outputs": [],
   "source": [
    "%load_ext sql"
   ]
  },
  {
   "cell_type": "code",
   "execution_count": 2,
   "metadata": {},
   "outputs": [
    {
     "data": {
      "text/plain": [
       "'Connected: None@ejercicio4.db'"
      ]
     },
     "execution_count": 2,
     "metadata": {},
     "output_type": "execute_result"
    }
   ],
   "source": [
    "%sql sqlite:///ejercicio4.db"
   ]
  },
  {
   "cell_type": "markdown",
   "metadata": {},
   "source": [
    "Creamos la tabla de Musico"
   ]
  },
  {
   "cell_type": "code",
   "execution_count": 4,
   "metadata": {},
   "outputs": [
    {
     "name": "stdout",
     "output_type": "stream",
     "text": [
      "Done.\n",
      "Done.\n"
     ]
    },
    {
     "data": {
      "text/plain": [
       "[]"
      ]
     },
     "execution_count": 4,
     "metadata": {},
     "output_type": "execute_result"
    }
   ],
   "source": [
    "%%sql \n",
    "DROP TABLE IF EXISTS Musico;\n",
    "CREATE TABLE Musico(\n",
    "    nif VARCHAR(13),\n",
    "    nombre VARCHAR(20),\n",
    "    direccion VARCHAR(32),\n",
    "    tlfno fijo VARCHAR (15),\n",
    "    PRIMARY KEY (nif));"
   ]
  },
  {
   "cell_type": "raw",
   "metadata": {},
   "source": [
    "Creamos La entidad que sale de Musico -> Productor"
   ]
  },
  {
   "cell_type": "code",
   "execution_count": 7,
   "metadata": {},
   "outputs": [
    {
     "name": "stdout",
     "output_type": "stream",
     "text": [
      "Done.\n",
      "Done.\n"
     ]
    },
    {
     "data": {
      "text/plain": [
       "[]"
      ]
     },
     "execution_count": 7,
     "metadata": {},
     "output_type": "execute_result"
    }
   ],
   "source": [
    "%%sql\n",
    "DROP TABLE IF EXISTS Productor;\n",
    "CREATE TABLE Productor(\n",
    "    nif VARCHAR(13),\n",
    "    PRIMARY KEY (nif),\n",
    "    FOREIGN KEY (nif) REFERENCES Musico(nif));"
   ]
  },
  {
   "cell_type": "markdown",
   "metadata": {},
   "source": [
    "Tabla Instrumentos"
   ]
  },
  {
   "cell_type": "code",
   "execution_count": 8,
   "metadata": {},
   "outputs": [
    {
     "name": "stdout",
     "output_type": "stream",
     "text": [
      "Done.\n",
      "Done.\n"
     ]
    },
    {
     "data": {
      "text/plain": [
       "[]"
      ]
     },
     "execution_count": 8,
     "metadata": {},
     "output_type": "execute_result"
    }
   ],
   "source": [
    "%%sql\n",
    "DROP TABLE IF EXISTS Instrumento;\n",
    "CREATE TABLE Instrumento(\n",
    "    id int,\n",
    "    nombre VARCHAR(15),\n",
    "    PRIMARY KEY (id));"
   ]
  },
  {
   "cell_type": "markdown",
   "metadata": {},
   "source": [
    "Tabla ALbum"
   ]
  },
  {
   "cell_type": "code",
   "execution_count": 9,
   "metadata": {},
   "outputs": [
    {
     "name": "stdout",
     "output_type": "stream",
     "text": [
      "Done.\n",
      "Done.\n"
     ]
    },
    {
     "data": {
      "text/plain": [
       "[]"
      ]
     },
     "execution_count": 9,
     "metadata": {},
     "output_type": "execute_result"
    }
   ],
   "source": [
    "%%sql\n",
    "DROP TABLE IF EXISTS Album;\n",
    "CREATE TABLE Album(\n",
    "    id_album int,\n",
    "    formato VARCHAR(10),\n",
    "    titulo VARCHAR(15),\n",
    "    fecha DATE,\n",
    "    nif VARCHAR (13) NOT NULL,\n",
    "    PRIMARY KEY (id_album),\n",
    "    FOREIGN KEY (nif) REFERENCES Productor(nif));"
   ]
  },
  {
   "cell_type": "markdown",
   "metadata": {},
   "source": [
    "Tabla Canciones"
   ]
  },
  {
   "cell_type": "code",
   "execution_count": 1,
   "metadata": {},
   "outputs": [
    {
     "name": "stderr",
     "output_type": "stream",
     "text": [
      "UsageError: Cell magic `%%sql` not found.\n"
     ]
    }
   ],
   "source": [
    "%%sql\n",
    "DROP TABLE IF EXISTS Canciones;\n",
    "CREATE TABLE Canciones(\n",
    "    nombre VARCHAR(15),\n",
    "    numero_album int NOT NULL,\n",
    "    PRIMARY KEY (nombre),\n",
    "    FOREIGN KEY (numero_album) REFERENCES Album(id_album) ON DELETE CASCADE);"
   ]
  },
  {
   "cell_type": "markdown",
   "metadata": {},
   "source": [
    "RELACIONES"
   ]
  },
  {
   "cell_type": "code",
   "execution_count": 12,
   "metadata": {},
   "outputs": [
    {
     "name": "stdout",
     "output_type": "stream",
     "text": [
      "Done.\n",
      "Done.\n"
     ]
    },
    {
     "data": {
      "text/plain": [
       "[]"
      ]
     },
     "execution_count": 12,
     "metadata": {},
     "output_type": "execute_result"
    }
   ],
   "source": [
    "%%sql\n",
    "DROP TABLE IF EXISTS Tienen;\n",
    "CREATE TABLE Tienen(\n",
    "    nif VARCHAR(15),\n",
    "    id_instrumento int,\n",
    "    PRIMARY KEY (nif,id_instrumento),\n",
    "    FOREIGN KEY (nif) REFERENCES Musico(nif),\n",
    "    FOREIGN KEY (id_instrumento) REFERENCES Instrumento(id));"
   ]
  },
  {
   "cell_type": "code",
   "execution_count": null,
   "metadata": {},
   "outputs": [],
   "source": [
    "%%sql\n",
    "DROP TABLE IF EXISTS Interpreta;\n",
    "CREATE TABLE Interpreta(\n",
    "    nombre_cancion VARCHAR(15),\n",
    "    nif_musico VARCHAR(15) NOT NULL,\n",
    "    PRIMARY KEY (nif_musico,nombre_cancion),\n",
    "    FOREIGN KEY (nif) REFERENCES Musico(nif),\n",
    "    FOREIGN KEY (id_instrumento) REFERENCES Instrumento(id));"
   ]
  }
 ],
 "metadata": {
  "kernelspec": {
   "display_name": "Python 3",
   "language": "python",
   "name": "python3"
  },
  "language_info": {
   "codemirror_mode": {
    "name": "ipython",
    "version": 3
   },
   "file_extension": ".py",
   "mimetype": "text/x-python",
   "name": "python",
   "nbconvert_exporter": "python",
   "pygments_lexer": "ipython3",
   "version": "3.5.2"
  }
 },
 "nbformat": 4,
 "nbformat_minor": 2
}
