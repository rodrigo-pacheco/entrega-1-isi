{
 "cells": [
  {
   "cell_type": "markdown",
   "metadata": {},
   "source": [
    "EJERCICIO2\n",
    "======"
   ]
  },
  {
   "cell_type": "code",
   "execution_count": 7,
   "metadata": {},
   "outputs": [
    {
     "name": "stdout",
     "output_type": "stream",
     "text": [
      "The sql extension is already loaded. To reload it, use:\n",
      "  %reload_ext sql\n"
     ]
    }
   ],
   "source": [
    "%load_ext sql"
   ]
  },
  {
   "cell_type": "code",
   "execution_count": 8,
   "metadata": {},
   "outputs": [
    {
     "data": {
      "text/plain": [
       "'Connected: None@ejercicio2.db'"
      ]
     },
     "execution_count": 8,
     "metadata": {},
     "output_type": "execute_result"
    }
   ],
   "source": [
    "%sql sqlite:///ejercicio2.db"
   ]
  },
  {
   "cell_type": "code",
   "execution_count": 17,
   "metadata": {},
   "outputs": [
    {
     "name": "stdout",
     "output_type": "stream",
     "text": [
      "Done.\n",
      "Done.\n"
     ]
    },
    {
     "data": {
      "text/plain": [
       "[]"
      ]
     },
     "execution_count": 17,
     "metadata": {},
     "output_type": "execute_result"
    }
   ],
   "source": [
    "%%sql\n",
    "DROP TABLE IF EXISTS Profesor;\n",
    "CREATE TABLE Profesor(\n",
    "    nif VARCHAR(13),\n",
    "    edad INT,\n",
    "    especialiad VARCHAR(13),\n",
    "    nombre VARCHAR(13),\n",
    "    PRIMARY KEY (nif));"
   ]
  },
  {
   "cell_type": "code",
   "execution_count": 18,
   "metadata": {},
   "outputs": [
    {
     "name": "stdout",
     "output_type": "stream",
     "text": [
      "Done.\n",
      "Done.\n"
     ]
    },
    {
     "data": {
      "text/plain": [
       "[]"
      ]
     },
     "execution_count": 18,
     "metadata": {},
     "output_type": "execute_result"
    }
   ],
   "source": [
    "%%sql\n",
    "DROP TABLE IF EXISTS Proyecto;\n",
    "CREATE TABLE Proyecto(\n",
    "    nif_profesor VARCHAR(13) NOT NULL,\n",
    "    num INT,\n",
    "    entidad VARCHAR(13),\n",
    "    presupuesto INT,\n",
    "    fecha_ini DATE,\n",
    "    fecha_fin DATE,\n",
    "    PRIMARY KEY (num),\n",
    "    FOREIGN KEY (nif_profesor) REFERENCES Profesor(nif));"
   ]
  },
  {
   "cell_type": "code",
   "execution_count": 19,
   "metadata": {},
   "outputs": [
    {
     "name": "stdout",
     "output_type": "stream",
     "text": [
      "Done.\n",
      "Done.\n"
     ]
    },
    {
     "data": {
      "text/plain": [
       "[]"
      ]
     },
     "execution_count": 19,
     "metadata": {},
     "output_type": "execute_result"
    }
   ],
   "source": [
    "%%sql\n",
    "DROP TABLE IF EXISTS Trabajan;\n",
    "CREATE TABLE Trabajan(\n",
    "    nif_profesor VARCHAR(13) NOT NULL,\n",
    "    num_proyecto INT,\n",
    "    PRIMARY KEY (nif_profesor,num_proyecto),\n",
    "    FOREIGN KEY (nif_profesor) REFERENCES Profesor(nif),\n",
    "    FOREIGN KEY (num_proyecto) REFERENCES Proyecto(num));"
   ]
  },
  {
   "cell_type": "code",
   "execution_count": 20,
   "metadata": {},
   "outputs": [
    {
     "name": "stdout",
     "output_type": "stream",
     "text": [
      "Done.\n",
      "Done.\n"
     ]
    },
    {
     "data": {
      "text/plain": [
       "[]"
      ]
     },
     "execution_count": 20,
     "metadata": {},
     "output_type": "execute_result"
    }
   ],
   "source": [
    "%%sql\n",
    "DROP TABLE IF EXISTS Departamento;\n",
    "CREATE TABLE Departamento(\n",
    "    num_dpt INT,\n",
    "    nif_profesor VARCHAR(13) NOT NULL,\n",
    "    Edificio VARCHAR(13),\n",
    "    nombre VARCHAR(13),\n",
    "    PRIMARY KEY (num_dpt),\n",
    "    FOREIGN KEY (nif_profesor) REFERENCES Profesor(nif));"
   ]
  },
  {
   "cell_type": "code",
   "execution_count": 21,
   "metadata": {},
   "outputs": [
    {
     "name": "stdout",
     "output_type": "stream",
     "text": [
      "Done.\n",
      "Done.\n"
     ]
    },
    {
     "data": {
      "text/plain": [
       "[]"
      ]
     },
     "execution_count": 21,
     "metadata": {},
     "output_type": "execute_result"
    }
   ],
   "source": [
    "%%sql\n",
    "DROP TABLE IF EXISTS Trabajan;\n",
    "CREATE TABLE Trabajan(\n",
    "    nif_profesor VARCHAR(13),\n",
    "    num_dpt INT NOT NULL,\n",
    "    PRIMARY KEY (nif_profesor,num_dpt),\n",
    "    FOREIGN KEY (nif_profesor) REFERENCES Profesor(nif),\n",
    "    FOREIGN KEY (num_dpt) REFERENCES Departamento(num_dpt));"
   ]
  },
  {
   "cell_type": "code",
   "execution_count": 24,
   "metadata": {},
   "outputs": [
    {
     "name": "stdout",
     "output_type": "stream",
     "text": [
      "Done.\n",
      "Done.\n"
     ]
    },
    {
     "data": {
      "text/plain": [
       "[]"
      ]
     },
     "execution_count": 24,
     "metadata": {},
     "output_type": "execute_result"
    }
   ],
   "source": [
    "%%sql\n",
    "DROP TABLE IF EXISTS Estudiante;\n",
    "CREATE TABLE Estudiante(\n",
    "    nif VARCHAR(13),\n",
    "    num_dpt INT NOT NULL,\n",
    "    nif_alumno VARCHAR(14) NOT NULL,\n",
    "    edad INT,\n",
    "    Titulacion VARCHAR(13),\n",
    "    nombre VARCHAR(13),\n",
    "    PRIMARY KEY (nif),\n",
    "    FOREIGN KEY (nif_alumno) REFERENCES Estudiante(nif),\n",
    "    FOREIGN KEY (num_dpt) REFERENCES Departamento(num_dpt));"
   ]
  },
  {
   "cell_type": "code",
   "execution_count": 1,
   "metadata": {},
   "outputs": [
    {
     "name": "stderr",
     "output_type": "stream",
     "text": [
      "UsageError: Cell magic `%%sql` not found.\n"
     ]
    }
   ],
   "source": [
    "%%sql\n",
    "DROP TABLE IF EXISTS Ayudan;\n",
    "CREATE TABLE Ayudan(\n",
    "    nif_estudiante VARCHAR(13) NOT NULL,\n",
    "    num_proyecto INT,\n",
    "    nif_profesor VARCHAR(13) NOT NULL,\n",
    "    PRIMARY KEY (nif_estudiante,num_proyecto),\n",
    "    FOREIGN KEY (nif_estudiante) REFERENCES Estudiante(nif),\n",
    "    FOREIGN KEY (num_proyecto) REFERENCES Proyecto(num),\n",
    "    FOREIGN KEY (nif_profesor) REFERENCES Profesor(nif));"
   ]
  }
 ],
 "metadata": {
  "kernelspec": {
   "display_name": "Python 3",
   "language": "python",
   "name": "python3"
  },
  "language_info": {
   "codemirror_mode": {
    "name": "ipython",
    "version": 3
   },
   "file_extension": ".py",
   "mimetype": "text/x-python",
   "name": "python",
   "nbconvert_exporter": "python",
   "pygments_lexer": "ipython3",
   "version": "3.5.2"
  }
 },
 "nbformat": 4,
 "nbformat_minor": 2
}
