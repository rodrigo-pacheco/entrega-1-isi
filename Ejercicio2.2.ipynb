{
 "cells": [
  {
   "cell_type": "code",
   "execution_count": 2,
   "metadata": {},
   "outputs": [
    {
     "data": {
      "text/plain": [
       "'Connected: None@ejercicio2.db'"
      ]
     },
     "execution_count": 2,
     "metadata": {},
     "output_type": "execute_result"
    }
   ],
   "source": [
    "%load_ext sql\n",
    "%sql sqlite:///ejercicio2.db"
   ]
  },
  {
   "cell_type": "markdown",
   "metadata": {},
   "source": [
    "<img src=\"Ejercicio2.2.jpeg\">\n"
   ]
  },
  {
   "cell_type": "code",
   "execution_count": 3,
   "metadata": {},
   "outputs": [
    {
     "name": "stdout",
     "output_type": "stream",
     "text": [
      "(sqlite3.OperationalError) table profesor already exists [SQL: 'create table profesor (nif varchar(10),\\n                             nombre char(30),\\n                             edad int(2),\\n                             cargo char(30),\\n                             especialidad char(30),\\n                             primary key (nif));']\n"
     ]
    }
   ],
   "source": [
    "%%sql create table profesor (nif varchar(10),\n",
    "                             nombre char(30),\n",
    "                             edad int(2),\n",
    "                             cargo char(30),\n",
    "                             especialidad char(30),\n",
    "                             primary key (nif));"
   ]
  },
  {
   "cell_type": "code",
   "execution_count": 8,
   "metadata": {},
   "outputs": [
    {
     "name": "stdout",
     "output_type": "stream",
     "text": [
      "Done.\n"
     ]
    },
    {
     "data": {
      "text/html": [
       "<table>\n",
       "    <tr>\n",
       "        <th>nif</th>\n",
       "        <th>nombre</th>\n",
       "        <th>edad</th>\n",
       "        <th>cargo</th>\n",
       "        <th>especialidad</th>\n",
       "    </tr>\n",
       "</table>"
      ],
      "text/plain": [
       "[]"
      ]
     },
     "execution_count": 8,
     "metadata": {},
     "output_type": "execute_result"
    }
   ],
   "source": [
    "%sql SELECT * FROM profesor"
   ]
  },
  {
   "cell_type": "code",
   "execution_count": 29,
   "metadata": {},
   "outputs": [
    {
     "name": "stdout",
     "output_type": "stream",
     "text": [
      "(sqlite3.OperationalError) table proyecto already exists [SQL: 'create table proyecto (num int,\\n                       entidad char(30),\\n                       comienzo date,\\n                       finalizacion date,\\n                       presupuesto float,\\n                       nif_prof varchar(10) not null,\\n                       primary key (num),\\n                       foreign key (nif_prof) references profesor(nif));']\n"
     ]
    }
   ],
   "source": [
    "%%sql create table proyecto (num int,\n",
    "                       entidad char(30),\n",
    "                       comienzo date,\n",
    "                       finalizacion date,\n",
    "                       presupuesto float,\n",
    "                       nif_prof varchar(10) not null,\n",
    "                       primary key (num),\n",
    "                       foreign key (nif_prof) references profesor(nif));"
   ]
  },
  {
   "cell_type": "code",
   "execution_count": 9,
   "metadata": {},
   "outputs": [
    {
     "name": "stdout",
     "output_type": "stream",
     "text": [
      "Done.\n"
     ]
    },
    {
     "data": {
      "text/html": [
       "<table>\n",
       "    <tr>\n",
       "        <th>num</th>\n",
       "        <th>entidad</th>\n",
       "        <th>comienzo</th>\n",
       "        <th>finalizacion</th>\n",
       "        <th>presupuesto</th>\n",
       "        <th>nif_prof</th>\n",
       "    </tr>\n",
       "</table>"
      ],
      "text/plain": [
       "[]"
      ]
     },
     "execution_count": 9,
     "metadata": {},
     "output_type": "execute_result"
    }
   ],
   "source": [
    "%sql SELECT * FROM proyecto"
   ]
  },
  {
   "cell_type": "code",
   "execution_count": 25,
   "metadata": {
    "scrolled": true
   },
   "outputs": [
    {
     "name": "stdout",
     "output_type": "stream",
     "text": [
      "(sqlite3.OperationalError) table estudiante already exists [SQL: 'create table estudiante (nombre char(30), \\n                               edad int, \\n                               nif varchar(10), \\n                               titulacion char(30), \\n                               nif_tutor varchar(10) not null, \\n                               primary key (nif), \\n                               foreign key (nif_tutor) references estudiante (nif));']\n"
     ]
    }
   ],
   "source": [
    "%%sql create table estudiante (nombre char(30), \n",
    "                               edad int, \n",
    "                               nif varchar(10), \n",
    "                               titulacion char(30), \n",
    "                               nif_tutor varchar(10) not null, \n",
    "                               primary key (nif),\n",
    "                               foreign key (nif_tutor) references estudiante (nif));"
   ]
  },
  {
   "cell_type": "code",
   "execution_count": 26,
   "metadata": {},
   "outputs": [
    {
     "name": "stdout",
     "output_type": "stream",
     "text": [
      "Done.\n"
     ]
    },
    {
     "data": {
      "text/html": [
       "<table>\n",
       "    <tr>\n",
       "        <th>nombre</th>\n",
       "        <th>edad</th>\n",
       "        <th>nif</th>\n",
       "        <th>titulacion</th>\n",
       "        <th>nif_tutor</th>\n",
       "    </tr>\n",
       "</table>"
      ],
      "text/plain": [
       "[]"
      ]
     },
     "execution_count": 26,
     "metadata": {},
     "output_type": "execute_result"
    }
   ],
   "source": [
    "%sql SELECT * FROM estudiante"
   ]
  },
  {
   "cell_type": "code",
   "execution_count": 36,
   "metadata": {},
   "outputs": [
    {
     "name": "stdout",
     "output_type": "stream",
     "text": [
      "Done.\n"
     ]
    },
    {
     "data": {
      "text/plain": [
       "[]"
      ]
     },
     "execution_count": 36,
     "metadata": {},
     "output_type": "execute_result"
    }
   ],
   "source": [
    "%%sql create table departamento(num int,\n",
    "                                nombre char(30),\n",
    "                                edificio int(2),\n",
    "                                nif_est varchar(10),\n",
    "                                nif_prof_dir varchar(10) not null,\n",
    "                                primary key (num),\n",
    "                                foreign key (nif_est) references estudiante(nif),\n",
    "                                foreign key (nif_prof_dir) references profesor(nif));"
   ]
  },
  {
   "cell_type": "code",
   "execution_count": 37,
   "metadata": {},
   "outputs": [
    {
     "name": "stdout",
     "output_type": "stream",
     "text": [
      "Done.\n"
     ]
    },
    {
     "data": {
      "text/html": [
       "<table>\n",
       "    <tr>\n",
       "        <th>num</th>\n",
       "        <th>nombre</th>\n",
       "        <th>edificio</th>\n",
       "        <th>nif_est</th>\n",
       "        <th>nif_prof_dir</th>\n",
       "    </tr>\n",
       "</table>"
      ],
      "text/plain": [
       "[]"
      ]
     },
     "execution_count": 37,
     "metadata": {},
     "output_type": "execute_result"
    }
   ],
   "source": [
    "%sql SELECT * FROM departamento"
   ]
  },
  {
   "cell_type": "code",
   "execution_count": 39,
   "metadata": {},
   "outputs": [
    {
     "name": "stdout",
     "output_type": "stream",
     "text": [
      "Done.\n"
     ]
    },
    {
     "data": {
      "text/plain": [
       "[]"
      ]
     },
     "execution_count": 39,
     "metadata": {},
     "output_type": "execute_result"
    }
   ],
   "source": [
    "%%sql create table ayuda_en(num_proy int,\n",
    "                            nif varchar(10) not null,\n",
    "                            primary key (num_proy, nif),\n",
    "                            foreign key (num_proy) references proyecto(num),\n",
    "                            foreign key (nif) references estudiante(nif));"
   ]
  },
  {
   "cell_type": "code",
   "execution_count": 40,
   "metadata": {},
   "outputs": [
    {
     "name": "stdout",
     "output_type": "stream",
     "text": [
      "Done.\n"
     ]
    },
    {
     "data": {
      "text/html": [
       "<table>\n",
       "    <tr>\n",
       "        <th>num_proy</th>\n",
       "        <th>nif</th>\n",
       "    </tr>\n",
       "</table>"
      ],
      "text/plain": [
       "[]"
      ]
     },
     "execution_count": 40,
     "metadata": {},
     "output_type": "execute_result"
    }
   ],
   "source": [
    "%sql SELECT * FROM ayuda_en"
   ]
  },
  {
   "cell_type": "code",
   "execution_count": 41,
   "metadata": {},
   "outputs": [
    {
     "name": "stdout",
     "output_type": "stream",
     "text": [
      "Done.\n"
     ]
    },
    {
     "data": {
      "text/plain": [
       "[]"
      ]
     },
     "execution_count": 41,
     "metadata": {},
     "output_type": "execute_result"
    }
   ],
   "source": [
    "%%sql create table trabaja (num_proy int,\n",
    "                            nif varchar(10) not null,\n",
    "                            primary key (num_proy, nif),\n",
    "                            foreign key (num_proy) references proyecto(num),\n",
    "                            foreign key (nif) references profesor(nif));"
   ]
  },
  {
   "cell_type": "code",
   "execution_count": 42,
   "metadata": {},
   "outputs": [
    {
     "name": "stdout",
     "output_type": "stream",
     "text": [
      "Done.\n"
     ]
    },
    {
     "data": {
      "text/html": [
       "<table>\n",
       "    <tr>\n",
       "        <th>num_proy</th>\n",
       "        <th>nif</th>\n",
       "    </tr>\n",
       "</table>"
      ],
      "text/plain": [
       "[]"
      ]
     },
     "execution_count": 42,
     "metadata": {},
     "output_type": "execute_result"
    }
   ],
   "source": [
    "%sql SELECT * FROM trabaja"
   ]
  },
  {
   "cell_type": "code",
   "execution_count": 43,
   "metadata": {},
   "outputs": [
    {
     "name": "stdout",
     "output_type": "stream",
     "text": [
      "Done.\n"
     ]
    },
    {
     "data": {
      "text/plain": [
       "[]"
      ]
     },
     "execution_count": 43,
     "metadata": {},
     "output_type": "execute_result"
    }
   ],
   "source": [
    "%%sql create table trabaja_en (tiempo int,\n",
    "                            num_dep int not null,\n",
    "                            nif varchar(10),\n",
    "                            primary key (num_dep, nif),\n",
    "                            foreign key (num_dep) references departamento(num),\n",
    "                            foreign key (nif) references profesor(nif));"
   ]
  },
  {
   "cell_type": "code",
   "execution_count": 44,
   "metadata": {},
   "outputs": [
    {
     "name": "stdout",
     "output_type": "stream",
     "text": [
      "Done.\n"
     ]
    },
    {
     "data": {
      "text/html": [
       "<table>\n",
       "    <tr>\n",
       "        <th>tiempo</th>\n",
       "        <th>num_dep</th>\n",
       "        <th>nif</th>\n",
       "    </tr>\n",
       "</table>"
      ],
      "text/plain": [
       "[]"
      ]
     },
     "execution_count": 44,
     "metadata": {},
     "output_type": "execute_result"
    }
   ],
   "source": [
    "%sql SELECT * FROM trabaja_en"
   ]
  },
  {
   "cell_type": "code",
   "execution_count": 45,
   "metadata": {},
   "outputs": [
    {
     "name": "stdout",
     "output_type": "stream",
     "text": [
      "Done.\n"
     ]
    },
    {
     "data": {
      "text/plain": [
       "[]"
      ]
     },
     "execution_count": 45,
     "metadata": {},
     "output_type": "execute_result"
    }
   ],
   "source": [
    "%%sql create table supervisa(nif_prof varchar(10),\n",
    "                            nif_est varchar(10),\n",
    "                            num_proy int,\n",
    "                            primary key (nif_prof, nif_est, num_proy),\n",
    "                            foreign key (nif_prof) references profesor(nif),\n",
    "                            foreign key (nif_est, num_proy) references ayuda_en(nif, num_proy));"
   ]
  },
  {
   "cell_type": "code",
   "execution_count": 47,
   "metadata": {},
   "outputs": [
    {
     "name": "stdout",
     "output_type": "stream",
     "text": [
      "Done.\n"
     ]
    },
    {
     "data": {
      "text/html": [
       "<table>\n",
       "    <tr>\n",
       "        <th>nif_prof</th>\n",
       "        <th>nif_est</th>\n",
       "        <th>num_proy</th>\n",
       "    </tr>\n",
       "</table>"
      ],
      "text/plain": [
       "[]"
      ]
     },
     "execution_count": 47,
     "metadata": {},
     "output_type": "execute_result"
    }
   ],
   "source": [
    "%sql SELECT * FROM supervisa"
   ]
  }
 ],
 "metadata": {
  "kernelspec": {
   "display_name": "Python 3",
   "language": "python",
   "name": "python3"
  },
  "language_info": {
   "codemirror_mode": {
    "name": "ipython",
    "version": 3
   },
   "file_extension": ".py",
   "mimetype": "text/x-python",
   "name": "python",
   "nbconvert_exporter": "python",
   "pygments_lexer": "ipython3",
   "version": "3.5.2"
  }
 },
 "nbformat": 4,
 "nbformat_minor": 2
}
