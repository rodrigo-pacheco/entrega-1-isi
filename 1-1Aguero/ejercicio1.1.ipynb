{
 "cells": [
  {
   "cell_type": "code",
   "execution_count": 2,
   "metadata": {},
   "outputs": [
    {
     "data": {
      "text/plain": [
       "'Connected: None@ejercicio1_1.db'"
      ]
     },
     "execution_count": 2,
     "metadata": {},
     "output_type": "execute_result"
    }
   ],
   "source": [
    "%load_ext sql\n",
    "%sql sqlite:///ejercicio1_1.db"
   ]
  },
  {
   "cell_type": "markdown",
   "metadata": {},
   "source": [
    "<img src=\"Ejercicio1.1.jpeg\">\n"
   ]
  },
  {
   "cell_type": "code",
   "execution_count": 3,
   "metadata": {},
   "outputs": [
    {
     "name": "stdout",
     "output_type": "stream",
     "text": [
      "Done.\n"
     ]
    },
    {
     "data": {
      "text/plain": [
       "[]"
      ]
     },
     "execution_count": 3,
     "metadata": {},
     "output_type": "execute_result"
    }
   ],
   "source": [
    "%%sql CREATE TABLE trabajador(nif varchar(10),\n",
    "                              nombre varchar(20),\n",
    "                              direccion varchar(20),\n",
    "                              tlf int(9),\n",
    "                              salario int(5),\n",
    "                              primary key (nif));"
   ]
  },
  {
   "cell_type": "code",
   "execution_count": 4,
   "metadata": {},
   "outputs": [
    {
     "name": "stdout",
     "output_type": "stream",
     "text": [
      "Done.\n"
     ]
    },
    {
     "data": {
      "text/plain": [
       "[]"
      ]
     },
     "execution_count": 4,
     "metadata": {},
     "output_type": "execute_result"
    }
   ],
   "source": [
    "%%sql CREATE TABLE tecnico(nif varchar(10),\n",
    "                           nombre varchar(20),\n",
    "                           direccion varchar(20),\n",
    "                           tlf int(9),\n",
    "                           salario int(5),\n",
    "                           primary key (nif));"
   ]
  },
  {
   "cell_type": "code",
   "execution_count": null,
   "metadata": {},
   "outputs": [],
   "source": [
    "%%sql CREATE TABLE trabajador(nif varchar(10),\n",
    "                              nombre varchar(20),\n",
    "                              direccion varchar(20),\n",
    "                              tlf int(9),\n",
    "                              salario int(5),\n",
    "                              primary key (nif));"
   ]
  },
  {
   "cell_type": "code",
   "execution_count": 6,
   "metadata": {},
   "outputs": [
    {
     "name": "stdout",
     "output_type": "stream",
     "text": [
      "Done.\n"
     ]
    },
    {
     "data": {
      "text/plain": [
       "[]"
      ]
     },
     "execution_count": 6,
     "metadata": {},
     "output_type": "execute_result"
    }
   ],
   "source": [
    "%%sql CREATE TABLE controlador(nif varchar(10),\n",
    "                              nombre varchar(20),\n",
    "                              direccion varchar(20),\n",
    "                              tlf int(9),\n",
    "                              salario int(5),\n",
    "                              fecha varchar(15),\n",
    "                              primary key (nif));"
   ]
  },
  {
   "cell_type": "code",
   "execution_count": 7,
   "metadata": {},
   "outputs": [
    {
     "name": "stdout",
     "output_type": "stream",
     "text": [
      "Done.\n"
     ]
    },
    {
     "data": {
      "text/plain": [
       "[]"
      ]
     },
     "execution_count": 7,
     "metadata": {},
     "output_type": "execute_result"
    }
   ],
   "source": [
    "%%sql CREATE TABLE modeloAvion(numModelo varchar(10),\n",
    "                              peso int(6),\n",
    "                              capacidad int(5),\n",
    "                              primary key (numModelo));"
   ]
  },
  {
   "cell_type": "code",
   "execution_count": 9,
   "metadata": {},
   "outputs": [
    {
     "name": "stdout",
     "output_type": "stream",
     "text": [
      "Done.\n"
     ]
    },
    {
     "data": {
      "text/plain": [
       "[]"
      ]
     },
     "execution_count": 9,
     "metadata": {},
     "output_type": "execute_result"
    }
   ],
   "source": [
    "%%sql CREATE TABLE prueba(numPrueba varchar(10),\n",
    "                              nombre varchar(16),\n",
    "                              puntuacionMax int(5),\n",
    "                              primary key (numPrueba));"
   ]
  },
  {
   "cell_type": "code",
   "execution_count": 12,
   "metadata": {},
   "outputs": [
    {
     "name": "stdout",
     "output_type": "stream",
     "text": [
      "Done.\n"
     ]
    },
    {
     "data": {
      "text/plain": [
       "[]"
      ]
     },
     "execution_count": 12,
     "metadata": {},
     "output_type": "execute_result"
    }
   ],
   "source": [
    "%%sql CREATE TABLE avion(numRegistro varchar(10),\n",
    "                         numModelo varchar(10) NOT NULL, \n",
    "                         primary key (numRegistro),\n",
    "                         foreign key(numModelo) references modeloAvion);"
   ]
  },
  {
   "cell_type": "code",
   "execution_count": 13,
   "metadata": {},
   "outputs": [
    {
     "name": "stdout",
     "output_type": "stream",
     "text": [
      "Done.\n"
     ]
    },
    {
     "data": {
      "text/plain": [
       "[]"
      ]
     },
     "execution_count": 13,
     "metadata": {},
     "output_type": "execute_result"
    }
   ],
   "source": [
    "%%sql CREATE TABLE esExperto(dni VARCHAR(20), \n",
    "                             numModelo VARCHAR(10) NOT NULL,\n",
    "                             PRIMARY KEY (dni, numModelo),\n",
    "                             FOREIGN KEY (dni) REFERENCES tecnico(dni),\n",
    "                             FOREIGN KEY (numModelo) REFERENCES modelo (numModelo));"
   ]
  },
  {
   "cell_type": "code",
   "execution_count": 15,
   "metadata": {},
   "outputs": [
    {
     "name": "stdout",
     "output_type": "stream",
     "text": [
      "Done.\n"
     ]
    },
    {
     "data": {
      "text/plain": [
       "[]"
      ]
     },
     "execution_count": 15,
     "metadata": {},
     "output_type": "execute_result"
    }
   ],
   "source": [
    "%%sql CREATE TABLE realiza(numPueba VARCHAR(10), \n",
    "                           numRegistro VARCHAR(10),\n",
    "                           puntuacion INT(5),\n",
    "                           horasEmpleado INT(3),\n",
    "                           fecha VARCHAR(10),\n",
    "                           PRIMARY KEY (numPueba, numRegistro),\n",
    "                           FOREIGN KEY (numPueba) REFERENCES prueba(numPueba),\n",
    "                           FOREIGN KEY (numRegistro) REFERENCES avion(numRegistro));"
   ]
  }
 ],
 "metadata": {
  "kernelspec": {
   "display_name": "Python 3",
   "language": "python",
   "name": "python3"
  },
  "language_info": {
   "codemirror_mode": {
    "name": "ipython",
    "version": 3
   },
   "file_extension": ".py",
   "mimetype": "text/x-python",
   "name": "python",
   "nbconvert_exporter": "python",
   "pygments_lexer": "ipython3",
   "version": "3.5.2"
  }
 },
 "nbformat": 4,
 "nbformat_minor": 2
}
