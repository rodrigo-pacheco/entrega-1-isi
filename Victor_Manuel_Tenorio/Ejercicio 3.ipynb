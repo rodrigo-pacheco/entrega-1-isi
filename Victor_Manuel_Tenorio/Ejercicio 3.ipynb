{
 "cells": [
  {
   "cell_type": "markdown",
   "metadata": {},
   "source": [
    "# Ejercicio 3 Víctor Manuel Tenorio Gómez"
   ]
  },
  {
   "cell_type": "markdown",
   "metadata": {},
   "source": [
    "### Esquema\n",
    "\n",
    "![Esquema base de datos](Esquemas_bbdd_isi_3.jpg \"Esquema base de datos\")"
   ]
  },
  {
   "cell_type": "code",
   "execution_count": null,
   "metadata": {},
   "outputs": [],
   "source": [
    "%load_ext sql\n",
    "%sql sqlite:///e3.db"
   ]
  },
  {
   "cell_type": "code",
   "execution_count": 3,
   "metadata": {},
   "outputs": [
    {
     "name": "stdout",
     "output_type": "stream",
     "text": [
      "Done.\n",
      "Done.\n",
      "Done.\n"
     ]
    },
    {
     "data": {
      "text/plain": [
       "[]"
      ]
     },
     "execution_count": 3,
     "metadata": {},
     "output_type": "execute_result"
    }
   ],
   "source": [
    "%%sql\n",
    "DROP TABLE IF EXISTS Empleado;\n",
    "DROP TABLE IF EXISTS Departamento;\n",
    "DROP TABLE IF EXISTS Trabajan;"
   ]
  },
  {
   "cell_type": "code",
   "execution_count": 4,
   "metadata": {},
   "outputs": [
    {
     "name": "stdout",
     "output_type": "stream",
     "text": [
      "Done.\n",
      "Done.\n"
     ]
    },
    {
     "data": {
      "text/plain": [
       "[]"
      ]
     },
     "execution_count": 4,
     "metadata": {},
     "output_type": "execute_result"
    }
   ],
   "source": [
    "%%sql\n",
    "DROP TABLE IF EXISTS Empleado;\n",
    "CREATE TABLE Empleado (nif VARCHAR(9),\n",
    "                      telefono INT,\n",
    "                      salario FLOAT,\n",
    "                      PRIMARY KEY(nif));"
   ]
  },
  {
   "cell_type": "code",
   "execution_count": 5,
   "metadata": {},
   "outputs": [
    {
     "name": "stdout",
     "output_type": "stream",
     "text": [
      "Done.\n",
      "Done.\n"
     ]
    },
    {
     "data": {
      "text/plain": [
       "[]"
      ]
     },
     "execution_count": 5,
     "metadata": {},
     "output_type": "execute_result"
    }
   ],
   "source": [
    "%%sql\n",
    "DROP TABLE IF EXISTS Departamento;\n",
    "CREATE TABLE Departamento (id_dep INT,\n",
    "                          nombre VARCHAR(20),\n",
    "                          presupuesto FLOAT,\n",
    "                          nif_director VARCHAR(9) NOT NULL,\n",
    "                          PRIMARY KEY(id_dep),\n",
    "                          FOREIGN KEY (nif_director) REFERENCES Empleado(nif));"
   ]
  },
  {
   "cell_type": "code",
   "execution_count": 6,
   "metadata": {},
   "outputs": [
    {
     "name": "stdout",
     "output_type": "stream",
     "text": [
      "Done.\n",
      "Done.\n"
     ]
    },
    {
     "data": {
      "text/plain": [
       "[]"
      ]
     },
     "execution_count": 6,
     "metadata": {},
     "output_type": "execute_result"
    }
   ],
   "source": [
    "%%sql\n",
    "DROP TABLE IF EXISTS Trabajan;\n",
    "CREATE TABLE Trabajan (nif_empleado VARCHAR(9),\n",
    "                      dep_id INT,\n",
    "                      PRIMARY KEY (nif_empleado, dep_id),\n",
    "                      FOREIGN KEY (nif_empleado) REFERENCES Empleado(nif),\n",
    "                      FOREIGN KEY (dep_id) REFERENCES Departamento(id_dep));"
   ]
  },
  {
   "cell_type": "code",
   "execution_count": 7,
   "metadata": {},
   "outputs": [
    {
     "name": "stdout",
     "output_type": "stream",
     "text": [
      "Done.\n",
      "Done.\n"
     ]
    },
    {
     "data": {
      "text/plain": [
       "[]"
      ]
     },
     "execution_count": 7,
     "metadata": {},
     "output_type": "execute_result"
    }
   ],
   "source": [
    "%%sql\n",
    "DROP TABLE IF EXISTS Hijo;\n",
    "CREATE TABLE Hijo (nombre VARCHAR(20),\n",
    "                  edad INT,\n",
    "                  nif_padre VARCHAR(9) NOT NULL,\n",
    "                  PRIMARY KEY (nombre, nif_padre),\n",
    "                  FOREIGN KEY (nif_padre) REFERENCES Empleado(nif) ON DELETE CASCADE);"
   ]
  }
 ],
 "metadata": {
  "kernelspec": {
   "display_name": "Python 3",
   "language": "python",
   "name": "python3"
  },
  "language_info": {
   "codemirror_mode": {
    "name": "ipython",
    "version": 3
   },
   "file_extension": ".py",
   "mimetype": "text/x-python",
   "name": "python",
   "nbconvert_exporter": "python",
   "pygments_lexer": "ipython3",
   "version": "3.5.2"
  }
 },
 "nbformat": 4,
 "nbformat_minor": 2
}
