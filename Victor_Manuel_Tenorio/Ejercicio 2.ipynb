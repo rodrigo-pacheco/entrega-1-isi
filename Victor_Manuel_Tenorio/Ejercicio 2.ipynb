{
 "cells": [
  {
   "cell_type": "markdown",
   "metadata": {},
   "source": [
    "# Ejercicio 2 Víctor Manuel Tenorio Gómez"
   ]
  },
  {
   "cell_type": "markdown",
   "metadata": {},
   "source": [
    "### Esquema\n",
    "\n",
    "![Esquema base de datos](Esquemas_bbdd_isi_2.jpg \"Esquema base de datos\")"
   ]
  },
  {
   "cell_type": "code",
   "execution_count": 31,
   "metadata": {},
   "outputs": [
    {
     "name": "stdout",
     "output_type": "stream",
     "text": [
      "The sql extension is already loaded. To reload it, use:\n",
      "  %reload_ext sql\n"
     ]
    },
    {
     "data": {
      "text/plain": [
       "'Connected: None@e2.db'"
      ]
     },
     "execution_count": 31,
     "metadata": {},
     "output_type": "execute_result"
    }
   ],
   "source": [
    "%load_ext sql\n",
    "%sql sqlite:///e2.db"
   ]
  },
  {
   "cell_type": "code",
   "execution_count": 51,
   "metadata": {},
   "outputs": [
    {
     "name": "stdout",
     "output_type": "stream",
     "text": [
      "Done.\n",
      "Done.\n",
      "Done.\n",
      "Done.\n",
      "Done.\n",
      "Done.\n",
      "Done.\n"
     ]
    },
    {
     "data": {
      "text/plain": [
       "[]"
      ]
     },
     "execution_count": 51,
     "metadata": {},
     "output_type": "execute_result"
    }
   ],
   "source": [
    "%%sql\n",
    "DROP TABLE IF EXISTS Profesor;\n",
    "DROP TABLE IF EXISTS Proyecto;\n",
    "DROP TABLE IF EXISTS Investiga;\n",
    "DROP TABLE IF EXISTS Estudiante;\n",
    "DROP TABLE IF EXISTS Trabaja;\n",
    "DROP TABLE IF EXISTS Departamento;\n",
    "DROP TABLE IF EXISTS Trabajan_en_Dep;"
   ]
  },
  {
   "cell_type": "code",
   "execution_count": 52,
   "metadata": {},
   "outputs": [
    {
     "name": "stdout",
     "output_type": "stream",
     "text": [
      "Done.\n",
      "Done.\n"
     ]
    },
    {
     "data": {
      "text/plain": [
       "[]"
      ]
     },
     "execution_count": 52,
     "metadata": {},
     "output_type": "execute_result"
    }
   ],
   "source": [
    "%%sql\n",
    "DROP TABLE IF EXISTS Profesor;\n",
    "CREATE TABLE Profesor (nif VARCHAR(9),\n",
    "                       nombre VARCHAR(20),\n",
    "                       edad INT,\n",
    "                       cargo VARCHAR(20),\n",
    "                       especialidad VARCHAR(20),\n",
    "                       PRIMARY KEY(nif));"
   ]
  },
  {
   "cell_type": "code",
   "execution_count": 53,
   "metadata": {},
   "outputs": [
    {
     "name": "stdout",
     "output_type": "stream",
     "text": [
      "Done.\n",
      "Done.\n"
     ]
    },
    {
     "data": {
      "text/plain": [
       "[]"
      ]
     },
     "execution_count": 53,
     "metadata": {},
     "output_type": "execute_result"
    }
   ],
   "source": [
    "%%sql\n",
    "DROP TABLE IF EXISTS Proyecto;\n",
    "CREATE TABLE Proyecto (numero INT,\n",
    "                       nombre_finan VARCHAR(20),\n",
    "                       fecha_inicio DATE,\n",
    "                       fecha_fin DATE,\n",
    "                       presupuesto FLOAT,\n",
    "                       nif_prof_gestiona VARCHAR(9) NOT NULL,\n",
    "                       PRIMARY KEY(numero),\n",
    "                       FOREIGN KEY(nif_prof_gestiona) REFERENCES Profesor(nif));"
   ]
  },
  {
   "cell_type": "code",
   "execution_count": 54,
   "metadata": {},
   "outputs": [
    {
     "name": "stdout",
     "output_type": "stream",
     "text": [
      "Done.\n",
      "Done.\n"
     ]
    },
    {
     "data": {
      "text/plain": [
       "[]"
      ]
     },
     "execution_count": 54,
     "metadata": {},
     "output_type": "execute_result"
    }
   ],
   "source": [
    "%%sql\n",
    "DROP TABLE IF EXISTS Investiga;\n",
    "CREATE TABLE Investiga (nif_prof VARCHAR(9),\n",
    "                        num_proyecto INT,\n",
    "                        PRIMARY KEY(nif_prof, num_proyecto),\n",
    "                        FOREIGN KEY(nif_prof) REFERENCES Profesor(nif),\n",
    "                        FOREIGN KEY(num_proyecto) REFERENCES Proyecto(numero));"
   ]
  },
  {
   "cell_type": "code",
   "execution_count": 55,
   "metadata": {},
   "outputs": [
    {
     "name": "stdout",
     "output_type": "stream",
     "text": [
      "Done.\n",
      "Done.\n"
     ]
    },
    {
     "data": {
      "text/plain": [
       "[]"
      ]
     },
     "execution_count": 55,
     "metadata": {},
     "output_type": "execute_result"
    }
   ],
   "source": [
    "%%sql\n",
    "DROP TABLE IF EXISTS Estudiante;\n",
    "CREATE TABLE Estudiante (nif VARCHAR(9),\n",
    "                         nombre VARCHAR(20),\n",
    "                         edad INT,\n",
    "                         titulacion VARCHAR(20),\n",
    "                         dep_asociado INT NOT NULL,\n",
    "                         nif_estudiante_tutor VARCHAR(9) NOT NULL,\n",
    "                         PRIMARY KEY(nif),\n",
    "                         FOREIGN KEY (dep_asociado) REFERENCES Departamento(numero),\n",
    "                         FOREIGN KEY (nif_estudiante_tutor) REFERENCES Estudiante(nif));"
   ]
  },
  {
   "cell_type": "code",
   "execution_count": 56,
   "metadata": {},
   "outputs": [
    {
     "name": "stdout",
     "output_type": "stream",
     "text": [
      "Done.\n",
      "Done.\n"
     ]
    },
    {
     "data": {
      "text/plain": [
       "[]"
      ]
     },
     "execution_count": 56,
     "metadata": {},
     "output_type": "execute_result"
    }
   ],
   "source": [
    "%%sql\n",
    "DROP TABLE IF EXISTS Trabaja;\n",
    "CREATE TABLE Trabaja(nif_profesor_superv VARCHAR(9),\n",
    "                     nif_alumno VARCHAR(9),\n",
    "                     num_proyecto VARCHAR(9),\n",
    "                     PRIMARY KEY(nif_profesor_superv, nif_alumno, num_proyecto),\n",
    "                     FOREIGN KEY (nif_profesor_superv) REFERENCES Profesor(nif),\n",
    "                     FOREIGN KEY (nif_alumno) REFERENCES Alumno(nif),\n",
    "                     FOREIGN KEY (num_proyecto) REFERENCES Proyecto(numero));"
   ]
  },
  {
   "cell_type": "code",
   "execution_count": 57,
   "metadata": {},
   "outputs": [
    {
     "name": "stdout",
     "output_type": "stream",
     "text": [
      "Done.\n",
      "Done.\n"
     ]
    },
    {
     "data": {
      "text/plain": [
       "[]"
      ]
     },
     "execution_count": 57,
     "metadata": {},
     "output_type": "execute_result"
    }
   ],
   "source": [
    "%%sql\n",
    "DROP TABLE IF EXISTS Departamento;\n",
    "CREATE TABLE Departamento(numero INT,\n",
    "                          nombre VARCHAR(20),\n",
    "                          edificio VARCHAR(20),\n",
    "                          nif_director VARCHAR(9) NOT NULL,\n",
    "                          PRIMARY KEY(numero),\n",
    "                          FOREIGN KEY(nif_director) REFERENCES Profesor(nif));"
   ]
  },
  {
   "cell_type": "code",
   "execution_count": 58,
   "metadata": {},
   "outputs": [
    {
     "name": "stdout",
     "output_type": "stream",
     "text": [
      "Done.\n",
      "Done.\n"
     ]
    },
    {
     "data": {
      "text/plain": [
       "[]"
      ]
     },
     "execution_count": 58,
     "metadata": {},
     "output_type": "execute_result"
    }
   ],
   "source": [
    "%%sql\n",
    "DROP TABLE IF EXISTS Trabajan_en_Dep;\n",
    "CREATE TABLE Trabajan_en_Dep(nif_prof VARCHAR(9),\n",
    "                             num_departamento INT,\n",
    "                             perct_tiempo FLOAT,\n",
    "                             PRIMARY KEY(nif_prof, num_departamento),\n",
    "                             FOREIGN KEY(nif_prof) REFERENCES Profesor(nif),\n",
    "                             FOREIGN KEY(num_departamento) REFERENCES Departamento(numero));"
   ]
  },
  {
   "cell_type": "markdown",
   "metadata": {},
   "source": [
    "## Inserciones a la base de datos"
   ]
  },
  {
   "cell_type": "code",
   "execution_count": 59,
   "metadata": {},
   "outputs": [
    {
     "name": "stdout",
     "output_type": "stream",
     "text": [
      "Done.\n"
     ]
    },
    {
     "data": {
      "text/plain": [
       "[]"
      ]
     },
     "execution_count": 59,
     "metadata": {},
     "output_type": "execute_result"
    }
   ],
   "source": [
    "%sql PRAGMA foreign_keys = ON;"
   ]
  },
  {
   "cell_type": "code",
   "execution_count": 60,
   "metadata": {},
   "outputs": [
    {
     "name": "stdout",
     "output_type": "stream",
     "text": [
      "1 rows affected.\n",
      "1 rows affected.\n",
      "1 rows affected.\n",
      "1 rows affected.\n"
     ]
    },
    {
     "data": {
      "text/plain": [
       "[]"
      ]
     },
     "execution_count": 60,
     "metadata": {},
     "output_type": "execute_result"
    }
   ],
   "source": [
    "%%sql\n",
    "INSERT INTO Profesor(nif, nombre, edad, cargo, especialidad) VALUES ('12345678N', 'Pedro', 30, 'Presidente', 'Programacion');\n",
    "INSERT INTO Profesor(nif, nombre, edad, cargo, especialidad) VALUES ('23456789T', 'Jose', 40, 'Asociado', 'Programacion');\n",
    "INSERT INTO Profesor(nif, nombre, edad, cargo, especialidad) VALUES ('11111111S', 'Antonio', 25, 'Presidente', 'Senal');\n",
    "INSERT INTO Profesor(nif, nombre, edad, cargo, especialidad) VALUES ('22222222R', 'Eva', 30, 'Asociada', 'Programacion');"
   ]
  },
  {
   "cell_type": "code",
   "execution_count": 61,
   "metadata": {},
   "outputs": [
    {
     "name": "stdout",
     "output_type": "stream",
     "text": [
      "1 rows affected.\n",
      "1 rows affected.\n"
     ]
    },
    {
     "data": {
      "text/plain": [
       "[]"
      ]
     },
     "execution_count": 61,
     "metadata": {},
     "output_type": "execute_result"
    }
   ],
   "source": [
    "%%sql\n",
    "INSERT INTO Proyecto(numero, nombre_finan, fecha_inicio, fecha_fin, presupuesto, nif_prof_gestiona)\n",
    "VALUES (123456, 'TSC', date('2015-12-17'), date('2017-12-17'), 50000, '11111111S');\n",
    "INSERT INTO Proyecto(numero, nombre_finan, fecha_inicio, fecha_fin, presupuesto, nif_prof_gestiona)\n",
    "VALUES (234567, 'GSYC', date('2015-06-11'), date('2017-06-11'), 100000, '12345678N');"
   ]
  },
  {
   "cell_type": "code",
   "execution_count": 62,
   "metadata": {},
   "outputs": [
    {
     "name": "stdout",
     "output_type": "stream",
     "text": [
      "1 rows affected.\n",
      "1 rows affected.\n",
      "1 rows affected.\n",
      "1 rows affected.\n"
     ]
    },
    {
     "data": {
      "text/plain": [
       "[]"
      ]
     },
     "execution_count": 62,
     "metadata": {},
     "output_type": "execute_result"
    }
   ],
   "source": [
    "%%sql\n",
    "INSERT INTO Investiga(nif_prof, num_proyecto) VALUES ('11111111S', 123456);\n",
    "INSERT INTO Investiga(nif_prof, num_proyecto) VALUES ('12345678N', 234567);\n",
    "INSERT INTO Investiga(nif_prof, num_proyecto) VALUES ('23456789T', 234567);\n",
    "INSERT INTO Investiga(nif_prof, num_proyecto) VALUES ('22222222R', 234567);"
   ]
  },
  {
   "cell_type": "code",
   "execution_count": 63,
   "metadata": {},
   "outputs": [
    {
     "name": "stdout",
     "output_type": "stream",
     "text": [
      "Done.\n"
     ]
    },
    {
     "data": {
      "text/html": [
       "<table>\n",
       "    <tr>\n",
       "        <th>nif</th>\n",
       "        <th>nombre</th>\n",
       "        <th>edad</th>\n",
       "        <th>cargo</th>\n",
       "        <th>especialidad</th>\n",
       "    </tr>\n",
       "    <tr>\n",
       "        <td>12345678N</td>\n",
       "        <td>Pedro</td>\n",
       "        <td>30</td>\n",
       "        <td>Presidente</td>\n",
       "        <td>Programacion</td>\n",
       "    </tr>\n",
       "    <tr>\n",
       "        <td>23456789T</td>\n",
       "        <td>Jose</td>\n",
       "        <td>40</td>\n",
       "        <td>Asociado</td>\n",
       "        <td>Programacion</td>\n",
       "    </tr>\n",
       "    <tr>\n",
       "        <td>11111111S</td>\n",
       "        <td>Antonio</td>\n",
       "        <td>25</td>\n",
       "        <td>Presidente</td>\n",
       "        <td>Senal</td>\n",
       "    </tr>\n",
       "    <tr>\n",
       "        <td>22222222R</td>\n",
       "        <td>Eva</td>\n",
       "        <td>30</td>\n",
       "        <td>Asociada</td>\n",
       "        <td>Programacion</td>\n",
       "    </tr>\n",
       "</table>"
      ],
      "text/plain": [
       "[('12345678N', 'Pedro', 30, 'Presidente', 'Programacion'),\n",
       " ('23456789T', 'Jose', 40, 'Asociado', 'Programacion'),\n",
       " ('11111111S', 'Antonio', 25, 'Presidente', 'Senal'),\n",
       " ('22222222R', 'Eva', 30, 'Asociada', 'Programacion')]"
      ]
     },
     "execution_count": 63,
     "metadata": {},
     "output_type": "execute_result"
    }
   ],
   "source": [
    "%%sql\n",
    "SELECT *\n",
    "FROM Profesor"
   ]
  },
  {
   "cell_type": "code",
   "execution_count": 64,
   "metadata": {},
   "outputs": [
    {
     "name": "stdout",
     "output_type": "stream",
     "text": [
      "Done.\n"
     ]
    },
    {
     "data": {
      "text/html": [
       "<table>\n",
       "    <tr>\n",
       "        <th>numero</th>\n",
       "        <th>nombre_finan</th>\n",
       "        <th>fecha_inicio</th>\n",
       "        <th>fecha_fin</th>\n",
       "        <th>presupuesto</th>\n",
       "        <th>nif_prof_gestiona</th>\n",
       "    </tr>\n",
       "    <tr>\n",
       "        <td>123456</td>\n",
       "        <td>TSC</td>\n",
       "        <td>2015-12-17</td>\n",
       "        <td>2017-12-17</td>\n",
       "        <td>50000.0</td>\n",
       "        <td>11111111S</td>\n",
       "    </tr>\n",
       "    <tr>\n",
       "        <td>234567</td>\n",
       "        <td>GSYC</td>\n",
       "        <td>2015-06-11</td>\n",
       "        <td>2017-06-11</td>\n",
       "        <td>100000.0</td>\n",
       "        <td>12345678N</td>\n",
       "    </tr>\n",
       "</table>"
      ],
      "text/plain": [
       "[(123456, 'TSC', '2015-12-17', '2017-12-17', 50000.0, '11111111S'),\n",
       " (234567, 'GSYC', '2015-06-11', '2017-06-11', 100000.0, '12345678N')]"
      ]
     },
     "execution_count": 64,
     "metadata": {},
     "output_type": "execute_result"
    }
   ],
   "source": [
    "%%sql\n",
    "SELECT *\n",
    "FROM Proyecto"
   ]
  },
  {
   "cell_type": "code",
   "execution_count": 65,
   "metadata": {},
   "outputs": [
    {
     "name": "stdout",
     "output_type": "stream",
     "text": [
      "Done.\n"
     ]
    },
    {
     "data": {
      "text/html": [
       "<table>\n",
       "    <tr>\n",
       "        <th>nif_prof</th>\n",
       "        <th>num_proyecto</th>\n",
       "    </tr>\n",
       "    <tr>\n",
       "        <td>11111111S</td>\n",
       "        <td>123456</td>\n",
       "    </tr>\n",
       "    <tr>\n",
       "        <td>12345678N</td>\n",
       "        <td>234567</td>\n",
       "    </tr>\n",
       "    <tr>\n",
       "        <td>23456789T</td>\n",
       "        <td>234567</td>\n",
       "    </tr>\n",
       "    <tr>\n",
       "        <td>22222222R</td>\n",
       "        <td>234567</td>\n",
       "    </tr>\n",
       "</table>"
      ],
      "text/plain": [
       "[('11111111S', 123456),\n",
       " ('12345678N', 234567),\n",
       " ('23456789T', 234567),\n",
       " ('22222222R', 234567)]"
      ]
     },
     "execution_count": 65,
     "metadata": {},
     "output_type": "execute_result"
    }
   ],
   "source": [
    "%%sql\n",
    "SELECT *\n",
    "FROM Investiga"
   ]
  },
  {
   "cell_type": "code",
   "execution_count": 66,
   "metadata": {},
   "outputs": [
    {
     "name": "stdout",
     "output_type": "stream",
     "text": [
      "Done.\n"
     ]
    },
    {
     "data": {
      "text/html": [
       "<table>\n",
       "    <tr>\n",
       "        <th>Director</th>\n",
       "        <th>Proyecto</th>\n",
       "    </tr>\n",
       "    <tr>\n",
       "        <td>Antonio</td>\n",
       "        <td>123456</td>\n",
       "    </tr>\n",
       "    <tr>\n",
       "        <td>Pedro</td>\n",
       "        <td>234567</td>\n",
       "    </tr>\n",
       "</table>"
      ],
      "text/plain": [
       "[('Antonio', 123456), ('Pedro', 234567)]"
      ]
     },
     "execution_count": 66,
     "metadata": {},
     "output_type": "execute_result"
    }
   ],
   "source": [
    "%%sql\n",
    "SELECT\n",
    "Profesor.nombre AS 'Director',\n",
    "Proyecto.numero AS 'Proyecto'\n",
    "FROM Proyecto\n",
    "INNER JOIN Profesor\n",
    "ON Proyecto.nif_prof_gestiona = Profesor.nif;"
   ]
  },
  {
   "cell_type": "code",
   "execution_count": 67,
   "metadata": {},
   "outputs": [
    {
     "name": "stdout",
     "output_type": "stream",
     "text": [
      "Done.\n"
     ]
    },
    {
     "data": {
      "text/html": [
       "<table>\n",
       "    <tr>\n",
       "        <th>nif_prof</th>\n",
       "        <th>num_proyecto</th>\n",
       "    </tr>\n",
       "    <tr>\n",
       "        <td>12345678N</td>\n",
       "        <td>234567</td>\n",
       "    </tr>\n",
       "    <tr>\n",
       "        <td>23456789T</td>\n",
       "        <td>234567</td>\n",
       "    </tr>\n",
       "    <tr>\n",
       "        <td>22222222R</td>\n",
       "        <td>234567</td>\n",
       "    </tr>\n",
       "</table>"
      ],
      "text/plain": [
       "[('12345678N', 234567), ('23456789T', 234567), ('22222222R', 234567)]"
      ]
     },
     "execution_count": 67,
     "metadata": {},
     "output_type": "execute_result"
    }
   ],
   "source": [
    "%%sql\n",
    "SELECT *\n",
    "FROM Investiga\n",
    "WHERE num_proyecto = 234567;"
   ]
  },
  {
   "cell_type": "markdown",
   "metadata": {},
   "source": [
    "Profesores que no gestionan ningun proyecto"
   ]
  },
  {
   "cell_type": "code",
   "execution_count": 68,
   "metadata": {},
   "outputs": [
    {
     "name": "stdout",
     "output_type": "stream",
     "text": [
      "Done.\n"
     ]
    },
    {
     "data": {
      "text/html": [
       "<table>\n",
       "    <tr>\n",
       "        <th>nif</th>\n",
       "        <th>nombre</th>\n",
       "        <th>edad</th>\n",
       "        <th>cargo</th>\n",
       "        <th>especialidad</th>\n",
       "        <th>numero</th>\n",
       "        <th>nombre_finan</th>\n",
       "        <th>fecha_inicio</th>\n",
       "        <th>fecha_fin</th>\n",
       "        <th>presupuesto</th>\n",
       "        <th>nif_prof_gestiona</th>\n",
       "    </tr>\n",
       "    <tr>\n",
       "        <td>23456789T</td>\n",
       "        <td>Jose</td>\n",
       "        <td>40</td>\n",
       "        <td>Asociado</td>\n",
       "        <td>Programacion</td>\n",
       "        <td>None</td>\n",
       "        <td>None</td>\n",
       "        <td>None</td>\n",
       "        <td>None</td>\n",
       "        <td>None</td>\n",
       "        <td>None</td>\n",
       "    </tr>\n",
       "    <tr>\n",
       "        <td>22222222R</td>\n",
       "        <td>Eva</td>\n",
       "        <td>30</td>\n",
       "        <td>Asociada</td>\n",
       "        <td>Programacion</td>\n",
       "        <td>None</td>\n",
       "        <td>None</td>\n",
       "        <td>None</td>\n",
       "        <td>None</td>\n",
       "        <td>None</td>\n",
       "        <td>None</td>\n",
       "    </tr>\n",
       "</table>"
      ],
      "text/plain": [
       "[('23456789T', 'Jose', 40, 'Asociado', 'Programacion', None, None, None, None, None, None),\n",
       " ('22222222R', 'Eva', 30, 'Asociada', 'Programacion', None, None, None, None, None, None)]"
      ]
     },
     "execution_count": 68,
     "metadata": {},
     "output_type": "execute_result"
    }
   ],
   "source": [
    "%%sql\n",
    "SELECT *\n",
    "FROM Profesor\n",
    "LEFT JOIN Proyecto\n",
    "ON Profesor.nif = Proyecto.nif_prof_gestiona\n",
    "WHERE Proyecto.numero IS NULL;"
   ]
  },
  {
   "cell_type": "markdown",
   "metadata": {},
   "source": [
    "Profesores con 30 años o menos"
   ]
  },
  {
   "cell_type": "code",
   "execution_count": 69,
   "metadata": {},
   "outputs": [
    {
     "name": "stdout",
     "output_type": "stream",
     "text": [
      "Done.\n"
     ]
    },
    {
     "data": {
      "text/html": [
       "<table>\n",
       "    <tr>\n",
       "        <th>nif</th>\n",
       "        <th>nombre</th>\n",
       "        <th>edad</th>\n",
       "        <th>cargo</th>\n",
       "        <th>especialidad</th>\n",
       "    </tr>\n",
       "    <tr>\n",
       "        <td>12345678N</td>\n",
       "        <td>Pedro</td>\n",
       "        <td>30</td>\n",
       "        <td>Presidente</td>\n",
       "        <td>Programacion</td>\n",
       "    </tr>\n",
       "    <tr>\n",
       "        <td>11111111S</td>\n",
       "        <td>Antonio</td>\n",
       "        <td>25</td>\n",
       "        <td>Presidente</td>\n",
       "        <td>Senal</td>\n",
       "    </tr>\n",
       "    <tr>\n",
       "        <td>22222222R</td>\n",
       "        <td>Eva</td>\n",
       "        <td>30</td>\n",
       "        <td>Asociada</td>\n",
       "        <td>Programacion</td>\n",
       "    </tr>\n",
       "</table>"
      ],
      "text/plain": [
       "[('12345678N', 'Pedro', 30, 'Presidente', 'Programacion'),\n",
       " ('11111111S', 'Antonio', 25, 'Presidente', 'Senal'),\n",
       " ('22222222R', 'Eva', 30, 'Asociada', 'Programacion')]"
      ]
     },
     "execution_count": 69,
     "metadata": {},
     "output_type": "execute_result"
    }
   ],
   "source": [
    "%%sql\n",
    "SELECT *\n",
    "FROM Profesor\n",
    "WHERE edad <= 30;"
   ]
  },
  {
   "cell_type": "markdown",
   "metadata": {},
   "source": [
    "Media de edad de los profesores de cada proyecto"
   ]
  },
  {
   "cell_type": "code",
   "execution_count": 70,
   "metadata": {},
   "outputs": [
    {
     "name": "stdout",
     "output_type": "stream",
     "text": [
      "Done.\n"
     ]
    },
    {
     "data": {
      "text/html": [
       "<table>\n",
       "    <tr>\n",
       "        <th>Proyecto</th>\n",
       "        <th>Media Edad</th>\n",
       "    </tr>\n",
       "    <tr>\n",
       "        <td>123456</td>\n",
       "        <td>25.0</td>\n",
       "    </tr>\n",
       "    <tr>\n",
       "        <td>234567</td>\n",
       "        <td>33.333333333333336</td>\n",
       "    </tr>\n",
       "</table>"
      ],
      "text/plain": [
       "[(123456, 25.0), (234567, 33.333333333333336)]"
      ]
     },
     "execution_count": 70,
     "metadata": {},
     "output_type": "execute_result"
    }
   ],
   "source": [
    "%%sql\n",
    "SELECT\n",
    "Investiga.num_proyecto AS 'Proyecto',\n",
    "AVG(Profesor.edad) AS 'Media Edad'\n",
    "FROM Investiga\n",
    "JOIN Profesor\n",
    "WHERE Investiga.nif_prof = Profesor.nif\n",
    "GROUP BY Investiga.num_proyecto;"
   ]
  },
  {
   "cell_type": "markdown",
   "metadata": {},
   "source": [
    "Nombre de profesores junto a entidad financiadora de los proyectos en los que trabajan"
   ]
  },
  {
   "cell_type": "code",
   "execution_count": 23,
   "metadata": {},
   "outputs": [
    {
     "name": "stdout",
     "output_type": "stream",
     "text": [
      "Done.\n"
     ]
    },
    {
     "data": {
      "text/html": [
       "<table>\n",
       "    <tr>\n",
       "        <th>Nombre Profesor</th>\n",
       "        <th>Proyecto</th>\n",
       "        <th>Entidad financiadora del proyecto</th>\n",
       "    </tr>\n",
       "    <tr>\n",
       "        <td>Antonio</td>\n",
       "        <td>123456</td>\n",
       "        <td>TSC</td>\n",
       "    </tr>\n",
       "    <tr>\n",
       "        <td>Pedro</td>\n",
       "        <td>234567</td>\n",
       "        <td>GSYC</td>\n",
       "    </tr>\n",
       "    <tr>\n",
       "        <td>Jose</td>\n",
       "        <td>234567</td>\n",
       "        <td>GSYC</td>\n",
       "    </tr>\n",
       "    <tr>\n",
       "        <td>Eva</td>\n",
       "        <td>234567</td>\n",
       "        <td>GSYC</td>\n",
       "    </tr>\n",
       "</table>"
      ],
      "text/plain": [
       "[('Antonio', 123456, 'TSC'),\n",
       " ('Pedro', 234567, 'GSYC'),\n",
       " ('Jose', 234567, 'GSYC'),\n",
       " ('Eva', 234567, 'GSYC')]"
      ]
     },
     "execution_count": 23,
     "metadata": {},
     "output_type": "execute_result"
    }
   ],
   "source": [
    "%%sql\n",
    "SELECT\n",
    "Profesor.nombre AS 'Nombre Profesor',\n",
    "Proyecto.numero AS 'Proyecto',\n",
    "Proyecto.nombre_finan AS 'Entidad financiadora del proyecto'\n",
    "FROM Profesor\n",
    "JOIN Investiga\n",
    "ON Profesor.nif = Investiga.nif_prof\n",
    "JOIN Proyecto\n",
    "ON Proyecto.numero = Investiga.num_proyecto"
   ]
  }
 ],
 "metadata": {
  "kernelspec": {
   "display_name": "Python 3",
   "language": "python",
   "name": "python3"
  },
  "language_info": {
   "codemirror_mode": {
    "name": "ipython",
    "version": 3
   },
   "file_extension": ".py",
   "mimetype": "text/x-python",
   "name": "python",
   "nbconvert_exporter": "python",
   "pygments_lexer": "ipython3",
   "version": "3.5.2"
  }
 },
 "nbformat": 4,
 "nbformat_minor": 2
}
