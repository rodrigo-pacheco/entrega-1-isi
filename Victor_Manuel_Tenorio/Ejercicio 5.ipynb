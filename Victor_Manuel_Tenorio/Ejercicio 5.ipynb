{
 "cells": [
  {
   "cell_type": "markdown",
   "metadata": {},
   "source": [
    "# Ejercicio 5 Víctor Manuel Tenorio Gómez"
   ]
  },
  {
   "cell_type": "markdown",
   "metadata": {},
   "source": [
    "### Esquema\n",
    "\n",
    "![Esquema base de datos](Esquemas_bbdd_isi_5.jpg \"Esquema base de datos\")"
   ]
  },
  {
   "cell_type": "code",
   "execution_count": 1,
   "metadata": {},
   "outputs": [
    {
     "data": {
      "text/plain": [
       "'Connected: None@e5.db'"
      ]
     },
     "execution_count": 1,
     "metadata": {},
     "output_type": "execute_result"
    }
   ],
   "source": [
    "%load_ext sql\n",
    "%sql sqlite:///e5.db"
   ]
  },
  {
   "cell_type": "code",
   "execution_count": 2,
   "metadata": {},
   "outputs": [
    {
     "name": "stdout",
     "output_type": "stream",
     "text": [
      "Done.\n",
      "Done.\n",
      "Done.\n",
      "Done.\n",
      "Done.\n",
      "Done.\n",
      "Done.\n",
      "Done.\n",
      "Done.\n",
      "Done.\n"
     ]
    },
    {
     "data": {
      "text/plain": [
       "[]"
      ]
     },
     "execution_count": 2,
     "metadata": {},
     "output_type": "execute_result"
    }
   ],
   "source": [
    "%%sql\n",
    "DROP TABLE IF EXISTS Paciente;\n",
    "DROP TABLE IF EXISTS Medico;\n",
    "DROP TABLE IF EXISTS Compañia;\n",
    "DROP TABLE IF EXISTS Medicamento;\n",
    "DROP TABLE IF EXISTS Recetan;\n",
    "DROP TABLE IF EXISTS Farmacia;\n",
    "DROP TABLE IF EXISTS Vende;\n",
    "DROP TABLE IF EXISTS Contrato;\n",
    "DROP TABLE IF EXISTS Firman;\n",
    "DROP TABLE IF EXISTS Supervisor;"
   ]
  },
  {
   "cell_type": "code",
   "execution_count": 3,
   "metadata": {},
   "outputs": [
    {
     "name": "stdout",
     "output_type": "stream",
     "text": [
      "Done.\n",
      "Done.\n"
     ]
    },
    {
     "data": {
      "text/plain": [
       "[]"
      ]
     },
     "execution_count": 3,
     "metadata": {},
     "output_type": "execute_result"
    }
   ],
   "source": [
    "%%sql\n",
    "DROP TABLE IF EXISTS Paciente;\n",
    "CREATE TABLE Paciente (nif VARCHAR(9),\n",
    "                      nombre VARCHAR(20),\n",
    "                      direccion VARCHAR(20),\n",
    "                      edad INT,\n",
    "                      nif_medico VARCHAR(9) NOT NULL,\n",
    "                      PRIMARY KEY (nif),\n",
    "                      FOREIGN KEY (nif_medico) REFERENCES Medico(nif));"
   ]
  },
  {
   "cell_type": "code",
   "execution_count": 4,
   "metadata": {},
   "outputs": [
    {
     "name": "stdout",
     "output_type": "stream",
     "text": [
      "Done.\n",
      "Done.\n"
     ]
    },
    {
     "data": {
      "text/plain": [
       "[]"
      ]
     },
     "execution_count": 4,
     "metadata": {},
     "output_type": "execute_result"
    }
   ],
   "source": [
    "%%sql\n",
    "DROP TABLE IF EXISTS Medico;\n",
    "CREATE TABLE Medico (nif VARCHAR(9),\n",
    "                    nombre VARCHAR(20),\n",
    "                    especialidad VARCHAR(20),\n",
    "                    años_exp INT,\n",
    "                    PRIMARY KEY (nif));"
   ]
  },
  {
   "cell_type": "code",
   "execution_count": 5,
   "metadata": {},
   "outputs": [
    {
     "name": "stdout",
     "output_type": "stream",
     "text": [
      "Done.\n",
      "Done.\n"
     ]
    },
    {
     "data": {
      "text/plain": [
       "[]"
      ]
     },
     "execution_count": 5,
     "metadata": {},
     "output_type": "execute_result"
    }
   ],
   "source": [
    "%%sql\n",
    "DROP TABLE IF EXISTS Compañia;\n",
    "CREATE TABLE Compañia (nombre VARCHAR(20),\n",
    "                      telefono INT,\n",
    "                      PRIMARY KEY (nombre));"
   ]
  },
  {
   "cell_type": "code",
   "execution_count": 6,
   "metadata": {},
   "outputs": [
    {
     "name": "stdout",
     "output_type": "stream",
     "text": [
      "Done.\n",
      "Done.\n"
     ]
    },
    {
     "data": {
      "text/plain": [
       "[]"
      ]
     },
     "execution_count": 6,
     "metadata": {},
     "output_type": "execute_result"
    }
   ],
   "source": [
    "%%sql\n",
    "DROP TABLE IF EXISTS Medicamento;\n",
    "CREATE TABLE Medicamento (nombre_comercial VARCHAR(20),\n",
    "                         formula VARCHAR(20),\n",
    "                         compañia VARCHAR(20) NOT NULL,\n",
    "                         PRIMARY KEY (compañia, nombre_comercial),\n",
    "                         FOREIGN KEY (compañia) REFERENCES Compañia(nombre) ON DELETE CASCADE);"
   ]
  },
  {
   "cell_type": "code",
   "execution_count": 7,
   "metadata": {},
   "outputs": [
    {
     "name": "stdout",
     "output_type": "stream",
     "text": [
      "Done.\n",
      "Done.\n"
     ]
    },
    {
     "data": {
      "text/plain": [
       "[]"
      ]
     },
     "execution_count": 7,
     "metadata": {},
     "output_type": "execute_result"
    }
   ],
   "source": [
    "%%sql\n",
    "DROP TABLE IF EXISTS Recetan;\n",
    "CREATE TABLE Recetan (fecha DATE,\n",
    "                     cantidad FLOAT,\n",
    "                     nif_paciente VARCHAR(9),\n",
    "                     nif_medico VARCHAR(9),\n",
    "                     medicamento VARCHAR(20),\n",
    "                     PRIMARY KEY (nif_paciente, nif_medico, medicamento),\n",
    "                     FOREIGN KEY (nif_paciente) REFERENCES Paciente(nif),\n",
    "                     FOREIGN KEY (nif_medico) REFERENCES Medico(nif),\n",
    "                     FOREIGN KEY (medicamento) REFERENCES Medicamento(nombre_comercial));"
   ]
  },
  {
   "cell_type": "code",
   "execution_count": 8,
   "metadata": {},
   "outputs": [
    {
     "name": "stdout",
     "output_type": "stream",
     "text": [
      "Done.\n",
      "Done.\n"
     ]
    },
    {
     "data": {
      "text/plain": [
       "[]"
      ]
     },
     "execution_count": 8,
     "metadata": {},
     "output_type": "execute_result"
    }
   ],
   "source": [
    "%%sql\n",
    "DROP TABLE IF EXISTS Farmacia;\n",
    "CREATE TABLE Farmacia (nombre VARCHAR(20),\n",
    "                      direccion VARCHAR(20),\n",
    "                      telefono INT,\n",
    "                      PRIMARY KEY (nombre));"
   ]
  },
  {
   "cell_type": "code",
   "execution_count": 9,
   "metadata": {},
   "outputs": [
    {
     "name": "stdout",
     "output_type": "stream",
     "text": [
      "Done.\n",
      "Done.\n"
     ]
    },
    {
     "data": {
      "text/plain": [
       "[]"
      ]
     },
     "execution_count": 9,
     "metadata": {},
     "output_type": "execute_result"
    }
   ],
   "source": [
    "%%sql\n",
    "DROP TABLE IF EXISTS Vende;\n",
    "CREATE TABLE Vende (precio FLOAT,\n",
    "                   medicamento VARCHAR(20),\n",
    "                   farmacia VARCHAR(20),\n",
    "                   PRIMARY KEY (medicamento, farmacia),\n",
    "                   FOREIGN KEY (medicamento) REFERENCES Medicamento(nombre_comercial),\n",
    "                   FOREIGN KEY (farmacia) REFERENCES Farmacia(nombre));"
   ]
  },
  {
   "cell_type": "code",
   "execution_count": 10,
   "metadata": {},
   "outputs": [
    {
     "name": "stdout",
     "output_type": "stream",
     "text": [
      "Done.\n",
      "Done.\n"
     ]
    },
    {
     "data": {
      "text/plain": [
       "[]"
      ]
     },
     "execution_count": 10,
     "metadata": {},
     "output_type": "execute_result"
    }
   ],
   "source": [
    "%%sql\n",
    "DROP TABLE IF EXISTS Contrato;\n",
    "CREATE TABLE Contrato (texto VARCHAR(200),\n",
    "                      fecha_inicio DATE,\n",
    "                      fecha_fin DATE,\n",
    "                      PRIMARY KEY (texto));"
   ]
  },
  {
   "cell_type": "code",
   "execution_count": 11,
   "metadata": {},
   "outputs": [
    {
     "name": "stdout",
     "output_type": "stream",
     "text": [
      "Done.\n",
      "Done.\n"
     ]
    },
    {
     "data": {
      "text/plain": [
       "[]"
      ]
     },
     "execution_count": 11,
     "metadata": {},
     "output_type": "execute_result"
    }
   ],
   "source": [
    "%%sql\n",
    "DROP TABLE IF EXISTS Firman;\n",
    "CREATE TABLE Firman (compañia VARCHAR(20),\n",
    "                    farmacia VARCHAR(20),\n",
    "                    texto_contrato VARCHAR(200),\n",
    "                    PRIMARY KEY (compañia, farmacia, texto_contrato),\n",
    "                    FOREIGN KEY (compañia) REFERENCES Compañia(nombre),\n",
    "                    FOREIGN KEY (farmacia) REFERENCES Farmacia(nombre),\n",
    "                    FOREIGN KEY (texto_contrato) REFERENCES Contrato(texto));"
   ]
  },
  {
   "cell_type": "code",
   "execution_count": 12,
   "metadata": {},
   "outputs": [
    {
     "name": "stdout",
     "output_type": "stream",
     "text": [
      "Done.\n",
      "Done.\n"
     ]
    },
    {
     "data": {
      "text/plain": [
       "[]"
      ]
     },
     "execution_count": 12,
     "metadata": {},
     "output_type": "execute_result"
    }
   ],
   "source": [
    "%%sql\n",
    "DROP TABLE IF EXISTS Supervisor;\n",
    "CREATE TABLE Supervisor (nif VARCHAR(9),\n",
    "                        contrato_supervisado VARCHAR(200) NOT NULL,\n",
    "                        PRIMARY KEY (nif),\n",
    "                        FOREIGN KEY (contrato_supervisado) REFERENCES Contrato(texto));"
   ]
  },
  {
   "cell_type": "markdown",
   "metadata": {},
   "source": [
    "#### 2.\n",
    "El precio de los medicamentos, en lugar de ser un atributo de la relacion \"Vende\", tendría que ser un atributo de medicamento."
   ]
  },
  {
   "cell_type": "markdown",
   "metadata": {},
   "source": [
    "#### 3.\n",
    "Receta debería ser una entidad, para poder guardar en esa tabla todas las recetas que se le vayan mandando de un mismo médico a un paciente y un medicamento en particular. Por tanto, la relación \"Recetan\" sería una cuádrupla que se conectaría a Paciente, Médico, Medicamento y Receta."
   ]
  }
 ],
 "metadata": {
  "kernelspec": {
   "display_name": "Python 3",
   "language": "python",
   "name": "python3"
  },
  "language_info": {
   "codemirror_mode": {
    "name": "ipython",
    "version": 3
   },
   "file_extension": ".py",
   "mimetype": "text/x-python",
   "name": "python",
   "nbconvert_exporter": "python",
   "pygments_lexer": "ipython3",
   "version": "3.5.2"
  }
 },
 "nbformat": 4,
 "nbformat_minor": 2
}
