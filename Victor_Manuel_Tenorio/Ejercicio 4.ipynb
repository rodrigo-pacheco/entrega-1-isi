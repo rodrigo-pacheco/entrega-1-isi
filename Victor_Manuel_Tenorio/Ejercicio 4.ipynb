{
 "cells": [
  {
   "cell_type": "markdown",
   "metadata": {},
   "source": [
    "# Ejercicio 4 Víctor Manuel Tenorio Gómez"
   ]
  },
  {
   "cell_type": "markdown",
   "metadata": {},
   "source": [
    "### Esquema\n",
    "\n",
    "![Esquema base de datos](Esquemas_bbdd_isi_4.jpg \"Esquema base de datos\")"
   ]
  },
  {
   "cell_type": "code",
   "execution_count": 2,
   "metadata": {},
   "outputs": [
    {
     "data": {
      "text/plain": [
       "'Connected: None@e4.db'"
      ]
     },
     "execution_count": 2,
     "metadata": {},
     "output_type": "execute_result"
    }
   ],
   "source": [
    "%load_ext sql\n",
    "%sql sqlite:///e4.db"
   ]
  },
  {
   "cell_type": "code",
   "execution_count": 3,
   "metadata": {},
   "outputs": [
    {
     "name": "stdout",
     "output_type": "stream",
     "text": [
      "Done.\n",
      "Done.\n",
      "Done.\n",
      "Done.\n",
      "Done.\n",
      "Done.\n",
      "Done.\n"
     ]
    },
    {
     "data": {
      "text/plain": [
       "[]"
      ]
     },
     "execution_count": 3,
     "metadata": {},
     "output_type": "execute_result"
    }
   ],
   "source": [
    "%%sql\n",
    "DROP TABLE IF EXISTS Musico;\n",
    "DROP TABLE IF EXISTS Direccion;\n",
    "DROP TABLE IF EXISTS Instrumento;\n",
    "DROP TABLE IF EXISTS Tocan;\n",
    "DROP TABLE IF EXISTS Cancion;\n",
    "DROP TABLE IF EXISTS Interpreta;\n",
    "DROP TABLE IF EXISTS Album;"
   ]
  },
  {
   "cell_type": "code",
   "execution_count": 4,
   "metadata": {},
   "outputs": [
    {
     "name": "stdout",
     "output_type": "stream",
     "text": [
      "Done.\n",
      "Done.\n"
     ]
    },
    {
     "data": {
      "text/plain": [
       "[]"
      ]
     },
     "execution_count": 4,
     "metadata": {},
     "output_type": "execute_result"
    }
   ],
   "source": [
    "%%sql\n",
    "DROP TABLE IF EXISTS Musico;\n",
    "CREATE TABLE Musico (nif VARCHAR(9),\n",
    "                    nombre VARCHAR(20),\n",
    "                    direccion VARCHAR(20) NOT NULL,\n",
    "                    PRIMARY KEY(nif),\n",
    "                    FOREIGN KEY (direccion) REFERENCES Direccion(domicilio));"
   ]
  },
  {
   "cell_type": "code",
   "execution_count": 5,
   "metadata": {},
   "outputs": [
    {
     "name": "stdout",
     "output_type": "stream",
     "text": [
      "Done.\n",
      "Done.\n"
     ]
    },
    {
     "data": {
      "text/plain": [
       "[]"
      ]
     },
     "execution_count": 5,
     "metadata": {},
     "output_type": "execute_result"
    }
   ],
   "source": [
    "%%sql\n",
    "DROP TABLE IF EXISTS Direccion;\n",
    "CREATE TABLE Direccion (domicilio VARCHAR(20),\n",
    "                       telefono INT,\n",
    "                       PRIMARY KEY (domicilio));"
   ]
  },
  {
   "cell_type": "code",
   "execution_count": 6,
   "metadata": {},
   "outputs": [
    {
     "name": "stdout",
     "output_type": "stream",
     "text": [
      "Done.\n",
      "Done.\n"
     ]
    },
    {
     "data": {
      "text/plain": [
       "[]"
      ]
     },
     "execution_count": 6,
     "metadata": {},
     "output_type": "execute_result"
    }
   ],
   "source": [
    "%%sql\n",
    "DROP TABLE IF EXISTS Instrumento;\n",
    "CREATE TABLE Instrumento (id INT,\n",
    "                         nombre VARCHAR(20),\n",
    "                         PRIMARY KEY(id));"
   ]
  },
  {
   "cell_type": "code",
   "execution_count": 7,
   "metadata": {},
   "outputs": [
    {
     "name": "stdout",
     "output_type": "stream",
     "text": [
      "Done.\n",
      "Done.\n"
     ]
    },
    {
     "data": {
      "text/plain": [
       "[]"
      ]
     },
     "execution_count": 7,
     "metadata": {},
     "output_type": "execute_result"
    }
   ],
   "source": [
    "%%sql\n",
    "DROP TABLE IF EXISTS Tocan;\n",
    "CREATE TABLE Tocan (nif_musico VARCHAR(20),\n",
    "                   id_instrumento INT,\n",
    "                   PRIMARY KEY (nif_musico, id_instrumento),\n",
    "                   FOREIGN KEY (nif_musico) REFERENCES Musico(nif),\n",
    "                   FOREIGN KEY (id_instrumento) REFERENCES Instrumento(id));"
   ]
  },
  {
   "cell_type": "code",
   "execution_count": 9,
   "metadata": {},
   "outputs": [
    {
     "name": "stdout",
     "output_type": "stream",
     "text": [
      "Done.\n",
      "Done.\n"
     ]
    },
    {
     "data": {
      "text/plain": [
       "[]"
      ]
     },
     "execution_count": 9,
     "metadata": {},
     "output_type": "execute_result"
    }
   ],
   "source": [
    "%%sql\n",
    "DROP TABLE IF EXISTS Cancion;\n",
    "CREATE TABLE Cancion (id INT,\n",
    "                     titulo VARCHAR(20),\n",
    "                     autor VARCHAR(20),\n",
    "                     id_album INT NOT NULL,\n",
    "                     PRIMARY KEY(id),\n",
    "                     FOREIGN KEY (id_album) REFERENCES Album(id));"
   ]
  },
  {
   "cell_type": "code",
   "execution_count": 10,
   "metadata": {},
   "outputs": [
    {
     "name": "stdout",
     "output_type": "stream",
     "text": [
      "Done.\n",
      "Done.\n"
     ]
    },
    {
     "data": {
      "text/plain": [
       "[]"
      ]
     },
     "execution_count": 10,
     "metadata": {},
     "output_type": "execute_result"
    }
   ],
   "source": [
    "%%sql\n",
    "DROP TABLE IF EXISTS Interpreta;\n",
    "CREATE TABLE Interpreta (nif_musico VARCHAR(9),\n",
    "                        id_cancion INT,\n",
    "                        PRIMARY KEY(nif_musico, id_cancion),\n",
    "                        FOREIGN KEY (nif_musico) REFERENCES Musico(nif),\n",
    "                        FOREIGN KEY (id_cancion) REFERENCES Cancion(id))"
   ]
  },
  {
   "cell_type": "code",
   "execution_count": 11,
   "metadata": {},
   "outputs": [
    {
     "name": "stdout",
     "output_type": "stream",
     "text": [
      "Done.\n",
      "Done.\n"
     ]
    },
    {
     "data": {
      "text/plain": [
       "[]"
      ]
     },
     "execution_count": 11,
     "metadata": {},
     "output_type": "execute_result"
    }
   ],
   "source": [
    "%%sql\n",
    "DROP TABLE IF EXISTS Album;\n",
    "CREATE TABLE Album (id INT,\n",
    "                   titulo VARCHAR(20),\n",
    "                   fecha_edicion DATE,\n",
    "                   formato VARCHAR(10),\n",
    "                   productor VARCHAR(9) NOT NULL,\n",
    "                   PRIMARY KEY (id),\n",
    "                   FOREIGN KEY (productor) REFERENCES Musico(nif));"
   ]
  }
 ],
 "metadata": {
  "kernelspec": {
   "display_name": "Python 3",
   "language": "python",
   "name": "python3"
  },
  "language_info": {
   "codemirror_mode": {
    "name": "ipython",
    "version": 3
   },
   "file_extension": ".py",
   "mimetype": "text/x-python",
   "name": "python",
   "nbconvert_exporter": "python",
   "pygments_lexer": "ipython3",
   "version": "3.5.2"
  }
 },
 "nbformat": 4,
 "nbformat_minor": 2
}
