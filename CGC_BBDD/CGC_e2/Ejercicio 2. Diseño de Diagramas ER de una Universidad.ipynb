{
 "cells": [
  {
   "cell_type": "markdown",
   "metadata": {},
   "source": [
    "# Ejercicio_2: DISEÑO_DE_DIAGRAMAS_ER_DE_UNA_UNIVERSIDAD"
   ]
  },
  {
   "cell_type": "markdown",
   "metadata": {},
   "source": [
    "![Diagrama ER: Ejercicio_2](IMG_20171011_084446.jpg \"Diagrama ER: Ejercicio_2\")"
   ]
  },
  {
   "cell_type": "code",
   "execution_count": 6,
   "metadata": {},
   "outputs": [],
   "source": [
    "%reload_ext sql"
   ]
  },
  {
   "cell_type": "code",
   "execution_count": 7,
   "metadata": {},
   "outputs": [
    {
     "data": {
      "text/plain": [
       "'Connected: None@ISI-Ejercicio_2-sql.db'"
      ]
     },
     "execution_count": 7,
     "metadata": {},
     "output_type": "execute_result"
    }
   ],
   "source": [
    "%sql sqlite:///ISI-Ejercicio_2-sql.db"
   ]
  },
  {
   "cell_type": "code",
   "execution_count": 18,
   "metadata": {},
   "outputs": [
    {
     "name": "stdout",
     "output_type": "stream",
     "text": [
      "Done.\n"
     ]
    },
    {
     "data": {
      "text/plain": [
       "[]"
      ]
     },
     "execution_count": 18,
     "metadata": {},
     "output_type": "execute_result"
    }
   ],
   "source": [
    "%sql PRAGMA foreign_keys = ON;"
   ]
  },
  {
   "cell_type": "code",
   "execution_count": 19,
   "metadata": {},
   "outputs": [
    {
     "name": "stdout",
     "output_type": "stream",
     "text": [
      "Done.\n",
      "Done.\n"
     ]
    },
    {
     "data": {
      "text/plain": [
       "[]"
      ]
     },
     "execution_count": 19,
     "metadata": {},
     "output_type": "execute_result"
    }
   ],
   "source": [
    "%%sql\n",
    "DROP TABLE IF EXISTS Profesor;\n",
    "CREATE TABLE Profesor(\n",
    " dni_prof VARCHAR (20),\n",
    " nombre VARCHAR (30),\n",
    " edad INT,\n",
    " especialidad VARCHAR (30),\n",
    " cargo VARCHAR(30),\n",
    " PRIMARY KEY (dni_prof)\n",
    ");"
   ]
  },
  {
   "cell_type": "code",
   "execution_count": 20,
   "metadata": {},
   "outputs": [
    {
     "name": "stdout",
     "output_type": "stream",
     "text": [
      "Done.\n",
      "Done.\n"
     ]
    },
    {
     "data": {
      "text/plain": [
       "[]"
      ]
     },
     "execution_count": 20,
     "metadata": {},
     "output_type": "execute_result"
    }
   ],
   "source": [
    "%%sql\n",
    "DROP TABLE IF EXISTS Departamento_Dirige;\n",
    "CREATE TABLE Departamento_Dirige(\n",
    " dni_prof VARCHAR (20) NOT NULL,\n",
    " nombre VARCHAR (30),\n",
    " num_dep INT,\n",
    " edificio VARCHAR (30),\n",
    " PRIMARY KEY (num_dep),\n",
    " FOREIGN KEY (dni_prof) REFERENCES Profesor (dni_prof)\n",
    ");"
   ]
  },
  {
   "cell_type": "code",
   "execution_count": 21,
   "metadata": {},
   "outputs": [
    {
     "name": "stdout",
     "output_type": "stream",
     "text": [
      "Done.\n",
      "Done.\n"
     ]
    },
    {
     "data": {
      "text/plain": [
       "[]"
      ]
     },
     "execution_count": 21,
     "metadata": {},
     "output_type": "execute_result"
    }
   ],
   "source": [
    "%%sql\n",
    "DROP TABLE IF EXISTS Pertenecer;\n",
    "CREATE TABLE Pertenecer(\n",
    " dni_prof VARCHAR (20),\n",
    " num_dep INT,\n",
    " porcent_t FLOAT,\n",
    " PRIMARY KEY (num_dep, dni_prof)\n",
    ");"
   ]
  },
  {
   "cell_type": "code",
   "execution_count": 22,
   "metadata": {},
   "outputs": [
    {
     "name": "stdout",
     "output_type": "stream",
     "text": [
      "Done.\n",
      "Done.\n"
     ]
    },
    {
     "data": {
      "text/plain": [
       "[]"
      ]
     },
     "execution_count": 22,
     "metadata": {},
     "output_type": "execute_result"
    }
   ],
   "source": [
    "%%sql\n",
    "DROP TABLE IF EXISTS Trabajar;\n",
    "CREATE TABLE Trabajar(\n",
    " dni VARCHAR (20),\n",
    " num_proy INT,\n",
    " PRIMARY KEY (num_proy, dni)\n",
    ");"
   ]
  },
  {
   "cell_type": "code",
   "execution_count": 23,
   "metadata": {},
   "outputs": [
    {
     "name": "stdout",
     "output_type": "stream",
     "text": [
      "Done.\n",
      "Done.\n"
     ]
    },
    {
     "data": {
      "text/plain": [
       "[]"
      ]
     },
     "execution_count": 23,
     "metadata": {},
     "output_type": "execute_result"
    }
   ],
   "source": [
    "%%sql\n",
    "DROP TABLE IF EXISTS Proyecto_Gestionar;\n",
    "CREATE TABLE Proyecto_Gestionar(\n",
    " num_proy INT,\n",
    " nombre_ent_finan VARCHAR (30),\n",
    " fecha_inicio DATE,\n",
    " fecha_fin DATE,\n",
    " PRESUPUESTO FLOAT,\n",
    " dni VARCHAR (20),\n",
    " PRIMARY KEY (num_proy),\n",
    " FOREIGN KEY (dni) REFERENCES Profesor (dni_prof)\n",
    ");"
   ]
  },
  {
   "cell_type": "code",
   "execution_count": 24,
   "metadata": {},
   "outputs": [
    {
     "name": "stdout",
     "output_type": "stream",
     "text": [
      "Done.\n",
      "Done.\n"
     ]
    },
    {
     "data": {
      "text/plain": [
       "[]"
      ]
     },
     "execution_count": 24,
     "metadata": {},
     "output_type": "execute_result"
    }
   ],
   "source": [
    "%%sql\n",
    "DROP TABLE IF EXISTS Ayuda;\n",
    "CREATE TABLE Ayuda(\n",
    " dni_est VARCHAR (20),\n",
    " num_proy INT,\n",
    " dni VARCHAR (20),\n",
    " PRIMARY KEY (num_proy, dni_est, dni),\n",
    "  FOREIGN KEY (dni) REFERENCES Profesor (dni_prof),\n",
    " FOREIGN KEY (dni_est) REFERENCES Estudiantes (dni_est),\n",
    " FOREIGN KEY (num_proy) REFERENCES Proyecto (num_proy)\n",
    ");"
   ]
  },
  {
   "cell_type": "code",
   "execution_count": 25,
   "metadata": {},
   "outputs": [
    {
     "name": "stdout",
     "output_type": "stream",
     "text": [
      "Done.\n",
      "Done.\n"
     ]
    },
    {
     "data": {
      "text/plain": [
       "[]"
      ]
     },
     "execution_count": 25,
     "metadata": {},
     "output_type": "execute_result"
    }
   ],
   "source": [
    "%%sql\n",
    "DROP TABLE IF EXISTS Estudiantes;\n",
    "CREATE TABLE Estudiantes(\n",
    " dni_est VARCHAR (20) NOT NULL,\n",
    " edad INT,\n",
    " nombre VARCHAR (30),\n",
    " titulacion VARCHAR (30),\n",
    " num_dep INT NOT NULL,\n",
    " dni_tutor VARCHAR (20),\n",
    " PRIMARY KEY (dni_est),\n",
    " FOREIGN KEY (num_dep) REFERENCES Departamento (num_dep),\n",
    " FOREIGN KEY (dni_tutor) REFERENCES Estudiantes (dni_est)\n",
    ");"
   ]
  }
 ],
 "metadata": {
  "kernelspec": {
   "display_name": "Python 3",
   "language": "python",
   "name": "python3"
  },
  "language_info": {
   "codemirror_mode": {
    "name": "ipython",
    "version": 3
   },
   "file_extension": ".py",
   "mimetype": "text/x-python",
   "name": "python",
   "nbconvert_exporter": "python",
   "pygments_lexer": "ipython3",
   "version": "3.5.2"
  }
 },
 "nbformat": 4,
 "nbformat_minor": 2
}
