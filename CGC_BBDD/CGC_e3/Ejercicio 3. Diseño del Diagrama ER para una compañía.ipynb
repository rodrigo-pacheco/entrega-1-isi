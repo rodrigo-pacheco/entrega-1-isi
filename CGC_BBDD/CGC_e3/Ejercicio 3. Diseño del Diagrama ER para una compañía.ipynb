{
 "cells": [
  {
   "cell_type": "markdown",
   "metadata": {},
   "source": [
    "# Ejercicio 3. Diseño del Diagrama ER para una compañía"
   ]
  },
  {
   "cell_type": "markdown",
   "metadata": {},
   "source": [
    "![Diagrama ER: Ejercicio_3](IMG_20171010_182222.jpg \"Diagrama ER: Ejercicio_3\")"
   ]
  },
  {
   "cell_type": "code",
   "execution_count": 4,
   "metadata": {},
   "outputs": [],
   "source": [
    "%reload_ext sql"
   ]
  },
  {
   "cell_type": "code",
   "execution_count": 5,
   "metadata": {},
   "outputs": [
    {
     "data": {
      "text/plain": [
       "'Connected: None@ISI-Ejercicio_3-sql.db'"
      ]
     },
     "execution_count": 5,
     "metadata": {},
     "output_type": "execute_result"
    }
   ],
   "source": [
    "%sql sqlite:///ISI-Ejercicio_3-sql.db"
   ]
  },
  {
   "cell_type": "code",
   "execution_count": 6,
   "metadata": {},
   "outputs": [
    {
     "name": "stdout",
     "output_type": "stream",
     "text": [
      "Done.\n",
      "Done.\n",
      "Done.\n"
     ]
    },
    {
     "data": {
      "text/plain": [
       "[]"
      ]
     },
     "execution_count": 6,
     "metadata": {},
     "output_type": "execute_result"
    }
   ],
   "source": [
    "%%sql\n",
    "DROP TABLE IF EXISTS Departamentos_Dirigen;\n",
    "PRAGMA foreign_keys = ON;\n",
    "CREATE TABLE Departamento_Dirige(\n",
    " dni VARCHAR (20) NOT NULL,\n",
    " nombre VARCHAR (30),\n",
    " id_dep INT,\n",
    " presupuesto FLOAT,\n",
    " PRIMARY KEY (id_dep),\n",
    " FOREIGN KEY (dni) REFERENCES Empleado (dni)\n",
    ");"
   ]
  },
  {
   "cell_type": "code",
   "execution_count": 11,
   "metadata": {},
   "outputs": [
    {
     "name": "stdout",
     "output_type": "stream",
     "text": [
      "Done.\n",
      "Done.\n",
      "Done.\n"
     ]
    },
    {
     "data": {
      "text/plain": [
       "[]"
      ]
     },
     "execution_count": 11,
     "metadata": {},
     "output_type": "execute_result"
    }
   ],
   "source": [
    "%%sql\n",
    "DROP TABLE IF EXISTS Trabajan;\n",
    "PRAGMA foreign_keys = ON;\n",
    "CREATE TABLE Trabajan(\n",
    " dni VARCHAR (20),\n",
    " id_dep INT,\n",
    " PRIMARY KEY (id_dep, dni),\n",
    " FOREIGN KEY (dni) REFERENCES Empleado (dni),\n",
    " FOREIGN KEY (id_dep) REFERENCES Departamentos_Dirige (id_dep)\n",
    ");"
   ]
  },
  {
   "cell_type": "code",
   "execution_count": 13,
   "metadata": {},
   "outputs": [
    {
     "name": "stdout",
     "output_type": "stream",
     "text": [
      "Done.\n",
      "Done.\n",
      "Done.\n"
     ]
    },
    {
     "data": {
      "text/plain": [
       "[]"
      ]
     },
     "execution_count": 13,
     "metadata": {},
     "output_type": "execute_result"
    }
   ],
   "source": [
    "%%sql\n",
    "DROP TABLE IF EXISTS Hijos;\n",
    "PRAGMA foreign_keys = ON;\n",
    "CREATE TABLE Hijos(\n",
    " dni VARCHAR (20) NOT NULL,\n",
    " nombre VARCHAR (30),\n",
    " edad INT,\n",
    " PRIMARY KEY (nombre, dni),\n",
    " FOREIGN KEY (dni) REFERENCES Empleado (dni)\n",
    "                    ON DELETE CASCADE\n",
    ");"
   ]
  },
  {
   "cell_type": "code",
   "execution_count": 14,
   "metadata": {},
   "outputs": [
    {
     "name": "stdout",
     "output_type": "stream",
     "text": [
      "Done.\n",
      "Done.\n",
      "Done.\n"
     ]
    },
    {
     "data": {
      "text/plain": [
       "[]"
      ]
     },
     "execution_count": 14,
     "metadata": {},
     "output_type": "execute_result"
    }
   ],
   "source": [
    "%%sql\n",
    "DROP TABLE IF EXISTS Empleados;\n",
    "PRAGMA foreign_keys = ON;\n",
    "CREATE TABLE Empleados(\n",
    " dni VARCHAR (20),\n",
    " telefono INT,\n",
    " salario FLOAT,\n",
    " PRIMARY KEY (dni)\n",
    ");"
   ]
  }
 ],
 "metadata": {
  "kernelspec": {
   "display_name": "Python 3",
   "language": "python",
   "name": "python3"
  },
  "language_info": {
   "codemirror_mode": {
    "name": "ipython",
    "version": 3
   },
   "file_extension": ".py",
   "mimetype": "text/x-python",
   "name": "python",
   "nbconvert_exporter": "python",
   "pygments_lexer": "ipython3",
   "version": "3.5.2"
  }
 },
 "nbformat": 4,
 "nbformat_minor": 2
}
