{
 "cells": [
  {
   "cell_type": "markdown",
   "metadata": {},
   "source": [
    "# Ejercicio 4. Diseño del Diagrama ER para una compañía de discos"
   ]
  },
  {
   "cell_type": "markdown",
   "metadata": {},
   "source": [
    "![Diagrama ER: Ejercicio_4](IMG_20171010_182417.jpg \"Diagrama ER: Ejercicio_4\")"
   ]
  },
  {
   "cell_type": "code",
   "execution_count": 1,
   "metadata": {},
   "outputs": [],
   "source": [
    "%reload_ext sql"
   ]
  },
  {
   "cell_type": "code",
   "execution_count": 2,
   "metadata": {},
   "outputs": [
    {
     "data": {
      "text/plain": [
       "'Connected: None@ISI-Ejercicio_4-sql.db'"
      ]
     },
     "execution_count": 2,
     "metadata": {},
     "output_type": "execute_result"
    }
   ],
   "source": [
    "%sql sqlite:///ISI-Ejercicio_4-sql.db"
   ]
  },
  {
   "cell_type": "code",
   "execution_count": 4,
   "metadata": {},
   "outputs": [
    {
     "name": "stdout",
     "output_type": "stream",
     "text": [
      "Done.\n"
     ]
    },
    {
     "data": {
      "text/plain": [
       "[]"
      ]
     },
     "execution_count": 4,
     "metadata": {},
     "output_type": "execute_result"
    }
   ],
   "source": [
    "% sql PRAGMA foreign_keys = ON;"
   ]
  },
  {
   "cell_type": "code",
   "execution_count": 5,
   "metadata": {},
   "outputs": [
    {
     "name": "stdout",
     "output_type": "stream",
     "text": [
      "Done.\n",
      "Done.\n"
     ]
    },
    {
     "data": {
      "text/plain": [
       "[]"
      ]
     },
     "execution_count": 5,
     "metadata": {},
     "output_type": "execute_result"
    }
   ],
   "source": [
    "%%sql\n",
    "DROP TABLE IF EXISTS Instrumentos;\n",
    "CREATE TABLE Instrumentos(\n",
    " nombre VARCHAR (20),\n",
    " num_inst INT,\n",
    " PRIMARY KEY (num_inst)\n",
    ");"
   ]
  },
  {
   "cell_type": "code",
   "execution_count": 6,
   "metadata": {},
   "outputs": [
    {
     "name": "stdout",
     "output_type": "stream",
     "text": [
      "Done.\n",
      "Done.\n"
     ]
    },
    {
     "data": {
      "text/plain": [
       "[]"
      ]
     },
     "execution_count": 6,
     "metadata": {},
     "output_type": "execute_result"
    }
   ],
   "source": [
    "%%sql\n",
    "DROP TABLE IF EXISTS Toca;\n",
    "CREATE TABLE Toca(\n",
    " dni VARCHAR (20),\n",
    " num_inst INT,\n",
    " PRIMARY KEY (num_inst, dni),\n",
    " FOREIGN KEY (dni) REFERENCES Musico (dni),\n",
    " FOREIGN KEY (num_inst) REFERENCES Instrumentos (num_inst)\n",
    ");"
   ]
  },
  {
   "cell_type": "code",
   "execution_count": 7,
   "metadata": {},
   "outputs": [
    {
     "name": "stdout",
     "output_type": "stream",
     "text": [
      "Done.\n",
      "Done.\n"
     ]
    },
    {
     "data": {
      "text/plain": [
       "[]"
      ]
     },
     "execution_count": 7,
     "metadata": {},
     "output_type": "execute_result"
    }
   ],
   "source": [
    "%%sql\n",
    "DROP TABLE IF EXISTS Musico_Vive;\n",
    "CREATE TABLE Musico_Vive(\n",
    " dni VARCHAR (20),\n",
    " nombre VARCHAR (30),\n",
    " tlf INT NOT NULL,\n",
    " PRIMARY KEY (tlf, dni),\n",
    " FOREIGN KEY (tlf) REFERENCES Domicilio (tlf)\n",
    ");"
   ]
  },
  {
   "cell_type": "code",
   "execution_count": 9,
   "metadata": {},
   "outputs": [
    {
     "name": "stdout",
     "output_type": "stream",
     "text": [
      "Done.\n",
      "Done.\n"
     ]
    },
    {
     "data": {
      "text/plain": [
       "[]"
      ]
     },
     "execution_count": 9,
     "metadata": {},
     "output_type": "execute_result"
    }
   ],
   "source": [
    "%%sql\n",
    "DROP TABLE IF EXISTS Interpreta;\n",
    "CREATE TABLE Interpreta(\n",
    " dni VARCHAR (20),\n",
    " id_cancion INT,\n",
    " PRIMARY KEY (id_cancion, dni),\n",
    " FOREIGN KEY (dni) REFERENCES Musico (dni),\n",
    " FOREIGN KEY (id_cancion) REFERENCES Canciones (id_cancion)\n",
    ");"
   ]
  },
  {
   "cell_type": "code",
   "execution_count": 10,
   "metadata": {},
   "outputs": [
    {
     "name": "stdout",
     "output_type": "stream",
     "text": [
      "Done.\n",
      "Done.\n"
     ]
    },
    {
     "data": {
      "text/plain": [
       "[]"
      ]
     },
     "execution_count": 10,
     "metadata": {},
     "output_type": "execute_result"
    }
   ],
   "source": [
    "%%sql\n",
    "DROP TABLE IF EXISTS Domicilio;\n",
    "CREATE TABLE Domicilio(\n",
    " direccion VARCHAR (30),\n",
    " tlf INT,\n",
    " PRIMARY KEY (tlf)\n",
    ");"
   ]
  },
  {
   "cell_type": "code",
   "execution_count": 11,
   "metadata": {},
   "outputs": [
    {
     "name": "stdout",
     "output_type": "stream",
     "text": [
      "Done.\n",
      "Done.\n"
     ]
    },
    {
     "data": {
      "text/plain": [
       "[]"
      ]
     },
     "execution_count": 11,
     "metadata": {},
     "output_type": "execute_result"
    }
   ],
   "source": [
    "%%sql\n",
    "DROP TABLE IF EXISTS Canciones_Tiene;\n",
    "CREATE TABLE Canciones_Tiene(\n",
    " titulo VARCHAR (30),\n",
    " autor VARCHAR (30),\n",
    " id_cancion INT,\n",
    " num_id INT NOT NULL,\n",
    " PRIMARY KEY (id_cancion),\n",
    " FOREIGN KEY (num_id) REFERENCES Album (num_id)\n",
    ");"
   ]
  },
  {
   "cell_type": "code",
   "execution_count": 12,
   "metadata": {},
   "outputs": [
    {
     "name": "stdout",
     "output_type": "stream",
     "text": [
      "Done.\n",
      "Done.\n"
     ]
    },
    {
     "data": {
      "text/plain": [
       "[]"
      ]
     },
     "execution_count": 12,
     "metadata": {},
     "output_type": "execute_result"
    }
   ],
   "source": [
    "%%sql\n",
    "DROP TABLE IF EXISTS Album_graba;\n",
    "CREATE TABLE Album_graba(\n",
    " num_id INT,\n",
    " titulo VARCHAR (30),\n",
    " edicion VARCHAR (30),\n",
    " formato VARCHAR (30),\n",
    " fecha DATE,\n",
    " dni VARCHAR (20),\n",
    " PRIMARY KEY (num_id),\n",
    " FOREIGN KEY (dni) REFERENCES Musico (dni)\n",
    ");"
   ]
  }
 ],
 "metadata": {
  "kernelspec": {
   "display_name": "Python 3",
   "language": "python",
   "name": "python3"
  },
  "language_info": {
   "codemirror_mode": {
    "name": "ipython",
    "version": 3
   },
   "file_extension": ".py",
   "mimetype": "text/x-python",
   "name": "python",
   "nbconvert_exporter": "python",
   "pygments_lexer": "ipython3",
   "version": "3.5.2"
  }
 },
 "nbformat": 4,
 "nbformat_minor": 2
}
