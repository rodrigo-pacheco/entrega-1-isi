{
 "cells": [
  {
   "cell_type": "markdown",
   "metadata": {},
   "source": [
    "# Ejercicio 5. Diseño del Diagrama ER para una cadena de farmacias"
   ]
  },
  {
   "cell_type": "markdown",
   "metadata": {},
   "source": [
    "![Diagrama ER: Ejercicio_5](IMG_20171010_182327.jpg \"Diagrama ER: Ejercicio_5\")"
   ]
  },
  {
   "cell_type": "code",
   "execution_count": 1,
   "metadata": {},
   "outputs": [],
   "source": [
    "%reload_ext sql"
   ]
  },
  {
   "cell_type": "code",
   "execution_count": 2,
   "metadata": {},
   "outputs": [
    {
     "data": {
      "text/plain": [
       "'Connected: None@ISI-Ejercicio_5-sql.db'"
      ]
     },
     "execution_count": 2,
     "metadata": {},
     "output_type": "execute_result"
    }
   ],
   "source": [
    "%sql sqlite:///ISI-Ejercicio_5-sql.db"
   ]
  },
  {
   "cell_type": "code",
   "execution_count": 3,
   "metadata": {},
   "outputs": [
    {
     "name": "stdout",
     "output_type": "stream",
     "text": [
      "Done.\n"
     ]
    },
    {
     "data": {
      "text/plain": [
       "[]"
      ]
     },
     "execution_count": 3,
     "metadata": {},
     "output_type": "execute_result"
    }
   ],
   "source": [
    "% sql PRAGMA foreign_keys = ON;"
   ]
  },
  {
   "cell_type": "code",
   "execution_count": 10,
   "metadata": {},
   "outputs": [
    {
     "name": "stdout",
     "output_type": "stream",
     "text": [
      "Done.\n",
      "Done.\n"
     ]
    },
    {
     "data": {
      "text/plain": [
       "[]"
      ]
     },
     "execution_count": 10,
     "metadata": {},
     "output_type": "execute_result"
    }
   ],
   "source": [
    "%%sql\n",
    "DROP TABLE IF EXISTS Pacientes_Tiene;\n",
    "CREATE TABLE Pacientes_Tiene(\n",
    " dni VARCHAR (20),\n",
    " nombre VARCHAR (30),\n",
    " edad INT,\n",
    " direccion VARCHAR (30),\n",
    " dni_med VARCHAR (20) NOT NULL,\n",
    " PRIMARY KEY (dni),\n",
    " FOREIGN KEY (dni_med) REFERENCES Medicos (dni_med)\n",
    ");"
   ]
  },
  {
   "cell_type": "code",
   "execution_count": 9,
   "metadata": {},
   "outputs": [
    {
     "name": "stdout",
     "output_type": "stream",
     "text": [
      "Done.\n",
      "Done.\n"
     ]
    },
    {
     "data": {
      "text/plain": [
       "[]"
      ]
     },
     "execution_count": 9,
     "metadata": {},
     "output_type": "execute_result"
    }
   ],
   "source": [
    "%%sql\n",
    "DROP TABLE IF EXISTS Medicos;\n",
    "CREATE TABLE Medicos(\n",
    " dni VARCHAR (20),\n",
    " nombre VARCHAR (30),\n",
    " experiencia INT,\n",
    " despecialidad VARCHAR (30),\n",
    " PRIMARY KEY (dni)\n",
    ");"
   ]
  },
  {
   "cell_type": "code",
   "execution_count": 8,
   "metadata": {},
   "outputs": [
    {
     "name": "stdout",
     "output_type": "stream",
     "text": [
      "Done.\n",
      "Done.\n"
     ]
    },
    {
     "data": {
      "text/plain": [
       "[]"
      ]
     },
     "execution_count": 8,
     "metadata": {},
     "output_type": "execute_result"
    }
   ],
   "source": [
    "%%sql\n",
    "DROP TABLE IF EXISTS Recetan;\n",
    "CREATE TABLE Recetan(\n",
    " fecha DATE,\n",
    " cantidad INT,\n",
    " dni_pac VARCHAR (20),\n",
    " dni_med VARCHAR (20),\n",
    " nombre_com VARCHAR (30),\n",
    " PRIMARY KEY (dni_pac, dni_med, nombre_com),\n",
    " FOREIGN KEY (dni_med) REFERENCES Medicos (dni_med),\n",
    " FOREIGN KEY (dni_pac) REFERENCES Pacientes_Tiene (dni_pac),\n",
    " FOREIGN KEY (nombre_com) REFERENCES Medicamentos (nombre_com)\n",
    ");"
   ]
  },
  {
   "cell_type": "code",
   "execution_count": 12,
   "metadata": {},
   "outputs": [
    {
     "name": "stdout",
     "output_type": "stream",
     "text": [
      "Done.\n",
      "Done.\n"
     ]
    },
    {
     "data": {
      "text/plain": [
       "[]"
      ]
     },
     "execution_count": 12,
     "metadata": {},
     "output_type": "execute_result"
    }
   ],
   "source": [
    "%%sql\n",
    "DROP TABLE IF EXISTS Farmacia;\n",
    "CREATE TABLE Farmacia(\n",
    " direccion VARCHAR (30),\n",
    " nombre VARCHAR (30),\n",
    " tlf INT,\n",
    " PRIMARY KEY (tlf)\n",
    ");"
   ]
  },
  {
   "cell_type": "code",
   "execution_count": 13,
   "metadata": {},
   "outputs": [
    {
     "name": "stdout",
     "output_type": "stream",
     "text": [
      "Done.\n",
      "Done.\n"
     ]
    },
    {
     "data": {
      "text/plain": [
       "[]"
      ]
     },
     "execution_count": 13,
     "metadata": {},
     "output_type": "execute_result"
    }
   ],
   "source": [
    "%%sql\n",
    "DROP TABLE IF EXISTS Vende;\n",
    "CREATE TABLE Vende(\n",
    " precio FLOAT,\n",
    " tlf INT,\n",
    " nombre_com VARCHAR (30),\n",
    " PRIMARY KEY (tlf, nombre_com),\n",
    " FOREIGN KEY (tlf) REFERENCES Farmacia (tlf),\n",
    " FOREIGN KEY (nombre_com) REFERENCES Medicamentos (nombre_com)\n",
    ");"
   ]
  },
  {
   "cell_type": "code",
   "execution_count": 14,
   "metadata": {},
   "outputs": [
    {
     "name": "stdout",
     "output_type": "stream",
     "text": [
      "Done.\n",
      "Done.\n"
     ]
    },
    {
     "data": {
      "text/plain": [
       "[]"
      ]
     },
     "execution_count": 14,
     "metadata": {},
     "output_type": "execute_result"
    }
   ],
   "source": [
    "%%sql\n",
    "DROP TABLE IF EXISTS Supervisor_Contrata;\n",
    "CREATE TABLE Supervisor_Contrata(\n",
    " dni VARCHAR (20),\n",
    " tlf INT NOT NULL,\n",
    " fecha_fin DATE,\n",
    " fecha_inicio DATE,\n",
    " nombre_comp VARCHAR (30) NOT NULL,\n",
    " texto VARCHAR (30),\n",
    " PRIMARY KEY (dni),\n",
    " FOREIGN KEY (tlf) REFERENCES Farmacia (tlf),\n",
    " FOREIGN KEY (nombre_comp) REFERENCES Compania_Farma (nombre_comp)\n",
    ");"
   ]
  },
  {
   "cell_type": "code",
   "execution_count": 15,
   "metadata": {},
   "outputs": [
    {
     "name": "stdout",
     "output_type": "stream",
     "text": [
      "Done.\n",
      "Done.\n"
     ]
    },
    {
     "data": {
      "text/plain": [
       "[]"
      ]
     },
     "execution_count": 15,
     "metadata": {},
     "output_type": "execute_result"
    }
   ],
   "source": [
    "%%sql\n",
    "DROP TABLE IF EXISTS Medicamentos_Suministra;\n",
    "CREATE TABLE Medicamentos_Suministra(\n",
    " formula VARCHAR (30),\n",
    " nombre_com VARCHAR (30),\n",
    " nombre_comp VARCHAR (30) NOT NULL,\n",
    " PRIMARY KEY (nombre_comp, nombre_com),\n",
    " FOREIGN KEY (nombre_comp) REFERENCES Compania_Farma (nombre_comp)\n",
    "                            ON DELETE CASCADE\n",
    ");"
   ]
  },
  {
   "cell_type": "code",
   "execution_count": 16,
   "metadata": {},
   "outputs": [
    {
     "name": "stdout",
     "output_type": "stream",
     "text": [
      "Done.\n",
      "Done.\n"
     ]
    },
    {
     "data": {
      "text/plain": [
       "[]"
      ]
     },
     "execution_count": 16,
     "metadata": {},
     "output_type": "execute_result"
    }
   ],
   "source": [
    "%%sql\n",
    "DROP TABLE IF EXISTS Medicamentos_Suministra;\n",
    "CREATE TABLE Medicamentos_Suministra(\n",
    " tlf INT,\n",
    " nombre_comp VARCHAR (30),\n",
    " PRIMARY KEY (nombre_comp)\n",
    ");"
   ]
  },
  {
   "cell_type": "code",
   "execution_count": null,
   "metadata": {},
   "outputs": [],
   "source": []
  }
 ],
 "metadata": {
  "kernelspec": {
   "display_name": "Python 3",
   "language": "python",
   "name": "python3"
  },
  "language_info": {
   "codemirror_mode": {
    "name": "ipython",
    "version": 3
   },
   "file_extension": ".py",
   "mimetype": "text/x-python",
   "name": "python",
   "nbconvert_exporter": "python",
   "pygments_lexer": "ipython3",
   "version": "3.5.2"
  }
 },
 "nbformat": 4,
 "nbformat_minor": 2
}
