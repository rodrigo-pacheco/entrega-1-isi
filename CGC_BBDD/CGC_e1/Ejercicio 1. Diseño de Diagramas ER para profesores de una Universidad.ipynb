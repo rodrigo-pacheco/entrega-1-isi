{
 "cells": [
  {
   "cell_type": "markdown",
   "metadata": {},
   "source": [
    "# Ejercicio_1: DISEÑO_DE_DIAGRAMAS_ER_PARA_PROFESORES_DE_UNA_UNIVERSIDAD"
   ]
  },
  {
   "cell_type": "markdown",
   "metadata": {},
   "source": [
    "![Diagrama ER: Ejercicio_1](IMG_20171011_084537.jpg \"Diagrama ER Ejercicio_1\")"
   ]
  },
  {
   "cell_type": "code",
   "execution_count": 32,
   "metadata": {},
   "outputs": [],
   "source": [
    "%reload_ext sql"
   ]
  },
  {
   "cell_type": "markdown",
   "metadata": {},
   "source": [
    "### Ejercicio 1.1"
   ]
  },
  {
   "cell_type": "code",
   "execution_count": 35,
   "metadata": {},
   "outputs": [
    {
     "data": {
      "text/plain": [
       "'Connected: None@ISI-Ejercicio_1_1-sql.db'"
      ]
     },
     "execution_count": 35,
     "metadata": {},
     "output_type": "execute_result"
    }
   ],
   "source": [
    "%sql sqlite:///ISI-Ejercicio_1_1-sql.db"
   ]
  },
  {
   "cell_type": "code",
   "execution_count": 58,
   "metadata": {},
   "outputs": [
    {
     "name": "stdout",
     "output_type": "stream",
     "text": [
      "Done.\n",
      "Done.\n"
     ]
    },
    {
     "data": {
      "text/plain": [
       "[]"
      ]
     },
     "execution_count": 58,
     "metadata": {},
     "output_type": "execute_result"
    }
   ],
   "source": [
    "%%sql\n",
    "sqlite:///ISI-Ejercicio_1_1-sql.db\n",
    "DROP TABLE IF EXISTS Profesores;\n",
    "CREATE TABLE Profesores(\n",
    " dni VARCHAR (20), \n",
    " PRIMARY KEY (dni)\n",
    ");"
   ]
  },
  {
   "cell_type": "code",
   "execution_count": 59,
   "metadata": {},
   "outputs": [
    {
     "name": "stdout",
     "output_type": "stream",
     "text": [
      "Done.\n",
      "Done.\n"
     ]
    },
    {
     "data": {
      "text/plain": [
       "[]"
      ]
     },
     "execution_count": 59,
     "metadata": {},
     "output_type": "execute_result"
    }
   ],
   "source": [
    "%%sql\n",
    "sqlite:///ISI-Ejercicio_1_1-sql.db\n",
    "DROP TABLE IF EXISTS Asignatura;\n",
    "CREATE TABLE Asignatura (\n",
    " num_asignatura INT,\n",
    " PRIMARY KEY (num_asignatura)\n",
    ");"
   ]
  },
  {
   "cell_type": "code",
   "execution_count": 60,
   "metadata": {},
   "outputs": [
    {
     "name": "stdout",
     "output_type": "stream",
     "text": [
      "Done.\n",
      "Done.\n"
     ]
    },
    {
     "data": {
      "text/plain": [
       "[]"
      ]
     },
     "execution_count": 60,
     "metadata": {},
     "output_type": "execute_result"
    }
   ],
   "source": [
    "%%sql\n",
    "sqlite:///ISI-Ejercicio_1_1-sql.db\n",
    "DROP TABLE IF EXISTS Cuatrimestre;\n",
    "CREATE TABLE Cuatrimestre (\n",
    " num_cuatrimestre INT,\n",
    " PRIMARY KEY (num_cuatrimestre)\n",
    ");"
   ]
  },
  {
   "cell_type": "code",
   "execution_count": 61,
   "metadata": {},
   "outputs": [
    {
     "name": "stdout",
     "output_type": "stream",
     "text": [
      "Done.\n",
      "Done.\n",
      "Done.\n"
     ]
    },
    {
     "data": {
      "text/plain": [
       "[]"
      ]
     },
     "execution_count": 61,
     "metadata": {},
     "output_type": "execute_result"
    }
   ],
   "source": [
    "%%sql\n",
    "sqlite:///ISI-Ejercicio_1_1-sql.db\n",
    "DROP TABLE IF EXISTS Ensenar;\n",
    "PRAGMA foreign_keys = ON;\n",
    "CREATE TABLE Ensenar (\n",
    " dni VARCHAR (20),\n",
    " num_asignatura INT,\n",
    " num_cuatrimestre INT,\n",
    " PRIMARY KEY (dni, num_asignatura, num_cuatrimestre),\n",
    " FOREIGN KEY (dni) REFERENCES Profesores (dni),\n",
    " FOREIGN KEY (num_asignatura) REFERENCES Asignaturas (num_asignatura),\n",
    " FOREIGN KEY (num_cuatrimestre) REFERENCES Cuatrimestres (num_cuatrimestre)\n",
    ");"
   ]
  },
  {
   "cell_type": "markdown",
   "metadata": {},
   "source": [
    "### Ejercicio 1.2"
   ]
  },
  {
   "cell_type": "code",
   "execution_count": 44,
   "metadata": {},
   "outputs": [
    {
     "data": {
      "text/plain": [
       "'Connected: None@ISI-Ejercicio_1_2-sql.db'"
      ]
     },
     "execution_count": 44,
     "metadata": {},
     "output_type": "execute_result"
    }
   ],
   "source": [
    "%sql sqlite:///ISI-Ejercicio_1_2-sql.db"
   ]
  },
  {
   "cell_type": "code",
   "execution_count": 62,
   "metadata": {},
   "outputs": [
    {
     "name": "stdout",
     "output_type": "stream",
     "text": [
      "Done.\n",
      "Done.\n"
     ]
    },
    {
     "data": {
      "text/plain": [
       "[]"
      ]
     },
     "execution_count": 62,
     "metadata": {},
     "output_type": "execute_result"
    }
   ],
   "source": [
    "%%sql\n",
    "sqlite:///ISI-Ejercicio_1_2-sql.db\n",
    "DROP TABLE IF EXISTS Profesores;\n",
    "CREATE TABLE Profesores(\n",
    " dni VARCHAR (20), \n",
    " PRIMARY KEY (dni)\n",
    ");"
   ]
  },
  {
   "cell_type": "code",
   "execution_count": 63,
   "metadata": {},
   "outputs": [
    {
     "name": "stdout",
     "output_type": "stream",
     "text": [
      "Done.\n",
      "Done.\n"
     ]
    },
    {
     "data": {
      "text/plain": [
       "[]"
      ]
     },
     "execution_count": 63,
     "metadata": {},
     "output_type": "execute_result"
    }
   ],
   "source": [
    "%%sql\n",
    "sqlite:///ISI-Ejercicio_1_2-sql.db\n",
    "DROP TABLE IF EXISTS Asignatura;\n",
    "CREATE TABLE Asignatura (\n",
    " num_asignatura INT,\n",
    " PRIMARY KEY (num_asignatura)\n",
    ");"
   ]
  },
  {
   "cell_type": "code",
   "execution_count": 64,
   "metadata": {},
   "outputs": [
    {
     "name": "stdout",
     "output_type": "stream",
     "text": [
      "Done.\n",
      "Done.\n",
      "Done.\n"
     ]
    },
    {
     "data": {
      "text/plain": [
       "[]"
      ]
     },
     "execution_count": 64,
     "metadata": {},
     "output_type": "execute_result"
    }
   ],
   "source": [
    "%%sql\n",
    "sqlite:///ISI-Ejercicio_1_2-sql.db\n",
    "DROP TABLE IF EXISTS Ensenar;\n",
    "PRAGMA foreign_keys = ON;\n",
    "CREATE TABLE Ensenar (\n",
    " dni VARCHAR (20),\n",
    " num_asignatura INT,\n",
    " fecha DATE,\n",
    " PRIMARY KEY (dni, num_asignatura),\n",
    " FOREIGN KEY (dni) REFERENCES Profesores (dni),\n",
    " FOREIGN KEY (num_asignatura) REFERENCES Asignaturas (num_asignatura)\n",
    ");"
   ]
  },
  {
   "cell_type": "markdown",
   "metadata": {},
   "source": [
    "### Ejercicio 1.3"
   ]
  },
  {
   "cell_type": "code",
   "execution_count": 49,
   "metadata": {},
   "outputs": [],
   "source": [
    "# El ejercicio 1.3 se corresponde con el 1.2 al no poder representar la información diferente\n",
    "# al ejercicio anterior que es la restricción de haber mínimo un profesor para enseñar cada asignatura."
   ]
  },
  {
   "cell_type": "markdown",
   "metadata": {},
   "source": [
    "### Ejercicio 1.4"
   ]
  },
  {
   "cell_type": "code",
   "execution_count": 50,
   "metadata": {},
   "outputs": [
    {
     "data": {
      "text/plain": [
       "'Connected: None@ISI-Ejercicio_1_4-sql.db'"
      ]
     },
     "execution_count": 50,
     "metadata": {},
     "output_type": "execute_result"
    }
   ],
   "source": [
    "%sql sqlite:///ISI-Ejercicio_1_4-sql.db"
   ]
  },
  {
   "cell_type": "code",
   "execution_count": 65,
   "metadata": {},
   "outputs": [
    {
     "name": "stdout",
     "output_type": "stream",
     "text": [
      "Done.\n",
      "Done.\n",
      "Done.\n"
     ]
    },
    {
     "data": {
      "text/plain": [
       "[]"
      ]
     },
     "execution_count": 65,
     "metadata": {},
     "output_type": "execute_result"
    }
   ],
   "source": [
    "%%sql\n",
    "sqlite:///ISI-Ejercicio_1_4-sql.db\n",
    "DROP TABLE IF EXISTS Profesores_Ensenan;\n",
    "PRAGMA foreign_keys = ON;\n",
    "CREATE TABLE Profesores_Ensenan(\n",
    " dni VARCHAR (20),\n",
    " num_asignatura INT NOT NULL,\n",
    " fecha DATE,\n",
    " PRIMARY KEY (dni),\n",
    " FOREIGN KEY (num_asignatura) REFERENCES Asignaturas (num_asignatura)\n",
    ");"
   ]
  },
  {
   "cell_type": "code",
   "execution_count": 66,
   "metadata": {},
   "outputs": [
    {
     "name": "stdout",
     "output_type": "stream",
     "text": [
      "Done.\n",
      "Done.\n"
     ]
    },
    {
     "data": {
      "text/plain": [
       "[]"
      ]
     },
     "execution_count": 66,
     "metadata": {},
     "output_type": "execute_result"
    }
   ],
   "source": [
    "%%sql\n",
    "sqlite:///ISI-Ejercicio_1_4-sql.db\n",
    "DROP TABLE IF EXISTS Asignatura;\n",
    "CREATE TABLE Asignatura (\n",
    " num_asignatura INT,\n",
    " PRIMARY KEY (num_asignatura)\n",
    ");"
   ]
  },
  {
   "cell_type": "markdown",
   "metadata": {},
   "source": [
    "### Ejercicio 1.5"
   ]
  },
  {
   "cell_type": "code",
   "execution_count": null,
   "metadata": {},
   "outputs": [],
   "source": [
    "# El ejercicio 1.5 se corresponde con el 1.4 al no poder representar la información diferente\n",
    "# al ejercicio anterior que es la restricción de haber mínimo una asignatura que enseñe cada profesor."
   ]
  },
  {
   "cell_type": "markdown",
   "metadata": {},
   "source": [
    "### Ejercicio 1.6"
   ]
  },
  {
   "cell_type": "code",
   "execution_count": 52,
   "metadata": {},
   "outputs": [
    {
     "data": {
      "text/plain": [
       "'Connected: None@ISI-Ejercicio_1_6-sql.db'"
      ]
     },
     "execution_count": 52,
     "metadata": {},
     "output_type": "execute_result"
    }
   ],
   "source": [
    "%sql sqlite:///ISI-Ejercicio_1_6-sql.db"
   ]
  },
  {
   "cell_type": "code",
   "execution_count": 67,
   "metadata": {},
   "outputs": [
    {
     "name": "stdout",
     "output_type": "stream",
     "text": [
      "Done.\n",
      "Done.\n"
     ]
    },
    {
     "data": {
      "text/plain": [
       "[]"
      ]
     },
     "execution_count": 67,
     "metadata": {},
     "output_type": "execute_result"
    }
   ],
   "source": [
    "%%sql\n",
    "sqlite:///ISI-Ejercicio_1_6-sql.db\n",
    "DROP TABLE IF EXISTS Profesores;\n",
    "CREATE TABLE Profesores(\n",
    " dni VARCHAR (20), \n",
    " PRIMARY KEY (dni)\n",
    ");"
   ]
  },
  {
   "cell_type": "code",
   "execution_count": 68,
   "metadata": {},
   "outputs": [
    {
     "name": "stdout",
     "output_type": "stream",
     "text": [
      "Done.\n",
      "Done.\n"
     ]
    },
    {
     "data": {
      "text/plain": [
       "[]"
      ]
     },
     "execution_count": 68,
     "metadata": {},
     "output_type": "execute_result"
    }
   ],
   "source": [
    "%%sql\n",
    "sqlite:///ISI-Ejercicio_1_6-sql.db\n",
    "DROP TABLE IF EXISTS Asignatura;\n",
    "CREATE TABLE Asignatura (\n",
    " num_asignatura INT,\n",
    " PRIMARY KEY (num_asignatura)\n",
    ");"
   ]
  },
  {
   "cell_type": "code",
   "execution_count": 55,
   "metadata": {},
   "outputs": [
    {
     "name": "stdout",
     "output_type": "stream",
     "text": [
      "Done.\n",
      "Done.\n"
     ]
    },
    {
     "data": {
      "text/plain": [
       "[]"
      ]
     },
     "execution_count": 55,
     "metadata": {},
     "output_type": "execute_result"
    }
   ],
   "source": [
    "%%sql\n",
    "sqlite:///ISI-Ejercicio_1_6-sql.db\n",
    "DROP TABLE IF EXISTS Grupo;\n",
    "CREATE TABLE Grupo (\n",
    " num_prof INT DEFAULT '0',\n",
    " PRIMARY KEY (num_prof)\n",
    ");"
   ]
  },
  {
   "cell_type": "code",
   "execution_count": 56,
   "metadata": {},
   "outputs": [
    {
     "name": "stdout",
     "output_type": "stream",
     "text": [
      "Done.\n",
      "Done.\n",
      "Done.\n"
     ]
    },
    {
     "data": {
      "text/plain": [
       "[]"
      ]
     },
     "execution_count": 56,
     "metadata": {},
     "output_type": "execute_result"
    }
   ],
   "source": [
    "%%sql\n",
    "sqlite:///ISI-Ejercicio_1_6-sql.db\n",
    "DROP TABLE IF EXISTS Ensenar;\n",
    "PRAGMA foreign_keys = ON;\n",
    "CREATE TABLE Ensenar (\n",
    " dni VARCHAR (20),\n",
    " num_asignatura INT,\n",
    " num_prof INT DEFAULT '0',\n",
    " PRIMARY KEY (dni, num_asignatura, num_prof),\n",
    " FOREIGN KEY (dni) REFERENCES Profesores (dni),\n",
    " FOREIGN KEY (num_asignatura) REFERENCES Asignaturas (num_asignatura),\n",
    " FOREIGN KEY (num_prof) REFERENCES Grupo (num_prof)\n",
    ");"
   ]
  },
  {
   "cell_type": "code",
   "execution_count": 69,
   "metadata": {},
   "outputs": [
    {
     "name": "stdout",
     "output_type": "stream",
     "text": [
      "Done.\n",
      "Done.\n",
      "Done.\n"
     ]
    },
    {
     "data": {
      "text/plain": [
       "[]"
      ]
     },
     "execution_count": 69,
     "metadata": {},
     "output_type": "execute_result"
    }
   ],
   "source": [
    "%%sql\n",
    "sqlite:///ISI-Ejercicio_1_6-sql.db\n",
    "DROP TABLE IF EXISTS Componer;\n",
    "PRAGMA foreign_keys = ON;\n",
    "CREATE TABLE Componer (\n",
    " dni VARCHAR (20),\n",
    " num_prof INT DEFAULT '0',\n",
    " PRIMARY KEY (dni, num_prof),\n",
    " FOREIGN KEY (dni) REFERENCES Profesores (dni),\n",
    " FOREIGN KEY (num_prof) REFERENCES Grupo (num_prof)\n",
    ");"
   ]
  },
  {
   "cell_type": "code",
   "execution_count": null,
   "metadata": {},
   "outputs": [],
   "source": []
  }
 ],
 "metadata": {
  "kernelspec": {
   "display_name": "Python 3",
   "language": "python",
   "name": "python3"
  },
  "language_info": {
   "codemirror_mode": {
    "name": "ipython",
    "version": 3
   },
   "file_extension": ".py",
   "mimetype": "text/x-python",
   "name": "python",
   "nbconvert_exporter": "python",
   "pygments_lexer": "ipython3",
   "version": "3.5.2"
  }
 },
 "nbformat": 4,
 "nbformat_minor": 2
}
