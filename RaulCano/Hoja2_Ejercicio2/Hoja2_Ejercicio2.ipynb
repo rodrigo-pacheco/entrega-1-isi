{
 "cells": [
  {
   "cell_type": "markdown",
   "metadata": {},
   "source": [
    "# Ejercicio 2: Diseño del diagramas ER de una Universidad"
   ]
  },
  {
   "cell_type": "code",
   "execution_count": 1,
   "metadata": {
    "collapsed": false
   },
   "outputs": [
    {
     "name": "stderr",
     "output_type": "stream",
     "text": [
      "/home/raul/anaconda2/lib/python2.7/site-packages/IPython/config.py:13: ShimWarning: The `IPython.config` package has been deprecated. You should import from traitlets.config instead.\n",
      "  \"You should import from traitlets.config instead.\", ShimWarning)\n",
      "/home/raul/anaconda2/lib/python2.7/site-packages/IPython/utils/traitlets.py:5: UserWarning: IPython.utils.traitlets has moved to a top-level traitlets package.\n",
      "  warn(\"IPython.utils.traitlets has moved to a top-level traitlets package.\")\n"
     ]
    }
   ],
   "source": [
    "%load_ext sql"
   ]
  },
  {
   "cell_type": "code",
   "execution_count": 2,
   "metadata": {
    "collapsed": false
   },
   "outputs": [
    {
     "data": {
      "text/plain": [
       "u'Connected: None@Hoja2_Ejercicio2.db'"
      ]
     },
     "execution_count": 2,
     "metadata": {},
     "output_type": "execute_result"
    }
   ],
   "source": [
    "%sql sqlite:///Hoja2_Ejercicio2.db"
   ]
  },
  {
   "cell_type": "markdown",
   "metadata": {},
   "source": [
    "<img src=\"Hoja2_Ejercicio2.jpg\">"
   ]
  },
  {
   "cell_type": "code",
   "execution_count": 3,
   "metadata": {
    "collapsed": false
   },
   "outputs": [
    {
     "name": "stdout",
     "output_type": "stream",
     "text": [
      "Done.\n",
      "Done.\n",
      "Done.\n",
      "Done.\n",
      "Done.\n",
      "Done.\n",
      "Done.\n",
      "Done.\n",
      "Done.\n",
      "Done.\n",
      "Done.\n",
      "Done.\n",
      "Done.\n",
      "Done.\n",
      "Done.\n",
      "Done.\n",
      "Done.\n"
     ]
    },
    {
     "data": {
      "text/plain": [
       "[]"
      ]
     },
     "execution_count": 3,
     "metadata": {},
     "output_type": "execute_result"
    }
   ],
   "source": [
    "%%sql\n",
    "PRAGMA foreign_keys = ON;\n",
    "\n",
    "DROP TABLE IF EXISTS profesor;\n",
    "DROP TABLE IF EXISTS departamento;\n",
    "DROP TABLE IF EXISTS trabaja_en;\n",
    "DROP TABLE IF EXISTS proyecto;\n",
    "DROP TABLE IF EXISTS trabaja;\n",
    "DROP TABLE IF EXISTS estudiante;\n",
    "DROP TABLE IF EXISTS supervisa;\n",
    "DROP TABLE IF EXISTS ayuda_en;\n",
    "\n",
    "CREATE TABLE profesor(nif VARCHAR(9),\n",
    "                      nombre CHAR(50),\n",
    "                      edad INT,\n",
    "                      especialidad CHAR(20),\n",
    "                      cargo CHAR(20),\n",
    "                      PRIMARY KEY (nif));\n",
    "\n",
    "CREATE TABLE departamento(num_departamento INT,\n",
    "                          nombre CHAR(30),\n",
    "                          edificio INT,\n",
    "                          nif_director INT (9) NOT NULL,\n",
    "                          PRIMARY KEY (num_departamento),\n",
    "                          FOREIGN KEY (nif_director) REFERENCES profesor(nif));\n",
    "\n",
    "CREATE TABLE trabaja_en(tiempo INT,\n",
    "                        num_departamento INT,\n",
    "                        nif_profesor VARCHAR(9),\n",
    "                        PRIMARY KEY (num_departamento, nif_profesor),\n",
    "                        FOREIGN KEY (nif_profesor) REFERENCES profesor(nif),\n",
    "                        FOREIGN KEY (num_departamento) REFERENCES departamento(num_departamento));\n",
    "\n",
    "CREATE TABLE proyecto(num_proyecto INT,\n",
    "                      entidad_financiera CHAR(20),\n",
    "                      fecha_inicio DATE,\n",
    "                      fecha_fin DATE,\n",
    "                      presupuesto FLOAT,\n",
    "                      nif_profesor VARCHAR(9) NOT NULL,\n",
    "                      PRIMARY KEY (num_proyecto),\n",
    "                      FOREIGN KEY (nif_profesor) REFERENCES profesor(nif));\n",
    "\n",
    "CREATE TABLE trabaja(num_proyecto INT,\n",
    "                     nif VARCHAR(9) NOT NULL,\n",
    "                     PRIMARY KEY (num_proyecto, nif),\n",
    "                     FOREIGN KEY (num_proyecto) REFERENCES proyecto(num_proyecto),\n",
    "                     FOREIGN KEY (nif) REFERENCES profesor(nif));\n",
    "\n",
    "CREATE TABLE estudiante(nif VARCHAR(9),\n",
    "                        nombre CHAR(50),\n",
    "                        edad INT,\n",
    "                        titulacion CHAR(30),\n",
    "                        nif_tutor VARCHAR(9),\n",
    "                        num_departamento INT,\n",
    "                        PRIMARY KEY (nif),\n",
    "                        FOREIGN KEY (nif_tutor) REFERENCES estudiante (nif),\n",
    "                        FOREIGN KEY (num_departamento) REFERENCES departamento (num_departamento));\n",
    "\n",
    "CREATE TABLE ayuda_en(num_proyecto INT,\n",
    "                      nif_estudiante VARCHAR(9) NOT NULL,\n",
    "                      PRIMARY KEY (num_proyecto, nif_estudiante),\n",
    "                      FOREIGN KEY (num_proyecto) REFERENCES proyecto(num_proyecto),\n",
    "                      FOREIGN KEY (nif_estudiante) REFERENCES estudiante(nif));\n",
    "\n",
    "CREATE TABLE supervisa(nif_profesor VARCHAR(9),\n",
    "                       nif_estudiante VARCHAR(9),\n",
    "                       num_proyecto INT,\n",
    "                       PRIMARY KEY(nif_profesor, nif_estudiante, num_proyecto),\n",
    "                       FOREIGN KEY (nif_profesor) REFERENCES profesor(nif),\n",
    "                       FOREIGN KEY (nif_estudiante) REFERENCES ayuda_en(nif_estudiante),\n",
    "                       FOREIGN KEY (num_proyecto) REFERENCES ayuda_en(num_proyecto));\n"
   ]
  }
 ],
 "metadata": {
  "anaconda-cloud": {},
  "kernelspec": {
   "display_name": "Python [default]",
   "language": "python",
   "name": "python2"
  },
  "language_info": {
   "codemirror_mode": {
    "name": "ipython",
    "version": 2
   },
   "file_extension": ".py",
   "mimetype": "text/x-python",
   "name": "python",
   "nbconvert_exporter": "python",
   "pygments_lexer": "ipython2",
   "version": "2.7.12"
  }
 },
 "nbformat": 4,
 "nbformat_minor": 1
}
