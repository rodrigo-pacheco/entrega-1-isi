{
 "cells": [
  {
   "cell_type": "markdown",
   "metadata": {},
   "source": [
    "# Ejercicio 4: Diseño del diagrama ER para una compañía de discos"
   ]
  },
  {
   "cell_type": "code",
   "execution_count": 1,
   "metadata": {
    "collapsed": false
   },
   "outputs": [
    {
     "name": "stderr",
     "output_type": "stream",
     "text": [
      "/home/raul/anaconda2/lib/python2.7/site-packages/IPython/config.py:13: ShimWarning: The `IPython.config` package has been deprecated. You should import from traitlets.config instead.\n",
      "  \"You should import from traitlets.config instead.\", ShimWarning)\n",
      "/home/raul/anaconda2/lib/python2.7/site-packages/IPython/utils/traitlets.py:5: UserWarning: IPython.utils.traitlets has moved to a top-level traitlets package.\n",
      "  warn(\"IPython.utils.traitlets has moved to a top-level traitlets package.\")\n"
     ]
    }
   ],
   "source": [
    "%load_ext sql"
   ]
  },
  {
   "cell_type": "code",
   "execution_count": 2,
   "metadata": {
    "collapsed": false
   },
   "outputs": [
    {
     "data": {
      "text/plain": [
       "u'Connected: None@Hoja2_Ejercicio4.db'"
      ]
     },
     "execution_count": 2,
     "metadata": {},
     "output_type": "execute_result"
    }
   ],
   "source": [
    "%sql sqlite:///Hoja2_Ejercicio4.db"
   ]
  },
  {
   "cell_type": "markdown",
   "metadata": {},
   "source": [
    "<img src=\"Hoja2_Ejercicio4.jpg\">"
   ]
  },
  {
   "cell_type": "code",
   "execution_count": 3,
   "metadata": {
    "collapsed": false
   },
   "outputs": [
    {
     "name": "stdout",
     "output_type": "stream",
     "text": [
      "Done.\n",
      "Done.\n",
      "Done.\n",
      "Done.\n",
      "Done.\n",
      "Done.\n",
      "Done.\n",
      "Done.\n",
      "Done.\n",
      "Done.\n",
      "Done.\n",
      "Done.\n",
      "Done.\n",
      "Done.\n",
      "Done.\n",
      "Done.\n",
      "Done.\n"
     ]
    },
    {
     "data": {
      "text/plain": [
       "[]"
      ]
     },
     "execution_count": 3,
     "metadata": {},
     "output_type": "execute_result"
    }
   ],
   "source": [
    "%%sql\n",
    "PRAGMA foreign_keys = ON;\n",
    "\n",
    "DROP TABLE IF EXISTS musico;\n",
    "DROP TABLE IF EXISTS domicilio;\n",
    "DROP TABLE IF EXISTS vive_en;\n",
    "DROP TABLE IF EXISTS instrumento;\n",
    "DROP TABLE IF EXISTS toca;\n",
    "DROP TABLE IF EXISTS album;\n",
    "DROP TABLE IF EXISTS cancion;\n",
    "DROP TABLE IF EXISTS interpreta;\n",
    "\n",
    "CREATE TABLE musico(nif VARCHAR(9),\n",
    "                    nombre CHAR(50),\n",
    "                    PRIMARY KEY (nif));\n",
    "\n",
    "CREATE TABLE domicilio(telefono INT(9),\n",
    "                       direccion CHAR(50),\n",
    "                       PRIMARY KEY(telefono, direccion));\n",
    "\n",
    "CREATE TABLE vive_en(nif VARCHAR(9) NOT NULL,\n",
    "                     direccion CHAR(50),\n",
    "                     telefono INT(9),\n",
    "                     PRIMARY KEY (nif, direccion, telefono),\n",
    "                     FOREIGN KEY (nif) REFERENCES music(nif),\n",
    "                     FOREIGN KEY (direccion) REFERENCES domicilio(direccion),\n",
    "                     FOREIGN KEY (telefono) REFERENCES domicilio(telefono));\n",
    "\n",
    "CREATE TABLE instrumento(num_identificacion INT,\n",
    "                         nombre CHAR(20),\n",
    "                         PRIMARY KEY(num_identificacion));\n",
    "\n",
    "CREATE TABLE toca(nif_musico VARCHAR(9),\n",
    "                  num_id_instrumento INT,\n",
    "                  PRIMARY KEY(nif_musico, num_id_instrumento),\n",
    "                  FOREIGN KEY (nif_musico) REFERENCES musico(nif),\n",
    "                  FOREIGN KEY (num_id_instrumento) REFERENCES instrumento(num_identificacion));\n",
    "\n",
    "CREATE TABLE cancion(titulo CHAR(30),\n",
    "                     autor CHAR(30),\n",
    "                     num_id_album INT,\n",
    "                     PRIMARY KEY (titulo),\n",
    "                     FOREIGN KEY (num_id_album) references album(num_identificacion));\n",
    "\n",
    "CREATE TABLE album(num_identificacion INT,\n",
    "                   fecha_edicion DATE,\n",
    "                   titulo CHAR(30),\n",
    "                   formato CHAR(10),\n",
    "                   nif_productor VARCHAR(9) NOT NULL,\n",
    "                   PRIMARY KEY (num_identificacion),\n",
    "                   FOREIGN KEY (nif_productor) REFERENCES musico(nif));\n",
    "\n",
    "CREATE TABLE interpreta(nif VARCHAR(9) NOT NULL,\n",
    "                        titulo CHAR(20),\n",
    "                        PRIMARY KEY(nif, titulo),\n",
    "                        FOREIGN KEY (nif) REFERENCES musico(nif),\n",
    "                        FOREIGN KEY (titulo) REFERENCES cancion(titulo));"
   ]
  }
 ],
 "metadata": {
  "anaconda-cloud": {},
  "kernelspec": {
   "display_name": "Python [default]",
   "language": "python",
   "name": "python2"
  },
  "language_info": {
   "codemirror_mode": {
    "name": "ipython",
    "version": 2
   },
   "file_extension": ".py",
   "mimetype": "text/x-python",
   "name": "python",
   "nbconvert_exporter": "python",
   "pygments_lexer": "ipython2",
   "version": "2.7.12"
  }
 },
 "nbformat": 4,
 "nbformat_minor": 1
}
