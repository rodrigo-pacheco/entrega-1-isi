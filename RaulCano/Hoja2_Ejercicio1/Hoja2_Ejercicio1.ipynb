{
 "cells": [
  {
   "cell_type": "markdown",
   "metadata": {},
   "source": [
    "# Ejercicio 1: Diseño de diagramas ER para profesores de una Universidad"
   ]
  },
  {
   "cell_type": "code",
   "execution_count": 1,
   "metadata": {
    "collapsed": false
   },
   "outputs": [
    {
     "name": "stderr",
     "output_type": "stream",
     "text": [
      "/home/raul/anaconda2/lib/python2.7/site-packages/IPython/config.py:13: ShimWarning: The `IPython.config` package has been deprecated. You should import from traitlets.config instead.\n",
      "  \"You should import from traitlets.config instead.\", ShimWarning)\n",
      "/home/raul/anaconda2/lib/python2.7/site-packages/IPython/utils/traitlets.py:5: UserWarning: IPython.utils.traitlets has moved to a top-level traitlets package.\n",
      "  warn(\"IPython.utils.traitlets has moved to a top-level traitlets package.\")\n"
     ]
    }
   ],
   "source": [
    "%load_ext sql"
   ]
  },
  {
   "cell_type": "markdown",
   "metadata": {},
   "source": [
    "### 1. Los profesores pueden enseñar la misma asignatura en varios cuatrimestres, y se deben guardar todas ellas."
   ]
  },
  {
   "cell_type": "code",
   "execution_count": 2,
   "metadata": {
    "collapsed": false
   },
   "outputs": [
    {
     "data": {
      "text/plain": [
       "u'Connected: None@Hoja2_Ejercicio1-1.db'"
      ]
     },
     "execution_count": 2,
     "metadata": {},
     "output_type": "execute_result"
    }
   ],
   "source": [
    "%sql sqlite:///Hoja2_Ejercicio1-1.db"
   ]
  },
  {
   "cell_type": "markdown",
   "metadata": {},
   "source": [
    "<img src=\"Hoja2_Ejercicio1-1.jpg\">"
   ]
  },
  {
   "cell_type": "code",
   "execution_count": 3,
   "metadata": {
    "collapsed": false
   },
   "outputs": [
    {
     "name": "stdout",
     "output_type": "stream",
     "text": [
      "Done.\n",
      "Done.\n",
      "Done.\n",
      "Done.\n",
      "Done.\n",
      "Done.\n",
      "Done.\n",
      "Done.\n",
      "Done.\n"
     ]
    },
    {
     "data": {
      "text/plain": [
       "[]"
      ]
     },
     "execution_count": 3,
     "metadata": {},
     "output_type": "execute_result"
    }
   ],
   "source": [
    "%%sql\n",
    "PRAGMA foreign_keys = ON;\n",
    "\n",
    "DROP TABLE IF EXISTS profesores;\n",
    "DROP TABLE IF EXISTS asignatura;\n",
    "DROP TABLE IF EXISTS cuatrimestre;\n",
    "DROP TABLE IF EXISTS ensena;\n",
    "\n",
    "\n",
    "CREATE TABLE profesores(nif VARCHAR(9),\n",
    "                        PRIMARY KEY (nif));\n",
    "\n",
    "CREATE TABLE asignatura(num_identificacion INT,\n",
    "                        PRIMARY KEY (num_identificacion));\n",
    "\n",
    "CREATE TABLE cuatrimestre(num_cuatrimestre INT,\n",
    "                          PRIMARY KEY (num_cuatrimestre));\n",
    "\n",
    "CREATE TABLE ensena(nif_profesor VARCHAR(9),\n",
    "                    id_asignatura INT,\n",
    "                    cuatrimestre INT,\n",
    "                    PRIMARY KEY(nif_profesor,id_asignatura,cuatrimestre),\n",
    "                    FOREIGN KEY(nif_profesor) REFERENCES profesores(nif),\n",
    "                    FOREIGN KEY(id_asignatura) REFERENCES asignatura(num_identificacion),\n",
    "                    FOREIGN KEY(cuatrimestre) REFERENCES cuatrimestre(num_cuatrimestre));"
   ]
  },
  {
   "cell_type": "markdown",
   "metadata": {},
   "source": [
    "### 2. Los profesores pueden enseñar la misma asignatura en varios cuatrimestres, y sólo se debe guardar la más reciente."
   ]
  },
  {
   "cell_type": "code",
   "execution_count": 4,
   "metadata": {
    "collapsed": false
   },
   "outputs": [
    {
     "data": {
      "text/plain": [
       "u'Connected: None@Hoja2_Ejercicio1-2.db'"
      ]
     },
     "execution_count": 4,
     "metadata": {},
     "output_type": "execute_result"
    }
   ],
   "source": [
    "%sql sqlite:///Hoja2_Ejercicio1-2.db"
   ]
  },
  {
   "cell_type": "markdown",
   "metadata": {},
   "source": [
    "<img src=\"Hoja2_Ejercicio1-2.jpg\">"
   ]
  },
  {
   "cell_type": "code",
   "execution_count": 5,
   "metadata": {
    "collapsed": false
   },
   "outputs": [
    {
     "name": "stdout",
     "output_type": "stream",
     "text": [
      "Done.\n",
      "Done.\n",
      "Done.\n",
      "Done.\n",
      "Done.\n",
      "Done.\n",
      "Done.\n"
     ]
    },
    {
     "data": {
      "text/plain": [
       "[]"
      ]
     },
     "execution_count": 5,
     "metadata": {},
     "output_type": "execute_result"
    }
   ],
   "source": [
    "%%sql\n",
    "PRAGMA foreign_keys = ON;\n",
    "\n",
    "DROP TABLE IF EXISTS profesores;\n",
    "DROP TABLE IF EXISTS asignatura;\n",
    "DROP TABLE IF EXISTS ensena;\n",
    "\n",
    "\n",
    "CREATE TABLE profesores(nif VARCHAR(9),\n",
    "                        PRIMARY KEY (nif));\n",
    "\n",
    "CREATE TABLE asignatura(num_identificacion INT,\n",
    "                        PRIMARY KEY (num_identificacion));\n",
    "\n",
    "CREATE TABLE ensena(nif_profesor VARCHAR(9),\n",
    "                    id_asignatura INT,\n",
    "                    cuatrimestre INT,\n",
    "                    PRIMARY KEY(nif_profesor,id_asignatura,cuatrimestre),\n",
    "                    FOREIGN KEY(nif_profesor) REFERENCES profesores(nif),\n",
    "                    FOREIGN KEY(id_asignatura) REFERENCES asignatura(num_identificacion));"
   ]
  },
  {
   "cell_type": "markdown",
   "metadata": {},
   "source": [
    "### 3. Los profesores pueden enseñar la misma asignatura en varios cuatrimestres, y sólo se debe guardar la más reciente. Cada profesor tiene la obligación de enseñar alguna asignatura."
   ]
  },
  {
   "cell_type": "code",
   "execution_count": 6,
   "metadata": {
    "collapsed": false
   },
   "outputs": [
    {
     "data": {
      "text/plain": [
       "u'Connected: None@Hoja2_Ejercicio1-3.db'"
      ]
     },
     "execution_count": 6,
     "metadata": {},
     "output_type": "execute_result"
    }
   ],
   "source": [
    "%sql sqlite:///Hoja2_Ejercicio1-3.db"
   ]
  },
  {
   "cell_type": "markdown",
   "metadata": {},
   "source": [
    "<img src=\"Hoja2_Ejercicio1-3.jpg\">"
   ]
  },
  {
   "cell_type": "code",
   "execution_count": 7,
   "metadata": {
    "collapsed": false
   },
   "outputs": [
    {
     "name": "stdout",
     "output_type": "stream",
     "text": [
      "Done.\n",
      "Done.\n",
      "Done.\n",
      "Done.\n",
      "Done.\n",
      "Done.\n",
      "Done.\n"
     ]
    },
    {
     "data": {
      "text/plain": [
       "[]"
      ]
     },
     "execution_count": 7,
     "metadata": {},
     "output_type": "execute_result"
    }
   ],
   "source": [
    "%%sql\n",
    "PRAGMA foreign_keys = ON;\n",
    "\n",
    "DROP TABLE IF EXISTS profesores;\n",
    "DROP TABLE IF EXISTS asignatura;\n",
    "DROP TABLE IF EXISTS ensena;\n",
    "\n",
    "\n",
    "CREATE TABLE profesores(nif VARCHAR(9),\n",
    "                        PRIMARY KEY (nif));\n",
    "\n",
    "CREATE TABLE asignatura(num_identificacion INT,\n",
    "                        PRIMARY KEY (num_identificacion));\n",
    "\n",
    "CREATE TABLE ensena(nif_profesor VARCHAR(9) NOT NULL,\n",
    "                    id_asignatura INT,\n",
    "                    cuatrimestre INT,\n",
    "                    PRIMARY KEY(nif_profesor,id_asignatura),\n",
    "                    FOREIGN KEY(nif_profesor) REFERENCES profesores(nif),\n",
    "                    FOREIGN KEY(id_asignatura) REFERENCES asignatura(num_identificacion));"
   ]
  },
  {
   "cell_type": "markdown",
   "metadata": {},
   "source": [
    "### 4. Los profesores pueden enseñar la misma asignatura en varios cuatrimestres, y sólo se debe guardar la más reciente. Cada profesor enseña exactamente una asignatura en el cuatrimestre."
   ]
  },
  {
   "cell_type": "code",
   "execution_count": 8,
   "metadata": {
    "collapsed": false
   },
   "outputs": [
    {
     "data": {
      "text/plain": [
       "u'Connected: None@Hoja2_Ejercicio1-4.db'"
      ]
     },
     "execution_count": 8,
     "metadata": {},
     "output_type": "execute_result"
    }
   ],
   "source": [
    "%sql sqlite:///Hoja2_Ejercicio1-4.db"
   ]
  },
  {
   "cell_type": "markdown",
   "metadata": {},
   "source": [
    "<img src=\"Hoja2_Ejercicio1-4.jpg\">"
   ]
  },
  {
   "cell_type": "code",
   "execution_count": 9,
   "metadata": {
    "collapsed": false
   },
   "outputs": [
    {
     "name": "stdout",
     "output_type": "stream",
     "text": [
      "Done.\n",
      "Done.\n",
      "Done.\n",
      "Done.\n",
      "Done.\n"
     ]
    },
    {
     "data": {
      "text/plain": [
       "[]"
      ]
     },
     "execution_count": 9,
     "metadata": {},
     "output_type": "execute_result"
    }
   ],
   "source": [
    "%%sql\n",
    "PRAGMA foreign_keys = ON;\n",
    "\n",
    "DROP TABLE IF EXISTS profesores;\n",
    "DROP TABLE IF EXISTS asignatura;\n",
    "\n",
    "CREATE TABLE profesores(nif VARCHAR(9),\n",
    "                        id_asignatura INT NOT NULL,\n",
    "                        cuatrimestre INT,\n",
    "                        PRIMARY KEY (nif, cuatrimestre),\n",
    "                        FOREIGN KEY(id_asignatura) REFERENCES asignatura(num_identificacion));\n",
    "\n",
    "CREATE TABLE asignatura(num_identificacion INT,\n",
    "                        PRIMARY KEY (num_identificacion));\n"
   ]
  },
  {
   "cell_type": "markdown",
   "metadata": {},
   "source": [
    "### 5. Los profesores pueden enseñar la misma asignatura en varios cuatrimestres, y sólo se debe guardar la más reciente. Cada profesor enseña exactamente una asignatura en el cuatrimestre, y toda asignatura debe ser enseñada por al menos un profesor."
   ]
  },
  {
   "cell_type": "code",
   "execution_count": 10,
   "metadata": {
    "collapsed": false
   },
   "outputs": [
    {
     "data": {
      "text/plain": [
       "u'Connected: None@Hoja2_Ejercicio1-5.db'"
      ]
     },
     "execution_count": 10,
     "metadata": {},
     "output_type": "execute_result"
    }
   ],
   "source": [
    "%sql sqlite:///Hoja2_Ejercicio1-5.db"
   ]
  },
  {
   "cell_type": "markdown",
   "metadata": {},
   "source": [
    "<img src=\"Hoja2_Ejercicio1-5.jpg\">"
   ]
  },
  {
   "cell_type": "code",
   "execution_count": 11,
   "metadata": {
    "collapsed": false
   },
   "outputs": [
    {
     "name": "stdout",
     "output_type": "stream",
     "text": [
      "Done.\n",
      "Done.\n",
      "Done.\n",
      "Done.\n",
      "Done.\n"
     ]
    },
    {
     "data": {
      "text/plain": [
       "[]"
      ]
     },
     "execution_count": 11,
     "metadata": {},
     "output_type": "execute_result"
    }
   ],
   "source": [
    "%%sql\n",
    "PRAGMA foreign_keys = ON;\n",
    "\n",
    "DROP TABLE IF EXISTS profesores;\n",
    "DROP TABLE IF EXISTS asignatura;\n",
    "\n",
    "CREATE TABLE profesores(nif VARCHAR(9) NOT NULL,\n",
    "                        id_asignatura INT NOT NULL,\n",
    "                        cuatrimestre INT,\n",
    "                        PRIMARY KEY (nif, cuatrimestre),\n",
    "                        FOREIGN KEY(id_asignatura) REFERENCES asignatura(num_identificacion));\n",
    "\n",
    "CREATE TABLE asignatura(num_identificacion INT,\n",
    "                        PRIMARY KEY (num_identificacion));"
   ]
  }
 ],
 "metadata": {
  "anaconda-cloud": {},
  "kernelspec": {
   "display_name": "Python [default]",
   "language": "python",
   "name": "python2"
  },
  "language_info": {
   "codemirror_mode": {
    "name": "ipython",
    "version": 2
   },
   "file_extension": ".py",
   "mimetype": "text/x-python",
   "name": "python",
   "nbconvert_exporter": "python",
   "pygments_lexer": "ipython2",
   "version": "2.7.12"
  }
 },
 "nbformat": 4,
 "nbformat_minor": 1
}
