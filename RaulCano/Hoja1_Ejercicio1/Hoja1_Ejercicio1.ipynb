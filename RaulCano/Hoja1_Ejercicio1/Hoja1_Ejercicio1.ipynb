{
 "cells": [
  {
   "cell_type": "markdown",
   "metadata": {},
   "source": [
    "# Ejercicio 1: Diseño del diagrama ER para un aeropuerto"
   ]
  },
  {
   "cell_type": "code",
   "execution_count": 1,
   "metadata": {
    "collapsed": false
   },
   "outputs": [
    {
     "name": "stderr",
     "output_type": "stream",
     "text": [
      "/home/raul/anaconda2/lib/python2.7/site-packages/IPython/config.py:13: ShimWarning: The `IPython.config` package has been deprecated. You should import from traitlets.config instead.\n",
      "  \"You should import from traitlets.config instead.\", ShimWarning)\n",
      "/home/raul/anaconda2/lib/python2.7/site-packages/IPython/utils/traitlets.py:5: UserWarning: IPython.utils.traitlets has moved to a top-level traitlets package.\n",
      "  warn(\"IPython.utils.traitlets has moved to a top-level traitlets package.\")\n"
     ]
    }
   ],
   "source": [
    "%load_ext sql"
   ]
  },
  {
   "cell_type": "code",
   "execution_count": 2,
   "metadata": {
    "collapsed": false
   },
   "outputs": [
    {
     "data": {
      "text/plain": [
       "u'Connected: None@Hoja1_Ejercicio1.db'"
      ]
     },
     "execution_count": 2,
     "metadata": {},
     "output_type": "execute_result"
    }
   ],
   "source": [
    "%sql sqlite:///Hoja1_Ejercicio1.db"
   ]
  },
  {
   "cell_type": "markdown",
   "metadata": {},
   "source": [
    "<img src=\"Hoja1_Ejercicio1.jpg\">"
   ]
  },
  {
   "cell_type": "code",
   "execution_count": 3,
   "metadata": {
    "collapsed": false
   },
   "outputs": [
    {
     "name": "stdout",
     "output_type": "stream",
     "text": [
      "Done.\n",
      "Done.\n",
      "Done.\n",
      "Done.\n",
      "Done.\n",
      "Done.\n",
      "Done.\n",
      "Done.\n",
      "Done.\n",
      "Done.\n",
      "Done.\n",
      "Done.\n",
      "Done.\n",
      "Done.\n",
      "Done.\n",
      "Done.\n",
      "Done.\n"
     ]
    },
    {
     "data": {
      "text/plain": [
       "[]"
      ]
     },
     "execution_count": 3,
     "metadata": {},
     "output_type": "execute_result"
    }
   ],
   "source": [
    "%%sql\n",
    "PRAGMA foreign_keys = ON;\n",
    "\n",
    "DROP TABLE IF EXISTS modelos;\n",
    "DROP TABLE IF EXISTS aviones;\n",
    "DROP TABLE IF EXISTS trabajadores;\n",
    "DROP TABLE IF EXISTS tecnicos;\n",
    "DROP TABLE IF EXISTS controladores;\n",
    "DROP TABLE IF EXISTS es_experto;\n",
    "DROP TABLE IF EXISTS pruebas;\n",
    "DROP TABLE IF EXISTS pasar_pruebas;\n",
    "\n",
    "\n",
    "CREATE TABLE modelos(num_modelo INT,\n",
    "                     capacidad INT,\n",
    "                     peso FLOAT,\n",
    "                     PRIMARY KEY (num_modelo));\n",
    "\n",
    "CREATE TABLE aviones(num_registro INT,\n",
    "                     num_modelo INT,\n",
    "                     PRIMARY KEY (num_registro),\n",
    "                     FOREIGN KEY (num_modelo) REFERENCES modelos(num_modelo));\n",
    "\n",
    "CREATE TABLE trabajadores(nombre VARCHAR(50),\n",
    "                          nif VARCHAR(9),\n",
    "                          direccion VARCHAR(50),\n",
    "                          telefono VARCHAR(9),\n",
    "                          PRIMARY KEY (nif));\n",
    "\n",
    "CREATE TABLE tecnicos(salario FLOAT,\n",
    "                      nif VARCHAR(9),\n",
    "                      PRIMARY KEY (nif),\n",
    "                      FOREIGN KEY (nif) REFERENCES trabajadores(nif) ON DELETE CASCADE);\n",
    "\n",
    "CREATE TABLE controladores(nif VARCHAR(9) NOT NULL,\n",
    "                         fecha_examen_medico DATE,\n",
    "                         PRIMARY KEY (nif),\n",
    "                         FOREIGN KEY (nif) REFERENCES trabajadores(nif) ON DELETE CASCADE);\n",
    "\n",
    "CREATE TABLE es_experto(nif VARCHAR(9),\n",
    "                        num_modelo INT,\n",
    "                        FOREIGN KEY (nif) REFERENCES tecnicos(nif),\n",
    "                        FOREIGN KEY (num_modelo) REFERENCES modelos(num_modelo));\n",
    "\n",
    "CREATE TABLE pruebas(num_prueba INT,\n",
    "                     nombre_prueba VARCHAR(30),\n",
    "                     puntuacion_maxima INT,\n",
    "                     PRIMARY KEY(num_prueba));\n",
    "\n",
    "CREATE TABLE pasar_pruebas(fecha DATE,\n",
    "                           num_horas INT,\n",
    "                           puntuacion INT,\n",
    "                           num_registro INT,\n",
    "                           nif VARCHAR(9),\n",
    "                           num_prueba INT,\n",
    "                           FOREIGN KEY(num_registro) REFERENCES aviones(num_reg),\n",
    "                           FOREIGN KEY(nif) REFERENCES tecnicos(nif),\n",
    "                           FOREIGN KEY(num_prueba) REFERENCES pruebas(num_prueba));\n",
    "\n"
   ]
  }
 ],
 "metadata": {
  "anaconda-cloud": {},
  "kernelspec": {
   "display_name": "Python [default]",
   "language": "python",
   "name": "python2"
  },
  "language_info": {
   "codemirror_mode": {
    "name": "ipython",
    "version": 2
   },
   "file_extension": ".py",
   "mimetype": "text/x-python",
   "name": "python",
   "nbconvert_exporter": "python",
   "pygments_lexer": "ipython2",
   "version": "2.7.12"
  }
 },
 "nbformat": 4,
 "nbformat_minor": 1
}
