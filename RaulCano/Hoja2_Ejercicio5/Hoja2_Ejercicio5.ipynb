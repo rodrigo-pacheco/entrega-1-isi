{
 "cells": [
  {
   "cell_type": "markdown",
   "metadata": {},
   "source": [
    "# Ejercicio 5: Diseño del diagrama ER para una cadena de farmacias"
   ]
  },
  {
   "cell_type": "code",
   "execution_count": 1,
   "metadata": {
    "collapsed": false
   },
   "outputs": [
    {
     "name": "stderr",
     "output_type": "stream",
     "text": [
      "/home/raul/anaconda2/lib/python2.7/site-packages/IPython/config.py:13: ShimWarning: The `IPython.config` package has been deprecated. You should import from traitlets.config instead.\n",
      "  \"You should import from traitlets.config instead.\", ShimWarning)\n",
      "/home/raul/anaconda2/lib/python2.7/site-packages/IPython/utils/traitlets.py:5: UserWarning: IPython.utils.traitlets has moved to a top-level traitlets package.\n",
      "  warn(\"IPython.utils.traitlets has moved to a top-level traitlets package.\")\n"
     ]
    }
   ],
   "source": [
    "%load_ext sql"
   ]
  },
  {
   "cell_type": "code",
   "execution_count": 2,
   "metadata": {
    "collapsed": false
   },
   "outputs": [
    {
     "data": {
      "text/plain": [
       "u'Connected: None@Hoja2_Ejercicio5.db'"
      ]
     },
     "execution_count": 2,
     "metadata": {},
     "output_type": "execute_result"
    }
   ],
   "source": [
    "%sql sqlite:///Hoja2_Ejercicio5.db"
   ]
  },
  {
   "cell_type": "markdown",
   "metadata": {},
   "source": [
    "<img src=\"Hoja2_Ejercicio5.jpg\">"
   ]
  },
  {
   "cell_type": "code",
   "execution_count": 3,
   "metadata": {
    "collapsed": false
   },
   "outputs": [
    {
     "name": "stdout",
     "output_type": "stream",
     "text": [
      "Done.\n",
      "Done.\n",
      "Done.\n",
      "Done.\n",
      "Done.\n",
      "Done.\n",
      "Done.\n",
      "Done.\n",
      "Done.\n",
      "Done.\n",
      "Done.\n",
      "Done.\n",
      "Done.\n",
      "Done.\n",
      "Done.\n",
      "Done.\n",
      "Done.\n",
      "Done.\n",
      "Done.\n"
     ]
    },
    {
     "data": {
      "text/plain": [
       "[]"
      ]
     },
     "execution_count": 3,
     "metadata": {},
     "output_type": "execute_result"
    }
   ],
   "source": [
    "%%sql\n",
    "PRAGMA foreign_keys = ON;\n",
    "\n",
    "DROP TABLE IF EXISTS paciente;\n",
    "DROP TABLE IF EXISTS medico;\n",
    "DROP TABLE IF EXISTS medicamento;\n",
    "DROP TABLE IF EXISTS receta;\n",
    "DROP TABLE IF EXISTS compania_farmaceutica;\n",
    "DROP TABLE IF EXISTS farmacia;\n",
    "DROP TABLE IF EXISTS vende;\n",
    "DROP TABLE IF EXISTS supervisor;\n",
    "DROP TABLE IF EXISTS contrata;\n",
    "\n",
    "CREATE TABLE paciente(nif VARCHAR(9),\n",
    "                      nombre CHAR(50),\n",
    "                      direccion CHAR(50),\n",
    "                      edad INT,\n",
    "                      nif_medico VARCHAR(9),\n",
    "                      PRIMARY KEY (nif),\n",
    "                      FOREIGN KEY (nif_medico) REFERENCES medico(nif));\n",
    "\n",
    "CREATE TABLE medico(nif VARCHAR(9),\n",
    "                    nombre CHAR(50),\n",
    "                    especialidad CHAR(30),\n",
    "                    anyos INT,\n",
    "                    PRIMARY KEY (nif));\n",
    "\n",
    "CREATE TABLE medicamento(nombre VARCHAR(20),\n",
    "                         formula VARCHAR(30),\n",
    "                         compania_farmaceutica VARCHAR(20) NOT NULL,\n",
    "                         PRIMARY KEY (nombre),\n",
    "                         FOREIGN KEY (compania_farmaceutica) REFERENCES compania_farmaceutica(nombre));\n",
    "\n",
    "CREATE TABLE receta(fecha DATE,\n",
    "                    cantidad FLOAT,\n",
    "                    nif_medico VARCHAR(9),\n",
    "                    medicamento VARCHAR(20),\n",
    "                    nif_paciente VARCHAR(9),\n",
    "                    PRIMARY KEY (nif_medico, nif_paciente, medicamento),\n",
    "                    FOREIGN KEY (nif_medico) REFERENCES medico(nif),\n",
    "                    FOREIGN KEY (nif_paciente) REFERENCES paciente(nif),\n",
    "                    FOREIGN KEY (medicamento) REFERENCES medicamento(nombre));\n",
    "\n",
    "CREATE TABLE compania_farmaceutica(nombre CHAR(20),\n",
    "                                   telefono INT(9),\n",
    "                                   PRIMARY KEY (nombre));\n",
    "\n",
    "CREATE TABLE farmacia(nombre CHAR(20),\n",
    "                      direccion CHAR(50),\n",
    "                      telefono INT(9),\n",
    "                      PRIMARY KEY (nombre));\n",
    "\n",
    "CREATE TABLE vende(farmacia CHAR(20),\n",
    "                   medicamento CHAR(20),\n",
    "                   PRIMARY KEY (farmacia, medicamento),\n",
    "                   FOREIGN KEY (medicamento) REFERENCES medicamento(nombre),\n",
    "                   FOREIGN KEY (farmacia) REFERENCES farmacias(nombre));\n",
    "\n",
    "CREATE TABLE supervisor(nif VARCHAR(9),\n",
    "                        nombre CHAR(50),\n",
    "                        PRIMARY KEY (nif));\n",
    "\n",
    "CREATE TABLE contrata(fecha_inicio DATE,\n",
    "                      fecha_fin DATE,\n",
    "                      condiciones CHAR(50),\n",
    "                      farmaceutica CHAR(20),\n",
    "                      farmacia CHAR(20),\n",
    "                      supervisor VARCHAR(9) NOT NULL,\n",
    "                      PRIMARY KEY (farmaceutica, farmacia, supervisor),\n",
    "                      FOREIGN KEY (farmaceutica) REFERENCES compania_farmaceutica(nombre),\n",
    "                      FOREIGN KEY (farmacia) REFERENCES farmacia(nombre),\n",
    "                      FOREIGN KEY (supervisor) REFERENCES supervisor(nif));"
   ]
  }
 ],
 "metadata": {
  "anaconda-cloud": {},
  "kernelspec": {
   "display_name": "Python [default]",
   "language": "python",
   "name": "python2"
  },
  "language_info": {
   "codemirror_mode": {
    "name": "ipython",
    "version": 2
   },
   "file_extension": ".py",
   "mimetype": "text/x-python",
   "name": "python",
   "nbconvert_exporter": "python",
   "pygments_lexer": "ipython2",
   "version": "2.7.12"
  }
 },
 "nbformat": 4,
 "nbformat_minor": 1
}
