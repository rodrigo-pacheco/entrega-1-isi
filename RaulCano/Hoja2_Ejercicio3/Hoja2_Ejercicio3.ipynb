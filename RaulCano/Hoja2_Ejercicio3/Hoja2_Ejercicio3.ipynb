{
 "cells": [
  {
   "cell_type": "markdown",
   "metadata": {},
   "source": [
    "# Ejercicio 3: Diseño del diagramas ER para una compañía"
   ]
  },
  {
   "cell_type": "code",
   "execution_count": 1,
   "metadata": {
    "collapsed": false
   },
   "outputs": [
    {
     "name": "stderr",
     "output_type": "stream",
     "text": [
      "/home/raul/anaconda2/lib/python2.7/site-packages/IPython/config.py:13: ShimWarning: The `IPython.config` package has been deprecated. You should import from traitlets.config instead.\n",
      "  \"You should import from traitlets.config instead.\", ShimWarning)\n",
      "/home/raul/anaconda2/lib/python2.7/site-packages/IPython/utils/traitlets.py:5: UserWarning: IPython.utils.traitlets has moved to a top-level traitlets package.\n",
      "  warn(\"IPython.utils.traitlets has moved to a top-level traitlets package.\")\n"
     ]
    }
   ],
   "source": [
    "%load_ext sql"
   ]
  },
  {
   "cell_type": "code",
   "execution_count": 2,
   "metadata": {
    "collapsed": false
   },
   "outputs": [
    {
     "data": {
      "text/plain": [
       "u'Connected: None@Hoja2_Ejercicio3.db'"
      ]
     },
     "execution_count": 2,
     "metadata": {},
     "output_type": "execute_result"
    }
   ],
   "source": [
    "%sql sqlite:///Hoja2_Ejercicio3.db"
   ]
  },
  {
   "cell_type": "markdown",
   "metadata": {},
   "source": [
    "<img src=\"Hoja2_Ejercicio3.jpg\">"
   ]
  },
  {
   "cell_type": "code",
   "execution_count": 3,
   "metadata": {
    "collapsed": false
   },
   "outputs": [
    {
     "name": "stdout",
     "output_type": "stream",
     "text": [
      "Done.\n",
      "Done.\n",
      "Done.\n",
      "Done.\n",
      "Done.\n",
      "Done.\n",
      "Done.\n",
      "Done.\n",
      "Done.\n"
     ]
    },
    {
     "data": {
      "text/plain": [
       "[]"
      ]
     },
     "execution_count": 3,
     "metadata": {},
     "output_type": "execute_result"
    }
   ],
   "source": [
    "%%sql\n",
    "PRAGMA foreign_keys = ON;\n",
    "\n",
    "DROP TABLE IF EXISTS empleado;\n",
    "DROP TABLE IF EXISTS hijo;\n",
    "DROP TABLE IF EXISTS departamento;\n",
    "DROP TABLE IF EXISTS trabaja;\n",
    "\n",
    "CREATE TABLE empleado(nif VARCHAR(9),\n",
    "                      salario FLOAT,\n",
    "                      telefono INT(9),\n",
    "                      PRIMARY KEY (nif));\n",
    "\n",
    "CREATE TABLE hijo(nombre CHAR(50),\n",
    "                  edad INT,\n",
    "                  nif_padre VARCHAR(9) NOT NULL,\n",
    "                  PRIMARY KEY (nombre, nif_padre),\n",
    "                  FOREIGN KEY (nif_padre) REFERENCES empleado(nif) ON DELETE CASCADE);\n",
    "\n",
    "CREATE TABLE departamento(id_departamento INT,\n",
    "                          nombre_departamento CHAR(30),\n",
    "                          presupuesto FLOAT,\n",
    "                          nif_director VARCHAR(9) NOT NULL,\n",
    "                          PRIMARY KEY (id_departamento),\n",
    "                          FOREIGN KEY (nif_director) REFERENCES empleado(nif));\n",
    "\n",
    "CREATE TABLE trabaja(nif_empleado VARCHAR(9),\n",
    "                     id_departamento INT,\n",
    "                     PRIMARY KEY (nif_empleado, id_departamento),\n",
    "                     FOREIGN KEY (nif_empleado) REFERENCES empleado(nif),\n",
    "                     FOREIGN KEY (id_departamento) REFERENCES departamento(id_departamento));"
   ]
  }
 ],
 "metadata": {
  "anaconda-cloud": {},
  "kernelspec": {
   "display_name": "Python [default]",
   "language": "python",
   "name": "python2"
  },
  "language_info": {
   "codemirror_mode": {
    "name": "ipython",
    "version": 2
   },
   "file_extension": ".py",
   "mimetype": "text/x-python",
   "name": "python",
   "nbconvert_exporter": "python",
   "pygments_lexer": "ipython2",
   "version": "2.7.12"
  }
 },
 "nbformat": 4,
 "nbformat_minor": 1
}
