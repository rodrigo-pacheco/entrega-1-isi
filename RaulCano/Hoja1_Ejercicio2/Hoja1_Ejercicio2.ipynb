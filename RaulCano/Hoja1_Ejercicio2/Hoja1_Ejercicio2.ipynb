{
 "cells": [
  {
   "cell_type": "markdown",
   "metadata": {},
   "source": [
    "## Ejercicio 2: Diseño del diagrama ER para una compañía de alojamiento de sitios web de galerías de arte"
   ]
  },
  {
   "cell_type": "code",
   "execution_count": 1,
   "metadata": {
    "collapsed": false
   },
   "outputs": [
    {
     "name": "stderr",
     "output_type": "stream",
     "text": [
      "/home/raul/anaconda2/lib/python2.7/site-packages/IPython/config.py:13: ShimWarning: The `IPython.config` package has been deprecated. You should import from traitlets.config instead.\n",
      "  \"You should import from traitlets.config instead.\", ShimWarning)\n",
      "/home/raul/anaconda2/lib/python2.7/site-packages/IPython/utils/traitlets.py:5: UserWarning: IPython.utils.traitlets has moved to a top-level traitlets package.\n",
      "  warn(\"IPython.utils.traitlets has moved to a top-level traitlets package.\")\n"
     ]
    }
   ],
   "source": [
    "%load_ext sql"
   ]
  },
  {
   "cell_type": "code",
   "execution_count": 2,
   "metadata": {
    "collapsed": false
   },
   "outputs": [
    {
     "data": {
      "text/plain": [
       "u'Connected: None@Hoja1_Ejercicio2.db'"
      ]
     },
     "execution_count": 2,
     "metadata": {},
     "output_type": "execute_result"
    }
   ],
   "source": [
    "%sql sqlite:///Hoja1_Ejercicio2.db"
   ]
  },
  {
   "cell_type": "markdown",
   "metadata": {},
   "source": [
    "<img src=\"Hoja1_Ejercicio2.jpg\">"
   ]
  },
  {
   "cell_type": "code",
   "execution_count": 3,
   "metadata": {
    "collapsed": false
   },
   "outputs": [
    {
     "name": "stdout",
     "output_type": "stream",
     "text": [
      "Done.\n",
      "Done.\n",
      "Done.\n",
      "Done.\n",
      "Done.\n",
      "Done.\n",
      "Done.\n",
      "Done.\n",
      "Done.\n"
     ]
    },
    {
     "data": {
      "text/plain": [
       "[]"
      ]
     },
     "execution_count": 3,
     "metadata": {},
     "output_type": "execute_result"
    }
   ],
   "source": [
    "%%sql\n",
    "PRAGMA foreign_keys = ON;\n",
    "\n",
    "DROP TABLE IF EXISTS artistas;\n",
    "DROP TABLE IF EXISTS obras;\n",
    "DROP TABLE IF EXISTS grupos;\n",
    "DROP TABLE IF EXISTS clientes;\n",
    "\n",
    "CREATE TABLE artistas(nombre VARCHAR(50),\n",
    "                      fecha_nacimiento DATE,\n",
    "                      edad INT,\n",
    "                      estilo CHAR(20),\n",
    "                      PRIMARY KEY (nombre));\n",
    "\n",
    "CREATE TABLE obras(anyo INT,\n",
    "                   titulo CHAR(20),\n",
    "                   tipo CHAR(20),\n",
    "                   precio FLOAT,\n",
    "                   autor VARCHAR(50),\n",
    "                   grupos VARCHAR(50),\n",
    "                   PRIMARY KEY (titulo),\n",
    "                   FOREIGN KEY (autor) REFERENCES artistas(nombre),\n",
    "                   FOREIGN KEY (grupos) REFERENCES grupos(nombre_criterio));\n",
    "\n",
    "CREATE TABLE grupos(nombre_criterio VARCHAR(50));\n",
    "\n",
    "CREATE TABLE clientes(nombre CHAR(50),\n",
    "                      direccion CHAR(50),\n",
    "                      importe_gastado FLOAT,\n",
    "                      grupos VARCHAR(50),\n",
    "                      PRIMARY KEY (nombre),\n",
    "                      FOREIGN KEY (grupos) REFERENCES grupos(nombre_criterio));\n"
   ]
  }
 ],
 "metadata": {
  "anaconda-cloud": {},
  "kernelspec": {
   "display_name": "Python [default]",
   "language": "python",
   "name": "python2"
  },
  "language_info": {
   "codemirror_mode": {
    "name": "ipython",
    "version": 2
   },
   "file_extension": ".py",
   "mimetype": "text/x-python",
   "name": "python",
   "nbconvert_exporter": "python",
   "pygments_lexer": "ipython2",
   "version": "2.7.12"
  }
 },
 "nbformat": 4,
 "nbformat_minor": 1
}
