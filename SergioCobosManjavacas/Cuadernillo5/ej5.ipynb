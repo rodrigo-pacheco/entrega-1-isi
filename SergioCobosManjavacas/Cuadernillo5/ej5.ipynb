{
 "cells": [
  {
   "cell_type": "markdown",
   "metadata": {},
   "source": [
    "# INGENIERÍA DE SISTEMAS DE INFORMACIÓN\n",
    "\n",
    "## EJERCICIOS DISEÑO CONCEPTUAL MEDIANTE DIAGRAMAS ENTIDAD RELACIÓN Y MODELO RELACIONAL. "
   ]
  },
  {
   "cell_type": "markdown",
   "metadata": {},
   "source": [
    "# Ejercicio 5: Diseño del diagrama ER para una cadena de farmacias"
   ]
  },
  {
   "cell_type": "markdown",
   "metadata": {},
   "source": [
    "<img src=\"EJ5_Parte2.jpg\">"
   ]
  },
  {
   "cell_type": "code",
   "execution_count": 1,
   "metadata": {},
   "outputs": [],
   "source": [
    "%reload_ext sql"
   ]
  },
  {
   "cell_type": "code",
   "execution_count": 2,
   "metadata": {},
   "outputs": [
    {
     "data": {
      "text/plain": [
       "'Connected: None@ISI-DIAGRAMAS-ER-EJERCICIO-e5.db'"
      ]
     },
     "execution_count": 2,
     "metadata": {},
     "output_type": "execute_result"
    }
   ],
   "source": [
    "%%sql\n",
    "sqlite:///ISI-DIAGRAMAS-ER-EJERCICIO-e5.db"
   ]
  },
  {
   "cell_type": "code",
   "execution_count": 3,
   "metadata": {},
   "outputs": [
    {
     "name": "stdout",
     "output_type": "stream",
     "text": [
      "Done.\n"
     ]
    },
    {
     "data": {
      "text/plain": [
       "[]"
      ]
     },
     "execution_count": 3,
     "metadata": {},
     "output_type": "execute_result"
    }
   ],
   "source": [
    "%sql PRAGMA foreign_keys = ON;"
   ]
  },
  {
   "cell_type": "code",
   "execution_count": 4,
   "metadata": {},
   "outputs": [
    {
     "name": "stdout",
     "output_type": "stream",
     "text": [
      "Done.\n",
      "Done.\n"
     ]
    },
    {
     "data": {
      "text/plain": [
       "[]"
      ]
     },
     "execution_count": 4,
     "metadata": {},
     "output_type": "execute_result"
    }
   ],
   "source": [
    "%%sql\n",
    "\n",
    "DROP TABLE IF EXISTS Medicos;\n",
    "\n",
    "CREATE TABLE Medicos(nif VARCHAR(10),\n",
    "                    nombre VARCHAR(25),\n",
    "                    especialidad VARCHAR(25),\n",
    "                    edad INT,\n",
    "                    PRIMARY KEY(nif));"
   ]
  },
  {
   "cell_type": "code",
   "execution_count": 5,
   "metadata": {},
   "outputs": [
    {
     "name": "stdout",
     "output_type": "stream",
     "text": [
      "Done.\n",
      "Done.\n"
     ]
    },
    {
     "data": {
      "text/plain": [
       "[]"
      ]
     },
     "execution_count": 5,
     "metadata": {},
     "output_type": "execute_result"
    }
   ],
   "source": [
    "%%sql\n",
    "\n",
    "DROP TABLE IF EXISTS Pacientes;\n",
    "\n",
    "CREATE TABLE Pacientes(nif VARCHAR(10),\n",
    "                      nombre VARCHAR(25),\n",
    "                      direccion VARCHAR(25),\n",
    "                      edad INT,\n",
    "                      nif_medico INT NOT NULL,\n",
    "                      PRIMARY KEY(nif),\n",
    "                      FOREIGN KEY(nif_medico) REFERENCES Medicos(nif));"
   ]
  },
  {
   "cell_type": "code",
   "execution_count": 6,
   "metadata": {},
   "outputs": [
    {
     "name": "stdout",
     "output_type": "stream",
     "text": [
      "Done.\n",
      "Done.\n"
     ]
    },
    {
     "data": {
      "text/plain": [
       "[]"
      ]
     },
     "execution_count": 6,
     "metadata": {},
     "output_type": "execute_result"
    }
   ],
   "source": [
    "%%sql\n",
    "\n",
    "DROP TABLE IF EXISTS Medicamentos;\n",
    "\n",
    "CREATE TABLE Medicamentos(nombre_comercial VARCHAR(30),\n",
    "                         formula VARCHAR(30),\n",
    "                         nombre_compania VARCHAR(30) NOT NULL,\n",
    "                         PRIMARY KEY(nombre_comercial, nombre_compania),\n",
    "                         FOREIGN KEY(nombre_compania) REFERENCES Compania(nombre) ON DELETE CASCADE);"
   ]
  },
  {
   "cell_type": "code",
   "execution_count": 7,
   "metadata": {},
   "outputs": [
    {
     "name": "stdout",
     "output_type": "stream",
     "text": [
      "(sqlite3.OperationalError) foreign key mismatch - \"Venden\" referencing \"Medicamentos\" [SQL: 'DROP TABLE IF EXISTS Compania;']\n"
     ]
    }
   ],
   "source": [
    "%%sql\n",
    "\n",
    "DROP TABLE IF EXISTS Compania;\n",
    "\n",
    "CREATE TABLE Compania(nombre VARCHAR(30),\n",
    "                     telefono INT,\n",
    "                     PRIMARY KEY(nombre));"
   ]
  },
  {
   "cell_type": "code",
   "execution_count": 8,
   "metadata": {},
   "outputs": [
    {
     "name": "stdout",
     "output_type": "stream",
     "text": [
      "Done.\n",
      "Done.\n"
     ]
    },
    {
     "data": {
      "text/plain": [
       "[]"
      ]
     },
     "execution_count": 8,
     "metadata": {},
     "output_type": "execute_result"
    }
   ],
   "source": [
    "%%sql\n",
    "\n",
    "DROP TABLE IF EXISTS Recetan;\n",
    "\n",
    "CREATE TABLE Recetan(nif_paciente VARCHAR(10),\n",
    "                    nif_medico VARCHAR(10),\n",
    "                    nombre_comercial VARCHAR(30),\n",
    "                    fecha DATE,\n",
    "                    cantidad FLOAT,\n",
    "                    PRIMARY KEY(nif_paciente, nif_medico, nombre_comercial),\n",
    "                    FOREIGN KEY(nif_paciente) REFERENCES Pacientes(nif),\n",
    "                    FOREIGN KEY(nif_medico) REFERENCES Medicos(nif),\n",
    "                    FOREIGN KEY (nombre_comercial) REFERENCES Medicamentos(nombre_comercial)\n",
    "                    );"
   ]
  },
  {
   "cell_type": "code",
   "execution_count": 9,
   "metadata": {},
   "outputs": [
    {
     "name": "stdout",
     "output_type": "stream",
     "text": [
      "Done.\n",
      "Done.\n"
     ]
    },
    {
     "data": {
      "text/plain": [
       "[]"
      ]
     },
     "execution_count": 9,
     "metadata": {},
     "output_type": "execute_result"
    }
   ],
   "source": [
    "%%sql \n",
    "\n",
    "DROP TABLE IF EXISTS Farmacias;\n",
    "\n",
    "CREATE TABLE Farmacias(nombre VARCHAR(10),\n",
    "                      direccion VARCHAR(50),\n",
    "                      telefono INT,\n",
    "                      PRIMARY KEY(telefono));"
   ]
  },
  {
   "cell_type": "code",
   "execution_count": 10,
   "metadata": {},
   "outputs": [
    {
     "name": "stdout",
     "output_type": "stream",
     "text": [
      "Done.\n",
      "Done.\n"
     ]
    },
    {
     "data": {
      "text/plain": [
       "[]"
      ]
     },
     "execution_count": 10,
     "metadata": {},
     "output_type": "execute_result"
    }
   ],
   "source": [
    "%%sql\n",
    "\n",
    "DROP TABLE IF EXISTS Venden;\n",
    "\n",
    "CREATE TABLE Venden(nombre_comercial VARCHAR(10),\n",
    "                   telefono_farmacia INT,\n",
    "                   precio FLOAT,\n",
    "                   PRIMARY KEY(nombre_comercial, telefono_farmacia),\n",
    "                   FOREIGN KEY(nombre_comercial) REFERENCES Medicamentos(nombre_comercial),\n",
    "                   FOREIGN KEY(telefono_farmacia) REFERENCES Farmacias(telefono));"
   ]
  },
  {
   "cell_type": "code",
   "execution_count": 11,
   "metadata": {},
   "outputs": [
    {
     "name": "stdout",
     "output_type": "stream",
     "text": [
      "Done.\n",
      "Done.\n"
     ]
    },
    {
     "data": {
      "text/plain": [
       "[]"
      ]
     },
     "execution_count": 11,
     "metadata": {},
     "output_type": "execute_result"
    }
   ],
   "source": [
    "%%sql\n",
    "\n",
    "DROP TABLE IF EXISTS Contratos;\n",
    "\n",
    "CREATE TABLE Contratos(id INT,\n",
    "                      fecha_ini DATE,\n",
    "                      fecha_fin DATE,\n",
    "                      texto VARCHAR(20000),\n",
    "                      PRIMARY KEY(id));"
   ]
  },
  {
   "cell_type": "code",
   "execution_count": 12,
   "metadata": {},
   "outputs": [
    {
     "name": "stdout",
     "output_type": "stream",
     "text": [
      "Done.\n",
      "Done.\n"
     ]
    },
    {
     "data": {
      "text/plain": [
       "[]"
      ]
     },
     "execution_count": 12,
     "metadata": {},
     "output_type": "execute_result"
    }
   ],
   "source": [
    "%%sql\n",
    "\n",
    "DROP TABLE IF EXISTS Firman;\n",
    "\n",
    "CREATE TABLE Firman(nombre_compania VARCHAR(30),\n",
    "                   id_contrato INT,\n",
    "                   telefono_farmacia INT,\n",
    "                   PRIMARY KEY(nombre_compania, id_contrato, telefono_farmacia),\n",
    "                   FOREIGN KEY(nombre_compania) REFERENCES Compania(nombre),\n",
    "                   FOREIGN KEY(id_contrato) REFERENCES Contratos(id),\n",
    "                   FOREIGN KEY(telefono_farmacia) REFERENCES Farmacias(telefono));"
   ]
  },
  {
   "cell_type": "code",
   "execution_count": 13,
   "metadata": {},
   "outputs": [
    {
     "name": "stdout",
     "output_type": "stream",
     "text": [
      "Done.\n",
      "Done.\n"
     ]
    },
    {
     "data": {
      "text/plain": [
       "[]"
      ]
     },
     "execution_count": 13,
     "metadata": {},
     "output_type": "execute_result"
    }
   ],
   "source": [
    "%%sql\n",
    "\n",
    "DROP TABLE IF EXISTS Supervisores;\n",
    "\n",
    "CREATE TABLE Supervisores(nif VARCHAR(10),\n",
    "                         id_contrato INT NOT NULL,\n",
    "                         PRIMARY KEY(nif),\n",
    "                         FOREIGN KEY(id_contrato) REFERENCES Contratos(id_contrato));"
   ]
  },
  {
   "cell_type": "code",
   "execution_count": null,
   "metadata": {
    "collapsed": true
   },
   "outputs": [],
   "source": []
  }
 ],
 "metadata": {
  "kernelspec": {
   "display_name": "Python 3",
   "language": "python",
   "name": "python3"
  },
  "language_info": {
   "codemirror_mode": {
    "name": "ipython",
    "version": 3
   },
   "file_extension": ".py",
   "mimetype": "text/x-python",
   "name": "python",
   "nbconvert_exporter": "python",
   "pygments_lexer": "ipython3",
   "version": "3.5.2"
  }
 },
 "nbformat": 4,
 "nbformat_minor": 2
}
