{
 "cells": [
  {
   "cell_type": "markdown",
   "metadata": {},
   "source": [
    "# INGENIERÍA DE SISTEMAS DE INFORMACIÓN\n",
    "\n",
    "## EJERCICIOS DISEÑO CONCEPTUAL MEDIANTE DIAGRAMAS ENTIDAD RELACIÓN Y MODELO RELACIONAL. "
   ]
  },
  {
   "cell_type": "markdown",
   "metadata": {},
   "source": [
    "# Ejercicio 3: Diseño del diagrama ER para una compañia\n"
   ]
  },
  {
   "cell_type": "markdown",
   "metadata": {},
   "source": [
    "<img src=\"EJ3_Parte2.jpg\">"
   ]
  },
  {
   "cell_type": "code",
   "execution_count": 1,
   "metadata": {},
   "outputs": [
    {
     "name": "stderr",
     "output_type": "stream",
     "text": [
      "/Users/SergioCobos/anaconda3/lib/python3.6/site-packages/IPython/config.py:13: ShimWarning: The `IPython.config` package has been deprecated since IPython 4.0. You should import from traitlets.config instead.\n",
      "  \"You should import from traitlets.config instead.\", ShimWarning)\n",
      "/Users/SergioCobos/anaconda3/lib/python3.6/site-packages/sql/magic.py:4: UserWarning: IPython.utils.traitlets has moved to a top-level traitlets package.\n",
      "  from IPython.utils.traitlets import Bool, Int, Unicode\n"
     ]
    }
   ],
   "source": [
    "%reload_ext sql"
   ]
  },
  {
   "cell_type": "code",
   "execution_count": 2,
   "metadata": {},
   "outputs": [
    {
     "data": {
      "text/plain": [
       "'Connected: None@ISI-DIAGRAMAS-ER-EJERCICIO-e3.db'"
      ]
     },
     "execution_count": 2,
     "metadata": {},
     "output_type": "execute_result"
    }
   ],
   "source": [
    "%%sql\n",
    "sqlite:///ISI-DIAGRAMAS-ER-EJERCICIO-e3.db"
   ]
  },
  {
   "cell_type": "code",
   "execution_count": 10,
   "metadata": {},
   "outputs": [
    {
     "name": "stdout",
     "output_type": "stream",
     "text": [
      "Done.\n"
     ]
    },
    {
     "data": {
      "text/plain": [
       "[]"
      ]
     },
     "execution_count": 10,
     "metadata": {},
     "output_type": "execute_result"
    }
   ],
   "source": [
    "%sql PRAGMA foreign_keys = ON;\n"
   ]
  },
  {
   "cell_type": "code",
   "execution_count": 11,
   "metadata": {},
   "outputs": [
    {
     "name": "stdout",
     "output_type": "stream",
     "text": [
      "Done.\n",
      "Done.\n"
     ]
    },
    {
     "data": {
      "text/plain": [
       "[]"
      ]
     },
     "execution_count": 11,
     "metadata": {},
     "output_type": "execute_result"
    }
   ],
   "source": [
    "%%sql\n",
    "\n",
    "DROP TABLE IF EXISTS Empleados;\n",
    "\n",
    "CREATE TABLE Empleados(nif VARCHAR(10),\n",
    "                      salario FLOAT,\n",
    "                      telefono INT,\n",
    "                      PRIMARY KEY(nif));"
   ]
  },
  {
   "cell_type": "code",
   "execution_count": 12,
   "metadata": {},
   "outputs": [
    {
     "name": "stdout",
     "output_type": "stream",
     "text": [
      "Done.\n",
      "Done.\n"
     ]
    },
    {
     "data": {
      "text/plain": [
       "[]"
      ]
     },
     "execution_count": 12,
     "metadata": {},
     "output_type": "execute_result"
    }
   ],
   "source": [
    "%%sql\n",
    "\n",
    "DROP TABLE IF EXISTS Hijos;\n",
    "\n",
    "CREATE TABLE Hijos(nombre VARCHAR(20),\n",
    "                    edad INT,\n",
    "                    nif_empleado VARCHAR(10) NOT NULL,\n",
    "                    PRIMARY KEY(nombre, nif_empleado),\n",
    "                    FOREIGN KEY(nif_empleado) REFERENCES Empleados(nif) ON DELETE CASCADE\n",
    "                    );"
   ]
  },
  {
   "cell_type": "code",
   "execution_count": 13,
   "metadata": {},
   "outputs": [
    {
     "name": "stdout",
     "output_type": "stream",
     "text": [
      "Done.\n",
      "Done.\n"
     ]
    },
    {
     "data": {
      "text/plain": [
       "[]"
      ]
     },
     "execution_count": 13,
     "metadata": {},
     "output_type": "execute_result"
    }
   ],
   "source": [
    "%%sql\n",
    "\n",
    "DROP TABLE IF EXISTS Departamentos_Dirigidos;\n",
    "\n",
    "CREATE TABLE Departamentos_Dirigidos(id_dpto INT,\n",
    "                                    nombre_dpto VARCHAR(20),\n",
    "                                    presupuesto FLOAT,\n",
    "                                    nif VARCHAR(10) NOT NULL,\n",
    "                                    PRIMARY KEY(id_dpto),\n",
    "                                    FOREIGN KEY (nif) REFERENCES Empleados(nif));"
   ]
  },
  {
   "cell_type": "code",
   "execution_count": 14,
   "metadata": {},
   "outputs": [
    {
     "name": "stdout",
     "output_type": "stream",
     "text": [
      "Done.\n",
      "Done.\n"
     ]
    },
    {
     "data": {
      "text/plain": [
       "[]"
      ]
     },
     "execution_count": 14,
     "metadata": {},
     "output_type": "execute_result"
    }
   ],
   "source": [
    "%%sql \n",
    "\n",
    "DROP TABLE IF EXISTS Trabajan;\n",
    "\n",
    "CREATE TABLE Trabajan( id_dpto INT,\n",
    "                     nif VARCHAR(10),\n",
    "                     PRIMARY KEY(id_dpto, nif),\n",
    "                     FOREIGN KEY (id_dpto) REFERENCES Departamentos_Dirigidos(id_dpto),\n",
    "                     FOREIGN KEY(nif) REFERENCES Empleados(nif));"
   ]
  },
  {
   "cell_type": "code",
   "execution_count": 15,
   "metadata": {},
   "outputs": [
    {
     "name": "stdout",
     "output_type": "stream",
     "text": [
      "1 rows affected.\n"
     ]
    },
    {
     "data": {
      "text/plain": [
       "[]"
      ]
     },
     "execution_count": 15,
     "metadata": {},
     "output_type": "execute_result"
    }
   ],
   "source": [
    "%%sql\n",
    "INSERT INTO Empleados(nif, salario, telefono)\n",
    "    VALUES('123456789N', 25000, 665999999);"
   ]
  },
  {
   "cell_type": "code",
   "execution_count": 16,
   "metadata": {},
   "outputs": [
    {
     "name": "stdout",
     "output_type": "stream",
     "text": [
      "1 rows affected.\n"
     ]
    },
    {
     "data": {
      "text/plain": [
       "[]"
      ]
     },
     "execution_count": 16,
     "metadata": {},
     "output_type": "execute_result"
    }
   ],
   "source": [
    "%%sql\n",
    "INSERT INTO Empleados(nif, salario, telefono)\n",
    "    VALUES('444456789N', 28000, 665009000);"
   ]
  },
  {
   "cell_type": "code",
   "execution_count": 20,
   "metadata": {},
   "outputs": [
    {
     "name": "stdout",
     "output_type": "stream",
     "text": [
      "1 rows affected.\n"
     ]
    },
    {
     "data": {
      "text/plain": [
       "[]"
      ]
     },
     "execution_count": 20,
     "metadata": {},
     "output_type": "execute_result"
    }
   ],
   "source": [
    "%%sql\n",
    "INSERT INTO Departamentos_Dirigidos(id_dpto,nombre_dpto, presupuesto, nif)\n",
    "    VALUES(1,'Logistica',10000,'444456789N');"
   ]
  },
  {
   "cell_type": "code",
   "execution_count": 21,
   "metadata": {},
   "outputs": [
    {
     "name": "stdout",
     "output_type": "stream",
     "text": [
      "1 rows affected.\n"
     ]
    },
    {
     "data": {
      "text/plain": [
       "[]"
      ]
     },
     "execution_count": 21,
     "metadata": {},
     "output_type": "execute_result"
    }
   ],
   "source": [
    "%%sql\n",
    "INSERT INTO Hijos(nombre, edad, nif_empleado)\n",
    "    VALUES('Sergio', 21, '444456789N');"
   ]
  },
  {
   "cell_type": "code",
   "execution_count": 22,
   "metadata": {},
   "outputs": [
    {
     "name": "stdout",
     "output_type": "stream",
     "text": [
      "Done.\n"
     ]
    },
    {
     "data": {
      "text/html": [
       "<table>\n",
       "    <tr>\n",
       "        <th>nombre</th>\n",
       "        <th>edad</th>\n",
       "        <th>nif_empleado</th>\n",
       "    </tr>\n",
       "    <tr>\n",
       "        <td>Sergio</td>\n",
       "        <td>21</td>\n",
       "        <td>444456789N</td>\n",
       "    </tr>\n",
       "</table>"
      ],
      "text/plain": [
       "[('Sergio', 21, '444456789N')]"
      ]
     },
     "execution_count": 22,
     "metadata": {},
     "output_type": "execute_result"
    }
   ],
   "source": [
    "%sql SELECT * FROM Hijos"
   ]
  },
  {
   "cell_type": "code",
   "execution_count": 25,
   "metadata": {},
   "outputs": [
    {
     "name": "stdout",
     "output_type": "stream",
     "text": [
      "Done.\n"
     ]
    },
    {
     "data": {
      "text/html": [
       "<table>\n",
       "    <tr>\n",
       "        <th>id_dpto</th>\n",
       "        <th>nombre_dpto</th>\n",
       "        <th>presupuesto</th>\n",
       "        <th>nif</th>\n",
       "    </tr>\n",
       "    <tr>\n",
       "        <td>1</td>\n",
       "        <td>Logistica</td>\n",
       "        <td>10000.0</td>\n",
       "        <td>444456789N</td>\n",
       "    </tr>\n",
       "</table>"
      ],
      "text/plain": [
       "[(1, 'Logistica', 10000.0, '444456789N')]"
      ]
     },
     "execution_count": 25,
     "metadata": {},
     "output_type": "execute_result"
    }
   ],
   "source": [
    "%sql SELECT * FROM Departamentos_Dirigidos\n",
    "\n"
   ]
  },
  {
   "cell_type": "code",
   "execution_count": 26,
   "metadata": {},
   "outputs": [
    {
     "name": "stdout",
     "output_type": "stream",
     "text": [
      "Done.\n"
     ]
    },
    {
     "data": {
      "text/html": [
       "<table>\n",
       "    <tr>\n",
       "        <th>nif</th>\n",
       "        <th>salario</th>\n",
       "        <th>telefono</th>\n",
       "    </tr>\n",
       "    <tr>\n",
       "        <td>123456789N</td>\n",
       "        <td>25000.0</td>\n",
       "        <td>665999999</td>\n",
       "    </tr>\n",
       "    <tr>\n",
       "        <td>444456789N</td>\n",
       "        <td>28000.0</td>\n",
       "        <td>665009000</td>\n",
       "    </tr>\n",
       "</table>"
      ],
      "text/plain": [
       "[('123456789N', 25000.0, 665999999), ('444456789N', 28000.0, 665009000)]"
      ]
     },
     "execution_count": 26,
     "metadata": {},
     "output_type": "execute_result"
    }
   ],
   "source": [
    "%sql SELECT * FROM Empleados\n"
   ]
  },
  {
   "cell_type": "code",
   "execution_count": 27,
   "metadata": {},
   "outputs": [
    {
     "name": "stdout",
     "output_type": "stream",
     "text": [
      "1 rows affected.\n"
     ]
    },
    {
     "data": {
      "text/plain": [
       "[]"
      ]
     },
     "execution_count": 27,
     "metadata": {},
     "output_type": "execute_result"
    }
   ],
   "source": [
    "%%sql\n",
    "INSERT INTO Hijos(nombre, edad, nif_empleado)\n",
    "    VALUES('Cayetana', 21, '123456789N');"
   ]
  },
  {
   "cell_type": "code",
   "execution_count": 30,
   "metadata": {},
   "outputs": [
    {
     "name": "stdout",
     "output_type": "stream",
     "text": [
      "1 rows affected.\n"
     ]
    },
    {
     "data": {
      "text/plain": [
       "[]"
      ]
     },
     "execution_count": 30,
     "metadata": {},
     "output_type": "execute_result"
    }
   ],
   "source": [
    "%%sql\n",
    "INSERT INTO Departamentos_Dirigidos(id_dpto,nombre_dpto, presupuesto, nif)\n",
    "    VALUES(2,'Administracion',50000,'123456789N');"
   ]
  },
  {
   "cell_type": "code",
   "execution_count": 31,
   "metadata": {},
   "outputs": [
    {
     "name": "stdout",
     "output_type": "stream",
     "text": [
      "1 rows affected.\n"
     ]
    },
    {
     "data": {
      "text/plain": [
       "[]"
      ]
     },
     "execution_count": 31,
     "metadata": {},
     "output_type": "execute_result"
    }
   ],
   "source": [
    "%%sql\n",
    "INSERT INTO Empleados(nif, salario, telefono)\n",
    "    VALUES('111111111Z', 18000, 666444555);"
   ]
  },
  {
   "cell_type": "code",
   "execution_count": 32,
   "metadata": {},
   "outputs": [
    {
     "name": "stdout",
     "output_type": "stream",
     "text": [
      "1 rows affected.\n"
     ]
    },
    {
     "data": {
      "text/plain": [
       "[]"
      ]
     },
     "execution_count": 32,
     "metadata": {},
     "output_type": "execute_result"
    }
   ],
   "source": [
    "%%sql\n",
    "INSERT INTO Empleados(nif, salario, telefono)\n",
    "    VALUES('333333333Z', 12000, 666000333);"
   ]
  },
  {
   "cell_type": "code",
   "execution_count": 40,
   "metadata": {},
   "outputs": [
    {
     "name": "stdout",
     "output_type": "stream",
     "text": [
      "Done.\n"
     ]
    },
    {
     "data": {
      "text/html": [
       "<table>\n",
       "    <tr>\n",
       "        <th>nif</th>\n",
       "        <th>salario</th>\n",
       "        <th>telefono</th>\n",
       "        <th>id_dpto</th>\n",
       "        <th>nombre_dpto</th>\n",
       "        <th>presupuesto</th>\n",
       "        <th>nif_1</th>\n",
       "    </tr>\n",
       "    <tr>\n",
       "        <td>444456789N</td>\n",
       "        <td>28000.0</td>\n",
       "        <td>665009000</td>\n",
       "        <td>1</td>\n",
       "        <td>Logistica</td>\n",
       "        <td>10000.0</td>\n",
       "        <td>444456789N</td>\n",
       "    </tr>\n",
       "    <tr>\n",
       "        <td>123456789N</td>\n",
       "        <td>25000.0</td>\n",
       "        <td>665999999</td>\n",
       "        <td>2</td>\n",
       "        <td>Administracion</td>\n",
       "        <td>50000.0</td>\n",
       "        <td>123456789N</td>\n",
       "    </tr>\n",
       "</table>"
      ],
      "text/plain": [
       "[('444456789N', 28000.0, 665009000, 1, 'Logistica', 10000.0, '444456789N'),\n",
       " ('123456789N', 25000.0, 665999999, 2, 'Administracion', 50000.0, '123456789N')]"
      ]
     },
     "execution_count": 40,
     "metadata": {},
     "output_type": "execute_result"
    }
   ],
   "source": [
    "%%sql\n",
    "SELECT *\n",
    "FROM Empleados\n",
    "INNER JOIN Departamentos_Dirigidos \n",
    "ON Empleados.nif = Departamentos_Dirigidos.nif"
   ]
  },
  {
   "cell_type": "code",
   "execution_count": 42,
   "metadata": {},
   "outputs": [
    {
     "name": "stdout",
     "output_type": "stream",
     "text": [
      "Done.\n"
     ]
    },
    {
     "data": {
      "text/html": [
       "<table>\n",
       "    <tr>\n",
       "        <th>nif</th>\n",
       "        <th>salario</th>\n",
       "        <th>telefono</th>\n",
       "        <th>nombre</th>\n",
       "        <th>edad</th>\n",
       "        <th>nif_empleado</th>\n",
       "    </tr>\n",
       "    <tr>\n",
       "        <td>444456789N</td>\n",
       "        <td>28000.0</td>\n",
       "        <td>665009000</td>\n",
       "        <td>Sergio</td>\n",
       "        <td>21</td>\n",
       "        <td>444456789N</td>\n",
       "    </tr>\n",
       "    <tr>\n",
       "        <td>123456789N</td>\n",
       "        <td>25000.0</td>\n",
       "        <td>665999999</td>\n",
       "        <td>Cayetana</td>\n",
       "        <td>21</td>\n",
       "        <td>123456789N</td>\n",
       "    </tr>\n",
       "</table>"
      ],
      "text/plain": [
       "[('444456789N', 28000.0, 665009000, 'Sergio', 21, '444456789N'),\n",
       " ('123456789N', 25000.0, 665999999, 'Cayetana', 21, '123456789N')]"
      ]
     },
     "execution_count": 42,
     "metadata": {},
     "output_type": "execute_result"
    }
   ],
   "source": [
    "%%sql\n",
    "SELECT *\n",
    "FROM Empleados\n",
    "INNER JOIN Hijos \n",
    "ON Empleados.nif = Hijos.nif_empleado"
   ]
  },
  {
   "cell_type": "code",
   "execution_count": 44,
   "metadata": {},
   "outputs": [
    {
     "name": "stdout",
     "output_type": "stream",
     "text": [
      "Done.\n"
     ]
    },
    {
     "data": {
      "text/html": [
       "<table>\n",
       "    <tr>\n",
       "        <th>nif</th>\n",
       "        <th>salario</th>\n",
       "        <th>telefono</th>\n",
       "    </tr>\n",
       "    <tr>\n",
       "        <td>444456789N</td>\n",
       "        <td>28000.0</td>\n",
       "        <td>665009000</td>\n",
       "    </tr>\n",
       "    <tr>\n",
       "        <td>123456789N</td>\n",
       "        <td>25000.0</td>\n",
       "        <td>665999999</td>\n",
       "    </tr>\n",
       "    <tr>\n",
       "        <td>111111111Z</td>\n",
       "        <td>18000.0</td>\n",
       "        <td>666444555</td>\n",
       "    </tr>\n",
       "    <tr>\n",
       "        <td>333333333Z</td>\n",
       "        <td>12000.0</td>\n",
       "        <td>666000333</td>\n",
       "    </tr>\n",
       "</table>"
      ],
      "text/plain": [
       "[('444456789N', 28000.0, 665009000),\n",
       " ('123456789N', 25000.0, 665999999),\n",
       " ('111111111Z', 18000.0, 666444555),\n",
       " ('333333333Z', 12000.0, 666000333)]"
      ]
     },
     "execution_count": 44,
     "metadata": {},
     "output_type": "execute_result"
    }
   ],
   "source": [
    "%%sql\n",
    "SELECT *\n",
    "FROM Empleados\n",
    "ORDER BY Salario DESC"
   ]
  },
  {
   "cell_type": "code",
   "execution_count": 53,
   "metadata": {},
   "outputs": [
    {
     "name": "stdout",
     "output_type": "stream",
     "text": [
      "Done.\n"
     ]
    },
    {
     "data": {
      "text/html": [
       "<table>\n",
       "    <tr>\n",
       "        <th>nif</th>\n",
       "        <th>salario</th>\n",
       "        <th>telefono</th>\n",
       "    </tr>\n",
       "    <tr>\n",
       "        <td>111111111Z</td>\n",
       "        <td>18000.0</td>\n",
       "        <td>666444555</td>\n",
       "    </tr>\n",
       "</table>"
      ],
      "text/plain": [
       "[('111111111Z', 18000.0, 666444555)]"
      ]
     },
     "execution_count": 53,
     "metadata": {},
     "output_type": "execute_result"
    }
   ],
   "source": [
    "%%sql\n",
    "SELECT *\n",
    "FROM Empleados\n",
    "WHERE Salario < 20000 AND Salario > 13000"
   ]
  },
  {
   "cell_type": "code",
   "execution_count": 47,
   "metadata": {},
   "outputs": [
    {
     "name": "stdout",
     "output_type": "stream",
     "text": [
      "Done.\n"
     ]
    },
    {
     "data": {
      "text/html": [
       "<table>\n",
       "    <tr>\n",
       "        <th>nif</th>\n",
       "        <th>salario</th>\n",
       "        <th>telefono</th>\n",
       "    </tr>\n",
       "    <tr>\n",
       "        <td>444456789N</td>\n",
       "        <td>28000.0</td>\n",
       "        <td>665009000</td>\n",
       "    </tr>\n",
       "    <tr>\n",
       "        <td>123456789N</td>\n",
       "        <td>25000.0</td>\n",
       "        <td>665999999</td>\n",
       "    </tr>\n",
       "</table>"
      ],
      "text/plain": [
       "[('444456789N', 28000.0, 665009000), ('123456789N', 25000.0, 665999999)]"
      ]
     },
     "execution_count": 47,
     "metadata": {},
     "output_type": "execute_result"
    }
   ],
   "source": [
    "%%sql\n",
    "SELECT *\n",
    "FROM Empleados\n",
    "ORDER BY Salario DESC LIMIT 2"
   ]
  },
  {
   "cell_type": "code",
   "execution_count": null,
   "metadata": {
    "collapsed": true
   },
   "outputs": [],
   "source": []
  }
 ],
 "metadata": {
  "kernelspec": {
   "display_name": "Python 3",
   "language": "python",
   "name": "python3"
  },
  "language_info": {
   "codemirror_mode": {
    "name": "ipython",
    "version": 3
   },
   "file_extension": ".py",
   "mimetype": "text/x-python",
   "name": "python",
   "nbconvert_exporter": "python",
   "pygments_lexer": "ipython3",
   "version": "3.5.2"
  }
 },
 "nbformat": 4,
 "nbformat_minor": 2
}
