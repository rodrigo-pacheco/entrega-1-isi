{
 "cells": [
  {
   "cell_type": "code",
   "execution_count": 1,
   "metadata": {},
   "outputs": [
    {
     "data": {
      "text/plain": [
       "'Connected: None@ejercicio5.db'"
      ]
     },
     "execution_count": 1,
     "metadata": {},
     "output_type": "execute_result"
    }
   ],
   "source": [
    "%load_ext sql\n",
    "%sql sqlite:///ejercicio5.db"
   ]
  },
  {
   "cell_type": "markdown",
   "metadata": {},
   "source": [
    "<img src=\"Ejercicio2.5.jpeg\">"
   ]
  },
  {
   "cell_type": "code",
   "execution_count": 2,
   "metadata": {},
   "outputs": [
    {
     "name": "stdout",
     "output_type": "stream",
     "text": [
      "Done.\n"
     ]
    },
    {
     "data": {
      "text/plain": [
       "[]"
      ]
     },
     "execution_count": 2,
     "metadata": {},
     "output_type": "execute_result"
    }
   ],
   "source": [
    "%%sql create table medico(nif varchar(10),\n",
    "                            nombre varchar(20),\n",
    "                            especialidad varchar(20),\n",
    "                            experiencia int(3),\n",
    "                            primary key(nif));"
   ]
  },
  {
   "cell_type": "code",
   "execution_count": 3,
   "metadata": {},
   "outputs": [
    {
     "name": "stdout",
     "output_type": "stream",
     "text": [
      "Done.\n"
     ]
    },
    {
     "data": {
      "text/plain": [
       "[]"
      ]
     },
     "execution_count": 3,
     "metadata": {},
     "output_type": "execute_result"
    }
   ],
   "source": [
    "%%sql create table paciente(nif varchar(10),\n",
    "                            nombre varchar(20),\n",
    "                            direccion varchar(20),\n",
    "                            edad int(3),\n",
    "                            nifMedico varchar(10) NOT NULL,\n",
    "                            FOREIGN KEY (nifMedico) REFERENCES medico(nifMedico)\n",
    "                            primary key(nif));"
   ]
  },
  {
   "cell_type": "code",
   "execution_count": 4,
   "metadata": {},
   "outputs": [
    {
     "name": "stdout",
     "output_type": "stream",
     "text": [
      "Done.\n"
     ]
    },
    {
     "data": {
      "text/plain": [
       "[]"
      ]
     },
     "execution_count": 4,
     "metadata": {},
     "output_type": "execute_result"
    }
   ],
   "source": [
    "%%sql create table receta(idReceta varchar(10),\n",
    "                          fecha varchar(20),\n",
    "                          cantidad int(3),\n",
    "                          primary key(idReceta));"
   ]
  },
  {
   "cell_type": "code",
   "execution_count": 5,
   "metadata": {},
   "outputs": [
    {
     "name": "stdout",
     "output_type": "stream",
     "text": [
      "Done.\n"
     ]
    },
    {
     "data": {
      "text/plain": [
       "[]"
      ]
     },
     "execution_count": 5,
     "metadata": {},
     "output_type": "execute_result"
    }
   ],
   "source": [
    "%%sql create table farmaceutica(nombre varchar(15),\n",
    "                          tlf varchar(9),\n",
    "                          primary key(nombre));"
   ]
  },
  {
   "cell_type": "code",
   "execution_count": 6,
   "metadata": {},
   "outputs": [
    {
     "name": "stdout",
     "output_type": "stream",
     "text": [
      "Done.\n"
     ]
    },
    {
     "data": {
      "text/plain": [
       "[]"
      ]
     },
     "execution_count": 6,
     "metadata": {},
     "output_type": "execute_result"
    }
   ],
   "source": [
    "%%sql create table farmacia(nombre varchar(15),\n",
    "                          tlf varchar(9),\n",
    "                          direccion varchar(20),\n",
    "                          primary key(nombre));"
   ]
  },
  {
   "cell_type": "code",
   "execution_count": 7,
   "metadata": {},
   "outputs": [
    {
     "name": "stdout",
     "output_type": "stream",
     "text": [
      "Done.\n"
     ]
    },
    {
     "data": {
      "text/plain": [
       "[]"
      ]
     },
     "execution_count": 7,
     "metadata": {},
     "output_type": "execute_result"
    }
   ],
   "source": [
    "%%sql create table supervisor(nif varchar(10),\n",
    "                          primary key(nif));"
   ]
  },
  {
   "cell_type": "code",
   "execution_count": 8,
   "metadata": {},
   "outputs": [
    {
     "name": "stdout",
     "output_type": "stream",
     "text": [
      "Done.\n"
     ]
    },
    {
     "data": {
      "text/plain": [
       "[]"
      ]
     },
     "execution_count": 8,
     "metadata": {},
     "output_type": "execute_result"
    }
   ],
   "source": [
    "%%sql create table medicamento(nombre varchar(15),\n",
    "                          formula varchar(20),\n",
    "                          direccion varchar(20),\n",
    "                          nombreFarmaceutica varchar(15) NOT NULL,\n",
    "                          primary key(nombre, nombreFarmaceutica),\n",
    "                          FOREIGN KEY (nombreFarmaceutica) REFERENCES farmaceutica(nombreFarmaceutica));"
   ]
  },
  {
   "cell_type": "code",
   "execution_count": 9,
   "metadata": {},
   "outputs": [
    {
     "name": "stdout",
     "output_type": "stream",
     "text": [
      "Done.\n"
     ]
    },
    {
     "data": {
      "text/plain": [
       "[]"
      ]
     },
     "execution_count": 9,
     "metadata": {},
     "output_type": "execute_result"
    }
   ],
   "source": [
    "%%sql create table hace(nifPaciente varchar(10),\n",
    "                          nifMedico varchar(10),\n",
    "                          idReceta varchar(10),\n",
    "                          primary key(nifPaciente, nifMedico, idReceta),\n",
    "                          FOREIGN KEY (nifPaciente) REFERENCES paciente(nif),\n",
    "                          FOREIGN KEY (nifMedico) REFERENCES farmaceutica(nif),\n",
    "                          FOREIGN KEY (idReceta) REFERENCES receta(idReceta));"
   ]
  },
  {
   "cell_type": "code",
   "execution_count": 10,
   "metadata": {},
   "outputs": [
    {
     "name": "stdout",
     "output_type": "stream",
     "text": [
      "Done.\n"
     ]
    },
    {
     "data": {
      "text/plain": [
       "[]"
      ]
     },
     "execution_count": 10,
     "metadata": {},
     "output_type": "execute_result"
    }
   ],
   "source": [
    "%%sql create table tiene(nombreMedicamento varchar(15) NOT NULL,\n",
    "                         idReceta varchar(10),\n",
    "                          primary key(nombreMedicamento, idReceta),\n",
    "                          FOREIGN KEY (nombreMedicamento) REFERENCES medicamento(nombre),\n",
    "                          FOREIGN KEY (idReceta) REFERENCES receta(idReceta));"
   ]
  },
  {
   "cell_type": "code",
   "execution_count": 11,
   "metadata": {},
   "outputs": [
    {
     "name": "stdout",
     "output_type": "stream",
     "text": [
      "Done.\n"
     ]
    },
    {
     "data": {
      "text/plain": [
       "[]"
      ]
     },
     "execution_count": 11,
     "metadata": {},
     "output_type": "execute_result"
    }
   ],
   "source": [
    "%%sql create table vende(nombreMedicamento varchar(15),\n",
    "                         nombreFarmacia varchar(15),\n",
    "                         precio int(3),\n",
    "                          primary key(nombreMedicamento, nombreFarmacia),\n",
    "                          FOREIGN KEY (nombreMedicamento) REFERENCES medicamento(nombre),\n",
    "                          FOREIGN KEY (nombreFarmacia) REFERENCES farmacia(nombre));"
   ]
  },
  {
   "cell_type": "code",
   "execution_count": null,
   "metadata": {},
   "outputs": [],
   "source": [
    "%%sql create table contrata(nombreFarmaceutica varchar(15),\n",
    "                            nombreFarmacia varchar(15),\n",
    "                            fechaInicio varchar(10),\n",
    "                            fechaSalida varchar(10),\n",
    "                            condiciones varchar(20),\n",
    "                          primary key(nombreFarmaceutica, nombreFarmacia),\n",
    "                          FOREIGN KEY (nombreFarmaceutica) REFERENCES farmaceutica(nombre),\n",
    "                          FOREIGN KEY (nombreFarmacia) REFERENCES farmacia(nombre));"
   ]
  },
  {
   "cell_type": "code",
   "execution_count": 12,
   "metadata": {},
   "outputs": [
    {
     "name": "stdout",
     "output_type": "stream",
     "text": [
      "Done.\n"
     ]
    },
    {
     "data": {
      "text/plain": [
       "[]"
      ]
     },
     "execution_count": 12,
     "metadata": {},
     "output_type": "execute_result"
    }
   ],
   "source": [
    "%%sql create table asigna(nifSupervisor varchar(10),\n",
    "                         nombreFarmacia varchar(15),\n",
    "                          primary key(nifSupervisor, nombreFarmacia),\n",
    "                          FOREIGN KEY (nifSupervisor) REFERENCES supervisor(nif),\n",
    "                          FOREIGN KEY (nombreFarmacia) REFERENCES farmacia(nombre));"
   ]
  },
  {
   "cell_type": "code",
   "execution_count": 15,
   "metadata": {},
   "outputs": [
    {
     "name": "stdout",
     "output_type": "stream",
     "text": [
      "Done.\n"
     ]
    },
    {
     "data": {
      "text/plain": [
       "[]"
      ]
     },
     "execution_count": 15,
     "metadata": {},
     "output_type": "execute_result"
    }
   ],
   "source": [
    "%%sql create table supervisa(nobreFarmaceutica varchar(15),\n",
    "                             nombreFarmacia varchar(15),\n",
    "                             nifSupervisor varchar(10),\n",
    "                          primary key(nobreFarmaceutica, nombreFarmacia, nifSupervisor),\n",
    "                          FOREIGN KEY (nifSupervisor) REFERENCES supervisor(nif),\n",
    "                          FOREIGN KEY (nobreFarmaceutica, nombreFarmacia) REFERENCES contrata(nobreFarmaceutica, nombreFarmacia));"
   ]
  }
 ],
 "metadata": {
  "kernelspec": {
   "display_name": "Python 3",
   "language": "python",
   "name": "python3"
  },
  "language_info": {
   "codemirror_mode": {
    "name": "ipython",
    "version": 3
   },
   "file_extension": ".py",
   "mimetype": "text/x-python",
   "name": "python",
   "nbconvert_exporter": "python",
   "pygments_lexer": "ipython3",
   "version": "3.5.2"
  }
 },
 "nbformat": 4,
 "nbformat_minor": 2
}
