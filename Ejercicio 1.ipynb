{
 "cells": [
  {
   "cell_type": "markdown",
   "metadata": {},
   "source": [
    "# Ejercicio 1 Víctor Manuel Tenorio Gómez"
   ]
  },
  {
   "cell_type": "markdown",
   "metadata": {},
   "source": [
    "### Esquemas\n",
    "\n",
    "![Esquema base de datos](Esquemas_bbdd_isi_1.jpg \"Esquema bases de datos\")"
   ]
  },
  {
   "cell_type": "code",
   "execution_count": null,
   "metadata": {},
   "outputs": [],
   "source": [
    "%load_ext sql"
   ]
  },
  {
   "cell_type": "code",
   "execution_count": 3,
   "metadata": {},
   "outputs": [
    {
     "data": {
      "text/plain": [
       "'Connected: None@None'"
      ]
     },
     "execution_count": 3,
     "metadata": {},
     "output_type": "execute_result"
    }
   ],
   "source": [
    "%sql sqlite://"
   ]
  },
  {
   "cell_type": "code",
   "execution_count": 64,
   "metadata": {},
   "outputs": [
    {
     "name": "stdout",
     "output_type": "stream",
     "text": [
      "Done.\n",
      "Done.\n",
      "Done.\n",
      "Done.\n",
      "Done.\n",
      "Done.\n",
      "Done.\n"
     ]
    },
    {
     "data": {
      "text/plain": [
       "[]"
      ]
     },
     "execution_count": 64,
     "metadata": {},
     "output_type": "execute_result"
    }
   ],
   "source": [
    "%%sql\n",
    "DROP TABLE IF EXISTS Profesor;\n",
    "DROP TABLE IF EXISTS Asignaturas;\n",
    "DROP TABLE IF EXISTS Cuatrimestre;\n",
    "DROP TABLE IF EXISTS Enseñan;\n",
    "DROP TABLE IF EXISTS Grupos;\n",
    "DROP TABLE IF EXISTS Pueden_dar;\n",
    "DROP TABLE IF EXISTS Pertenecen;"
   ]
  },
  {
   "cell_type": "code",
   "execution_count": 63,
   "metadata": {},
   "outputs": [
    {
     "name": "stdout",
     "output_type": "stream",
     "text": [
      "Done.\n"
     ]
    },
    {
     "data": {
      "text/html": [
       "<table>\n",
       "    <tr>\n",
       "        <th>type</th>\n",
       "        <th>name</th>\n",
       "        <th>tbl_name</th>\n",
       "        <th>rootpage</th>\n",
       "        <th>sql</th>\n",
       "    </tr>\n",
       "    <tr>\n",
       "        <td>table</td>\n",
       "        <td>Grupos</td>\n",
       "        <td>Grupos</td>\n",
       "        <td>7</td>\n",
       "        <td>CREATE TABLE Grupos (nombre VARCHAR(20),<br>                     PRIMARY KEY(nombre))</td>\n",
       "    </tr>\n",
       "    <tr>\n",
       "        <td>index</td>\n",
       "        <td>sqlite_autoindex_Grupos_1</td>\n",
       "        <td>Grupos</td>\n",
       "        <td>8</td>\n",
       "        <td>None</td>\n",
       "    </tr>\n",
       "    <tr>\n",
       "        <td>table</td>\n",
       "        <td>Pueden_dar</td>\n",
       "        <td>Pueden_dar</td>\n",
       "        <td>9</td>\n",
       "        <td>CREATE TABLE Pueden_dar (nif VARCHAR(9),<br>                      cod_asig INT,<br>                      PRIMARY KEY(nif, cod_asig),<br>                      FOREIGN KEY(nif) REFERENCES Profesor(nif),<br>                      FOREIGN KEY(cod_asig) REFERENCES Asignatura(codigo))</td>\n",
       "    </tr>\n",
       "    <tr>\n",
       "        <td>index</td>\n",
       "        <td>sqlite_autoindex_Pueden_dar_1</td>\n",
       "        <td>Pueden_dar</td>\n",
       "        <td>3</td>\n",
       "        <td>None</td>\n",
       "    </tr>\n",
       "    <tr>\n",
       "        <td>table</td>\n",
       "        <td>Pertenecen</td>\n",
       "        <td>Pertenecen</td>\n",
       "        <td>14</td>\n",
       "        <td>CREATE TABLE Pertenecen (nif VARCHAR(9),<br>                      grupo VARCHAR(20),<br>                      PRIMARY KEY(nif, grupo),<br>                      FOREIGN KEY(nif) REFERENCES Profesor(nif),<br>                      FOREIGN KEY(grupo) REFERENCES Grupos(nombre))</td>\n",
       "    </tr>\n",
       "    <tr>\n",
       "        <td>index</td>\n",
       "        <td>sqlite_autoindex_Pertenecen_1</td>\n",
       "        <td>Pertenecen</td>\n",
       "        <td>15</td>\n",
       "        <td>None</td>\n",
       "    </tr>\n",
       "    <tr>\n",
       "        <td>table</td>\n",
       "        <td>Enseñan</td>\n",
       "        <td>Enseñan</td>\n",
       "        <td>2</td>\n",
       "        <td>CREATE TABLE Enseñan (nif VARCHAR(9),<br>                      cod_asig INT,<br>                      fecha VARCHAR(20),<br>                      PRIMARY KEY(nif, cod_asig, fecha),<br>                      FOREIGN KEY(nif) REFERENCES Profesor(nif),<br>                      FOREIGN KEY(cod_asig) REFERENCES Asignatura(codigo),<br>                      FOREIGN KEY(fecha) REFERENCES Cuatrimestre (fecha))</td>\n",
       "    </tr>\n",
       "    <tr>\n",
       "        <td>index</td>\n",
       "        <td>sqlite_autoindex_Enseñan_1</td>\n",
       "        <td>Enseñan</td>\n",
       "        <td>5</td>\n",
       "        <td>None</td>\n",
       "    </tr>\n",
       "</table>"
      ],
      "text/plain": [
       "[('table', 'Grupos', 'Grupos', 7, 'CREATE TABLE Grupos (nombre VARCHAR(20),\\n                     PRIMARY KEY(nombre))'),\n",
       " ('index', 'sqlite_autoindex_Grupos_1', 'Grupos', 8, None),\n",
       " ('table', 'Pueden_dar', 'Pueden_dar', 9, 'CREATE TABLE Pueden_dar (nif VARCHAR(9),\\n                      cod_asig INT,\\n                      PRIMARY KEY(nif, cod_asig),\\n                      FOREIGN KEY(nif) REFERENCES Profesor(nif),\\n                      FOREIGN KEY(cod_asig) REFERENCES Asignatura(codigo))'),\n",
       " ('index', 'sqlite_autoindex_Pueden_dar_1', 'Pueden_dar', 3, None),\n",
       " ('table', 'Pertenecen', 'Pertenecen', 14, 'CREATE TABLE Pertenecen (nif VARCHAR(9),\\n                      grupo VARCHAR(20),\\n                      PRIMARY KEY(nif, grupo),\\n                      FOREIGN KEY(nif) REFERENCES Profesor(nif),\\n                      FOREIGN KEY(grupo) REFERENCES Grupos(nombre))'),\n",
       " ('index', 'sqlite_autoindex_Pertenecen_1', 'Pertenecen', 15, None),\n",
       " ('table', 'Enseñan', 'Enseñan', 2, 'CREATE TABLE Enseñan (nif VARCHAR(9),\\n                      cod_asig INT,\\n                      fecha VARCHAR(20),\\n                      PRIMARY K ... (93 characters truncated) ...                       FOREIGN KEY(cod_asig) REFERENCES Asignatura(codigo),\\n                      FOREIGN KEY(fecha) REFERENCES Cuatrimestre (fecha))'),\n",
       " ('index', 'sqlite_autoindex_Enseñan_1', 'Enseñan', 5, None)]"
      ]
     },
     "execution_count": 63,
     "metadata": {},
     "output_type": "execute_result"
    }
   ],
   "source": [
    "%sql SELECT * FROM sqlite_master;"
   ]
  },
  {
   "cell_type": "markdown",
   "metadata": {},
   "source": [
    "# Ejercicio 1.1"
   ]
  },
  {
   "cell_type": "code",
   "execution_count": 4,
   "metadata": {},
   "outputs": [
    {
     "name": "stdout",
     "output_type": "stream",
     "text": [
      "Done.\n"
     ]
    },
    {
     "data": {
      "text/plain": [
       "[]"
      ]
     },
     "execution_count": 4,
     "metadata": {},
     "output_type": "execute_result"
    }
   ],
   "source": [
    "%%sql\n",
    "DROP TABLE IF EXISTS Profesor;\n",
    "CREATE TABLE Profesor (nif VARCHAR(9),\n",
    "                       PRIMARY KEY(nif));"
   ]
  },
  {
   "cell_type": "code",
   "execution_count": 5,
   "metadata": {},
   "outputs": [
    {
     "name": "stdout",
     "output_type": "stream",
     "text": [
      "Done.\n"
     ]
    },
    {
     "data": {
      "text/plain": [
       "[]"
      ]
     },
     "execution_count": 5,
     "metadata": {},
     "output_type": "execute_result"
    }
   ],
   "source": [
    "%%sql\n",
    "DROP TABLE IF EXISTS Asignaturas;\n",
    "CREATE TABLE Asignaturas (codigo INT,\n",
    "                          PRIMARY KEY(codigo));"
   ]
  },
  {
   "cell_type": "code",
   "execution_count": 6,
   "metadata": {},
   "outputs": [
    {
     "name": "stdout",
     "output_type": "stream",
     "text": [
      "Done.\n"
     ]
    },
    {
     "data": {
      "text/plain": [
       "[]"
      ]
     },
     "execution_count": 6,
     "metadata": {},
     "output_type": "execute_result"
    }
   ],
   "source": [
    "%%sql\n",
    "DROP TABLE IF EXISTS Cuatrimestre;\n",
    "CREATE TABLE Cuatrimestre (fecha VARCHAR(20),\n",
    "                           PRIMARY KEY(fecha));"
   ]
  },
  {
   "cell_type": "code",
   "execution_count": 62,
   "metadata": {},
   "outputs": [
    {
     "name": "stdout",
     "output_type": "stream",
     "text": [
      "Done.\n",
      "Done.\n"
     ]
    },
    {
     "data": {
      "text/plain": [
       "[]"
      ]
     },
     "execution_count": 62,
     "metadata": {},
     "output_type": "execute_result"
    }
   ],
   "source": [
    "%%sql\n",
    "DROP TABLE IF EXISTS Enseñan;\n",
    "CREATE TABLE Enseñan (nif VARCHAR(9),\n",
    "                      cod_asig INT,\n",
    "                      fecha VARCHAR(20),\n",
    "                      PRIMARY KEY(nif, cod_asig, fecha),\n",
    "                      FOREIGN KEY(nif) REFERENCES Profesor(nif),\n",
    "                      FOREIGN KEY(cod_asig) REFERENCES Asignatura(codigo),\n",
    "                      FOREIGN KEY(fecha) REFERENCES Cuatrimestre (fecha));"
   ]
  },
  {
   "cell_type": "code",
   "execution_count": 9,
   "metadata": {},
   "outputs": [
    {
     "name": "stdout",
     "output_type": "stream",
     "text": [
      "Done.\n"
     ]
    },
    {
     "data": {
      "text/html": [
       "<table>\n",
       "    <tr>\n",
       "        <th>nif</th>\n",
       "        <th>cod_asig</th>\n",
       "        <th>fecha</th>\n",
       "    </tr>\n",
       "</table>"
      ],
      "text/plain": [
       "[]"
      ]
     },
     "execution_count": 9,
     "metadata": {},
     "output_type": "execute_result"
    }
   ],
   "source": [
    "%sql SELECT * FROM Enseñan;"
   ]
  },
  {
   "cell_type": "markdown",
   "metadata": {},
   "source": [
    "# Ejercicio 1.2"
   ]
  },
  {
   "cell_type": "code",
   "execution_count": 23,
   "metadata": {},
   "outputs": [
    {
     "name": "stdout",
     "output_type": "stream",
     "text": [
      "Done.\n",
      "Done.\n"
     ]
    },
    {
     "data": {
      "text/plain": [
       "[]"
      ]
     },
     "execution_count": 23,
     "metadata": {},
     "output_type": "execute_result"
    }
   ],
   "source": [
    "%%sql\n",
    "DROP TABLE IF EXISTS Profesor;\n",
    "CREATE TABLE Profesor (nif VARCHAR(9),\n",
    "                       PRIMARY KEY(nif));"
   ]
  },
  {
   "cell_type": "code",
   "execution_count": 24,
   "metadata": {},
   "outputs": [
    {
     "name": "stdout",
     "output_type": "stream",
     "text": [
      "Done.\n",
      "Done.\n"
     ]
    },
    {
     "data": {
      "text/plain": [
       "[]"
      ]
     },
     "execution_count": 24,
     "metadata": {},
     "output_type": "execute_result"
    }
   ],
   "source": [
    "%%sql\n",
    "DROP TABLE IF EXISTS Asignaturas;\n",
    "CREATE TABLE Asignaturas (codigo INT,\n",
    "                          PRIMARY KEY(codigo));"
   ]
  },
  {
   "cell_type": "code",
   "execution_count": 25,
   "metadata": {},
   "outputs": [
    {
     "name": "stdout",
     "output_type": "stream",
     "text": [
      "Done.\n",
      "Done.\n"
     ]
    },
    {
     "data": {
      "text/plain": [
       "[]"
      ]
     },
     "execution_count": 25,
     "metadata": {},
     "output_type": "execute_result"
    }
   ],
   "source": [
    "%%sql\n",
    "DROP TABLE IF EXISTS Enseñan;\n",
    "CREATE TABLE Enseñan (nif VARCHAR(9),\n",
    "                      cod_asig INT,\n",
    "                      fecha VARCHAR(20),\n",
    "                      PRIMARY KEY(nif, cod_asig),\n",
    "                      FOREIGN KEY(nif) REFERENCES Profesor(nif),\n",
    "                      FOREIGN KEY(cod_asig) REFERENCES Asignatura(codigo));"
   ]
  },
  {
   "cell_type": "markdown",
   "metadata": {},
   "source": [
    "# Ejercicio 1.3"
   ]
  },
  {
   "cell_type": "code",
   "execution_count": null,
   "metadata": {},
   "outputs": [],
   "source": [
    "%%sql\n",
    "DROP TABLE IF EXISTS Profesor;\n",
    "CREATE TABLE Profesor (nif VARCHAR(9),\n",
    "                       PRIMARY KEY(nif));"
   ]
  },
  {
   "cell_type": "code",
   "execution_count": null,
   "metadata": {},
   "outputs": [],
   "source": [
    "%%sql\n",
    "DROP TABLE IF EXISTS Asignaturas;\n",
    "CREATE TABLE Asignaturas (codigo INT,\n",
    "                          PRIMARY KEY(codigo));"
   ]
  },
  {
   "cell_type": "code",
   "execution_count": null,
   "metadata": {},
   "outputs": [],
   "source": [
    "%%sql\n",
    "DROP TABLE IF EXISTS Enseñan;\n",
    "CREATE TABLE Enseñan (nif VARCHAR(9),\n",
    "                      cod_asig INT,\n",
    "                      fecha VARCHAR(20),\n",
    "                      PRIMARY KEY(nif, cod_asig),\n",
    "                      FOREIGN KEY(nif) REFERENCES Profesor(nif),\n",
    "                      FOREIGN KEY(cod_asig) REFERENCES Asignatura(codigo));"
   ]
  },
  {
   "cell_type": "markdown",
   "metadata": {},
   "source": [
    "# Ejercicio 1.4"
   ]
  },
  {
   "cell_type": "code",
   "execution_count": 47,
   "metadata": {},
   "outputs": [
    {
     "name": "stdout",
     "output_type": "stream",
     "text": [
      "Done.\n",
      "Done.\n"
     ]
    },
    {
     "data": {
      "text/plain": [
       "[]"
      ]
     },
     "execution_count": 47,
     "metadata": {},
     "output_type": "execute_result"
    }
   ],
   "source": [
    "%%sql\n",
    "DROP TABLE IF EXISTS Profesor;\n",
    "CREATE TABLE Profesor (nif VARCHAR(9),\n",
    "                       cod_asig INT NOT NULL,\n",
    "                       PRIMARY KEY(nif),\n",
    "                       FOREIGN KEY(cod_asig) REFERENCES Asignaturas(codigo));"
   ]
  },
  {
   "cell_type": "code",
   "execution_count": 42,
   "metadata": {},
   "outputs": [
    {
     "name": "stdout",
     "output_type": "stream",
     "text": [
      "Done.\n",
      "Done.\n"
     ]
    },
    {
     "data": {
      "text/plain": [
       "[]"
      ]
     },
     "execution_count": 42,
     "metadata": {},
     "output_type": "execute_result"
    }
   ],
   "source": [
    "%%sql\n",
    "DROP TABLE IF EXISTS Asignaturas;\n",
    "CREATE TABLE Asignaturas (codigo INT,\n",
    "                          PRIMARY KEY(codigo));"
   ]
  },
  {
   "cell_type": "markdown",
   "metadata": {},
   "source": [
    "# Ejercicio 1.5"
   ]
  },
  {
   "cell_type": "code",
   "execution_count": 51,
   "metadata": {},
   "outputs": [
    {
     "name": "stdout",
     "output_type": "stream",
     "text": [
      "Done.\n",
      "Done.\n"
     ]
    },
    {
     "data": {
      "text/plain": [
       "[]"
      ]
     },
     "execution_count": 51,
     "metadata": {},
     "output_type": "execute_result"
    }
   ],
   "source": [
    "%%sql\n",
    "DROP TABLE IF EXISTS Profesor;\n",
    "CREATE TABLE Profesor (nif VARCHAR(9),\n",
    "                       cod_asig INT NOT NULL,\n",
    "                       PRIMARY KEY(nif),\n",
    "                       FOREIGN KEY(cod_asig) REFERENCES Asignaturas(codigo));"
   ]
  },
  {
   "cell_type": "code",
   "execution_count": null,
   "metadata": {},
   "outputs": [],
   "source": [
    "%%sql\n",
    "DROP TABLE IF EXISTS Asignaturas;\n",
    "CREATE TABLE Asignaturas (codigo INT,\n",
    "                          PRIMARY KEY(codigo));"
   ]
  },
  {
   "cell_type": "markdown",
   "metadata": {},
   "source": [
    "# Ejercicio 1.6"
   ]
  },
  {
   "cell_type": "code",
   "execution_count": 52,
   "metadata": {},
   "outputs": [
    {
     "name": "stdout",
     "output_type": "stream",
     "text": [
      "Done.\n",
      "Done.\n"
     ]
    },
    {
     "data": {
      "text/plain": [
       "[]"
      ]
     },
     "execution_count": 52,
     "metadata": {},
     "output_type": "execute_result"
    }
   ],
   "source": [
    "%%sql\n",
    "DROP TABLE IF EXISTS Profesor;\n",
    "CREATE TABLE Profesor (nif VARCHAR(9),\n",
    "                       PRIMARY KEY(nif));"
   ]
  },
  {
   "cell_type": "code",
   "execution_count": 53,
   "metadata": {},
   "outputs": [
    {
     "name": "stdout",
     "output_type": "stream",
     "text": [
      "Done.\n",
      "Done.\n"
     ]
    },
    {
     "data": {
      "text/plain": [
       "[]"
      ]
     },
     "execution_count": 53,
     "metadata": {},
     "output_type": "execute_result"
    }
   ],
   "source": [
    "%%sql\n",
    "DROP TABLE IF EXISTS Asignaturas;\n",
    "CREATE TABLE Asignaturas (codigo INT,\n",
    "                          PRIMARY KEY(codigo));"
   ]
  },
  {
   "cell_type": "code",
   "execution_count": 54,
   "metadata": {},
   "outputs": [
    {
     "name": "stdout",
     "output_type": "stream",
     "text": [
      "Done.\n",
      "Done.\n"
     ]
    },
    {
     "data": {
      "text/plain": [
       "[]"
      ]
     },
     "execution_count": 54,
     "metadata": {},
     "output_type": "execute_result"
    }
   ],
   "source": [
    "%%sql\n",
    "DROP TABLE IF EXISTS Grupos;\n",
    "CREATE TABLE Grupos (nombre VARCHAR(20),\n",
    "                     PRIMARY KEY(nombre));"
   ]
  },
  {
   "cell_type": "code",
   "execution_count": 55,
   "metadata": {},
   "outputs": [
    {
     "name": "stdout",
     "output_type": "stream",
     "text": [
      "Done.\n",
      "Done.\n"
     ]
    },
    {
     "data": {
      "text/plain": [
       "[]"
      ]
     },
     "execution_count": 55,
     "metadata": {},
     "output_type": "execute_result"
    }
   ],
   "source": [
    "%%sql\n",
    "DROP TABLE IF EXISTS Pueden_dar;\n",
    "CREATE TABLE Pueden_dar (nif VARCHAR(9),\n",
    "                      cod_asig INT,\n",
    "                      PRIMARY KEY(nif, cod_asig),\n",
    "                      FOREIGN KEY(nif) REFERENCES Profesor(nif),\n",
    "                      FOREIGN KEY(cod_asig) REFERENCES Asignatura(codigo));"
   ]
  },
  {
   "cell_type": "code",
   "execution_count": 59,
   "metadata": {},
   "outputs": [
    {
     "name": "stdout",
     "output_type": "stream",
     "text": [
      "Done.\n",
      "Done.\n"
     ]
    },
    {
     "data": {
      "text/plain": [
       "[]"
      ]
     },
     "execution_count": 59,
     "metadata": {},
     "output_type": "execute_result"
    }
   ],
   "source": [
    "%%sql\n",
    "DROP TABLE IF EXISTS Enseñan;\n",
    "CREATE TABLE Enseñan (grupo VARCHAR(20),\n",
    "                      cod_asig INT,\n",
    "                      fecha VARCHAR(20),\n",
    "                      PRIMARY KEY(grupo, cod_asig),\n",
    "                      FOREIGN KEY(grupo) REFERENCES Grupos(nombre),\n",
    "                      FOREIGN KEY(cod_asig) REFERENCES Asignatura(codigo));"
   ]
  },
  {
   "cell_type": "code",
   "execution_count": 60,
   "metadata": {},
   "outputs": [
    {
     "name": "stdout",
     "output_type": "stream",
     "text": [
      "Done.\n",
      "Done.\n"
     ]
    },
    {
     "data": {
      "text/plain": [
       "[]"
      ]
     },
     "execution_count": 60,
     "metadata": {},
     "output_type": "execute_result"
    }
   ],
   "source": [
    "%%sql\n",
    "DROP TABLE IF EXISTS Pertenecen;\n",
    "CREATE TABLE Pertenecen (nif VARCHAR(9),\n",
    "                      grupo VARCHAR(20),\n",
    "                      PRIMARY KEY(nif, grupo),\n",
    "                      FOREIGN KEY(nif) REFERENCES Profesor(nif),\n",
    "                      FOREIGN KEY(grupo) REFERENCES Grupos(nombre));"
   ]
  }
 ],
 "metadata": {
  "kernelspec": {
   "display_name": "Python 3",
   "language": "python",
   "name": "python3"
  },
  "language_info": {
   "codemirror_mode": {
    "name": "ipython",
    "version": 3
   },
   "file_extension": ".py",
   "mimetype": "text/x-python",
   "name": "python",
   "nbconvert_exporter": "python",
   "pygments_lexer": "ipython3",
   "version": "3.5.2"
  }
 },
 "nbformat": 4,
 "nbformat_minor": 2
}
