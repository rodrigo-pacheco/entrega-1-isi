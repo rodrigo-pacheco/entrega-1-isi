{
 "cells": [
  {
   "cell_type": "markdown",
   "metadata": {
    "nbpresent": {
     "id": "9c88d2c7-54c9-4179-9a27-896f300941ff"
    }
   },
   "source": [
    "## Ingeniería de Sistemas de Información\n",
    "\n",
    "# Tema 3: interrogaciones con SQL (1/3)\n",
    "## Cuadernos Ipython\n",
    "\n",
    "\n",
    "Esto es un **cuaderno Ipython**, también conocido como un **cuaderno Jupyter**. Perimite mezclar contenido estático con interrogaciones a una base de datos SQL. Este cuaderno utiliza SQLite como SGBD. Las instrucciones para instalar este entorno de prácticas en casa se encuentran al final de este cuaderno.\n",
    "\n",
    "Para usar este cuaderno Ipython sitúa el cursor en la celda de más arriba (esta que estás leyendo), y después ve pulsando ``SHIFT-ENTER``. De esta forma se irá evaluando cada celda, de arriba abajo. Cuando en una celda haya código, tras evaluarlo con ``SHIFT-ENTER`` se mostrará la salida debajo. \n",
    "\n",
    "Los comandos de Ipython comienzan por '%'.\n",
    "\n",
    "En primer lugar cargamos la [extensión](https://github.com/catherinedevlin/ipython-sql) ipython-sql así:"
   ]
  },
  {
   "cell_type": "code",
   "execution_count": 1,
   "metadata": {
    "nbpresent": {
     "id": "824dec2b-16f4-4ba3-9ad7-c54c327aecbf"
    }
   },
   "outputs": [],
   "source": [
    "%reload_ext sql"
   ]
  },
  {
   "cell_type": "code",
   "execution_count": 2,
   "metadata": {
    "nbpresent": {
     "id": "167c8c98-9e08-49e1-9de2-e23a70b3afbf"
    }
   },
   "outputs": [
    {
     "data": {
      "text/plain": [
       "'Connected: None@ejercicio2.db'"
      ]
     },
     "execution_count": 2,
     "metadata": {},
     "output_type": "execute_result"
    }
   ],
   "source": [
    "%sql sqlite:///ejercicio2.db"
   ]
  },
  {
   "cell_type": "code",
   "execution_count": 7,
   "metadata": {},
   "outputs": [
    {
     "name": "stdout",
     "output_type": "stream",
     "text": [
      "Done.\n",
      "Done.\n"
     ]
    },
    {
     "data": {
      "text/plain": [
       "[]"
      ]
     },
     "execution_count": 7,
     "metadata": {},
     "output_type": "execute_result"
    }
   ],
   "source": [
    "%%sql \n",
    "DROP table IF EXISTS Profesor;\n",
    "CREATE table Profesor (Nif CHAR(10),\n",
    "                      Nombre CHAR(30),\n",
    "                      Edad INT,\n",
    "                      Especialidad CHAR(30),\n",
    "                      Cargo CHAR(30),\n",
    "                      Primary Key (Nif))"
   ]
  },
  {
   "cell_type": "code",
   "execution_count": 15,
   "metadata": {},
   "outputs": [
    {
     "name": "stdout",
     "output_type": "stream",
     "text": [
      "Done.\n",
      "Done.\n"
     ]
    },
    {
     "data": {
      "text/plain": [
       "[]"
      ]
     },
     "execution_count": 15,
     "metadata": {},
     "output_type": "execute_result"
    }
   ],
   "source": [
    "%%sql\n",
    "DROP table IF EXISTS Proyecto;\n",
    "CREATE table Proyecto (NúmeroProyecto INT,\n",
    "                      NombreEntidad CHAR(30),\n",
    "                      FechaInicio DATE,\n",
    "                      FechaFin DATE,\n",
    "                      Presupuesto FLOAT,\n",
    "                      NifProfesor CHAR(10) NOT NULL,\n",
    "                      Foreign Key (NifProfesor) REFERENCES Profesor(Nif),\n",
    "                      Primary Key (NúmeroProyecto))"
   ]
  },
  {
   "cell_type": "code",
   "execution_count": 3,
   "metadata": {},
   "outputs": [
    {
     "name": "stdout",
     "output_type": "stream",
     "text": [
      "Done.\n",
      "Done.\n"
     ]
    },
    {
     "data": {
      "text/plain": [
       "[]"
      ]
     },
     "execution_count": 3,
     "metadata": {},
     "output_type": "execute_result"
    }
   ],
   "source": [
    "%%sql\n",
    "DROP table IF EXISTS Estudiante;\n",
    "CREATE table Estudiante (Nif CHAR(10),\n",
    "                        Nombre CHAR(30),\n",
    "                        Edad INT,\n",
    "                        Titulación CHAR(30),\n",
    "                        Nif_Tutor CHAR(10) NOT NULL,\n",
    "                        NúmeroDepartamento INT NOT NULL,\n",
    "                        Primary Key (Nif),\n",
    "                        Foreign Key (NúmeroDepartamento) REFERENCES Departamento(NúmeroDepartamento)\n",
    "                        Foreign Key (Nif_Tutor) REFERENCES Estudiante(Nif))"
   ]
  },
  {
   "cell_type": "code",
   "execution_count": 4,
   "metadata": {},
   "outputs": [
    {
     "name": "stdout",
     "output_type": "stream",
     "text": [
      "Done.\n",
      "Done.\n"
     ]
    },
    {
     "data": {
      "text/plain": [
       "[]"
      ]
     },
     "execution_count": 4,
     "metadata": {},
     "output_type": "execute_result"
    }
   ],
   "source": [
    "%%sql\n",
    "DROP table IF EXISTS Ayuda;\n",
    "CREATE table Ayuda (NúmeroProyecto INT NOT NULL,\n",
    "                   Nif_Estudiante CHAR(10),\n",
    "                    Nif_Profesor CHAR(10) NOT NULL,\n",
    "                   Primary Key (NúmeroProyecto, Nif_Estudiante),\n",
    "                   Foreign Key (NúmeroProyecto) REFERENCES Proyecto(NúmeroProyecto),\n",
    "                   Foreign Key (Nif_Estudiante) REFERENCES Estudiante(Nif),\n",
    "                   Foreign Key (Nif_Profesor) REFERENCES Profesor(Nif))"
   ]
  },
  {
   "cell_type": "code",
   "execution_count": 21,
   "metadata": {},
   "outputs": [
    {
     "name": "stdout",
     "output_type": "stream",
     "text": [
      "Done.\n",
      "Done.\n"
     ]
    },
    {
     "data": {
      "text/plain": [
       "[]"
      ]
     },
     "execution_count": 21,
     "metadata": {},
     "output_type": "execute_result"
    }
   ],
   "source": [
    "%%sql\n",
    "DROP table IF EXISTS Trabaja_Con;\n",
    "CREATE table Trabaja_Con (Nif_Profesor CHAR(10),\n",
    "                     NúmeroProyecto INT NOT NULL,\n",
    "                      Primary Key (Nif_Profesor, NúmeroProyecto),\n",
    "                     Foreign Key (Nif_Profesor) REFERENCES Profesor(Nif),\n",
    "                     Foreign Key (NúmeroProyecto) REFERENCES Proyecto(NúmeroProyecto))"
   ]
  },
  {
   "cell_type": "code",
   "execution_count": 20,
   "metadata": {},
   "outputs": [
    {
     "name": "stdout",
     "output_type": "stream",
     "text": [
      "Done.\n",
      "Done.\n"
     ]
    },
    {
     "data": {
      "text/plain": [
       "[]"
      ]
     },
     "execution_count": 20,
     "metadata": {},
     "output_type": "execute_result"
    }
   ],
   "source": [
    "%%sql\n",
    "DROP table IF EXISTS Departamento;\n",
    "CREATE table Departamento (NúmeroDepartamento INT,\n",
    "                          Nombre CHAR(30),\n",
    "                          Edificio CHAR(30),\n",
    "                          Nif_Profesor CHAR(10) NOT NULL,\n",
    "                          Primary Key(NúmeroDepartamento),\n",
    "                          Foreign Key(Nif_Profesor) REFERENCES Profesor(Nif))"
   ]
  },
  {
   "cell_type": "code",
   "execution_count": 23,
   "metadata": {},
   "outputs": [
    {
     "name": "stdout",
     "output_type": "stream",
     "text": [
      "Done.\n",
      "Done.\n"
     ]
    },
    {
     "data": {
      "text/plain": [
       "[]"
      ]
     },
     "execution_count": 23,
     "metadata": {},
     "output_type": "execute_result"
    }
   ],
   "source": [
    "%%sql\n",
    "DROP table IF EXISTS Trabaja_En;\n",
    "CREATE table Trabaja_En (Nif_Profesor CHAR(10) NOT NULL,\n",
    "                        NúmeroDepartamento INT,\n",
    "                        Primary Key(Nif_Profesor, NúmeroDepartamento),\n",
    "                        Foreign Key(Nif_Profesor) REFERENCES Profesor(Nif),\n",
    "                        Foreign Key(NúmeroDepartamento) REFERENCES Departamento(NúmeroDepartamento))"
   ]
  },
  {
   "cell_type": "markdown",
   "metadata": {
    "nbpresent": {
     "id": "8048c9a7-919d-45d2-aa36-9118a79c4442"
    }
   },
   "source": [
    "Podríamos haber cargado una base de datos en memoria, sin respaldo en disco, así:\n",
    "\n",
    "``%sql sqlite://``\n",
    "\n",
    "Vamos a realizar algunas interrogaciones de prueba para asegurarnos de que todo está bien. \n",
    "\n",
    "En ISI-sql.db hay una tabla llamada ``Customers``.\n",
    "\n",
    "En los cuadernos IPython usamos **`%sql` para introducir comandos SQL que no sean multilínea:**"
   ]
  },
  {
   "cell_type": "code",
   "execution_count": 26,
   "metadata": {
    "nbpresent": {
     "id": "194730ee-0475-462d-8ea1-fcbb6288746f"
    }
   },
   "outputs": [
    {
     "name": "stdout",
     "output_type": "stream",
     "text": [
      "Done.\n"
     ]
    },
    {
     "data": {
      "text/html": [
       "<table>\n",
       "    <tr>\n",
       "        <th>Nif</th>\n",
       "        <th>Nombre</th>\n",
       "        <th>Edad</th>\n",
       "        <th>Titulación</th>\n",
       "        <th>Nif_Tutor</th>\n",
       "        <th>NúmeroDepartamento</th>\n",
       "    </tr>\n",
       "</table>"
      ],
      "text/plain": [
       "[]"
      ]
     },
     "execution_count": 26,
     "metadata": {},
     "output_type": "execute_result"
    }
   ],
   "source": [
    "%sql SELECT * FROM Estudiante"
   ]
  },
  {
   "cell_type": "markdown",
   "metadata": {
    "nbpresent": {
     "id": "91ecb7e7-35ac-4fd0-9fa7-9cf09b530d65"
    }
   },
   "source": [
    "Si todo ha ido bien el anterior comando debería haber producido la siguiente salida:\n",
    "\n",
    "| CustomerID | FirstName | LastName |\n",
    "|------------|-----------|----------|\n",
    "| 1 | Sara | Davis | \n",
    "| 2 | Rumi | Shah  |\n",
    "| 3 | Paul | Johnson |\n",
    "| 4 | Samuel | Martinez |"
   ]
  },
  {
   "cell_type": "markdown",
   "metadata": {
    "nbpresent": {
     "id": "e8e99649-b332-4f10-9fea-0743903cc176"
    }
   },
   "source": [
    "Para introducir comandos SQL en varias líneas utilizamos **`%%sql`**:"
   ]
  },
  {
   "cell_type": "code",
   "execution_count": 11,
   "metadata": {
    "nbpresent": {
     "id": "46f745df-6952-4315-883c-159c9207bc74"
    }
   },
   "outputs": [
    {
     "name": "stdout",
     "output_type": "stream",
     "text": [
      "Done.\n"
     ]
    },
    {
     "data": {
      "text/html": [
       "<table>\n",
       "    <tr>\n",
       "        <th>nif</th>\n",
       "        <th>edad</th>\n",
       "        <th>cargo</th>\n",
       "    </tr>\n",
       "    <tr>\n",
       "        <td>48571685T</td>\n",
       "        <td>40</td>\n",
       "        <td>Jefe</td>\n",
       "    </tr>\n",
       "    <tr>\n",
       "        <td>87512574R</td>\n",
       "        <td>40</td>\n",
       "        <td>jefe</td>\n",
       "    </tr>\n",
       "    <tr>\n",
       "        <td>49104587R</td>\n",
       "        <td>40</td>\n",
       "        <td>Jefe</td>\n",
       "    </tr>\n",
       "</table>"
      ],
      "text/plain": [
       "[('48571685T', 40, 'Jefe'),\n",
       " ('87512574R', 40, 'jefe'),\n",
       " ('49104587R', 40, 'Jefe')]"
      ]
     },
     "execution_count": 11,
     "metadata": {},
     "output_type": "execute_result"
    }
   ],
   "source": [
    "%%sql\n",
    "SELECT * \n",
    "FROM Profesor\n",
    "WHERE edad LIKE '%4%'"
   ]
  },
  {
   "cell_type": "markdown",
   "metadata": {
    "nbpresent": {
     "id": "92151a6c-dff3-4957-95aa-024d6687e55d"
    }
   },
   "source": [
    "Podemos almacenar en una variable Python el resultado devuelto por una interrogación SQL:"
   ]
  },
  {
   "cell_type": "code",
   "execution_count": 12,
   "metadata": {
    "nbpresent": {
     "id": "86af60f3-c91e-49db-ac50-85a50cf58ad6"
    }
   },
   "outputs": [
    {
     "name": "stdout",
     "output_type": "stream",
     "text": [
      "Done.\n"
     ]
    }
   ],
   "source": [
    "resultado = %sql SELECT * FROM Profesor;"
   ]
  },
  {
   "cell_type": "markdown",
   "metadata": {
    "nbpresent": {
     "id": "9d4ee5be-03c4-44f0-b5eb-cef2e0d3eadb"
    }
   },
   "source": [
    "Y ahora, con código Python, podemos procesar la salida:"
   ]
  },
  {
   "cell_type": "code",
   "execution_count": 13,
   "metadata": {
    "nbpresent": {
     "id": "812428c8-1f9c-4f6e-a708-146c8d99932a"
    }
   },
   "outputs": [
    {
     "data": {
      "text/plain": [
       "['nif', 'edad', 'cargo']"
      ]
     },
     "execution_count": 13,
     "metadata": {},
     "output_type": "execute_result"
    }
   ],
   "source": [
    "resultado.keys"
   ]
  },
  {
   "cell_type": "code",
   "execution_count": 17,
   "metadata": {
    "nbpresent": {
     "id": "ec4cbf3c-7647-42a2-a5b3-f06647f25c5a"
    }
   },
   "outputs": [
    {
     "data": {
      "text/plain": [
       "('48571685T', 40, 'Jefe')"
      ]
     },
     "execution_count": 17,
     "metadata": {},
     "output_type": "execute_result"
    }
   ],
   "source": [
    "resultado[0]"
   ]
  },
  {
   "cell_type": "code",
   "execution_count": 18,
   "metadata": {
    "nbpresent": {
     "id": "4849609f-4fbc-40f8-b731-5b6357dc8d39"
    }
   },
   "outputs": [
    {
     "data": {
      "text/plain": [
       "'jefe'"
      ]
     },
     "execution_count": 18,
     "metadata": {},
     "output_type": "execute_result"
    }
   ],
   "source": [
    "resultado[1].cargo"
   ]
  },
  {
   "cell_type": "markdown",
   "metadata": {
    "nbpresent": {
     "id": "a1c9dba6-c18a-45dd-950a-b5b2bdadfc0c"
    }
   },
   "source": [
    "## Instrucciones para instalar Ipython notebooks en tu ordenador:\n",
    "Instala los siguientes paquetes en tu distribución Ubuntu:\n",
    "* ``sudo apt-get install python3-pip``\n",
    "\n",
    "* ``sudo pip3 install --upgrade pip``\n",
    "\n",
    "* ``sudo pip3 install wheel``\n",
    "\n",
    "* ``sudo pip3 install setuptools``\n",
    "\n",
    "* ``sudo pip3 install  --upgrade \"ipython[notebook]\" jupyter ipython-sql``\n",
    "\n",
    "* ``sudo apt get install sqlite``\n",
    "\n",
    "* ``sudo apt-get install sqlite3``"
   ]
  },
  {
   "cell_type": "markdown",
   "metadata": {},
   "source": [
    "## Origen del material:\n",
    "La BD y el código SQL procede del siguiente libro:\n",
    "*The Language of SQL, Second Edition*. Larry Rockoff. Addison-Wesley Professional\n",
    "\n",
    "Se han realizado ligeras modificaciones para que sea compatible con SQLite3 y Jupyter Notebooks."
   ]
  }
 ],
 "metadata": {
  "anaconda-cloud": {},
  "kernelspec": {
   "display_name": "Python 3",
   "language": "python",
   "name": "python3"
  },
  "language_info": {
   "codemirror_mode": {
    "name": "ipython",
    "version": 3
   },
   "file_extension": ".py",
   "mimetype": "text/x-python",
   "name": "python",
   "nbconvert_exporter": "python",
   "pygments_lexer": "ipython3",
   "version": "3.5.2"
  },
  "nbpresent": {
   "slides": {
    "18c34049-338f-4bc2-b6e5-c779610b3b6e": {
     "id": "18c34049-338f-4bc2-b6e5-c779610b3b6e",
     "prev": "5a42ea13-073e-403e-8950-40ec71bc14dc",
     "regions": {
      "7ba6a448-eebd-432e-a675-b6f477d89c44": {
       "attrs": {
        "height": 0.8,
        "width": 0.8,
        "x": 0.1,
        "y": 0.1
       },
       "content": {
        "cell": "91ecb7e7-35ac-4fd0-9fa7-9cf09b530d65",
        "part": "whole"
       },
       "id": "7ba6a448-eebd-432e-a675-b6f477d89c44"
      }
     }
    },
    "20473dbc-4b19-49bc-9e0f-c5a00f9e2da8": {
     "id": "20473dbc-4b19-49bc-9e0f-c5a00f9e2da8",
     "prev": "5ce187b4-c8d9-4a7d-918c-847fb9de1ad8",
     "regions": {
      "8d19ed9e-1c95-4e3b-a470-6a3a9198bfae": {
       "attrs": {
        "height": 0.8,
        "width": 0.8,
        "x": 0.1,
        "y": 0.1
       },
       "content": {
        "cell": "9d4ee5be-03c4-44f0-b5eb-cef2e0d3eadb",
        "part": "whole"
       },
       "id": "8d19ed9e-1c95-4e3b-a470-6a3a9198bfae"
      }
     }
    },
    "4f8c17a2-271a-45a2-ab7e-cd1120901b96": {
     "id": "4f8c17a2-271a-45a2-ab7e-cd1120901b96",
     "prev": "b7a12b55-9e7d-47f9-adcd-3de6efc757f5",
     "regions": {
      "772e27d4-ceaa-4691-8791-64695a788e9e": {
       "attrs": {
        "height": 0.8,
        "width": 0.8,
        "x": 0.1,
        "y": 0.1
       },
       "content": {
        "cell": "4849609f-4fbc-40f8-b731-5b6357dc8d39",
        "part": "whole"
       },
       "id": "772e27d4-ceaa-4691-8791-64695a788e9e"
      }
     }
    },
    "5a42ea13-073e-403e-8950-40ec71bc14dc": {
     "id": "5a42ea13-073e-403e-8950-40ec71bc14dc",
     "prev": "d9c6b1a0-e638-4f87-b31e-e80a22829c3f",
     "regions": {
      "4d49b78a-e8f8-423c-8059-b18cbe3e4b44": {
       "attrs": {
        "height": 0.8,
        "width": 0.8,
        "x": 0.1,
        "y": 0.1
       },
       "content": {
        "cell": "194730ee-0475-462d-8ea1-fcbb6288746f",
        "part": "whole"
       },
       "id": "4d49b78a-e8f8-423c-8059-b18cbe3e4b44"
      }
     }
    },
    "5ce187b4-c8d9-4a7d-918c-847fb9de1ad8": {
     "id": "5ce187b4-c8d9-4a7d-918c-847fb9de1ad8",
     "prev": "84abf7eb-0a38-4b28-a5e8-ccd0c3af9283",
     "regions": {
      "b6455cb9-fdbf-45bd-85a8-c6549113f5f9": {
       "attrs": {
        "height": 0.8,
        "width": 0.8,
        "x": 0.1,
        "y": 0.1
       },
       "content": {
        "cell": "86af60f3-c91e-49db-ac50-85a50cf58ad6",
        "part": "whole"
       },
       "id": "b6455cb9-fdbf-45bd-85a8-c6549113f5f9"
      }
     }
    },
    "6608c2c4-e41d-44d0-b026-2159d43813ec": {
     "id": "6608c2c4-e41d-44d0-b026-2159d43813ec",
     "prev": "80150629-42e0-414c-97d2-ccb1b79039ef",
     "regions": {
      "ff4a7fe5-a033-4768-975c-abc201bd3b0e": {
       "attrs": {
        "height": 0.8,
        "width": 0.8,
        "x": 0.1,
        "y": 0.1
       },
       "content": {
        "cell": "7b9ccad7-0309-44f6-a54b-a87caa0acfa4",
        "part": "whole"
       },
       "id": "ff4a7fe5-a033-4768-975c-abc201bd3b0e"
      }
     }
    },
    "80150629-42e0-414c-97d2-ccb1b79039ef": {
     "id": "80150629-42e0-414c-97d2-ccb1b79039ef",
     "prev": "d1d50cae-070d-4318-8405-67f7167f8c53",
     "regions": {
      "a79b1899-d2cd-4723-b086-d6061e98462b": {
       "attrs": {
        "height": 0.8,
        "width": 0.8,
        "x": 0.1,
        "y": 0.1
       },
       "content": {
        "cell": "824dec2b-16f4-4ba3-9ad7-c54c327aecbf",
        "part": "whole"
       },
       "id": "a79b1899-d2cd-4723-b086-d6061e98462b"
      }
     }
    },
    "806fbdfe-fb33-45a6-93c4-e91503793b2a": {
     "id": "806fbdfe-fb33-45a6-93c4-e91503793b2a",
     "prev": "6608c2c4-e41d-44d0-b026-2159d43813ec",
     "regions": {
      "ec9d34a3-0633-4df3-87d3-e64ad9e2000e": {
       "attrs": {
        "height": 0.8,
        "width": 0.8,
        "x": 0.1,
        "y": 0.1
       },
       "content": {
        "cell": "167c8c98-9e08-49e1-9de2-e23a70b3afbf",
        "part": "whole"
       },
       "id": "ec9d34a3-0633-4df3-87d3-e64ad9e2000e"
      }
     }
    },
    "84abf7eb-0a38-4b28-a5e8-ccd0c3af9283": {
     "id": "84abf7eb-0a38-4b28-a5e8-ccd0c3af9283",
     "prev": "e4e2387f-3175-4624-97d3-e35fb4d57e5c",
     "regions": {
      "7e5166c1-e5ef-44f4-8b8a-b5cda58d7b8e": {
       "attrs": {
        "height": 0.8,
        "width": 0.8,
        "x": 0.1,
        "y": 0.1
       },
       "content": {
        "cell": "92151a6c-dff3-4957-95aa-024d6687e55d",
        "part": "whole"
       },
       "id": "7e5166c1-e5ef-44f4-8b8a-b5cda58d7b8e"
      }
     }
    },
    "990d50c2-69c8-42b5-9369-ff94b20caef3": {
     "id": "990d50c2-69c8-42b5-9369-ff94b20caef3",
     "prev": "18c34049-338f-4bc2-b6e5-c779610b3b6e",
     "regions": {
      "8cb516c4-f7f6-4e89-aaa6-eefe41e8ebe0": {
       "attrs": {
        "height": 0.8,
        "width": 0.8,
        "x": 0.1,
        "y": 0.1
       },
       "content": {
        "cell": "e8e99649-b332-4f10-9fea-0743903cc176",
        "part": "whole"
       },
       "id": "8cb516c4-f7f6-4e89-aaa6-eefe41e8ebe0"
      }
     }
    },
    "a4172a85-40a0-47cf-801c-736dc19a31f9": {
     "id": "a4172a85-40a0-47cf-801c-736dc19a31f9",
     "prev": "4f8c17a2-271a-45a2-ab7e-cd1120901b96",
     "regions": {
      "79c2c169-7c40-4b49-9762-fcdad8742120": {
       "attrs": {
        "height": 0.8,
        "width": 0.8,
        "x": 0.1,
        "y": 0.1
       },
       "content": {
        "cell": "a1c9dba6-c18a-45dd-950a-b5b2bdadfc0c",
        "part": "whole"
       },
       "id": "79c2c169-7c40-4b49-9762-fcdad8742120"
      }
     }
    },
    "b7a12b55-9e7d-47f9-adcd-3de6efc757f5": {
     "id": "b7a12b55-9e7d-47f9-adcd-3de6efc757f5",
     "prev": "d0a782d4-8551-4a57-b2e1-2586b35344d6",
     "regions": {
      "0885ea5b-811b-4003-84d3-5f0665c8be16": {
       "attrs": {
        "height": 0.8,
        "width": 0.8,
        "x": 0.1,
        "y": 0.1
       },
       "content": {
        "cell": "ec4cbf3c-7647-42a2-a5b3-f06647f25c5a",
        "part": "whole"
       },
       "id": "0885ea5b-811b-4003-84d3-5f0665c8be16"
      }
     }
    },
    "d0a782d4-8551-4a57-b2e1-2586b35344d6": {
     "id": "d0a782d4-8551-4a57-b2e1-2586b35344d6",
     "prev": "20473dbc-4b19-49bc-9e0f-c5a00f9e2da8",
     "regions": {
      "9bed0d9e-4dcd-409f-aa7e-f23858ff4968": {
       "attrs": {
        "height": 0.8,
        "width": 0.8,
        "x": 0.1,
        "y": 0.1
       },
       "content": {
        "cell": "812428c8-1f9c-4f6e-a708-146c8d99932a",
        "part": "whole"
       },
       "id": "9bed0d9e-4dcd-409f-aa7e-f23858ff4968"
      }
     }
    },
    "d1d50cae-070d-4318-8405-67f7167f8c53": {
     "id": "d1d50cae-070d-4318-8405-67f7167f8c53",
     "prev": null,
     "regions": {
      "6d2cfa45-a7a2-4823-b37a-ccc2436de885": {
       "attrs": {
        "height": 0.8,
        "width": 0.8,
        "x": 0.1,
        "y": 0.1
       },
       "content": {
        "cell": "9c88d2c7-54c9-4179-9a27-896f300941ff",
        "part": "whole"
       },
       "id": "6d2cfa45-a7a2-4823-b37a-ccc2436de885"
      }
     }
    },
    "d9c6b1a0-e638-4f87-b31e-e80a22829c3f": {
     "id": "d9c6b1a0-e638-4f87-b31e-e80a22829c3f",
     "prev": "806fbdfe-fb33-45a6-93c4-e91503793b2a",
     "regions": {
      "ad2e01d3-b3be-4a5a-8d89-96c7c099cf10": {
       "attrs": {
        "height": 0.8,
        "width": 0.8,
        "x": 0.1,
        "y": 0.1
       },
       "content": {
        "cell": "8048c9a7-919d-45d2-aa36-9118a79c4442",
        "part": "whole"
       },
       "id": "ad2e01d3-b3be-4a5a-8d89-96c7c099cf10"
      }
     }
    },
    "e4e2387f-3175-4624-97d3-e35fb4d57e5c": {
     "id": "e4e2387f-3175-4624-97d3-e35fb4d57e5c",
     "prev": "990d50c2-69c8-42b5-9369-ff94b20caef3",
     "regions": {
      "e1f2b0d4-d5d2-434c-804e-d96a54aa01a1": {
       "attrs": {
        "height": 0.8,
        "width": 0.8,
        "x": 0.1,
        "y": 0.1
       },
       "content": {
        "cell": "46f745df-6952-4315-883c-159c9207bc74",
        "part": "whole"
       },
       "id": "e1f2b0d4-d5d2-434c-804e-d96a54aa01a1"
      }
     }
    }
   },
   "themes": {}
  }
 },
 "nbformat": 4,
 "nbformat_minor": 1
}
