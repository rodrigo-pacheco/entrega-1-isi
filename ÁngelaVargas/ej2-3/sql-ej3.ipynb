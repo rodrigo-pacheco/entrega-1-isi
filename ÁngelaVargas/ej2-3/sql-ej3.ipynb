{
 "cells": [
  {
   "cell_type": "code",
   "execution_count": 1,
   "metadata": {},
   "outputs": [
    {
     "data": {
      "text/plain": [
       "'Connected: None@ejercicio3.db'"
      ]
     },
     "execution_count": 1,
     "metadata": {},
     "output_type": "execute_result"
    }
   ],
   "source": [
    "%reload_ext sql\n",
    "%sql sqlite:///ejercicio3.db"
   ]
  },
  {
   "cell_type": "code",
   "execution_count": 2,
   "metadata": {},
   "outputs": [
    {
     "name": "stdout",
     "output_type": "stream",
     "text": [
      "Done.\n",
      "Done.\n"
     ]
    },
    {
     "data": {
      "text/plain": [
       "[]"
      ]
     },
     "execution_count": 2,
     "metadata": {},
     "output_type": "execute_result"
    }
   ],
   "source": [
    "%%sql\n",
    "DROP table IF EXISTS Departamento;\n",
    "CREATE table Departamento (Id_Dep INT,\n",
    "                          Nombre CHAR(30),\n",
    "                          Presupuesto FLOAT,\n",
    "                          Nif_Empleado CHAR(10) NOT NULL,\n",
    "                          Primary Key (Id_Dep),\n",
    "                           Foreign Key (Nif_Empleado) REFERENCES Empleado(Nif))"
   ]
  },
  {
   "cell_type": "code",
   "execution_count": 3,
   "metadata": {},
   "outputs": [
    {
     "name": "stdout",
     "output_type": "stream",
     "text": [
      "Done.\n",
      "Done.\n"
     ]
    },
    {
     "data": {
      "text/plain": [
       "[]"
      ]
     },
     "execution_count": 3,
     "metadata": {},
     "output_type": "execute_result"
    }
   ],
   "source": [
    "%%sql\n",
    "DROP table IF EXISTS Empleado;\n",
    "CREATE table Empleado (Nif CHAR(10),\n",
    "                      Salario FLOAT,\n",
    "                      Teléfono CHAR(6),\n",
    "                      Primary Key (Nif))"
   ]
  },
  {
   "cell_type": "code",
   "execution_count": 4,
   "metadata": {},
   "outputs": [
    {
     "name": "stdout",
     "output_type": "stream",
     "text": [
      "Done.\n",
      "Done.\n"
     ]
    },
    {
     "data": {
      "text/plain": [
       "[]"
      ]
     },
     "execution_count": 4,
     "metadata": {},
     "output_type": "execute_result"
    }
   ],
   "source": [
    "%%sql\n",
    "DROP table IF EXISTS Trabaja;\n",
    "CREATE table Trabaja (Nif_Empleado CHAR(10),\n",
    "                     Id_Dep INT NOT NULL,\n",
    "                     Primary Key(Nif_Empleado,Id_Dep)\n",
    "                     Foreign Key (Nif_Empleado) REFERENCES Empleado(Nif),\n",
    "                     Foreign Key (Id_Dep) REFERENCES Departamento(Id_Dep))"
   ]
  },
  {
   "cell_type": "code",
   "execution_count": 6,
   "metadata": {},
   "outputs": [
    {
     "name": "stdout",
     "output_type": "stream",
     "text": [
      "Done.\n",
      "Done.\n"
     ]
    },
    {
     "data": {
      "text/plain": [
       "[]"
      ]
     },
     "execution_count": 6,
     "metadata": {},
     "output_type": "execute_result"
    }
   ],
   "source": [
    "%%sql\n",
    "DROP table IF EXISTS Hijos;\n",
    "CREATE table HIJOS (Nombre CHAR(30),\n",
    "                   Edad INT,\n",
    "                   Nif_Empleado CHAR(10) NOT NULL,\n",
    "                   Primary Key (Nombre, Nif_Empleado),\n",
    "                   Foreign Key (Nif_Empleado) REFERENCES Empleado(Nif) \n",
    "                                               ON DELETE CASCADE);"
   ]
  },
  {
   "cell_type": "code",
   "execution_count": 7,
   "metadata": {},
   "outputs": [
    {
     "name": "stdout",
     "output_type": "stream",
     "text": [
      "Done.\n"
     ]
    },
    {
     "data": {
      "text/html": [
       "<table>\n",
       "    <tr>\n",
       "        <th>cid</th>\n",
       "        <th>name</th>\n",
       "        <th>type</th>\n",
       "        <th>notnull</th>\n",
       "        <th>dflt_value</th>\n",
       "        <th>pk</th>\n",
       "    </tr>\n",
       "    <tr>\n",
       "        <td>0</td>\n",
       "        <td>Nombre</td>\n",
       "        <td>CHAR(30)</td>\n",
       "        <td>0</td>\n",
       "        <td>None</td>\n",
       "        <td>1</td>\n",
       "    </tr>\n",
       "    <tr>\n",
       "        <td>1</td>\n",
       "        <td>Edad</td>\n",
       "        <td>INT</td>\n",
       "        <td>0</td>\n",
       "        <td>None</td>\n",
       "        <td>0</td>\n",
       "    </tr>\n",
       "    <tr>\n",
       "        <td>2</td>\n",
       "        <td>Nif_Empleado</td>\n",
       "        <td>CHAR(10)</td>\n",
       "        <td>1</td>\n",
       "        <td>None</td>\n",
       "        <td>2</td>\n",
       "    </tr>\n",
       "</table>"
      ],
      "text/plain": [
       "[(0, 'Nombre', 'CHAR(30)', 0, None, 1),\n",
       " (1, 'Edad', 'INT', 0, None, 0),\n",
       " (2, 'Nif_Empleado', 'CHAR(10)', 1, None, 2)]"
      ]
     },
     "execution_count": 7,
     "metadata": {},
     "output_type": "execute_result"
    }
   ],
   "source": [
    "%sql PRAGMA table_info(Hijos)"
   ]
  },
  {
   "cell_type": "code",
   "execution_count": 13,
   "metadata": {},
   "outputs": [
    {
     "name": "stdout",
     "output_type": "stream",
     "text": [
      "Done.\n"
     ]
    },
    {
     "data": {
      "text/html": [
       "<table>\n",
       "    <tr>\n",
       "        <th>sql</th>\n",
       "    </tr>\n",
       "    <tr>\n",
       "        <td>CREATE TABLE Departamento (Id_Dep INT,<br>                          Nombre CHAR(30),<br>                          Presupuesto FLOAT,<br>                          Nif_Empleado CHAR(10) NOT NULL,<br>                          Primary Key (Id_Dep),<br>                           Foreign Key (Nif_Empleado) REFERENCES Empleado(Nif))</td>\n",
       "    </tr>\n",
       "</table>"
      ],
      "text/plain": [
       "[('CREATE TABLE Departamento (Id_Dep INT,\\n                          Nombre CHAR(30),\\n                          Presupuesto FLOAT,\\n                    ... (19 characters truncated) ...  CHAR(10) NOT NULL,\\n                          Primary Key (Id_Dep),\\n                           Foreign Key (Nif_Empleado) REFERENCES Empleado(Nif))',)]"
      ]
     },
     "execution_count": 13,
     "metadata": {},
     "output_type": "execute_result"
    }
   ],
   "source": [
    "%sql SELECT sql FROM sqlite_master WHERE name = 'Departamento'"
   ]
  },
  {
   "cell_type": "code",
   "execution_count": 14,
   "metadata": {},
   "outputs": [
    {
     "name": "stdout",
     "output_type": "stream",
     "text": [
      "Done.\n"
     ]
    },
    {
     "data": {
      "text/html": [
       "<table>\n",
       "    <tr>\n",
       "        <th>Nombre</th>\n",
       "        <th>Edad</th>\n",
       "        <th>Nif_Empleado</th>\n",
       "    </tr>\n",
       "</table>"
      ],
      "text/plain": [
       "[]"
      ]
     },
     "execution_count": 14,
     "metadata": {},
     "output_type": "execute_result"
    }
   ],
   "source": [
    "%sql SELECT * FROM Hijos"
   ]
  }
 ],
 "metadata": {
  "kernelspec": {
   "display_name": "Python 3",
   "language": "python",
   "name": "python3"
  },
  "language_info": {
   "codemirror_mode": {
    "name": "ipython",
    "version": 3
   },
   "file_extension": ".py",
   "mimetype": "text/x-python",
   "name": "python",
   "nbconvert_exporter": "python",
   "pygments_lexer": "ipython3",
   "version": "3.5.2"
  }
 },
 "nbformat": 4,
 "nbformat_minor": 2
}
