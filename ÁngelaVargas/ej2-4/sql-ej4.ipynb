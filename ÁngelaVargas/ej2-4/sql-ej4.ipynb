{
 "cells": [
  {
   "cell_type": "code",
   "execution_count": 2,
   "metadata": {},
   "outputs": [
    {
     "data": {
      "text/plain": [
       "'Connected: None@ejercicio4.db'"
      ]
     },
     "execution_count": 2,
     "metadata": {},
     "output_type": "execute_result"
    }
   ],
   "source": [
    "%reload_ext sql\n",
    "%sql sqlite:///ejercicio4.db"
   ]
  },
  {
   "cell_type": "code",
   "execution_count": 3,
   "metadata": {},
   "outputs": [
    {
     "name": "stdout",
     "output_type": "stream",
     "text": [
      "Done.\n",
      "Done.\n"
     ]
    },
    {
     "data": {
      "text/plain": [
       "[]"
      ]
     },
     "execution_count": 3,
     "metadata": {},
     "output_type": "execute_result"
    }
   ],
   "source": [
    "%%sql\n",
    "DROP table IF EXISTS Instrumento;\n",
    "CREATE table Instrumento (Num_Id INT,\n",
    "                         Nombre CHAR(30),\n",
    "                         Primary Key(Num_Id))"
   ]
  },
  {
   "cell_type": "code",
   "execution_count": 4,
   "metadata": {},
   "outputs": [
    {
     "name": "stdout",
     "output_type": "stream",
     "text": [
      "Done.\n",
      "Done.\n"
     ]
    },
    {
     "data": {
      "text/plain": [
       "[]"
      ]
     },
     "execution_count": 4,
     "metadata": {},
     "output_type": "execute_result"
    }
   ],
   "source": [
    "%%sql\n",
    "DROP table IF EXISTS Músico;\n",
    "CREATE table Músico (Nif CHAR(10),\n",
    "                    Nombre CHAR(30),\n",
    "                    Dirección CHAR(30),\n",
    "                    Teléfono CHAR(6),\n",
    "                    Primary Key(Nif))"
   ]
  },
  {
   "cell_type": "code",
   "execution_count": 5,
   "metadata": {},
   "outputs": [
    {
     "name": "stdout",
     "output_type": "stream",
     "text": [
      "Done.\n",
      "Done.\n"
     ]
    },
    {
     "data": {
      "text/plain": [
       "[]"
      ]
     },
     "execution_count": 5,
     "metadata": {},
     "output_type": "execute_result"
    }
   ],
   "source": [
    "%%sql\n",
    "DROP table IF EXISTS Toca;\n",
    "CREATE table Toca(Nif_Músico CHAR(10),\n",
    "                 Id_Instrumento INT,\n",
    "                 Primary Key(Nif_Músico,Id_Instrumento),\n",
    "                 Foreign Key (Nif_Músico) REFERENCES Músico(Nif),\n",
    "                 Foreign Key(Id_Instrumento) REFERENCES Instrumento(Num_Id))"
   ]
  },
  {
   "cell_type": "code",
   "execution_count": 6,
   "metadata": {},
   "outputs": [
    {
     "name": "stdout",
     "output_type": "stream",
     "text": [
      "Done.\n",
      "Done.\n"
     ]
    },
    {
     "data": {
      "text/plain": [
       "[]"
      ]
     },
     "execution_count": 6,
     "metadata": {},
     "output_type": "execute_result"
    }
   ],
   "source": [
    "%%sql\n",
    "DROP table IF EXISTS Álbum;\n",
    "CREATE table Álbum(Num_Id INT,\n",
    "                  Título CHAR(30),\n",
    "                  Fecha DATE,\n",
    "                  Formato CHAR(30),\n",
    "                  Nif_Músico CHAR(10) NOT NULL,\n",
    "                  Primary Key (Num_Id),\n",
    "                  Foreign Key (Nif_Músico) REFERENCES Músico(Nif))"
   ]
  },
  {
   "cell_type": "code",
   "execution_count": 9,
   "metadata": {},
   "outputs": [
    {
     "name": "stdout",
     "output_type": "stream",
     "text": [
      "Done.\n",
      "Done.\n"
     ]
    },
    {
     "data": {
      "text/plain": [
       "[]"
      ]
     },
     "execution_count": 9,
     "metadata": {},
     "output_type": "execute_result"
    }
   ],
   "source": [
    "%%sql\n",
    "DROP table IF EXISTS Canción;\n",
    "CREATE table Canción (Título CHAR(30),\n",
    "                     Autor CHAR(30),\n",
    "                     Id_Álbum INT NOT NULL,\n",
    "                     Primary Key (Título,Id_Álbum),\n",
    "                     Foreign Key(Id_Álbum) REFERENCES Álbum(Num_Id)\n",
    "                                            ON DELETE CASCADE)"
   ]
  },
  {
   "cell_type": "code",
   "execution_count": 10,
   "metadata": {},
   "outputs": [
    {
     "name": "stdout",
     "output_type": "stream",
     "text": [
      "Done.\n",
      "Done.\n"
     ]
    },
    {
     "data": {
      "text/plain": [
       "[]"
      ]
     },
     "execution_count": 10,
     "metadata": {},
     "output_type": "execute_result"
    }
   ],
   "source": [
    "%%sql\n",
    "DROP table IF EXISTS Interpreta;\n",
    "CREATE table Interpreta(Nif_Músico CHAR(10),\n",
    "                       Título_Canción CHAR(30) NOT NULL,\n",
    "                        Id_Álbum INT NOT NULL,\n",
    "                       Primary Key(Nif_Músico, Título_Canción, Id_Álbum),\n",
    "                       FOREIGN Key (Nif_Músico) REFERENCES Músico(Nif),\n",
    "                       Foreign Key(Título_Canción) REFERENCES Canción(Título),\n",
    "                       Foreign Key(Id_Álbum) REFERENCES Álbum(Num_Id)\n",
    "                                               ON DELETE CASCADE)"
   ]
  }
 ],
 "metadata": {
  "kernelspec": {
   "display_name": "Python 3",
   "language": "python",
   "name": "python3"
  },
  "language_info": {
   "codemirror_mode": {
    "name": "ipython",
    "version": 3
   },
   "file_extension": ".py",
   "mimetype": "text/x-python",
   "name": "python",
   "nbconvert_exporter": "python",
   "pygments_lexer": "ipython3",
   "version": "3.5.2"
  }
 },
 "nbformat": 4,
 "nbformat_minor": 2
}
