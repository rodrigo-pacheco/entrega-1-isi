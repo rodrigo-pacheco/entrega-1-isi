{
 "cells": [
  {
   "cell_type": "code",
   "execution_count": 1,
   "metadata": {},
   "outputs": [
    {
     "data": {
      "text/plain": [
       "'Connected: None@ejercicio5.db'"
      ]
     },
     "execution_count": 1,
     "metadata": {},
     "output_type": "execute_result"
    }
   ],
   "source": [
    "%reload_ext sql\n",
    "%sql sqlite:///ejercicio5.db"
   ]
  },
  {
   "cell_type": "code",
   "execution_count": 2,
   "metadata": {},
   "outputs": [
    {
     "name": "stdout",
     "output_type": "stream",
     "text": [
      "Done.\n",
      "Done.\n"
     ]
    },
    {
     "data": {
      "text/plain": [
       "[]"
      ]
     },
     "execution_count": 2,
     "metadata": {},
     "output_type": "execute_result"
    }
   ],
   "source": [
    "%%sql\n",
    "DROP table IF EXISTS Médicos;\n",
    "CREATE table Médicos (Nif CHAR(10),\n",
    "                     Nombre CHAR(30),\n",
    "                     Especialidad CHAR(30),\n",
    "                     Años_Experiencia INT,\n",
    "                     Primary Key(Nif))\n"
   ]
  },
  {
   "cell_type": "code",
   "execution_count": 3,
   "metadata": {},
   "outputs": [
    {
     "name": "stdout",
     "output_type": "stream",
     "text": [
      "Done.\n",
      "Done.\n"
     ]
    },
    {
     "data": {
      "text/plain": [
       "[]"
      ]
     },
     "execution_count": 3,
     "metadata": {},
     "output_type": "execute_result"
    }
   ],
   "source": [
    "%%sql\n",
    "DROP table IF EXISTS Pacientes;\n",
    "CREATE table Pacientes (Nif CHAR(10),\n",
    "                       Edad INT,\n",
    "                       Nombre CHAR(30),\n",
    "                       Dirección CHAR(30),\n",
    "                       Nif_Médico CHAR(10) NOT NULL,\n",
    "                       Primary Key (Nif),\n",
    "                       Foreign Key (Nif_Médico) REFERENCES Médicos(Nif))"
   ]
  },
  {
   "cell_type": "code",
   "execution_count": 4,
   "metadata": {},
   "outputs": [
    {
     "name": "stdout",
     "output_type": "stream",
     "text": [
      "Done.\n",
      "Done.\n"
     ]
    },
    {
     "data": {
      "text/plain": [
       "[]"
      ]
     },
     "execution_count": 4,
     "metadata": {},
     "output_type": "execute_result"
    }
   ],
   "source": [
    "%%sql\n",
    "DROP table IF EXISTS Recetan;\n",
    "CREATE table Recetan(Fecha DATE,\n",
    "                    Cantidad INT,\n",
    "                    Nif_Médico CHAR(10) NOT NULL,\n",
    "                    Nif_Paciente CHAR(10),\n",
    "                    Nombre_Medicamento CHAR(30) NOT NULL,\n",
    "                    Nombre_Compañía_Farmacéutica CHAR(30) NOT NULL,\n",
    "                    Primary Key (Nif_Paciente, Nif_Médico, Nombre_Medicamento, Nombre_Compañía_Farmacéutica),\n",
    "                    Foreign Key (Nif_Paciente) REFERENCES Pacientes(Nif),\n",
    "                    Foreign Key (Nif_Médico) REFERENCES Médicos(Nif),\n",
    "                    Foreign Key (Nombre_Medicamento) REFERENCES Medicamento(Nombre),\n",
    "                    Foreign Key (Nombre_Compañía_Farmacéutica) REFERENCES Compañía_Farmacéutica(Nombre)\n",
    "                                                                 ON DELETE CASCADE)"
   ]
  },
  {
   "cell_type": "code",
   "execution_count": 5,
   "metadata": {},
   "outputs": [
    {
     "name": "stdout",
     "output_type": "stream",
     "text": [
      "Done.\n",
      "Done.\n"
     ]
    },
    {
     "data": {
      "text/plain": [
       "[]"
      ]
     },
     "execution_count": 5,
     "metadata": {},
     "output_type": "execute_result"
    }
   ],
   "source": [
    "%%sql\n",
    "DROP table IF EXISTS Medicamento;\n",
    "CREATE table Medicamento (Nombre CHAR(30),\n",
    "                         Fórmula CHAR(30),\n",
    "                         Nombre_Compañía_Farmacéutica CHAR(30) NOT NULL,\n",
    "                         Primary Key (Nombre,Nombre_Compañía_Farmacéutica),\n",
    "                         Foreign Key (Nombre_Compañía_Farmacéutica) REFERENCES Compañía_Farmacéutica(Nombre)\n",
    "                                                                     ON DELETE CASCADE)"
   ]
  },
  {
   "cell_type": "code",
   "execution_count": 6,
   "metadata": {},
   "outputs": [
    {
     "name": "stdout",
     "output_type": "stream",
     "text": [
      "Done.\n",
      "Done.\n"
     ]
    },
    {
     "data": {
      "text/plain": [
       "[]"
      ]
     },
     "execution_count": 6,
     "metadata": {},
     "output_type": "execute_result"
    }
   ],
   "source": [
    "%%sql\n",
    "DROP table IF EXISTS Compañía_Farmacéutica;\n",
    "CREATE table Compañía_Farmacéutica (Nombre CHAR(30),\n",
    "                                   Teléfono CHAR(6),\n",
    "                                   Primary Key (Nombre))"
   ]
  },
  {
   "cell_type": "code",
   "execution_count": 7,
   "metadata": {},
   "outputs": [
    {
     "name": "stdout",
     "output_type": "stream",
     "text": [
      "Done.\n",
      "Done.\n"
     ]
    },
    {
     "data": {
      "text/plain": [
       "[]"
      ]
     },
     "execution_count": 7,
     "metadata": {},
     "output_type": "execute_result"
    }
   ],
   "source": [
    "%%sql\n",
    "DROP table IF EXISTS Farmacia;\n",
    "CREATE table Farmacia (Nombre CHAR(30),\n",
    "                      Dirección CHAR(30),\n",
    "                      Teléfono CHAR(6),\n",
    "                      Primary Key (Nombre, Dirección))"
   ]
  },
  {
   "cell_type": "code",
   "execution_count": 9,
   "metadata": {},
   "outputs": [
    {
     "name": "stdout",
     "output_type": "stream",
     "text": [
      "Done.\n",
      "Done.\n"
     ]
    },
    {
     "data": {
      "text/plain": [
       "[]"
      ]
     },
     "execution_count": 9,
     "metadata": {},
     "output_type": "execute_result"
    }
   ],
   "source": [
    "%%sql\n",
    "DROP table IF EXISTS Vende;\n",
    "CREATE table Vende (Nombre_Farmacia CHAR(30),\n",
    "                   Dirección_Farmacia CHAR(30),\n",
    "                   Precio FLOAT,\n",
    "                   Nombre_Medicamento CHAR(30) NOT NULL,\n",
    "                   Nombre_Compañía_Farmacéutica CHAR(30) NOT NULL,\n",
    "                   Primary Key (Nombre_Medicamento, Nombre_Compañía_Farmacéutica, Nombre_Farmacia, Dirección_Farmacia),\n",
    "                   Foreign Key (Nombre_Farmacia) REFERENCES Farmacia(Nombre),\n",
    "                   Foreign Key (Dirección_Farmacia) REFERENCES Farmacia(Dirección),\n",
    "                   Foreign Key (Nombre_Medicamento) REFERENCES Medicamento(Nombre),\n",
    "                   Foreign Key (Nombre_Compañía_Farmacéutica) REFERENCES Compañía_Farmacéutica(Nombre)\n",
    "                                                   ON DELETE CASCADE)"
   ]
  },
  {
   "cell_type": "code",
   "execution_count": 10,
   "metadata": {},
   "outputs": [
    {
     "name": "stdout",
     "output_type": "stream",
     "text": [
      "Done.\n",
      "Done.\n"
     ]
    },
    {
     "data": {
      "text/plain": [
       "[]"
      ]
     },
     "execution_count": 10,
     "metadata": {},
     "output_type": "execute_result"
    }
   ],
   "source": [
    "%%sql\n",
    "DROP table IF EXISTS Contrato;\n",
    "CREATE table Contrato (Id INT,\n",
    "                      Fecha_Inicio DATE,\n",
    "                      Fecha_Fin DATE,\n",
    "                      Condiciones CHAR(100),\n",
    "                      Primary Key (Id))"
   ]
  },
  {
   "cell_type": "code",
   "execution_count": 11,
   "metadata": {},
   "outputs": [
    {
     "name": "stdout",
     "output_type": "stream",
     "text": [
      "Done.\n",
      "Done.\n"
     ]
    },
    {
     "data": {
      "text/plain": [
       "[]"
      ]
     },
     "execution_count": 11,
     "metadata": {},
     "output_type": "execute_result"
    }
   ],
   "source": [
    "%%sql\n",
    "DROP table IF EXISTS Contrato_Con;\n",
    "CREATE table Contrato_Con (Id_Contrato INT,\n",
    "                          Nombre_Compañía_Farmacéutica CHAR(30),\n",
    "                          Nombre_Farmacia CHAR(30),\n",
    "                          Dirección_Farmacia CHAR(30),\n",
    "                          Primary Key (Id_Contrato, Nombre_Compañía_Farmacéutica, Nombre_Farmacia, Dirección_Farmacia),\n",
    "                          Foreign Key (Id_Contrato) REFERENCES Contrato(Id),\n",
    "                          Foreign Key (Nombre_Compañía_Farmacéutica) REFERENCES Compañía_Farmacéutica(Nombre),\n",
    "                          Foreign Key (Nombre_Farmacia) REFERENCES Farmacia (Nombre),\n",
    "                          Foreign Key (Dirección_Farmacia) REFERENCES Farmacia (Dirección))"
   ]
  },
  {
   "cell_type": "code",
   "execution_count": 12,
   "metadata": {},
   "outputs": [
    {
     "name": "stdout",
     "output_type": "stream",
     "text": [
      "Done.\n",
      "Done.\n"
     ]
    },
    {
     "data": {
      "text/plain": [
       "[]"
      ]
     },
     "execution_count": 12,
     "metadata": {},
     "output_type": "execute_result"
    }
   ],
   "source": [
    "%%sql\n",
    "DROP table IF EXISTS Asignan;\n",
    "CREATE table Asignan (Nif_Supervisor CHAR(10),\n",
    "                     Id_Contrato INT NOT NULL,\n",
    "                     Primary Key (Nif_Supervisor, Id_Contrato),\n",
    "                     Foreign Key (Nif_Supervisor) REFERENCES Supervisor(Nif),\n",
    "                     Foreign Key (Id_Contrato) REFERENCES Contrato(Id))"
   ]
  },
  {
   "cell_type": "code",
   "execution_count": 13,
   "metadata": {},
   "outputs": [
    {
     "name": "stdout",
     "output_type": "stream",
     "text": [
      "Done.\n",
      "Done.\n"
     ]
    },
    {
     "data": {
      "text/plain": [
       "[]"
      ]
     },
     "execution_count": 13,
     "metadata": {},
     "output_type": "execute_result"
    }
   ],
   "source": [
    "%%sql\n",
    "DROP table IF EXISTS Supervisor;\n",
    "CREATE table Supervisor (Nif CHAR(10),\n",
    "                        Primary Key (Nif))"
   ]
  }
 ],
 "metadata": {
  "kernelspec": {
   "display_name": "Python 3",
   "language": "python",
   "name": "python3"
  },
  "language_info": {
   "codemirror_mode": {
    "name": "ipython",
    "version": 3
   },
   "file_extension": ".py",
   "mimetype": "text/x-python",
   "name": "python",
   "nbconvert_exporter": "python",
   "pygments_lexer": "ipython3",
   "version": "3.5.2"
  }
 },
 "nbformat": 4,
 "nbformat_minor": 2
}
