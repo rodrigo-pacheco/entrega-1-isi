{
 "cells": [
  {
   "cell_type": "markdown",
   "metadata": {},
   "source": [
    "<img src=\"Ejercicio5.png\">"
   ]
  },
  {
   "cell_type": "code",
   "execution_count": 1,
   "metadata": {},
   "outputs": [],
   "source": [
    "%load_ext sql"
   ]
  },
  {
   "cell_type": "code",
   "execution_count": 2,
   "metadata": {},
   "outputs": [
    {
     "data": {
      "text/plain": [
       "'Connected: None@ejercicio5.db'"
      ]
     },
     "execution_count": 2,
     "metadata": {},
     "output_type": "execute_result"
    }
   ],
   "source": [
    "%sql sqlite:///ejercicio5.db"
   ]
  },
  {
   "cell_type": "code",
   "execution_count": 3,
   "metadata": {},
   "outputs": [
    {
     "name": "stdout",
     "output_type": "stream",
     "text": [
      "Done.\n",
      "Done.\n",
      "Done.\n",
      "Done.\n",
      "Done.\n",
      "Done.\n",
      "Done.\n",
      "Done.\n",
      "Done.\n"
     ]
    },
    {
     "data": {
      "text/plain": [
       "[]"
      ]
     },
     "execution_count": 3,
     "metadata": {},
     "output_type": "execute_result"
    }
   ],
   "source": [
    "%%sql\n",
    "DROP TABLE IF EXISTS pacientes;\n",
    "DROP TABLE IF EXISTS medicos;\n",
    "DROP TABLE IF EXISTS medicamentos;\n",
    "DROP TABLE IF EXISTS compañias;\n",
    "DROP TABLE IF EXISTS farmacias;\n",
    "DROP TABLE IF EXISTS supervisores;\n",
    "DROP TABLE IF EXISTS recetas;\n",
    "DROP TABLE IF EXISTS ventas;\n",
    "DROP TABLE IF EXISTS contrata;"
   ]
  },
  {
   "cell_type": "code",
   "execution_count": 4,
   "metadata": {},
   "outputs": [
    {
     "name": "stdout",
     "output_type": "stream",
     "text": [
      "Done.\n",
      "Done.\n"
     ]
    },
    {
     "data": {
      "text/plain": [
       "[]"
      ]
     },
     "execution_count": 4,
     "metadata": {},
     "output_type": "execute_result"
    }
   ],
   "source": [
    "%%sql\n",
    "DROP TABLE IF EXISTS pacientes;\n",
    "CREATE TABLE pacientes(nif CHAR(10),\n",
    "                      nombre CHAR(30),\n",
    "                      direccion CHAR(30),\n",
    "                      edad INT,\n",
    "                      nif_doctor CHAR(10) NOT NULL,\n",
    "                      FOREIGN KEY(nif_doctor) REFERENCES medicos(nif),\n",
    "                      PRIMARY KEY(nif));"
   ]
  },
  {
   "cell_type": "code",
   "execution_count": 6,
   "metadata": {},
   "outputs": [
    {
     "name": "stdout",
     "output_type": "stream",
     "text": [
      "Done.\n",
      "Done.\n"
     ]
    },
    {
     "data": {
      "text/plain": [
       "[]"
      ]
     },
     "execution_count": 6,
     "metadata": {},
     "output_type": "execute_result"
    }
   ],
   "source": [
    "%%sql\n",
    "DROP TABLE IF EXISTS medicos;\n",
    "CREATE TABLE medicos(nif CHAR(10),\n",
    "                    nombre CHAR(30),\n",
    "                    direccion CHAR(30),\n",
    "                    experiencia INT,\n",
    "                    PRIMARY KEY(Nif));"
   ]
  },
  {
   "cell_type": "code",
   "execution_count": 10,
   "metadata": {},
   "outputs": [
    {
     "name": "stdout",
     "output_type": "stream",
     "text": [
      "Done.\n",
      "Done.\n"
     ]
    },
    {
     "data": {
      "text/plain": [
       "[]"
      ]
     },
     "execution_count": 10,
     "metadata": {},
     "output_type": "execute_result"
    }
   ],
   "source": [
    "%%sql\n",
    "DROP TABLE IF EXISTS medicamentos;\n",
    "CREATE TABLE medicamentos(nombre_medicamento CHAR(30),\n",
    "                         formula CHAR(30),\n",
    "                         nombre_compañia CHAR(30) NOT NULL,\n",
    "                         FOREIGN KEY(nombre_compañia) REFERENCES compañias(nombre) ON DELETE CASCADE,\n",
    "                         PRIMARY KEY(nombre_medicamento, nombre_compañia));"
   ]
  },
  {
   "cell_type": "code",
   "execution_count": 11,
   "metadata": {},
   "outputs": [
    {
     "name": "stdout",
     "output_type": "stream",
     "text": [
      "Done.\n",
      "Done.\n"
     ]
    },
    {
     "data": {
      "text/plain": [
       "[]"
      ]
     },
     "execution_count": 11,
     "metadata": {},
     "output_type": "execute_result"
    }
   ],
   "source": [
    "%%sql\n",
    "DROP TABLE IF EXISTS compañias;\n",
    "CREATE TABLE compañias(nombre CHAR(30),\n",
    "                      telefono INT,\n",
    "                      PRIMARY KEY(nombre));"
   ]
  },
  {
   "cell_type": "code",
   "execution_count": 12,
   "metadata": {},
   "outputs": [
    {
     "name": "stdout",
     "output_type": "stream",
     "text": [
      "Done.\n",
      "Done.\n"
     ]
    },
    {
     "data": {
      "text/plain": [
       "[]"
      ]
     },
     "execution_count": 12,
     "metadata": {},
     "output_type": "execute_result"
    }
   ],
   "source": [
    "%%sql\n",
    "DROP TABLE IF EXISTS farmacias;\n",
    "CREATE TABLE farmacias(nombre CHAR(30),\n",
    "                      direccion CHAR(30),\n",
    "                      telefono INT,\n",
    "                      PRIMARY KEY(direccion));"
   ]
  },
  {
   "cell_type": "code",
   "execution_count": 13,
   "metadata": {},
   "outputs": [
    {
     "name": "stdout",
     "output_type": "stream",
     "text": [
      "Done.\n",
      "Done.\n"
     ]
    },
    {
     "data": {
      "text/plain": [
       "[]"
      ]
     },
     "execution_count": 13,
     "metadata": {},
     "output_type": "execute_result"
    }
   ],
   "source": [
    "%%sql\n",
    "DROP TABLE IF EXISTS supervisores;\n",
    "CREATE TABLE supervisores(nif CHAR(10),\n",
    "                         nombre CHAR(30),\n",
    "                         PRIMARY KEY(nif));"
   ]
  },
  {
   "cell_type": "code",
   "execution_count": 14,
   "metadata": {},
   "outputs": [
    {
     "name": "stdout",
     "output_type": "stream",
     "text": [
      "Done.\n",
      "Done.\n"
     ]
    },
    {
     "data": {
      "text/plain": [
       "[]"
      ]
     },
     "execution_count": 14,
     "metadata": {},
     "output_type": "execute_result"
    }
   ],
   "source": [
    "%%sql\n",
    "DROP TABLE IF EXISTS recetas;\n",
    "CREATE TABLE recetas(fecha DATE,\n",
    "                    cantidad INT,\n",
    "                    nif_paciente CHAR(10),\n",
    "                    nif_medico CHAR(10),\n",
    "                    nombre_medicamento CHAR(30),\n",
    "                    PRIMARY KEY(nif_paciente, nif_medico, nombre_medicamento),\n",
    "                    FOREIGN KEY(nif_paciente) REFERENCES pacientes(nif),\n",
    "                    FOREIGN KEY(nif_medico)REFERENCES medicos(nif),\n",
    "                    FOREIGN KEY(nombre_medicamento) REFERENCES medicamentos(nombre));"
   ]
  },
  {
   "cell_type": "code",
   "execution_count": 15,
   "metadata": {},
   "outputs": [
    {
     "name": "stdout",
     "output_type": "stream",
     "text": [
      "Done.\n",
      "Done.\n"
     ]
    },
    {
     "data": {
      "text/plain": [
       "[]"
      ]
     },
     "execution_count": 15,
     "metadata": {},
     "output_type": "execute_result"
    }
   ],
   "source": [
    "%%sql\n",
    "DROP TABLE IF EXISTS ventas;\n",
    "CREATE TABLE ventas(precio INT,\n",
    "                    medicamento CHAR(30),\n",
    "                    farmacia CHAR(30),\n",
    "                    PRIMARY KEY (medicamento, farmacia),\n",
    "                    FOREIGN KEY(medicamento) REFERENCES medicamentos(nombre),\n",
    "                    FOREIGN KEY(farmacia) REFERENCES farmacias(direccion));"
   ]
  },
  {
   "cell_type": "code",
   "execution_count": 16,
   "metadata": {},
   "outputs": [
    {
     "name": "stdout",
     "output_type": "stream",
     "text": [
      "Done.\n",
      "Done.\n"
     ]
    },
    {
     "data": {
      "text/plain": [
       "[]"
      ]
     },
     "execution_count": 16,
     "metadata": {},
     "output_type": "execute_result"
    }
   ],
   "source": [
    "%%sql\n",
    "DROP TABLE IF EXISTS contrata;\n",
    "CREATE TABLE contrata(fecha_inicio DATE,\n",
    "                     fecha_fin DATE,\n",
    "                     texto CHAR(300),\n",
    "                     compañia CHAR(30),\n",
    "                     supervisor CHAR(10),\n",
    "                     farmacia CHAR(30),\n",
    "                     PRIMARY KEY(compañia, supervisor, farmacia),\n",
    "                     FOREIGN KEY(compañia) REFERENCES compañias(nombre),\n",
    "                     FOREIGN KEY(supervisor) REFERENCES supervisores(nif),\n",
    "                     FOREIGN KEY(farmacia) REFERENCES frmacias(direccion));"
   ]
  }
 ],
 "metadata": {
  "kernelspec": {
   "display_name": "Python 3",
   "language": "python",
   "name": "python3"
  },
  "language_info": {
   "codemirror_mode": {
    "name": "ipython",
    "version": 3
   },
   "file_extension": ".py",
   "mimetype": "text/x-python",
   "name": "python",
   "nbconvert_exporter": "python",
   "pygments_lexer": "ipython3",
   "version": "3.5.2"
  }
 },
 "nbformat": 4,
 "nbformat_minor": 2
}
