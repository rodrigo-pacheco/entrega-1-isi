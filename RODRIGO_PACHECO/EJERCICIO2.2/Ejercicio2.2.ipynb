{
 "cells": [
  {
   "cell_type": "markdown",
   "metadata": {},
   "source": [
    "<img src=\"Ejercicio2.png\">"
   ]
  },
  {
   "cell_type": "code",
   "execution_count": 36,
   "metadata": {},
   "outputs": [
    {
     "name": "stdout",
     "output_type": "stream",
     "text": [
      "The sql extension is already loaded. To reload it, use:\n",
      "  %reload_ext sql\n"
     ]
    }
   ],
   "source": [
    "%load_ext sql"
   ]
  },
  {
   "cell_type": "code",
   "execution_count": 37,
   "metadata": {},
   "outputs": [
    {
     "data": {
      "text/plain": [
       "'Connected: None@ejercicio2.db'"
      ]
     },
     "execution_count": 37,
     "metadata": {},
     "output_type": "execute_result"
    }
   ],
   "source": [
    "%sql sqlite:///ejercicio2.db"
   ]
  },
  {
   "cell_type": "code",
   "execution_count": 40,
   "metadata": {},
   "outputs": [
    {
     "name": "stdout",
     "output_type": "stream",
     "text": [
      "Done.\n",
      "Done.\n",
      "Done.\n",
      "Done.\n",
      "Done.\n",
      "Done.\n",
      "Done.\n",
      "Done.\n"
     ]
    },
    {
     "data": {
      "text/plain": [
       "[]"
      ]
     },
     "execution_count": 40,
     "metadata": {},
     "output_type": "execute_result"
    }
   ],
   "source": [
    "%sql DROP TABLE IF EXISTS profesores\n",
    "%sql DROP TABLE IF EXISTS departamentos\n",
    "%sql DROP TABLE IF EXISTS proyectos\n",
    "%sql DROP TABLE IF EXISTS estudiantes\n",
    "%sql DROP TABLE IF EXISTS trabajan_en_departamento\n",
    "%sql DROP TABLE IF EXISTS trabajan_en_proyecto\n",
    "%sql DROP TABLE IF EXISTS supervisan\n",
    "%sql DROP TABLE IF EXISTS tutoriza"
   ]
  },
  {
   "cell_type": "code",
   "execution_count": 41,
   "metadata": {},
   "outputs": [
    {
     "name": "stdout",
     "output_type": "stream",
     "text": [
      "Done.\n",
      "Done.\n"
     ]
    },
    {
     "data": {
      "text/plain": [
       "[]"
      ]
     },
     "execution_count": 41,
     "metadata": {},
     "output_type": "execute_result"
    }
   ],
   "source": [
    "%%sql\n",
    "DROP TABLE IF EXISTS profesores;\n",
    "CREATE TABLE profesores(NIF CHAR(10),\n",
    "                        nombre CHAR(30),\n",
    "                        edad INT,\n",
    "                        cargo CHAR(30),\n",
    "                        especialidad CHAR(30),\n",
    "                        PRIMARY KEY(NIF));"
   ]
  },
  {
   "cell_type": "code",
   "execution_count": 42,
   "metadata": {},
   "outputs": [
    {
     "name": "stdout",
     "output_type": "stream",
     "text": [
      "Done.\n",
      "Done.\n"
     ]
    },
    {
     "data": {
      "text/plain": [
       "[]"
      ]
     },
     "execution_count": 42,
     "metadata": {},
     "output_type": "execute_result"
    }
   ],
   "source": [
    "%%sql\n",
    "DROP TABLE IF EXISTS departamentos;\n",
    "CREATE TABLE departamentos(Numero INT,\n",
    "                           Nombre CHAR(30),\n",
    "                           Edificio INT,\n",
    "                           prof_dirige CHAR(10) NOT NULL,\n",
    "                           FOREIGN KEY(prof_dirige) REFERENCES profesores(NIF),\n",
    "                           PRIMARY KEY(Numero));"
   ]
  },
  {
   "cell_type": "code",
   "execution_count": 43,
   "metadata": {},
   "outputs": [
    {
     "name": "stdout",
     "output_type": "stream",
     "text": [
      "Done.\n",
      "Done.\n"
     ]
    },
    {
     "data": {
      "text/plain": [
       "[]"
      ]
     },
     "execution_count": 43,
     "metadata": {},
     "output_type": "execute_result"
    }
   ],
   "source": [
    "%%sql DROP TABLE IF EXISTS proyectos;\n",
    "CREATE TABLE proyectos(Numero INT,\n",
    "                       Nom_Entidad_Fin CHAR(30),\n",
    "                       Fecha_Inicio DATE,\n",
    "                       Fecha_Fin DATE,\n",
    "                       Presupuesto FLOAT,\n",
    "                       prof_gestor CHAR(10) NOT NULL,\n",
    "                       FOREIGN KEY(prof_gestor) REFERENCES profesores(NIF),\n",
    "                       PRIMARY KEY(Numero));"
   ]
  },
  {
   "cell_type": "code",
   "execution_count": 47,
   "metadata": {},
   "outputs": [
    {
     "name": "stdout",
     "output_type": "stream",
     "text": [
      "Done.\n",
      "Done.\n"
     ]
    },
    {
     "data": {
      "text/plain": [
       "[]"
      ]
     },
     "execution_count": 47,
     "metadata": {},
     "output_type": "execute_result"
    }
   ],
   "source": [
    "%%sql DROP TABLE IF EXISTS estudiantes;\n",
    "CREATE TABLE estudiantes(NIF CHAR(10),\n",
    "                              Edad INT,\n",
    "                              Nombre CHAR(30),\n",
    "                              Titulacion CHAR(30),\n",
    "                              dep_asociado INT,\n",
    "                              tutoriza CHAR(10),\n",
    "                              FOREIGN KEY(tutoriza) REFERENCES estudiantes(NIF),\n",
    "                              FOREIGN KEY (dep_Asociado) REFERENCES departamento(Numero),\n",
    "                              PRIMARY KEY(NIF));"
   ]
  },
  {
   "cell_type": "code",
   "execution_count": 52,
   "metadata": {},
   "outputs": [
    {
     "name": "stdout",
     "output_type": "stream",
     "text": [
      "Done.\n",
      "Done.\n"
     ]
    },
    {
     "data": {
      "text/plain": [
       "[]"
      ]
     },
     "execution_count": 52,
     "metadata": {},
     "output_type": "execute_result"
    }
   ],
   "source": [
    "%%sql\n",
    "DROP TABLE IF EXISTS supervisan;\n",
    "CREATE TABLE supervisan(estudiante CHAR(10),\n",
    "                       profesor CHAR(10),\n",
    "                       proyecto INT,\n",
    "                       PRIMARY KEY (estudiante, profesor, proyecto),\n",
    "                       FOREIGN KEY(estudiante) REFERENCES estudiantes(NIF),\n",
    "                       FOREIGN KEY(profesor) REFERENCES profesores(NIF),\n",
    "                       FOREIGN KEY(proyecto) REFERENCES proyecto(Numero));"
   ]
  },
  {
   "cell_type": "code",
   "execution_count": 55,
   "metadata": {},
   "outputs": [
    {
     "name": "stdout",
     "output_type": "stream",
     "text": [
      "Done.\n",
      "Done.\n"
     ]
    },
    {
     "data": {
      "text/plain": [
       "[]"
      ]
     },
     "execution_count": 55,
     "metadata": {},
     "output_type": "execute_result"
    }
   ],
   "source": [
    "%%sql\n",
    "DROP TABLE IF EXISTS trabajan_en_departamento;\n",
    "CREATE TABLE trabajan_en_departamento (profesor CHAR(10),\n",
    "                                       departamento INT,\n",
    "                                       PRIMARY KEY(profesor, departamento),\n",
    "                                       FOREIGN KEY(profesor) REFERENCES profesores(NIF),\n",
    "                                       FOREIGN KEY(departamento) REFERENCES departamentos(Numero));"
   ]
  },
  {
   "cell_type": "code",
   "execution_count": 56,
   "metadata": {},
   "outputs": [
    {
     "name": "stdout",
     "output_type": "stream",
     "text": [
      "Done.\n",
      "Done.\n"
     ]
    },
    {
     "data": {
      "text/plain": [
       "[]"
      ]
     },
     "execution_count": 56,
     "metadata": {},
     "output_type": "execute_result"
    }
   ],
   "source": [
    "%%sql\n",
    "DROP TABLE IF EXISTS trabajan_en_proyecto;\n",
    "CREATE TABLE trabajan_en_proyecto (profesor CHAR(10),\n",
    "                                   proyecto INT,\n",
    "                                   PRIMARY KEY(profesor, proyecto),\n",
    "                                   FOREIGN KEY(profesor) REFERENCES profesores(NIF),\n",
    "                                   FOREIGN KEY(proyecto) REFERENCES proyectos(Numero));"
   ]
  },
  {
   "cell_type": "code",
   "execution_count": null,
   "metadata": {},
   "outputs": [],
   "source": []
  }
 ],
 "metadata": {
  "kernelspec": {
   "display_name": "Python 3",
   "language": "python",
   "name": "python3"
  },
  "language_info": {
   "codemirror_mode": {
    "name": "ipython",
    "version": 3
   },
   "file_extension": ".py",
   "mimetype": "text/x-python",
   "name": "python",
   "nbconvert_exporter": "python",
   "pygments_lexer": "ipython3",
   "version": "3.5.2"
  }
 },
 "nbformat": 4,
 "nbformat_minor": 2
}
