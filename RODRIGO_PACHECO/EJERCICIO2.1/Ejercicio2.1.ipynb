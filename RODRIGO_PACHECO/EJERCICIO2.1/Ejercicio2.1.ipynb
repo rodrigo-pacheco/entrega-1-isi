{
 "cells": [
  {
   "cell_type": "markdown",
   "metadata": {},
   "source": [
    "<img src=\"Ejercicio1.png\">"
   ]
  },
  {
   "cell_type": "code",
   "execution_count": 1,
   "metadata": {},
   "outputs": [],
   "source": [
    "%load_ext sql"
   ]
  },
  {
   "cell_type": "code",
   "execution_count": 2,
   "metadata": {},
   "outputs": [
    {
     "data": {
      "text/plain": [
       "'Connected: None@ejercicio1.db'"
      ]
     },
     "execution_count": 2,
     "metadata": {},
     "output_type": "execute_result"
    }
   ],
   "source": [
    "%sql sqlite:///ejercicio1.db\n",
    "\n"
   ]
  },
  {
   "cell_type": "code",
   "execution_count": 46,
   "metadata": {},
   "outputs": [
    {
     "name": "stdout",
     "output_type": "stream",
     "text": [
      "Done.\n",
      "Done.\n",
      "Done.\n",
      "Done.\n",
      "Done.\n",
      "Done.\n",
      "Done.\n",
      "Done.\n",
      "Done.\n"
     ]
    },
    {
     "data": {
      "text/plain": [
       "[]"
      ]
     },
     "execution_count": 46,
     "metadata": {},
     "output_type": "execute_result"
    }
   ],
   "source": [
    "%sql DROP TABLE IF EXISTS profesores\n",
    "%sql DROP TABLE IF EXISTS asignaturas\n",
    "%sql DROP TABLE IF EXISTS cuatrimestres\n",
    "%sql DROP TABLE IF EXISTS enseña1\n",
    "%sql DROP TABLE IF EXISTS enseña2\n",
    "%sql DROP TABLE IF EXISTS enseña3\n",
    "%sql DROP TABLE IF EXISTS enseña4\n",
    "%sql DROP TABLE IF EXISTS enseña5"
   ]
  },
  {
   "cell_type": "code",
   "execution_count": 47,
   "metadata": {},
   "outputs": [
    {
     "name": "stdout",
     "output_type": "stream",
     "text": [
      "Done.\n"
     ]
    },
    {
     "data": {
      "text/plain": [
       "[]"
      ]
     },
     "execution_count": 47,
     "metadata": {},
     "output_type": "execute_result"
    }
   ],
   "source": [
    "%%sql CREATE TABLE profesores(NIF VARCHAR(10),\n",
    "                              PRIMARY KEY (NIF));"
   ]
  },
  {
   "cell_type": "code",
   "execution_count": 48,
   "metadata": {},
   "outputs": [
    {
     "name": "stdout",
     "output_type": "stream",
     "text": [
      "Done.\n"
     ]
    },
    {
     "data": {
      "text/plain": [
       "[]"
      ]
     },
     "execution_count": 48,
     "metadata": {},
     "output_type": "execute_result"
    }
   ],
   "source": [
    "%%sql CREATE TABLE asignaturas(codigo INT,\n",
    "                              PRIMARY KEY (codigo));"
   ]
  },
  {
   "cell_type": "code",
   "execution_count": 49,
   "metadata": {},
   "outputs": [
    {
     "name": "stdout",
     "output_type": "stream",
     "text": [
      "Done.\n"
     ]
    },
    {
     "data": {
      "text/plain": [
       "[]"
      ]
     },
     "execution_count": 49,
     "metadata": {},
     "output_type": "execute_result"
    }
   ],
   "source": [
    "%%sql CREATE TABLE cuatrimestres(añonumero INT,\n",
    "                                PRIMARY KEY (añonumero)); -- Año y cuatrimestre. Ejemplo: 20171 ó 20172"
   ]
  },
  {
   "cell_type": "code",
   "execution_count": 50,
   "metadata": {},
   "outputs": [
    {
     "name": "stdout",
     "output_type": "stream",
     "text": [
      "Done.\n"
     ]
    },
    {
     "data": {
      "text/plain": [
       "[]"
      ]
     },
     "execution_count": 50,
     "metadata": {},
     "output_type": "execute_result"
    }
   ],
   "source": [
    "%%sql CREATE TABLE enseña1(NIF VARCHAR(10), \n",
    "                           codigo INT,\n",
    "                           añonumero INT,\n",
    "                           PRIMARY KEY (NIF, codigo),\n",
    "                           FOREIGN KEY(NIF) references profesores(NIF),\n",
    "                           FOREIGN KEY(codigo) references asignaturas(codigo),\n",
    "                           FOREIGN KEY(añonumero) references cuatrimestres(añonumero));"
   ]
  },
  {
   "cell_type": "code",
   "execution_count": 51,
   "metadata": {},
   "outputs": [
    {
     "name": "stdout",
     "output_type": "stream",
     "text": [
      "Done.\n"
     ]
    },
    {
     "data": {
      "text/plain": [
       "[]"
      ]
     },
     "execution_count": 51,
     "metadata": {},
     "output_type": "execute_result"
    }
   ],
   "source": [
    "%%sql CREATE TABLE enseña2(NIF VARCHAR(10), \n",
    "                           codigo INT,\n",
    "                           cuatrimestre INT,\n",
    "                           PRIMARY KEY (NIF, codigo, cuatrimestre)\n",
    "                           FOREIGN KEY(NIF) references profesores(NIF),\n",
    "                           FOREIGN KEY(codigo) references asignaturas(codigo),\n",
    "                           FOREIGN KEY(cuatrimestre) references cuatrimestres(añonumero));"
   ]
  },
  {
   "cell_type": "code",
   "execution_count": 52,
   "metadata": {},
   "outputs": [
    {
     "name": "stdout",
     "output_type": "stream",
     "text": [
      "Done.\n"
     ]
    },
    {
     "data": {
      "text/plain": [
       "[]"
      ]
     },
     "execution_count": 52,
     "metadata": {},
     "output_type": "execute_result"
    }
   ],
   "source": [
    "%%sql CREATE TABLE enseña3(NIF VARCHAR(10), \n",
    "                           codigo INT,\n",
    "                           cuatrimestre INT,\n",
    "                           PRIMARY KEY (NIF, codigo, cuatrimestre)\n",
    "                           FOREIGN KEY(NIF) references profesores(NIF),\n",
    "                           FOREIGN KEY(codigo) references asignaturas(codigo),\n",
    "                           FOREIGN KEY(cuatrimestre) references cuatrimestres(añonumero));"
   ]
  },
  {
   "cell_type": "code",
   "execution_count": null,
   "metadata": {},
   "outputs": [],
   "source": [
    "%%sql CREATE TABLE enseña4(NIF VARCHAR(10) NOT NULL, \n",
    "                           codigo INT,\n",
    "                           cuatrimestre INT,\n",
    "                           PRIMARY KEY (NIF, codigo, cuatrimestre)\n",
    "                           FOREIGN KEY(NIF) references profesores(NIF),\n",
    "                           FOREIGN KEY(codigo) references asignaturas(codigo),\n",
    "                           FOREIGN KEY(cuatrimestre) references cuatrimestres(añonumero));"
   ]
  },
  {
   "cell_type": "code",
   "execution_count": null,
   "metadata": {},
   "outputs": [],
   "source": [
    "%%sql CREATE TABLE enseña5(NIF VARCHAR(10) NOT NULL, \n",
    "                           codigo INT,\n",
    "                           cuatrimestre INT,\n",
    "                           PRIMARY KEY (NIF, codigo, cuatrimestre)\n",
    "                           FOREIGN KEY(NIF) references profesores(NIF),\n",
    "                           FOREIGN KEY(codigo) references asignaturas(codigo),\n",
    "                           FOREIGN KEY(cuatrimestre) references cuatrimestres(añonumero));"
   ]
  },
  {
   "cell_type": "code",
   "execution_count": null,
   "metadata": {},
   "outputs": [],
   "source": []
  },
  {
   "cell_type": "code",
   "execution_count": null,
   "metadata": {},
   "outputs": [],
   "source": [
    "El apartado 6 no se puede implementar en SQL únicamente"
   ]
  }
 ],
 "metadata": {
  "kernelspec": {
   "display_name": "Python 3",
   "language": "python",
   "name": "python3"
  },
  "language_info": {
   "codemirror_mode": {
    "name": "ipython",
    "version": 3
   },
   "file_extension": ".py",
   "mimetype": "text/x-python",
   "name": "python",
   "nbconvert_exporter": "python",
   "pygments_lexer": "ipython3",
   "version": "3.5.2"
  }
 },
 "nbformat": 4,
 "nbformat_minor": 2
}
