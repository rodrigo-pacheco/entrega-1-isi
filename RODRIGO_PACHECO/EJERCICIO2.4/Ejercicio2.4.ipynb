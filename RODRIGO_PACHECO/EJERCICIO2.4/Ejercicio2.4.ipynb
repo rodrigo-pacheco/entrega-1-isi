{
 "cells": [
  {
   "cell_type": "markdown",
   "metadata": {},
   "source": [
    "<img src=\"Ejercicio4.png\">"
   ]
  },
  {
   "cell_type": "code",
   "execution_count": 3,
   "metadata": {},
   "outputs": [
    {
     "name": "stdout",
     "output_type": "stream",
     "text": [
      "The sql extension is already loaded. To reload it, use:\n",
      "  %reload_ext sql\n"
     ]
    }
   ],
   "source": [
    "%load_ext sql"
   ]
  },
  {
   "cell_type": "code",
   "execution_count": 4,
   "metadata": {},
   "outputs": [
    {
     "data": {
      "text/plain": [
       "'Connected: None@ejercicio4.db'"
      ]
     },
     "execution_count": 4,
     "metadata": {},
     "output_type": "execute_result"
    }
   ],
   "source": [
    "%sql sqlite:///ejercicio4.db"
   ]
  },
  {
   "cell_type": "code",
   "execution_count": 6,
   "metadata": {},
   "outputs": [
    {
     "name": "stdout",
     "output_type": "stream",
     "text": [
      "Done.\n",
      "Done.\n",
      "Done.\n",
      "Done.\n",
      "Done.\n",
      "Done.\n",
      "Done.\n",
      "Done.\n"
     ]
    },
    {
     "data": {
      "text/plain": [
       "[]"
      ]
     },
     "execution_count": 6,
     "metadata": {},
     "output_type": "execute_result"
    }
   ],
   "source": [
    "%%sql   DROP TABLE IF EXISTS musicos;\n",
    "        DROP TABLE IF EXISTS domicilios;\n",
    "        DROP TABLE IF EXISTS instrumentos;\n",
    "        DROP TABLE IF EXISTS albumes;\n",
    "        DROP TABLE IF EXISTS canciones;\n",
    "        DROP TABLE IF EXISTS interpreta;\n",
    "        DROP TABLE IF EXISTS tiene;\n",
    "        DROP TABLE IF EXISTS toca;"
   ]
  },
  {
   "cell_type": "code",
   "execution_count": 8,
   "metadata": {},
   "outputs": [
    {
     "name": "stdout",
     "output_type": "stream",
     "text": [
      "Done.\n",
      "Done.\n"
     ]
    },
    {
     "data": {
      "text/plain": [
       "[]"
      ]
     },
     "execution_count": 8,
     "metadata": {},
     "output_type": "execute_result"
    }
   ],
   "source": [
    "%%sql\n",
    "DROP TABLE IF EXISTS musicos;\n",
    "CREATE TABLE musicos(NIF CHAR(10),\n",
    "                    nombre CHAR(30),\n",
    "                    telefono INT NOT NULL,\n",
    "                    PRIMARY KEY(NIF),\n",
    "                    FOREIGN KEY(telefono) REFERENCES domicilios(telefono));"
   ]
  },
  {
   "cell_type": "code",
   "execution_count": 9,
   "metadata": {},
   "outputs": [
    {
     "name": "stdout",
     "output_type": "stream",
     "text": [
      "Done.\n",
      "Done.\n"
     ]
    },
    {
     "data": {
      "text/plain": [
       "[]"
      ]
     },
     "execution_count": 9,
     "metadata": {},
     "output_type": "execute_result"
    }
   ],
   "source": [
    "%%sql\n",
    "DROP TABLE IF EXISTS domicilios;\n",
    "CREATE TABLE domicilios(telefono INT,\n",
    "                             direccion CHAR(30),\n",
    "                             PRIMARY KEY(telefono));"
   ]
  },
  {
   "cell_type": "code",
   "execution_count": 14,
   "metadata": {},
   "outputs": [
    {
     "name": "stdout",
     "output_type": "stream",
     "text": [
      "Done.\n",
      "Done.\n"
     ]
    },
    {
     "data": {
      "text/plain": [
       "[]"
      ]
     },
     "execution_count": 14,
     "metadata": {},
     "output_type": "execute_result"
    }
   ],
   "source": [
    "%%sql\n",
    "DROP TABLE IF EXISTS instrumentos;\n",
    "CREATE TABLE instrumentos(numero INT,\n",
    "                          nombre CHAR(30),\n",
    "                          PRIMARY KEY(numero));"
   ]
  },
  {
   "cell_type": "code",
   "execution_count": 37,
   "metadata": {},
   "outputs": [
    {
     "name": "stdout",
     "output_type": "stream",
     "text": [
      "Done.\n",
      "Done.\n"
     ]
    },
    {
     "data": {
      "text/plain": [
       "[]"
      ]
     },
     "execution_count": 37,
     "metadata": {},
     "output_type": "execute_result"
    }
   ],
   "source": [
    "%%sql\n",
    "DROP TABLE IF EXISTS albumes;\n",
    "CREATE TABLE albumes(numero INT,\n",
    "                    titulo CHAR(30),\n",
    "                    fecha DATE,\n",
    "                    formato CHAR(30),\n",
    "                    productor CHAR(10) NOT NULL,\n",
    "                    PRIMARY KEY(numero),\n",
    "                    FOREIGN KEY(productor) REFERENCES musicos(NIF));"
   ]
  },
  {
   "cell_type": "code",
   "execution_count": 39,
   "metadata": {},
   "outputs": [
    {
     "name": "stdout",
     "output_type": "stream",
     "text": [
      "Done.\n",
      "Done.\n"
     ]
    },
    {
     "data": {
      "text/plain": [
       "[]"
      ]
     },
     "execution_count": 39,
     "metadata": {},
     "output_type": "execute_result"
    }
   ],
   "source": [
    "%%sql\n",
    "DROP TABLE IF EXISTS canciones;\n",
    "CREATE TABLE canciones(id INT,\n",
    "                       titulo CHAR(30),\n",
    "                       autor CHAR(30),\n",
    "                       id_album INT NOT NULL,\n",
    "                       PRIMARY KEY(id),\n",
    "                       FOREIGN KEY(id_album) REFERENCES albumes(numero));"
   ]
  },
  {
   "cell_type": "code",
   "execution_count": 23,
   "metadata": {},
   "outputs": [
    {
     "name": "stdout",
     "output_type": "stream",
     "text": [
      "Done.\n",
      "Done.\n"
     ]
    },
    {
     "data": {
      "text/plain": [
       "[]"
      ]
     },
     "execution_count": 23,
     "metadata": {},
     "output_type": "execute_result"
    }
   ],
   "source": [
    "%%sql\n",
    "DROP TABLE IF EXISTS interpreta;\n",
    "CREATE TABLE interpreta(NIF_musico CHAR(10),\n",
    "                       id_cancion INT,\n",
    "                       PRIMARY KEY(NIF_musico, id_cancion),\n",
    "                       FOREIGN KEY(NIF_musico) REFERENCES musicos(NIF),\n",
    "                       FOREIGN KEY(id_cancion) REFERENCES canciones(id));"
   ]
  },
  {
   "cell_type": "code",
   "execution_count": 28,
   "metadata": {},
   "outputs": [
    {
     "name": "stdout",
     "output_type": "stream",
     "text": [
      "Done.\n",
      "Done.\n"
     ]
    },
    {
     "data": {
      "text/plain": [
       "[]"
      ]
     },
     "execution_count": 28,
     "metadata": {},
     "output_type": "execute_result"
    }
   ],
   "source": [
    "%%sql\n",
    "DROP TABLE IF EXISTS tiene;\n",
    "CREATE TABLE tiene(NIF_musico CHAR(10),\n",
    "                  numero_instrumento INT,\n",
    "                  PRIMARY KEY(NIF_musico, numero_instrumento),\n",
    "                  FOREIGN KEY(NIF_musico) REFERENCES musicos(NIF),\n",
    "                  FOREIGN KEY(numero_instrumento) REFERENCES instrumentos(numero));"
   ]
  },
  {
   "cell_type": "code",
   "execution_count": 30,
   "metadata": {},
   "outputs": [
    {
     "name": "stdout",
     "output_type": "stream",
     "text": [
      "Done.\n",
      "Done.\n"
     ]
    },
    {
     "data": {
      "text/plain": [
       "[]"
      ]
     },
     "execution_count": 30,
     "metadata": {},
     "output_type": "execute_result"
    }
   ],
   "source": [
    "%%sql\n",
    "DROP TABLE IF EXISTS toca;\n",
    "CREATE TABLE toca(NIF_musico CHAR(10),\n",
    "                  numero_instrumento INT,\n",
    "                  PRIMARY KEY(NIF_musico, numero_instrumento),\n",
    "                  FOREIGN KEY(NIF_musico) REFERENCES musicos(NIF),\n",
    "                  FOREIGN KEY(numero_instrumento) REFERENCES instrumentos(numero));"
   ]
  },
  {
   "cell_type": "code",
   "execution_count": null,
   "metadata": {},
   "outputs": [],
   "source": []
  }
 ],
 "metadata": {
  "kernelspec": {
   "display_name": "Python 3",
   "language": "python",
   "name": "python3"
  },
  "language_info": {
   "codemirror_mode": {
    "name": "ipython",
    "version": 3
   },
   "file_extension": ".py",
   "mimetype": "text/x-python",
   "name": "python",
   "nbconvert_exporter": "python",
   "pygments_lexer": "ipython3",
   "version": "3.5.2"
  }
 },
 "nbformat": 4,
 "nbformat_minor": 2
}
