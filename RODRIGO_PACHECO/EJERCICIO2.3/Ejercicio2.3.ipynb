{
 "cells": [
  {
   "cell_type": "markdown",
   "metadata": {},
   "source": [
    "<img src=\"Ejercicio3.png\">"
   ]
  },
  {
   "cell_type": "code",
   "execution_count": 1,
   "metadata": {},
   "outputs": [],
   "source": [
    "%load_ext sql"
   ]
  },
  {
   "cell_type": "code",
   "execution_count": 2,
   "metadata": {},
   "outputs": [
    {
     "data": {
      "text/plain": [
       "'Connected: None@ejercicio3.db'"
      ]
     },
     "execution_count": 2,
     "metadata": {},
     "output_type": "execute_result"
    }
   ],
   "source": [
    "%sql sqlite:///ejercicio3.db"
   ]
  },
  {
   "cell_type": "code",
   "execution_count": 3,
   "metadata": {},
   "outputs": [
    {
     "name": "stdout",
     "output_type": "stream",
     "text": [
      "Done.\n",
      "Done.\n",
      "Done.\n",
      "Done.\n"
     ]
    },
    {
     "data": {
      "text/plain": [
       "[]"
      ]
     },
     "execution_count": 3,
     "metadata": {},
     "output_type": "execute_result"
    }
   ],
   "source": [
    "%sql DROP TABLE IF EXISTS empleados\n",
    "%sql DROP TABLE IF EXISTS departamentos\n",
    "%sql DROP TABLE IF EXISTS trabaja\n",
    "%sql DROP TABLE IF EXISTS hijo_de"
   ]
  },
  {
   "cell_type": "code",
   "execution_count": 4,
   "metadata": {},
   "outputs": [
    {
     "name": "stdout",
     "output_type": "stream",
     "text": [
      "Done.\n",
      "Done.\n"
     ]
    },
    {
     "data": {
      "text/plain": [
       "[]"
      ]
     },
     "execution_count": 4,
     "metadata": {},
     "output_type": "execute_result"
    }
   ],
   "source": [
    "%%sql DROP TABLE IF EXISTS empleados;\n",
    "     CREATE TABLE empleados(NIF CHAR(10),\n",
    "                           salario FLOAT,\n",
    "                           telefono INT,\n",
    "                           PRIMARY KEY(NIF));"
   ]
  },
  {
   "cell_type": "code",
   "execution_count": 5,
   "metadata": {},
   "outputs": [
    {
     "name": "stdout",
     "output_type": "stream",
     "text": [
      "Done.\n",
      "Done.\n"
     ]
    },
    {
     "data": {
      "text/plain": [
       "[]"
      ]
     },
     "execution_count": 5,
     "metadata": {},
     "output_type": "execute_result"
    }
   ],
   "source": [
    "%%sql DROP TABLE IF EXISTS departamentos;\n",
    "    CREATE TABLE departamentos(dep_id INT,\n",
    "                                nombre CHAR(30),\n",
    "                                presupuesto FLOAT,\n",
    "                                NIF_director CHAR(10) NOT NULL,\n",
    "                                FOREIGN KEY(NIF_director) REFERENCES empleados(NIF),\n",
    "                                PRIMARY KEY(dep_id));"
   ]
  },
  {
   "cell_type": "code",
   "execution_count": 41,
   "metadata": {},
   "outputs": [
    {
     "name": "stdout",
     "output_type": "stream",
     "text": [
      "Done.\n",
      "Done.\n"
     ]
    },
    {
     "data": {
      "text/plain": [
       "[]"
      ]
     },
     "execution_count": 41,
     "metadata": {},
     "output_type": "execute_result"
    }
   ],
   "source": [
    "%%sql DROP TABLE IF EXISTS trabaja;\n",
    "    CREATE TABLE trabaja(NIF CHAR(10),\n",
    "                          dep_id INT,\n",
    "                          PRIMARY KEY(NIF, dep_id),\n",
    "                          FOREIGN KEY(NIF) REFERENCES empleados(NIF),\n",
    "                          FOREIGN KEY(dep_id) REFERENCES departamentos(dep_id));"
   ]
  },
  {
   "cell_type": "code",
   "execution_count": 42,
   "metadata": {},
   "outputs": [
    {
     "name": "stdout",
     "output_type": "stream",
     "text": [
      "Done.\n",
      "Done.\n"
     ]
    },
    {
     "data": {
      "text/plain": [
       "[]"
      ]
     },
     "execution_count": 42,
     "metadata": {},
     "output_type": "execute_result"
    }
   ],
   "source": [
    "%%sql DROP TABLE IF EXISTS hijo_de;\n",
    "       CREATE TABLE hijo_de(nombre CHAR(30),\n",
    "                           edad INT,\n",
    "                           NIF_padre CHAR(10) NOT NULL,\n",
    "                           PRIMARY KEY (nombre, NIF_padre),\n",
    "                           FOREIGN KEY (NIF_padre) REFERENCES empleados(NIF) ON DELETE CASCADE);"
   ]
  }
 ],
 "metadata": {
  "kernelspec": {
   "display_name": "Python 3",
   "language": "python",
   "name": "python3"
  },
  "language_info": {
   "codemirror_mode": {
    "name": "ipython",
    "version": 3
   },
   "file_extension": ".py",
   "mimetype": "text/x-python",
   "name": "python",
   "nbconvert_exporter": "python",
   "pygments_lexer": "ipython3",
   "version": "3.5.2"
  }
 },
 "nbformat": 4,
 "nbformat_minor": 2
}
