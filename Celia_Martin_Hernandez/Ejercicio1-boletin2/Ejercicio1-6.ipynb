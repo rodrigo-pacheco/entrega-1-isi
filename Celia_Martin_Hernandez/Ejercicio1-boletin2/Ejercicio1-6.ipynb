{
 "cells": [
  {
   "cell_type": "code",
   "execution_count": null,
   "metadata": {},
   "outputs": [],
   "source": [
    "#Ejercicio-1-6 "
   ]
  },
  {
   "cell_type": "code",
   "execution_count": null,
   "metadata": {},
   "outputs": [],
   "source": [
    "%reload_ext sql"
   ]
  },
  {
   "cell_type": "code",
   "execution_count": null,
   "metadata": {},
   "outputs": [],
   "source": [
    "%sql sqlite:///Ejercicio1-6-.db"
   ]
  },
  {
   "cell_type": "code",
   "execution_count": null,
   "metadata": {},
   "outputs": [],
   "source": [
    "%%sql \n",
    "CREATE TABLE Profesores\n",
    "    (nif VARCHAR(10), \n",
    "     primary key(nif)) "
   ]
  },
  {
   "cell_type": "code",
   "execution_count": null,
   "metadata": {},
   "outputs": [],
   "source": [
    "%%sql \n",
    "CREATE TABLE Asigantura\n",
    "    (num_asigantura INT, primary key(num_asigantura))"
   ]
  },
  {
   "cell_type": "code",
   "execution_count": null,
   "metadata": {},
   "outputs": [],
   "source": [
    "%%sql\n",
    "INSERT INTO Asigantura(num_asigantura)\n",
    "    VALUES('3')"
   ]
  },
  {
   "cell_type": "code",
   "execution_count": null,
   "metadata": {},
   "outputs": [],
   "source": [
    "%sql SELECT * FROM Asigantura"
   ]
  },
  {
   "cell_type": "code",
   "execution_count": null,
   "metadata": {},
   "outputs": [],
   "source": [
    "%%sql \n",
    "CREATE TABLE Grupos\n",
    "    (num_grupos INT, primary key(num_grupos))"
   ]
  },
  {
   "cell_type": "code",
   "execution_count": null,
   "metadata": {},
   "outputs": [],
   "source": [
    "%%sql\n",
    "INSERT INTO Asigantura(num_asigantura)\n",
    "    VALUES('1')"
   ]
  },
  {
   "cell_type": "code",
   "execution_count": null,
   "metadata": {},
   "outputs": [],
   "source": [
    "%%sql \n",
    "CREATE TABLE Pertenecer\n",
    "    (nif VARCHAR(10) NOT NULL, num_grupos int), \n",
    "    primary key (nif, num_grupos), \n",
    "    foreign key (nif) references Profesores(nif), \n",
    "    foreign key (num_grupos) references Grupos (num_grupos))"
   ]
  },
  {
   "cell_type": "code",
   "execution_count": null,
   "metadata": {},
   "outputs": [],
   "source": [
    "%%sql \n",
    "CREATE TABLE Enseñar_a\n",
    "    (nif VARCHAR(10), num_asignatura int, num_cuatrimestre int), \n",
    "    primary key (nif, nif, num_asignatura, num_cuatrimestre), \n",
    "    foreign key (nif) references Profesores(nif), \n",
    "    foreign key (num_asignatura) references Asignatura (num_asignatura))"
   ]
  },
  {
   "cell_type": "code",
   "execution_count": null,
   "metadata": {},
   "outputs": [],
   "source": [
    "%%sql \n",
    "CREATE TABLE Enseñar\n",
    "    (num_grupo int, num_asignatura int, num_cuatrimestre int), \n",
    "    primary key (num_grupo, num_asignatura), \n",
    "    foreign key (num_grupos) references Grupos(num_grupos), \n",
    "    foreign key (num_asignatura) references Asignatura (num_asignatura))"
   ]
  },
  {
   "cell_type": "code",
   "execution_count": null,
   "metadata": {},
   "outputs": [],
   "source": []
  }
 ],
 "metadata": {
  "kernelspec": {
   "display_name": "Python 3",
   "language": "python",
   "name": "python3"
  },
  "language_info": {
   "codemirror_mode": {
    "name": "ipython",
    "version": 3
   },
   "file_extension": ".py",
   "mimetype": "text/x-python",
   "name": "python",
   "nbconvert_exporter": "python",
   "pygments_lexer": "ipython3",
   "version": "3.5.2"
  }
 },
 "nbformat": 4,
 "nbformat_minor": 2
}
