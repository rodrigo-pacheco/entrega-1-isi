{
 "cells": [
  {
   "cell_type": "markdown",
   "metadata": {},
   "source": [
    "# Ejercicios T2 ISI 1.1"
   ]
  },
  {
   "cell_type": "code",
   "execution_count": 3,
   "metadata": {},
   "outputs": [
    {
     "name": "stdout",
     "output_type": "stream",
     "text": [
      "The sql extension is already loaded. To reload it, use:\n",
      "  %reload_ext sql\n"
     ]
    },
    {
     "data": {
      "text/plain": [
       "'Connected: None@ej1.db'"
      ]
     },
     "execution_count": 3,
     "metadata": {},
     "output_type": "execute_result"
    }
   ],
   "source": [
    "%load_ext sql\n",
    "%sql sqlite:///ej1_2.db\n",
    "%sql PRAGMA foreign_keys = ON;"
   ]
  },
  {
   "cell_type": "code",
   "execution_count": 5,
   "metadata": {},
   "outputs": [
    {
     "name": "stdout",
     "output_type": "stream",
     "text": [
      "Done.\n",
      "Done.\n",
      "Done.\n",
      "Done.\n",
      "Done.\n"
     ]
    },
    {
     "data": {
      "text/plain": [
       "[]"
      ]
     },
     "execution_count": 5,
     "metadata": {},
     "output_type": "execute_result"
    }
   ],
   "source": [
    "%%sql\n",
    "DROP TABLE IF EXISTS Profesor;\n",
    "DROP TABLE IF EXISTS Asignatura;\n",
    "DROP TABLE IF EXISTS Enseña;\n",
    "\n",
    "CREATE TABLE Profesor(nif VARCHAR(30),\n",
    "                      PRIMARY KEY(nif));"
   ]
  },
  {
   "cell_type": "code",
   "execution_count": 10,
   "metadata": {},
   "outputs": [
    {
     "name": "stdout",
     "output_type": "stream",
     "text": [
      "Done.\n"
     ]
    },
    {
     "data": {
      "text/plain": [
       "[]"
      ]
     },
     "execution_count": 10,
     "metadata": {},
     "output_type": "execute_result"
    }
   ],
   "source": [
    "%%sql\n",
    "CREATE TABLE Asignatura(nombre VARCHAR(30)\n",
    "                        PRIMARY KEY(nombre));"
   ]
  },
  {
   "cell_type": "code",
   "execution_count": 13,
   "metadata": {},
   "outputs": [
    {
     "name": "stdout",
     "output_type": "stream",
     "text": [
      "(sqlite3.OperationalError) table Enseña already exists [SQL: 'CREATE TABLE Enseña(nif_prof VARCHAR(30), nombre_as VARCHAR(30),\\n                   fecha VARCHAR(30),\\n                   PRIMARY KEY(nif_prof, nombre_as, fecha),\\n                   FOREIGN KEY (nif_prof) REFERENCES Profesor(dni),\\n                   FOREIGN KEY (nombre_as) REFERENCES Asignatura(nombre),\\n                   FOREIGN KEY (fecha) REFERENCES Cuatri(fecha));']\n"
     ]
    }
   ],
   "source": [
    "%%sql\n",
    "CREATE TABLE Enseña(nif_prof VARCHAR(30), nombre_as VARCHAR(30),\n",
    "                   fecha VARCHAR(30),\n",
    "                   PRIMARY KEY(nif_prof, nombre_as, fecha),\n",
    "                   FOREIGN KEY (nif_prof) REFERENCES Profesor(dni),\n",
    "                   FOREIGN KEY (nombre_as) REFERENCES Asignatura(nombre));"
   ]
  }
 ],
 "metadata": {
  "kernelspec": {
   "display_name": "Python 3",
   "language": "python",
   "name": "python3"
  },
  "language_info": {
   "codemirror_mode": {
    "name": "ipython",
    "version": 3
   },
   "file_extension": ".py",
   "mimetype": "text/x-python",
   "name": "python",
   "nbconvert_exporter": "python",
   "pygments_lexer": "ipython3",
   "version": "3.5.2"
  }
 },
 "nbformat": 4,
 "nbformat_minor": 2
}
