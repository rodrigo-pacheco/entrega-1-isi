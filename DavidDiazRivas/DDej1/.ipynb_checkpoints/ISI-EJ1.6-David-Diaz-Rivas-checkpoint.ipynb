{
 "cells": [
  {
   "cell_type": "markdown",
   "metadata": {},
   "source": [
    "# Ejercicios T2 ISI 1"
   ]
  },
  {
   "cell_type": "code",
   "execution_count": 1,
   "metadata": {},
   "outputs": [
    {
     "data": {
      "text/plain": [
       "'Connected: None@ej1_6.db'"
      ]
     },
     "execution_count": 1,
     "metadata": {},
     "output_type": "execute_result"
    }
   ],
   "source": [
    "%load_ext sql\n",
    "%sql sqlite:///ej1_6.db\n",
    "%sql PRAGMA foreign_keys = ON;"
   ]
  },
  {
   "cell_type": "code",
   "execution_count": 2,
   "metadata": {},
   "outputs": [
    {
     "name": "stdout",
     "output_type": "stream",
     "text": [
      "Done.\n",
      "Done.\n",
      "Done.\n",
      "Done.\n",
      "Done.\n",
      "Done.\n"
     ]
    },
    {
     "data": {
      "text/plain": [
       "[]"
      ]
     },
     "execution_count": 2,
     "metadata": {},
     "output_type": "execute_result"
    }
   ],
   "source": [
    "%%sql\n",
    "DROP TABLE IF EXISTS Asignatura;\n",
    "DROP TABLE IF EXISTS Profesor;\n",
    "DROP TABLE IF EXISTS EnseñaSolo;\n",
    "DROP TABLE IF EXISTS Pertenece;\n",
    "DROP TABLE IF EXISTS Grupo;\n",
    "DROP TABLE IF EXISTS Enseñan;"
   ]
  },
  {
   "cell_type": "code",
   "execution_count": 3,
   "metadata": {},
   "outputs": [
    {
     "name": "stdout",
     "output_type": "stream",
     "text": [
      "Done.\n"
     ]
    },
    {
     "data": {
      "text/plain": [
       "[]"
      ]
     },
     "execution_count": 3,
     "metadata": {},
     "output_type": "execute_result"
    }
   ],
   "source": [
    "%%sql\n",
    "CREATE TABLE Asignatura(nombre VARCHAR(30));"
   ]
  },
  {
   "cell_type": "code",
   "execution_count": 5,
   "metadata": {},
   "outputs": [
    {
     "name": "stdout",
     "output_type": "stream",
     "text": [
      "(sqlite3.OperationalError) table Profesor already exists [SQL: 'CREATE TABLE Profesor(nif_prof VARCHAR(30));']\n"
     ]
    }
   ],
   "source": [
    "%%sql\n",
    "CREATE TABLE Profesor(nif VARCHAR(30),\n",
    "                      PRIMARY KEY(nif));\n",
    "CREATE TABLE Grupro(nombre VARCHAR(30),\n",
    "                    PRIMARY KEY(nombre));\n",
    "CREATE TABLE Pertenece(prof VARCHAR(30), grup VARCHAR(30),\n",
    "                      FOREIGN KEY (prof) REFERENCES Profesor(nif),\n",
    "                      FOREIGN KEY (grup) REFERENCES Grupo(nombre));\n",
    "CREATE TABLE EnseñaSolo(prof VARCHAR(30), asig VARCHAR(30),\n",
    "                      FOREIGN KEY (prof) REFERENCES Profesor(nif),\n",
    "                      FOREIGN KEY (asig) REFERENCES Asignatura(nombre));\n",
    "CREATE TABLE Enseñan(asig VARCHAR(30), grup VARCHAR(30),\n",
    "                      FOREIGN KEY (asig) REFERENCES Asignatura(nombre),\n",
    "                      FOREIGN KEY (grup) REFERENCES Grupo(nombre));\n"
   ]
  }
 ],
 "metadata": {
  "kernelspec": {
   "display_name": "Python 3",
   "language": "python",
   "name": "python3"
  },
  "language_info": {
   "codemirror_mode": {
    "name": "ipython",
    "version": 3
   },
   "file_extension": ".py",
   "mimetype": "text/x-python",
   "name": "python",
   "nbconvert_exporter": "python",
   "pygments_lexer": "ipython3",
   "version": "3.5.2"
  }
 },
 "nbformat": 4,
 "nbformat_minor": 2
}
