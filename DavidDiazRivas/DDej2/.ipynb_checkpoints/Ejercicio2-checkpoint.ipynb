{
 "cells": [
  {
   "cell_type": "markdown",
   "metadata": {},
   "source": [
    "# Ejercicio 2"
   ]
  },
  {
   "cell_type": "code",
   "execution_count": 26,
   "metadata": {},
   "outputs": [
    {
     "name": "stdout",
     "output_type": "stream",
     "text": [
      "The sql extension is already loaded. To reload it, use:\n",
      "  %reload_ext sql\n"
     ]
    },
    {
     "data": {
      "text/plain": [
       "'Connected: None@ej2.db'"
      ]
     },
     "execution_count": 26,
     "metadata": {},
     "output_type": "execute_result"
    }
   ],
   "source": [
    "%load_ext sql\n",
    "%sql sqlite:///ej2.db\n",
    "%sql PRAGMA foreign_keys = ON;"
   ]
  },
  {
   "cell_type": "code",
   "execution_count": 36,
   "metadata": {},
   "outputs": [
    {
     "name": "stdout",
     "output_type": "stream",
     "text": [
      "Done.\n",
      "Done.\n",
      "Done.\n",
      "Done.\n",
      "Done.\n",
      "Done.\n",
      "Done.\n"
     ]
    },
    {
     "data": {
      "text/plain": [
       "[]"
      ]
     },
     "execution_count": 36,
     "metadata": {},
     "output_type": "execute_result"
    }
   ],
   "source": [
    "%%sql\n",
    "DROP TABLE IF EXISTS Departamento;\n",
    "DROP TABLE IF EXISTS Profesor;\n",
    "DROP TABLE IF EXISTS Estudiante;\n",
    "DROP TABLE IF EXISTS Proyecto;\n",
    "DROP TABLE IF EXISTS Colabora;\n",
    "DROP TABLE IF EXISTS Trabaja;\n",
    "DROP TABLE IF EXISTS Ayuda;"
   ]
  },
  {
   "cell_type": "code",
   "execution_count": 37,
   "metadata": {},
   "outputs": [
    {
     "name": "stdout",
     "output_type": "stream",
     "text": [
      "Done.\n"
     ]
    },
    {
     "data": {
      "text/plain": [
       "[]"
      ]
     },
     "execution_count": 37,
     "metadata": {},
     "output_type": "execute_result"
    }
   ],
   "source": [
    "%%sql\n",
    "CREATE TABLE Profesor(nif VARCHAR(30), nombre VARCHAR(30),\n",
    "                     cargo VARCHAR(30), edad INT,\n",
    "                     PRIMARY KEY(nif));"
   ]
  },
  {
   "cell_type": "code",
   "execution_count": 38,
   "metadata": {},
   "outputs": [
    {
     "name": "stdout",
     "output_type": "stream",
     "text": [
      "Done.\n",
      "Done.\n"
     ]
    },
    {
     "data": {
      "text/plain": [
       "[]"
      ]
     },
     "execution_count": 38,
     "metadata": {},
     "output_type": "execute_result"
    }
   ],
   "source": [
    "%%sql\n",
    "CREATE TABLE Departamento(num INT, nombre VARCHAR(30),\n",
    "                         edificio VARCHAR(30), nifDir VARCHAR(30) NOT NULL, \n",
    "                         PRIMARY KEY(num),\n",
    "                         FOREIGN KEY(nifDir) REFERENCES Profesor(nif));\n",
    "\n",
    "CREATE TABLE Trabaja(numDep INT, nifProf VARCHAR(30),\n",
    "                    porciento INT,\n",
    "                    PRIMARY KEY(nifprof, numDep),\n",
    "                    FOREIGN KEY(nifProf) REFERENCES Profesor(nif),\n",
    "                    FOREIGN KEY(numDep) REFERENCES numDep(num));\n"
   ]
  },
  {
   "cell_type": "code",
   "execution_count": 39,
   "metadata": {},
   "outputs": [
    {
     "name": "stdout",
     "output_type": "stream",
     "text": [
      "Done.\n",
      "Done.\n",
      "Done.\n"
     ]
    },
    {
     "data": {
      "text/plain": [
       "[]"
      ]
     },
     "execution_count": 39,
     "metadata": {},
     "output_type": "execute_result"
    }
   ],
   "source": [
    "%%sql\n",
    "CREATE TABLE Estudiante(titulo VARCHAR(30), edad INT,\n",
    "                       nif VARCHAR(30), nombre VARCHAR(30),\n",
    "                       nifSup VARCHAR(30) NOT NULL, nDep INT NOT NULL,\n",
    "                       PRIMARY KEY(nif),\n",
    "                       FOREIGN KEY(nifSup) REFERENCES Estudiante(nif),\n",
    "                       FOREIGN KEY(nDep) REFERENCES Departamento(num));\n",
    "\n",
    "CREATE TABLE Proyecto(num INT, nombreFinan VARCHAR(30),\n",
    "                      presu INT, inicio VARCHAR(30),\n",
    "                      fin VARCHAR(30), nifGestor VARCHAR(30) NOT NULL,\n",
    "                      PRIMARY KEY(num),\n",
    "                      FOREIGN KEY(nifGestor) REFERENCES Profesor(nif));\n",
    "\n",
    "CREATE TABLE Ayuda(nifSup VARCHAR(30) NOT NULL, nifEst VARCHAR(30),\n",
    "                   nPro INT,\n",
    "                   PRIMARY KEY(nifSup, nifEst, nPro),\n",
    "                   FOREIGN KEY(nifSup) REFERENCES Profesor(nif),\n",
    "                   FOREIGN KEY(nifEst) REFERENCES Alumno(nif),\n",
    "                   FOREIGN KEY(nPro) REFERENCES Proyecto(num));\n",
    "\n",
    "CREATE TABLE Colabora(nifProf VARCHAR(30), npro INT,\n",
    "                      PRIMARY KEY(nPro, nifProf),\n",
    "                     FOREIGN KEY(nPro) REFERENCES Proyecto(num),\n",
    "                     FOREIGN KEY(nifProf) REFERENCES Profesor(nif));"
   ]
  }
 ],
 "metadata": {
  "kernelspec": {
   "display_name": "Python 3",
   "language": "python",
   "name": "python3"
  },
  "language_info": {
   "codemirror_mode": {
    "name": "ipython",
    "version": 3
   },
   "file_extension": ".py",
   "mimetype": "text/x-python",
   "name": "python",
   "nbconvert_exporter": "python",
   "pygments_lexer": "ipython3",
   "version": "3.5.2"
  }
 },
 "nbformat": 4,
 "nbformat_minor": 2
}
