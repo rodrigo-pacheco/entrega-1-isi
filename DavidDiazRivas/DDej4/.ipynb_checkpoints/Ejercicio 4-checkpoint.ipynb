{
 "cells": [
  {
   "cell_type": "markdown",
   "metadata": {},
   "source": [
    "# Ejercicio 4"
   ]
  },
  {
   "cell_type": "code",
   "execution_count": 1,
   "metadata": {},
   "outputs": [
    {
     "data": {
      "text/plain": [
       "'Connected: None@ej4.db'"
      ]
     },
     "execution_count": 1,
     "metadata": {},
     "output_type": "execute_result"
    }
   ],
   "source": [
    "%load_ext sql\n",
    "%sql sqlite:///ej4.db\n",
    "%sql PRAGMA foreign_keys = ON;"
   ]
  },
  {
   "cell_type": "code",
   "execution_count": 6,
   "metadata": {},
   "outputs": [
    {
     "name": "stdout",
     "output_type": "stream",
     "text": [
      "Done.\n",
      "Done.\n",
      "Done.\n",
      "Done.\n",
      "Done.\n",
      "Done.\n",
      "Done.\n",
      "Done.\n"
     ]
    },
    {
     "data": {
      "text/plain": [
       "[]"
      ]
     },
     "execution_count": 6,
     "metadata": {},
     "output_type": "execute_result"
    }
   ],
   "source": [
    "%%sql\n",
    "DROP TABLE IF EXISTS Musico;\n",
    "DROP TABLE IF EXISTS Toca;\n",
    "DROP TABLE IF EXISTS Instrumento;\n",
    "DROP TABLE IF EXISTS Interpreta;\n",
    "DROP TABLE IF EXISTS Cancion;\n",
    "DROP TABLE IF EXISTS Album;\n",
    "DROP TABLE IF EXISTS ViveEn;\n",
    "DROP TABLE IF EXISTS Direccion;"
   ]
  },
  {
   "cell_type": "code",
   "execution_count": 7,
   "metadata": {},
   "outputs": [
    {
     "name": "stdout",
     "output_type": "stream",
     "text": [
      "Done.\n",
      "Done.\n",
      "Done.\n"
     ]
    },
    {
     "data": {
      "text/plain": [
       "[]"
      ]
     },
     "execution_count": 7,
     "metadata": {},
     "output_type": "execute_result"
    }
   ],
   "source": [
    "%%sql\n",
    "CREATE TABLE Musico(nif VARCHAR(30), nombre Varchar(30),\n",
    "                   PRIMARY KEY(nif));\n",
    "\n",
    "CREATE TABLE Direccion(tlf INT, nombre VARCHAR(30),\n",
    "                      PRIMARY KEY(tlf));\n",
    "\n",
    "CREATE TABLE ViveEn(tlfDir INT, nifMus VARCHAR(30),\n",
    "                   PRIMARY KEY(tlfDir, nifMus),\n",
    "                   FOREIGN KEY(nifMus) REFERENCES Musico(nif),\n",
    "                   FOREIGN KEY(tlfDir) REFERENCES Direccion(tlf));"
   ]
  },
  {
   "cell_type": "code",
   "execution_count": 8,
   "metadata": {},
   "outputs": [
    {
     "name": "stdout",
     "output_type": "stream",
     "text": [
      "Done.\n",
      "Done.\n"
     ]
    },
    {
     "data": {
      "text/plain": [
       "[]"
      ]
     },
     "execution_count": 8,
     "metadata": {},
     "output_type": "execute_result"
    }
   ],
   "source": [
    "%%sql\n",
    "CREATE TABLE Instrumento(nombre VARCHAR(30), id INT,\n",
    "                        PRIMARY KEY(id));\n",
    "\n",
    "CREATE TABLE Toca(nifMus VARCHAR(30), instID INT,\n",
    "                 PRIMARY KEY(instID, nifMus),\n",
    "                 FOREIGN KEY(nifMus) REFERENCES Musico(nif),\n",
    "                 FOREIGN KEY(instID) REFERENCES Instrumento(id));"
   ]
  },
  {
   "cell_type": "code",
   "execution_count": 10,
   "metadata": {},
   "outputs": [
    {
     "name": "stdout",
     "output_type": "stream",
     "text": [
      "Done.\n",
      "Done.\n",
      "Done.\n"
     ]
    },
    {
     "data": {
      "text/plain": [
       "[]"
      ]
     },
     "execution_count": 10,
     "metadata": {},
     "output_type": "execute_result"
    }
   ],
   "source": [
    "%%sql\n",
    "CREATE TABLE Album(nombre VARCHAR(30), id INT,\n",
    "                  formato VARCHAR(30), fecha VARCHAR(30),\n",
    "                   nifProd VARCHAR(30) NOT NULL,\n",
    "                  PRIMARY KEY(id),\n",
    "                  FOREIGN KEY(nifProd) REFERENCES MUsico(nif));\n",
    "\n",
    "CREATE TABLE Cancion(autor VARCHAR(30), titulo VARCHAR(30),\n",
    "                    nAlbum INT,\n",
    "                    PRIMARY KEY(autor, titulo)\n",
    "                    FOREIGN KEY(nAlbum) REFERENCES Album(id));\n",
    "\n",
    "CREATE TABLE Interpreta(nifMus VARCHAR(30), titulo VARCHAR(30),\n",
    "                       autor VARCHAR(30),\n",
    "                       PRIMARY KEY(nifMus, titulo, autor),\n",
    "                       FOREIGN KEY(nifMus) REFERENCES Musico(nif),\n",
    "                       FOREIGN KEY(titulo) REFERENCES Cancion(titulo),\n",
    "                       FOREIGN KEY(autor) REFERENCES Cancion(autor));"
   ]
  }
 ],
 "metadata": {
  "kernelspec": {
   "display_name": "Python 3",
   "language": "python",
   "name": "python3"
  },
  "language_info": {
   "codemirror_mode": {
    "name": "ipython",
    "version": 3
   },
   "file_extension": ".py",
   "mimetype": "text/x-python",
   "name": "python",
   "nbconvert_exporter": "python",
   "pygments_lexer": "ipython3",
   "version": "3.5.2"
  }
 },
 "nbformat": 4,
 "nbformat_minor": 2
}
