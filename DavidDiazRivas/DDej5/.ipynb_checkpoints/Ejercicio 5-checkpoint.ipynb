{
 "cells": [
  {
   "cell_type": "code",
   "execution_count": 1,
   "metadata": {},
   "outputs": [
    {
     "data": {
      "text/plain": [
       "'Connected: None@ej5.db'"
      ]
     },
     "execution_count": 1,
     "metadata": {},
     "output_type": "execute_result"
    }
   ],
   "source": [
    "%load_ext sql\n",
    "%sql sqlite:///ej5.db\n",
    "%sql PRAGMA foreign_keys = ON;"
   ]
  },
  {
   "cell_type": "code",
   "execution_count": 7,
   "metadata": {},
   "outputs": [
    {
     "name": "stdout",
     "output_type": "stream",
     "text": [
      "Done.\n",
      "Done.\n",
      "Done.\n",
      "Done.\n",
      "Done.\n",
      "Done.\n",
      "Done.\n",
      "Done.\n"
     ]
    },
    {
     "data": {
      "text/plain": [
       "[]"
      ]
     },
     "execution_count": 7,
     "metadata": {},
     "output_type": "execute_result"
    }
   ],
   "source": [
    "%%sql\n",
    "DROP TABLE IF EXISTS Paciente;\n",
    "DROP TABLE IF EXISTS Medico;\n",
    "DROP TABLE IF EXISTS Receta;\n",
    "DROP TABLE IF EXISTS MedicamComer;\n",
    "DROP TABLE IF EXISTS Compañia;\n",
    "DROP TABLE IF EXISTS Supervisor;\n",
    "DROP TABLE IF EXISTS Farmacia;\n",
    "DROP TABLE IF EXISTS Vende;"
   ]
  },
  {
   "cell_type": "code",
   "execution_count": 8,
   "metadata": {},
   "outputs": [
    {
     "name": "stdout",
     "output_type": "stream",
     "text": [
      "Done.\n",
      "Done.\n"
     ]
    },
    {
     "data": {
      "text/plain": [
       "[]"
      ]
     },
     "execution_count": 8,
     "metadata": {},
     "output_type": "execute_result"
    }
   ],
   "source": [
    "%%sql\n",
    "CREATE TABLE Paciente(direccion VARCHAR(30), nif VARCHAR(30),\n",
    "                     edad INT, nombre VARCHAR(30),\n",
    "                     nifMed VARCHAR(30),\n",
    "                     PRIMARY KEY(nif),\n",
    "                     FOREIGN KEY(nifMed) REFERENCES Medico(nif));\n",
    "\n",
    "CREATE TABLE Medico(nif VARCHAR(30), exp INT,\n",
    "                   nombre VARCHAR(30), especialidad VARCHAR(30),\n",
    "                   PRIMARY KEY(nif));"
   ]
  },
  {
   "cell_type": "code",
   "execution_count": 9,
   "metadata": {},
   "outputs": [
    {
     "name": "stdout",
     "output_type": "stream",
     "text": [
      "Done.\n",
      "Done.\n",
      "Done.\n",
      "(sqlite3.OperationalError) near \"CREATE\": syntax error [SQL: 'CREATE TABLE Supervisor(nombreComp VARCHAR(30) NOT NULL, inicioCont VARCHAR(30),\\n                       finCont VARCHAR(30), tlfFar INT NOT NULL,\\n                       texto VARCHAR(300), nif VARCHAR(30),\\n                       PRIMARY KEY(nif, nombreComp, tlfFar),\\n                       FOREIGN KEY(nombreComp) REFERENCES Compañia(nombre),\\n                       FOREIGN KEY(tlfFar) REFERENCES Farmacia(nombre))\\n\\nCREATE TABLE Farmacia(nombre VARCHAR(30), dir VARCHAR(30),\\n                      tlf INT,\\n                      PRIMARY KEY(tlf));']\n"
     ]
    }
   ],
   "source": [
    "%%sql\n",
    "CREATE TABLE Receta(fecha VARCHAR(30), cantidad INT,\n",
    "                   nifMed VARCHAR(30), nifPa VARCHAR(30),\n",
    "                   FOREIGN KEY(nifMed) REFERENCES Medico(nif),\n",
    "                   FOREIGN KEY(nifPa) REFERENCES Paciente(nif));\n",
    "\n",
    "CREATE TABLE Compañia(nombre VARCHAR(30), tlf INT,\n",
    "                     PRIMARY KEY(nombre));\n",
    "\n",
    "CREATE TABLE MedicamComer(nombre VARCHAR(30), nombreComp VARCHAR(30) NOT NULL,\n",
    "                          PRIMARY KEY(nombre, nombreComp),\n",
    "                          FOREIGN KEY(nombreComp) REFERENCES Compañia(nombre) ON DELETE CASCADE);\n",
    "                          \n",
    "CREATE TABLE Supervisor(nombreComp VARCHAR(30) NOT NULL, inicioCont VARCHAR(30),\n",
    "                       finCont VARCHAR(30), tlfFar INT NOT NULL,\n",
    "                       texto VARCHAR(300), nif VARCHAR(30),\n",
    "                       PRIMARY KEY(nif, nombreComp, tlfFar),\n",
    "                       FOREIGN KEY(nombreComp) REFERENCES Compañia(nombre),\n",
    "                       FOREIGN KEY(tlfFar) REFERENCES Farmacia(nombre));\n",
    "\n",
    "CREATE TABLE Farmacia(nombre VARCHAR(30), dir VARCHAR(30),\n",
    "                      tlf INT,\n",
    "                      PRIMARY KEY(tlf));\n",
    "\n",
    "CREATE TABLE Vende(precio INT, nombMed VARCHAR(30),\n",
    "                  tlfFar INT,\n",
    "                  PRIMARY KEY(nombMed, tlfFar),\n",
    "                  FOREIGN KEY(tlfFar) REFERENCES Farmacia(nombre),\n",
    "                  FOREIGN KEY(nombMed) REFERENCES MedicamComer(nombre))"
   ]
  },
  {
   "cell_type": "code",
   "execution_count": null,
   "metadata": {},
   "outputs": [],
   "source": []
  }
 ],
 "metadata": {
  "kernelspec": {
   "display_name": "Python 3",
   "language": "python",
   "name": "python3"
  },
  "language_info": {
   "codemirror_mode": {
    "name": "ipython",
    "version": 3
   },
   "file_extension": ".py",
   "mimetype": "text/x-python",
   "name": "python",
   "nbconvert_exporter": "python",
   "pygments_lexer": "ipython3",
   "version": "3.5.2"
  }
 },
 "nbformat": 4,
 "nbformat_minor": 2
}
