{
 "cells": [
  {
   "cell_type": "markdown",
   "metadata": {},
   "source": [
    "# INGENIERÍA DE SISTEMAS DE INFORMACIÓN\n",
    "\n",
    "## EJERCICIOS DISEÑO CONCEPTUAL MEDIANTE DIAGRAMAS ENTIDAD RELACIÓN Y MODELO RELACIONAL. \n"
   ]
  },
  {
   "cell_type": "markdown",
   "metadata": {},
   "source": [
    "# Sergio Cobos Manjavacas"
   ]
  },
  {
   "cell_type": "markdown",
   "metadata": {},
   "source": [
    "\n",
    "# Ejercicio 1: Diseño de diagramas ER para profesores de una Universidad"
   ]
  },
  {
   "cell_type": "markdown",
   "metadata": {},
   "source": [
    "### Ejercicio 1.1"
   ]
  },
  {
   "cell_type": "markdown",
   "metadata": {},
   "source": [
    "<img src=\"EJ1_Parte2.jpg\">"
   ]
  },
  {
   "cell_type": "code",
   "execution_count": 57,
   "metadata": {
    "collapsed": true
   },
   "outputs": [],
   "source": [
    "%reload_ext sql\n",
    "\n"
   ]
  },
  {
   "cell_type": "code",
   "execution_count": 70,
   "metadata": {},
   "outputs": [
    {
     "name": "stdout",
     "output_type": "stream",
     "text": [
      "Done.\n",
      "Done.\n",
      "Done.\n",
      "Done.\n",
      "Done.\n",
      "Done.\n",
      "Done.\n",
      "Done.\n",
      "Done.\n"
     ]
    },
    {
     "data": {
      "text/plain": [
       "[]"
      ]
     },
     "execution_count": 70,
     "metadata": {},
     "output_type": "execute_result"
    }
   ],
   "source": [
    "%%sql\n",
    "sqlite:///ISI-DIAGRAMAS-ER-EJERCICIO-e1__1.db\n",
    "    \n",
    "DROP TABLE IF EXISTS Profesores;\n",
    "DROP TABLE IF EXISTS Asignaturas;\n",
    "DROP TABLE IF EXISTS Cuatrimestre;\n",
    "DROP TABLE IF EXISTS Enseña;\n",
    "\n",
    "PRAGMA foreign_keys = ON;\n",
    "\n",
    "CREATE TABLE Profesores( nif VARCHAR(10),\n",
    "                       PRIMARY KEY (nif));\n",
    "CREATE TABLE Asignaturas( num INT,\n",
    "                        PRIMARY KEY(num));\n",
    "CREATE TABLE Cuatrimestre( numero INT,\n",
    "                         PRIMARY KEY(numero));\n",
    "CREATE TABLE Enseña(nif VARCHAR(10),\n",
    "                   num INT,\n",
    "                   numero INT,\n",
    "                   PRIMARY KEY(nif, num, numero),\n",
    "                   FOREIGN KEY (nif) REFERENCES Profesores(nif),\n",
    "                   FOREIGN KEY (num) REFERENCES Asignaturas(num),\n",
    "                   FOREIGN KEY (numero) REFERENCES Cuatrimestre(numero));"
   ]
  },
  {
   "cell_type": "markdown",
   "metadata": {},
   "source": [
    "### Ejercicio 1.2"
   ]
  },
  {
   "cell_type": "code",
   "execution_count": 69,
   "metadata": {},
   "outputs": [
    {
     "name": "stdout",
     "output_type": "stream",
     "text": [
      "Done.\n",
      "Done.\n",
      "Done.\n",
      "Done.\n",
      "Done.\n",
      "Done.\n",
      "Done.\n"
     ]
    },
    {
     "data": {
      "text/plain": [
       "[]"
      ]
     },
     "execution_count": 69,
     "metadata": {},
     "output_type": "execute_result"
    }
   ],
   "source": [
    "%%sql\n",
    "sqlite:///ISI-DIAGRAMAS-ER-EJERCICIO-e1__2.db\n",
    "DROP TABLE IF EXISTS Profesores;\n",
    "DROP TABLE IF EXISTS Asignaturas;\n",
    "DROP TABLE IF EXISTS Enseña;\n",
    "\n",
    "PRAGMA foreign_keys = ON;\n",
    "\n",
    "CREATE TABLE Profesores( nif VARCHAR(10),\n",
    "                       PRIMARY KEY (nif));\n",
    "CREATE TABLE Asignaturas( num INT,\n",
    "                        PRIMARY KEY(num));\n",
    "\n",
    "CREATE TABLE Enseña(nif VARCHAR(10),\n",
    "                    num INT,\n",
    "                    fecha DATE,\n",
    "                    PRIMARY KEY(nif, num),\n",
    "                    FOREIGN KEY (nif) REFERENCES Profesores(nif),\n",
    "                    FOREIGN KEY (num) REFERENCES Asignaturas(num));"
   ]
  },
  {
   "cell_type": "markdown",
   "metadata": {},
   "source": [
    "### Ejercicio 1.3"
   ]
  },
  {
   "cell_type": "code",
   "execution_count": 60,
   "metadata": {
    "collapsed": true
   },
   "outputs": [],
   "source": [
    "# Es exactamente igual que el 1.2\n"
   ]
  },
  {
   "cell_type": "markdown",
   "metadata": {},
   "source": [
    "### Ejercicio 1.4"
   ]
  },
  {
   "cell_type": "code",
   "execution_count": 68,
   "metadata": {},
   "outputs": [
    {
     "name": "stdout",
     "output_type": "stream",
     "text": [
      "Done.\n",
      "Done.\n",
      "Done.\n",
      "Done.\n",
      "Done.\n"
     ]
    },
    {
     "data": {
      "text/plain": [
       "[]"
      ]
     },
     "execution_count": 68,
     "metadata": {},
     "output_type": "execute_result"
    }
   ],
   "source": [
    "%%sql\n",
    "sqlite:///ISI-DIAGRAMAS-ER-EJERCICIO-e1__4.db\n",
    "DROP TABLE IF EXISTS Profesores_Enseñan;\n",
    "DROP TABLE IF EXISTS Asignaturas;\n",
    "\n",
    "PRAGMA foreign_keys = ON;\n",
    "\n",
    "CREATE TABLE Asignaturas( num INT,\n",
    "                        PRIMARY KEY(num));\n",
    "CREATE TABLE Profesores_Enseñan(nif VARCHAR(10),\n",
    "                                num INT,\n",
    "                                fecha DATE,\n",
    "                                PRIMARY KEY (nif),\n",
    "                               FOREIGN KEY(num) REFERENCES Asignaturas(num));\n",
    "                       "
   ]
  },
  {
   "cell_type": "markdown",
   "metadata": {},
   "source": [
    "### Ejercicio 1.5"
   ]
  },
  {
   "cell_type": "code",
   "execution_count": 62,
   "metadata": {
    "collapsed": true
   },
   "outputs": [],
   "source": [
    "## Es igual que el 1.4"
   ]
  },
  {
   "cell_type": "markdown",
   "metadata": {},
   "source": [
    "### Ejercicio 1.6"
   ]
  },
  {
   "cell_type": "code",
   "execution_count": 72,
   "metadata": {
    "scrolled": true
   },
   "outputs": [
    {
     "name": "stdout",
     "output_type": "stream",
     "text": [
      "Done.\n",
      "Done.\n",
      "Done.\n",
      "Done.\n",
      "Done.\n",
      "Done.\n",
      "Done.\n",
      "Done.\n",
      "Done.\n",
      "Done.\n",
      "Done.\n",
      "Done.\n",
      "Done.\n"
     ]
    },
    {
     "data": {
      "text/plain": [
       "[]"
      ]
     },
     "execution_count": 72,
     "metadata": {},
     "output_type": "execute_result"
    }
   ],
   "source": [
    "%%sql\n",
    "sqlite:///ISI-DIAGRAMAS-ER-EJERCICIO-e1__6.db\n",
    "    \n",
    "DROP TABLE IF EXISTS Profesores;\n",
    "DROP TABLE IF EXISTS Asignaturas;\n",
    "DROP TABLE IF EXISTS Grupo;\n",
    "DROP TABLE IF EXISTS Pertenecen;\n",
    "DROP TABLE IF EXISTS Enseña;\n",
    "DROP TABLE IF EXISTS Pueden;\n",
    "\n",
    "PRAGMA foreign_keys = ON;\n",
    "CREATE TABLE Profesores( nif VARCHAR(10),\n",
    "                       PRIMARY KEY (nif));\n",
    "CREATE TABLE Asignaturas( num INT,\n",
    "                        PRIMARY KEY(num));\n",
    "CREATE TABLE Grupo(numero_grupo INT,\n",
    "                  PRIMARY KEY(numero_grupo));\n",
    "CREATE TABLE Enseña(num INT,\n",
    "                    num_group INT,\n",
    "                    fecha DATE,\n",
    "                    PRIMARY KEY(num, num_group),\n",
    "                    FOREIGN KEY (num) REFERENCES Asignaturas(num),\n",
    "                    FOREIGN KEY (num_group) REFERENCES Grupo(numero_grupo));\n",
    "CREATE TABLE Pertenecen(nif INT,\n",
    "                        numero INT,\n",
    "                        PRIMARY KEY(nif, numero),\n",
    "                        FOREIGN KEY (nif) REFERENCES Profesores(nif),\n",
    "                        FOREIGN KEY (numero) REFERENCES Grupo(numero_grupo));\n",
    "CREATE TABLE Pueden(nif INT,\n",
    "                    numero INT,\n",
    "                    PRIMARY KEY(nif, numero),\n",
    "                    FOREIGN KEY (nif) REFERENCES Profesores(nif),\n",
    "                    FOREIGN KEY (numero) REFERENCES Asignaturas(num));\n",
    "                    \n"
   ]
  },
  {
   "cell_type": "markdown",
   "metadata": {},
   "source": []
  }
 ],
 "metadata": {
  "kernelspec": {
   "display_name": "Python 3",
   "language": "python",
   "name": "python3"
  },
  "language_info": {
   "codemirror_mode": {
    "name": "ipython",
    "version": 3
   },
   "file_extension": ".py",
   "mimetype": "text/x-python",
   "name": "python",
   "nbconvert_exporter": "python",
   "pygments_lexer": "ipython3",
   "version": "3.5.2"
  }
 },
 "nbformat": 4,
 "nbformat_minor": 2
}
