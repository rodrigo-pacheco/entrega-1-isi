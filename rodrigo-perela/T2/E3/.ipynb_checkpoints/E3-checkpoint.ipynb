{
 "cells": [
  {
   "cell_type": "markdown",
   "metadata": {},
   "source": [
    "# Ejercicio 3"
   ]
  },
  {
   "cell_type": "markdown",
   "metadata": {},
   "source": [
    "![Diagrama ER E3](e3.jpg \"Diagrama ER E3\")"
   ]
  },
  {
   "cell_type": "code",
   "execution_count": 1,
   "metadata": {},
   "outputs": [
    {
     "data": {
      "text/plain": [
       "'Connected: None@e3.db'"
      ]
     },
     "execution_count": 1,
     "metadata": {},
     "output_type": "execute_result"
    }
   ],
   "source": [
    "%reload_ext sql\n",
    "%sql sqlite:///e3.db"
   ]
  },
  {
   "cell_type": "code",
   "execution_count": 2,
   "metadata": {},
   "outputs": [
    {
     "name": "stdout",
     "output_type": "stream",
     "text": [
      "Done.\n",
      "Done.\n"
     ]
    },
    {
     "data": {
      "text/plain": [
       "[]"
      ]
     },
     "execution_count": 2,
     "metadata": {},
     "output_type": "execute_result"
    }
   ],
   "source": [
    "%%sql \n",
    "DROP TABLE IF EXISTS Empleados;\n",
    "CREATE TABLE Empleados(nif VARCHAR(30),\n",
    "                       salario INT,\n",
    "                       telefono INT,\n",
    "                       PRIMARY KEY (nif));"
   ]
  },
  {
   "cell_type": "code",
   "execution_count": 3,
   "metadata": {},
   "outputs": [
    {
     "name": "stdout",
     "output_type": "stream",
     "text": [
      "Done.\n",
      "Done.\n"
     ]
    },
    {
     "data": {
      "text/plain": [
       "[]"
      ]
     },
     "execution_count": 3,
     "metadata": {},
     "output_type": "execute_result"
    }
   ],
   "source": [
    "%%sql \n",
    "DROP TABLE IF EXISTS Departamentos_Dirigido;\n",
    "CREATE TABLE Departamentos_Dirigido(id_dpto INT,\n",
    "                           nombre_dpto VARCHAR(30),\n",
    "                           presupuesto INT,\n",
    "                           nif VARCHAR(30),\n",
    "                           PRIMARY KEY (id_dpto),\n",
    "                           FOREIGN KEY (nif) REFERENCES Empleados(nif));"
   ]
  },
  {
   "cell_type": "code",
   "execution_count": 4,
   "metadata": {},
   "outputs": [
    {
     "name": "stdout",
     "output_type": "stream",
     "text": [
      "Done.\n",
      "Done.\n"
     ]
    },
    {
     "data": {
      "text/plain": [
       "[]"
      ]
     },
     "execution_count": 4,
     "metadata": {},
     "output_type": "execute_result"
    }
   ],
   "source": [
    "%%sql \n",
    "DROP TABLE IF EXISTS Hijos;\n",
    "CREATE TABLE Hijos(nombre VARCHAR(30),\n",
    "                   edad INT,\n",
    "                   PRIMARY KEY (nombre));"
   ]
  },
  {
   "cell_type": "code",
   "execution_count": 5,
   "metadata": {},
   "outputs": [
    {
     "name": "stdout",
     "output_type": "stream",
     "text": [
      "Done.\n",
      "Done.\n"
     ]
    },
    {
     "data": {
      "text/plain": [
       "[]"
      ]
     },
     "execution_count": 5,
     "metadata": {},
     "output_type": "execute_result"
    }
   ],
   "source": [
    "%%sql\n",
    "DROP TABLE IF EXISTS Trabajan;\n",
    "CREATE TABLE Trabajan(nif VARCHAR(30),\n",
    "                     id_dpto INT,\n",
    "                     PRIMARY KEY(nif, id_dpto),\n",
    "                     FOREIGN KEY(nif) REFERENCES Empleados(nif),\n",
    "                     FOREIGN KEY(id_dpto) REFERENCES Departamentos_Dirigido(id_dpto))"
   ]
  },
  {
   "cell_type": "code",
   "execution_count": 6,
   "metadata": {},
   "outputs": [
    {
     "name": "stdout",
     "output_type": "stream",
     "text": [
      "Done.\n",
      "Done.\n"
     ]
    },
    {
     "data": {
      "text/plain": [
       "[]"
      ]
     },
     "execution_count": 6,
     "metadata": {},
     "output_type": "execute_result"
    }
   ],
   "source": [
    "%%sql\n",
    "DROP TABLE IF EXISTS Hijos_Tienen;\n",
    "CREATE TABLE Hijos_Tienen(nombre VARCHAR(30),\n",
    "                         edad INT,\n",
    "                         nif VARCHAR(30) NOT NULL,\n",
    "                         PRIMARY KEY (nombre, nif),\n",
    "                         FOREIGN KEY (nif) REFERENCES Empleados(nif) ON DELETE CASCADE);"
   ]
  },
  {
   "cell_type": "code",
   "execution_count": null,
   "metadata": {},
   "outputs": [],
   "source": []
  }
 ],
 "metadata": {
  "kernelspec": {
   "display_name": "Python 3",
   "language": "python",
   "name": "python3"
  },
  "language_info": {
   "codemirror_mode": {
    "name": "ipython",
    "version": 3
   },
   "file_extension": ".py",
   "mimetype": "text/x-python",
   "name": "python",
   "nbconvert_exporter": "python",
   "pygments_lexer": "ipython3",
   "version": "3.5.2"
  }
 },
 "nbformat": 4,
 "nbformat_minor": 2
}
