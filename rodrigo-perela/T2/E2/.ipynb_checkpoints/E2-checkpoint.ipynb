{
 "cells": [
  {
   "cell_type": "markdown",
   "metadata": {},
   "source": [
    "# Ejercicio 2"
   ]
  },
  {
   "cell_type": "markdown",
   "metadata": {},
   "source": [
    "![Diagrama ER E2](e2.jpg \"Diagrama ER E2\")"
   ]
  },
  {
   "cell_type": "code",
   "execution_count": 1,
   "metadata": {},
   "outputs": [
    {
     "data": {
      "text/plain": [
       "'Connected: None@e2.db'"
      ]
     },
     "execution_count": 1,
     "metadata": {},
     "output_type": "execute_result"
    }
   ],
   "source": [
    "%reload_ext sql\n",
    "%sql sqlite:///e2.db"
   ]
  },
  {
   "cell_type": "code",
   "execution_count": 2,
   "metadata": {},
   "outputs": [
    {
     "name": "stdout",
     "output_type": "stream",
     "text": [
      "Done.\n",
      "Done.\n"
     ]
    },
    {
     "data": {
      "text/plain": [
       "[]"
      ]
     },
     "execution_count": 2,
     "metadata": {},
     "output_type": "execute_result"
    }
   ],
   "source": [
    "%%sql \n",
    "DROP TABLE IF EXISTS Profesores;\n",
    "CREATE TABLE Profesores(nif VARCHAR(30),\n",
    "                              nombre VARCHAR(30),\n",
    "                              edad INT,\n",
    "                              cargo VARCHAR(30),\n",
    "                              especialidad VARCHAR(30),\n",
    "                              PRIMARY KEY (nif));"
   ]
  },
  {
   "cell_type": "code",
   "execution_count": 3,
   "metadata": {},
   "outputs": [
    {
     "name": "stdout",
     "output_type": "stream",
     "text": [
      "Done.\n",
      "Done.\n"
     ]
    },
    {
     "data": {
      "text/plain": [
       "[]"
      ]
     },
     "execution_count": 3,
     "metadata": {},
     "output_type": "execute_result"
    }
   ],
   "source": [
    "%%sql \n",
    "DROP TABLE IF EXISTS Proyecto_Gestionado;\n",
    "CREATE TABLE Proyecto_Gestionado(id_num VARCHAR(30),\n",
    "                                         nom_ent VARCHAR(30),\n",
    "                                         fecha_in DATE,\n",
    "                                         fecha_out DATE,\n",
    "                                         presupuesto FLOAT,\n",
    "                                         nif VARCHAR(30) NOT NULL,\n",
    "                                         PRIMARY KEY (id_num),\n",
    "                                         FOREIGN KEY (nif) REFERENCES Profesores(nif));"
   ]
  },
  {
   "cell_type": "code",
   "execution_count": 4,
   "metadata": {},
   "outputs": [
    {
     "name": "stdout",
     "output_type": "stream",
     "text": [
      "Done.\n",
      "Done.\n"
     ]
    },
    {
     "data": {
      "text/plain": [
       "[]"
      ]
     },
     "execution_count": 4,
     "metadata": {},
     "output_type": "execute_result"
    }
   ],
   "source": [
    "%%sql \n",
    "DROP TABLE IF EXISTS Estudiantes;\n",
    "CREATE TABLE Estudiantes(nif VARCHAR(30),\n",
    "                         nombre VARCHAR(30),\n",
    "                         edad INT,\n",
    "                         titulacion VARCHAR(30),\n",
    "                         id_depart VARCHAR(30) NOT NULL,\n",
    "                         nif_estu VARCHAR(30) NOT NULL,\n",
    "                         PRIMARY KEY (nif),\n",
    "                         FOREIGN KEY (id_depart) REFERENCES Departamento_Dirigido(id_num),\n",
    "                         FOREIGN KEY (nif_estu) REFERENCES Estudiantes(nif));"
   ]
  },
  {
   "cell_type": "code",
   "execution_count": 5,
   "metadata": {},
   "outputs": [
    {
     "name": "stdout",
     "output_type": "stream",
     "text": [
      "Done.\n",
      "Done.\n"
     ]
    },
    {
     "data": {
      "text/plain": [
       "[]"
      ]
     },
     "execution_count": 5,
     "metadata": {},
     "output_type": "execute_result"
    }
   ],
   "source": [
    "%%sql \n",
    "DROP TABLE IF EXISTS Departamento_Dirigido;\n",
    "CREATE TABLE Departamento_Dirigido(id_num VARCHAR(30),\n",
    "                                         nombre VARCHAR(30),\n",
    "                                         edificio INT,\n",
    "                                         nif VARCHAR(30) NOT NULL,\n",
    "                                         PRIMARY KEY (id_num)\n",
    "                                         FOREIGN KEY (nif) REFERENCES Profesores(nif));"
   ]
  },
  {
   "cell_type": "code",
   "execution_count": 6,
   "metadata": {},
   "outputs": [
    {
     "name": "stdout",
     "output_type": "stream",
     "text": [
      "Done.\n",
      "Done.\n"
     ]
    },
    {
     "data": {
      "text/plain": [
       "[]"
      ]
     },
     "execution_count": 6,
     "metadata": {},
     "output_type": "execute_result"
    }
   ],
   "source": [
    "%%sql \n",
    "DROP TABLE IF EXISTS Trabaja;\n",
    "CREATE TABLE Trabaja(nif_prof VARCHAR(30),\n",
    "                           nif_estu VARCHAR(30),\n",
    "                           num_proy VARCHAR(30),\n",
    "                           PRIMARY KEY (nif_prof, nif_estu, num_proy),\n",
    "                           FOREIGN KEY (nif_prof) REFERENCES Profesores(nif),\n",
    "                           FOREIGN KEY (nif_estu) REFERENCES Estudiantes(nif),\n",
    "                           FOREIGN KEY (num_proy) REFERENCES Proyectos_Gestionados(id_num));"
   ]
  },
  {
   "cell_type": "code",
   "execution_count": 7,
   "metadata": {},
   "outputs": [
    {
     "name": "stdout",
     "output_type": "stream",
     "text": [
      "Done.\n",
      "Done.\n"
     ]
    },
    {
     "data": {
      "text/plain": [
       "[]"
      ]
     },
     "execution_count": 7,
     "metadata": {},
     "output_type": "execute_result"
    }
   ],
   "source": [
    "%%sql \n",
    "DROP TABLE IF EXISTS Investiga;\n",
    "CREATE TABLE Investiga(nif VARCHAR(30),\n",
    "                            id_num VARCHAR(30),\n",
    "                            PRIMARY KEY (nif, id_num),\n",
    "                            FOREIGN KEY (nif) REFERENCES Profesores(nif),\n",
    "                            FOREIGN KEY (id_num) REFERENCES Proyecto_Gestionado(id_num));"
   ]
  },
  {
   "cell_type": "code",
   "execution_count": 8,
   "metadata": {},
   "outputs": [
    {
     "name": "stdout",
     "output_type": "stream",
     "text": [
      "Done.\n",
      "Done.\n"
     ]
    },
    {
     "data": {
      "text/plain": [
       "[]"
      ]
     },
     "execution_count": 8,
     "metadata": {},
     "output_type": "execute_result"
    }
   ],
   "source": [
    "%%sql \n",
    "DROP TABLE IF EXISTS Departamento_Trabajado;\n",
    "CREATE TABLE Departamento_Trabajado(nif VARCHAR(30),\n",
    "                                         id_num VARCHAR(30),\n",
    "                                         tiempo_porc INT,\n",
    "                                         PRIMARY KEY (nif, id_num),\n",
    "                                         FOREIGN KEY (nif) REFERENCES Profesores(nif),\n",
    "                                         FOREIGN KEY (id_num) REFERENCES Departamento_Dirigido(id_num));"
   ]
  },
  {
   "cell_type": "code",
   "execution_count": null,
   "metadata": {},
   "outputs": [],
   "source": []
  },
  {
   "cell_type": "code",
   "execution_count": null,
   "metadata": {},
   "outputs": [],
   "source": []
  }
 ],
 "metadata": {
  "kernelspec": {
   "display_name": "Python 3",
   "language": "python",
   "name": "python3"
  },
  "language_info": {
   "codemirror_mode": {
    "name": "ipython",
    "version": 3
   },
   "file_extension": ".py",
   "mimetype": "text/x-python",
   "name": "python",
   "nbconvert_exporter": "python",
   "pygments_lexer": "ipython3",
   "version": "3.5.2"
  }
 },
 "nbformat": 4,
 "nbformat_minor": 2
}
