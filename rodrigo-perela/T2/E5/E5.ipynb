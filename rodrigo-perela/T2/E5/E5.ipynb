{
 "cells": [
  {
   "cell_type": "markdown",
   "metadata": {},
   "source": [
    "# Ejercicio 5"
   ]
  },
  {
   "cell_type": "markdown",
   "metadata": {},
   "source": [
    "![Diagrama ER E5](e5.jpg \"Diagrama ER E5\")"
   ]
  },
  {
   "cell_type": "code",
   "execution_count": 1,
   "metadata": {},
   "outputs": [
    {
     "data": {
      "text/plain": [
       "'Connected: None@e5.db'"
      ]
     },
     "execution_count": 1,
     "metadata": {},
     "output_type": "execute_result"
    }
   ],
   "source": [
    "%reload_ext sql\n",
    "%sql sqlite:///e5.db"
   ]
  },
  {
   "cell_type": "code",
   "execution_count": 2,
   "metadata": {},
   "outputs": [
    {
     "name": "stdout",
     "output_type": "stream",
     "text": [
      "Done.\n",
      "Done.\n"
     ]
    },
    {
     "data": {
      "text/plain": [
       "[]"
      ]
     },
     "execution_count": 2,
     "metadata": {},
     "output_type": "execute_result"
    }
   ],
   "source": [
    "%%sql \n",
    "DROP TABLE IF EXISTS Paciente_Tratado;\n",
    "CREATE TABLE Paciente_Tratado(nif VARCHAR(30),\n",
    "                     nombre VARCHAR(30),\n",
    "                     edad INT,\n",
    "                     direccion VARCHAR(30),\n",
    "                     nif_medico VARCHAR(30) NOT NULL,\n",
    "                     PRIMARY KEY(nif),\n",
    "                     FOREIGN KEY (nif_medico) REFERENCES Medico(nif));"
   ]
  },
  {
   "cell_type": "code",
   "execution_count": 3,
   "metadata": {},
   "outputs": [
    {
     "name": "stdout",
     "output_type": "stream",
     "text": [
      "Done.\n",
      "Done.\n"
     ]
    },
    {
     "data": {
      "text/plain": [
       "[]"
      ]
     },
     "execution_count": 3,
     "metadata": {},
     "output_type": "execute_result"
    }
   ],
   "source": [
    "%%sql \n",
    "DROP TABLE IF EXISTS Medico;\n",
    "CREATE TABLE Medico(nif VARCHAR(30),\n",
    "                   nombre VARCHAR(30),\n",
    "                   especialidad VARCHAR(30),\n",
    "                   años_exp INT,\n",
    "                   PRIMARY KEY(nif));"
   ]
  },
  {
   "cell_type": "code",
   "execution_count": 4,
   "metadata": {},
   "outputs": [
    {
     "name": "stdout",
     "output_type": "stream",
     "text": [
      "Done.\n",
      "Done.\n"
     ]
    },
    {
     "data": {
      "text/plain": [
       "[]"
      ]
     },
     "execution_count": 4,
     "metadata": {},
     "output_type": "execute_result"
    }
   ],
   "source": [
    "%%sql \n",
    "DROP TABLE IF EXISTS Medicamento_Produce;\n",
    "CREATE TABLE Medicamento_Produce(nombre VARCHAR(30),\n",
    "                                formula VARCHAR(30),\n",
    "                                nombre_compañia VARCHAR(30),\n",
    "                                PRIMARY KEY(nombre, nombre_compañia),\n",
    "                                FOREIGN KEY (nombre_compañia) REFERENCES Compañia(nombre) ON DELETE CASCADE);"
   ]
  },
  {
   "cell_type": "code",
   "execution_count": 5,
   "metadata": {},
   "outputs": [
    {
     "name": "stdout",
     "output_type": "stream",
     "text": [
      "Done.\n",
      "Done.\n"
     ]
    },
    {
     "data": {
      "text/plain": [
       "[]"
      ]
     },
     "execution_count": 5,
     "metadata": {},
     "output_type": "execute_result"
    }
   ],
   "source": [
    "%%sql \n",
    "DROP TABLE IF EXISTS Compañia;\n",
    "CREATE TABLE Compañia(nombre VARCHAR(30),\n",
    "                     telefono INT,\n",
    "                     PRIMARY KEY(nombre));"
   ]
  },
  {
   "cell_type": "code",
   "execution_count": 6,
   "metadata": {},
   "outputs": [
    {
     "name": "stdout",
     "output_type": "stream",
     "text": [
      "Done.\n",
      "Done.\n"
     ]
    },
    {
     "data": {
      "text/plain": [
       "[]"
      ]
     },
     "execution_count": 6,
     "metadata": {},
     "output_type": "execute_result"
    }
   ],
   "source": [
    "%%sql \n",
    "DROP TABLE IF EXISTS Farmacia;\n",
    "CREATE TABLE Farmacia(nombre VARCHAR(30),\n",
    "                     direccion VARCHAR(30),\n",
    "                     telefono INT,\n",
    "                     PRIMARY KEY(nombre));"
   ]
  },
  {
   "cell_type": "code",
   "execution_count": 7,
   "metadata": {},
   "outputs": [
    {
     "name": "stdout",
     "output_type": "stream",
     "text": [
      "Done.\n",
      "Done.\n"
     ]
    },
    {
     "data": {
      "text/plain": [
       "[]"
      ]
     },
     "execution_count": 7,
     "metadata": {},
     "output_type": "execute_result"
    }
   ],
   "source": [
    "%%sql \n",
    "DROP TABLE IF EXISTS Contrato;\n",
    "CREATE TABLE Contrato(texto VARCHAR(30),\n",
    "                     fecha_inicio DATE,\n",
    "                     fecha_fin DATE,\n",
    "                     PRIMARY KEY(texto));"
   ]
  },
  {
   "cell_type": "code",
   "execution_count": 8,
   "metadata": {},
   "outputs": [
    {
     "name": "stdout",
     "output_type": "stream",
     "text": [
      "Done.\n",
      "Done.\n"
     ]
    },
    {
     "data": {
      "text/plain": [
       "[]"
      ]
     },
     "execution_count": 8,
     "metadata": {},
     "output_type": "execute_result"
    }
   ],
   "source": [
    "%%sql \n",
    "DROP TABLE IF EXISTS Supervisor_Supervisa;\n",
    "CREATE TABLE Supervisor_Supervisa(nif VARCHAR(20),\n",
    "                                 texto_contrato VARCHAR(30) NOT NULL,\n",
    "                                 PRIMARY KEY(nif),\n",
    "                                 FOREIGN KEY (texto_contrato) REFERENCES Contrato(texto));"
   ]
  },
  {
   "cell_type": "code",
   "execution_count": 10,
   "metadata": {},
   "outputs": [
    {
     "name": "stdout",
     "output_type": "stream",
     "text": [
      "Done.\n",
      "Done.\n"
     ]
    },
    {
     "data": {
      "text/plain": [
       "[]"
      ]
     },
     "execution_count": 10,
     "metadata": {},
     "output_type": "execute_result"
    }
   ],
   "source": [
    "%%sql \n",
    "DROP TABLE IF EXISTS Recetan;\n",
    "CREATE TABLE Recetan(nif_paciente VARCHAR(30),\n",
    "                    nif_medico VARCHAR(30),\n",
    "                    nombre_medicamento VARCHAR(30),\n",
    "                    fecha DATE,\n",
    "                    cantidad INT,\n",
    "                    PRIMARY KEY(nif_paciente, nif_medico,nombre_medicamento),\n",
    "                    FOREIGN KEY (nif_paciente) REFERENCES Paciente_Tratado(nif),\n",
    "                    FOREIGN KEY (nif_medico) REFERENCES Medicamento_Produce(nif),\n",
    "                    FOREIGN KEY (nombre_medicamento) REFERENCES Medicamento_Produce(nombre));"
   ]
  },
  {
   "cell_type": "code",
   "execution_count": 11,
   "metadata": {},
   "outputs": [
    {
     "name": "stdout",
     "output_type": "stream",
     "text": [
      "Done.\n",
      "Done.\n"
     ]
    },
    {
     "data": {
      "text/plain": [
       "[]"
      ]
     },
     "execution_count": 11,
     "metadata": {},
     "output_type": "execute_result"
    }
   ],
   "source": [
    "%%sql \n",
    "DROP TABLE IF EXISTS Realizan;\n",
    "CREATE TABLE Realizan(nombre_compañia VARCHAR(30),\n",
    "                     nombre_farmacia VARCHAR(30),\n",
    "                     texto_contrato VARCHAR(30),\n",
    "                     PRIMARY KEY(nombre_compañia, nombre_farmacia,texto_contrato),\n",
    "                     FOREIGN KEY (nombre_compañia) REFERENCES Compañia(nombre),\n",
    "                     FOREIGN KEY (nombre_farmacia) REFERENCES Farmacia(nombre),\n",
    "                     FOREIGN KEY (texto_contrato) REFERENCES Medicamento_Produce(texto));"
   ]
  },
  {
   "cell_type": "code",
   "execution_count": 12,
   "metadata": {},
   "outputs": [
    {
     "name": "stdout",
     "output_type": "stream",
     "text": [
      "Done.\n",
      "Done.\n"
     ]
    },
    {
     "data": {
      "text/plain": [
       "[]"
      ]
     },
     "execution_count": 12,
     "metadata": {},
     "output_type": "execute_result"
    }
   ],
   "source": [
    "%%sql\n",
    "DROP TABLE IF EXISTS Vende;\n",
    "CREATE TABLE Vende (precio INT,\n",
    "                   nombre_medicamento VARCHAR(20),\n",
    "                   nombre_farmacia VARCHAR(20),\n",
    "                   PRIMARY KEY (nombre_medicamento, nombre_farmacia),\n",
    "                   FOREIGN KEY (nombre_medicamento) REFERENCES Medicamento(nombre),\n",
    "                   FOREIGN KEY (nombre_farmacia) REFERENCES Farmacia(nombre));"
   ]
  },
  {
   "cell_type": "code",
   "execution_count": 15,
   "metadata": {},
   "outputs": [],
   "source": [
    "#2.Moviendo el atributo de precio de \"Vende\" a \"Medicamento_Produce\" "
   ]
  },
  {
   "cell_type": "code",
   "execution_count": 16,
   "metadata": {},
   "outputs": [],
   "source": [
    "#3.Con una nueva entidad \"Recetas\" con fechas de expedición."
   ]
  },
  {
   "cell_type": "code",
   "execution_count": null,
   "metadata": {},
   "outputs": [],
   "source": []
  }
 ],
 "metadata": {
  "kernelspec": {
   "display_name": "Python 3",
   "language": "python",
   "name": "python3"
  },
  "language_info": {
   "codemirror_mode": {
    "name": "ipython",
    "version": 3
   },
   "file_extension": ".py",
   "mimetype": "text/x-python",
   "name": "python",
   "nbconvert_exporter": "python",
   "pygments_lexer": "ipython3",
   "version": "3.5.2"
  }
 },
 "nbformat": 4,
 "nbformat_minor": 2
}
