{
 "cells": [
  {
   "cell_type": "markdown",
   "metadata": {},
   "source": [
    "# Ejercicio 4"
   ]
  },
  {
   "cell_type": "markdown",
   "metadata": {},
   "source": [
    "![Diagrama ER E4](e4.jpg \"Diagrama ER E4\")"
   ]
  },
  {
   "cell_type": "code",
   "execution_count": 1,
   "metadata": {},
   "outputs": [
    {
     "data": {
      "text/plain": [
       "'Connected: None@e4.db'"
      ]
     },
     "execution_count": 1,
     "metadata": {},
     "output_type": "execute_result"
    }
   ],
   "source": [
    "%reload_ext sql\n",
    "%sql sqlite:///e4.db"
   ]
  },
  {
   "cell_type": "code",
   "execution_count": 2,
   "metadata": {},
   "outputs": [
    {
     "name": "stdout",
     "output_type": "stream",
     "text": [
      "Done.\n",
      "Done.\n"
     ]
    },
    {
     "data": {
      "text/plain": [
       "[]"
      ]
     },
     "execution_count": 2,
     "metadata": {},
     "output_type": "execute_result"
    }
   ],
   "source": [
    "%%sql \n",
    "DROP TABLE IF EXISTS Musico_Vive;\n",
    "CREATE TABLE Musico_Vive(nif VARCHAR(30),\n",
    "                       nombre VARCHAR(30),\n",
    "                       dom_compl VARCHAR(30) NOT NULL,\n",
    "                       PRIMARY KEY (nif),\n",
    "                       FOREIGN KEY (dom_compl) REFERENCES Direccion(dom_compl));"
   ]
  },
  {
   "cell_type": "code",
   "execution_count": 3,
   "metadata": {},
   "outputs": [
    {
     "name": "stdout",
     "output_type": "stream",
     "text": [
      "Done.\n",
      "Done.\n"
     ]
    },
    {
     "data": {
      "text/plain": [
       "[]"
      ]
     },
     "execution_count": 3,
     "metadata": {},
     "output_type": "execute_result"
    }
   ],
   "source": [
    "%%sql\n",
    "DROP TABLE IF EXISTS Instrumento;\n",
    "CREATE TABLE Instrumento(id_instr INT,\n",
    "                        nombre VARCHAR(30),\n",
    "                        PRIMARY KEY (id_instr));"
   ]
  },
  {
   "cell_type": "code",
   "execution_count": 4,
   "metadata": {},
   "outputs": [
    {
     "name": "stdout",
     "output_type": "stream",
     "text": [
      "Done.\n",
      "Done.\n"
     ]
    },
    {
     "data": {
      "text/plain": [
       "[]"
      ]
     },
     "execution_count": 4,
     "metadata": {},
     "output_type": "execute_result"
    }
   ],
   "source": [
    "%%sql\n",
    "DROP TABLE IF EXISTS Cancion_Pertenece;\n",
    "CREATE TABLE Cancion_Pertenece(id_cancion INT,\n",
    "                    titulo VARCHAR(30),\n",
    "                    autor VARCHAR(30),\n",
    "                    id_album INT NOT NULL,\n",
    "                    PRIMARY KEY (id_cancion),\n",
    "                    FOREIGN KEY (id_album) REFERENCES Album_Produce(num_id));"
   ]
  },
  {
   "cell_type": "code",
   "execution_count": 5,
   "metadata": {},
   "outputs": [
    {
     "name": "stdout",
     "output_type": "stream",
     "text": [
      "Done.\n",
      "Done.\n"
     ]
    },
    {
     "data": {
      "text/plain": [
       "[]"
      ]
     },
     "execution_count": 5,
     "metadata": {},
     "output_type": "execute_result"
    }
   ],
   "source": [
    "%%sql\n",
    "DROP TABLE IF EXISTS Album_Produce;\n",
    "CREATE TABLE Album_Produce(num_id INT,\n",
    "                  titulo VARCHAR(30),\n",
    "                  fecha_edicion DATE,\n",
    "                  formato VARCHAR(30),\n",
    "                  nif VARCHAR(30) NOT NULL,\n",
    "                  PRIMARY KEY (num_id),\n",
    "                  FOREIGN KEY (nif) REFERENCES Musico_Vive(nif));"
   ]
  },
  {
   "cell_type": "code",
   "execution_count": 6,
   "metadata": {},
   "outputs": [
    {
     "name": "stdout",
     "output_type": "stream",
     "text": [
      "Done.\n",
      "Done.\n"
     ]
    },
    {
     "data": {
      "text/plain": [
       "[]"
      ]
     },
     "execution_count": 6,
     "metadata": {},
     "output_type": "execute_result"
    }
   ],
   "source": [
    "%%sql\n",
    "DROP TABLE IF EXISTS Direccion;\n",
    "CREATE TABLE Direccion(dom_compl VARCHAR(30),\n",
    "                      telefono INT,\n",
    "                      PRIMARY KEY (dom_compl));"
   ]
  },
  {
   "cell_type": "code",
   "execution_count": 7,
   "metadata": {},
   "outputs": [
    {
     "name": "stdout",
     "output_type": "stream",
     "text": [
      "Done.\n",
      "Done.\n"
     ]
    },
    {
     "data": {
      "text/plain": [
       "[]"
      ]
     },
     "execution_count": 7,
     "metadata": {},
     "output_type": "execute_result"
    }
   ],
   "source": [
    "%%sql\n",
    "DROP TABLE IF EXISTS Toca;\n",
    "CREATE TABLE Toca(nif VARCHAR(30),\n",
    "                 id_instr INT,\n",
    "                 PRIMARY KEY (nif, id_instr),\n",
    "                 FOREIGN KEY (nif) REFERENCES Musico_Vive(nif),\n",
    "                 FOREIGN KEY (id_instr) REFERENCES Instrumento(id_instr));"
   ]
  },
  {
   "cell_type": "code",
   "execution_count": 8,
   "metadata": {},
   "outputs": [
    {
     "name": "stdout",
     "output_type": "stream",
     "text": [
      "Done.\n",
      "Done.\n"
     ]
    },
    {
     "data": {
      "text/plain": [
       "[]"
      ]
     },
     "execution_count": 8,
     "metadata": {},
     "output_type": "execute_result"
    }
   ],
   "source": [
    "%%sql\n",
    "DROP TABLE IF EXISTS Interpreta;\n",
    "CREATE TABLE Interpreta(nif VARCHAR(30),\n",
    "                       id_cancion INT,\n",
    "                       PRIMARY KEY (nif, id_cancion),\n",
    "                       FOREIGN KEY (nif) REFERENCES Musico_Vive(nif),\n",
    "                       FOREIGN KEY (id_cancion) REFERENCES Cancion_Pertenece(id_cancion));"
   ]
  },
  {
   "cell_type": "code",
   "execution_count": null,
   "metadata": {},
   "outputs": [],
   "source": [
    "#La restricción de que no hay más de un teléfono por domicilio no puede ser expresada con este modelo.\n",
    "#Tampoco que varios puedan vivir en el mismo domicilio."
   ]
  },
  {
   "cell_type": "code",
   "execution_count": null,
   "metadata": {},
   "outputs": [],
   "source": []
  }
 ],
 "metadata": {
  "kernelspec": {
   "display_name": "Python 3",
   "language": "python",
   "name": "python3"
  },
  "language_info": {
   "codemirror_mode": {
    "name": "ipython",
    "version": 3
   },
   "file_extension": ".py",
   "mimetype": "text/x-python",
   "name": "python",
   "nbconvert_exporter": "python",
   "pygments_lexer": "ipython3",
   "version": "3.5.2"
  }
 },
 "nbformat": 4,
 "nbformat_minor": 2
}
