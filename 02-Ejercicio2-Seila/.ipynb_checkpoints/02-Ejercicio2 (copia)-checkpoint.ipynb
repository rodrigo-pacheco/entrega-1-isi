{
 "cells": [
  {
   "cell_type": "code",
   "execution_count": 1,
   "metadata": {},
   "outputs": [
    {
     "data": {
      "text/plain": [
       "'Connected: None@ejercicio2(copia).db'"
      ]
     },
     "execution_count": 1,
     "metadata": {},
     "output_type": "execute_result"
    }
   ],
   "source": [
    "%load_ext sql\n",
    "%sql sqlite:///ejercicio2(copia).db"
   ]
  },
  {
   "cell_type": "code",
   "execution_count": 2,
   "metadata": {},
   "outputs": [
    {
     "name": "stdout",
     "output_type": "stream",
     "text": [
      "Done.\n"
     ]
    },
    {
     "data": {
      "text/plain": [
       "[]"
      ]
     },
     "execution_count": 2,
     "metadata": {},
     "output_type": "execute_result"
    }
   ],
   "source": [
    "%%sql create table profesor (nif varchar(10),\n",
    "                             nombre char(30),\n",
    "                             edad int(2),\n",
    "                             cargo char(30),\n",
    "                             especialidad char(30),\n",
    "                             primary key (nif));"
   ]
  },
  {
   "cell_type": "code",
   "execution_count": 7,
   "metadata": {},
   "outputs": [
    {
     "name": "stdout",
     "output_type": "stream",
     "text": [
      "1 rows affected.\n"
     ]
    },
    {
     "data": {
      "text/plain": [
       "[]"
      ]
     },
     "execution_count": 7,
     "metadata": {},
     "output_type": "execute_result"
    }
   ],
   "source": [
    "%sql INSERT INTO profesor VALUES ('123456789A', 'Juan', 30, 'Profesor', 'Teleco');"
   ]
  },
  {
   "cell_type": "code",
   "execution_count": 9,
   "metadata": {},
   "outputs": [
    {
     "name": "stdout",
     "output_type": "stream",
     "text": [
      "1 rows affected.\n",
      "1 rows affected.\n",
      "1 rows affected.\n"
     ]
    },
    {
     "data": {
      "text/plain": [
       "[]"
      ]
     },
     "execution_count": 9,
     "metadata": {},
     "output_type": "execute_result"
    }
   ],
   "source": [
    "%sql INSERT INTO profesor VALUES ('111111111B', 'Pepe', 20, 'Prof. Adjunto', 'Teleco');\n",
    "%sql INSERT INTO profesor VALUES ('222222222C', 'María', 50, 'Prof. Nuevo', 'Señales');\n",
    "%sql INSERT INTO profesor VALUES ('333333333D', 'Luisa', 45, 'Investigador', 'Radio');"
   ]
  },
  {
   "cell_type": "code",
   "execution_count": 10,
   "metadata": {},
   "outputs": [
    {
     "name": "stdout",
     "output_type": "stream",
     "text": [
      "Done.\n"
     ]
    },
    {
     "data": {
      "text/html": [
       "<table>\n",
       "    <tr>\n",
       "        <th>nif</th>\n",
       "        <th>nombre</th>\n",
       "        <th>edad</th>\n",
       "        <th>cargo</th>\n",
       "        <th>especialidad</th>\n",
       "    </tr>\n",
       "    <tr>\n",
       "        <td>123456789A</td>\n",
       "        <td>Juan</td>\n",
       "        <td>30</td>\n",
       "        <td>Profesor</td>\n",
       "        <td>Teleco</td>\n",
       "    </tr>\n",
       "    <tr>\n",
       "        <td>111111111B</td>\n",
       "        <td>Pepe</td>\n",
       "        <td>20</td>\n",
       "        <td>Prof. Adjunto</td>\n",
       "        <td>Teleco</td>\n",
       "    </tr>\n",
       "    <tr>\n",
       "        <td>222222222C</td>\n",
       "        <td>María</td>\n",
       "        <td>50</td>\n",
       "        <td>Prof. Nuevo</td>\n",
       "        <td>Señales</td>\n",
       "    </tr>\n",
       "    <tr>\n",
       "        <td>333333333D</td>\n",
       "        <td>Luisa</td>\n",
       "        <td>45</td>\n",
       "        <td>Investigador</td>\n",
       "        <td>Radio</td>\n",
       "    </tr>\n",
       "</table>"
      ],
      "text/plain": [
       "[('123456789A', 'Juan', 30, 'Profesor', 'Teleco'),\n",
       " ('111111111B', 'Pepe', 20, 'Prof. Adjunto', 'Teleco'),\n",
       " ('222222222C', 'María', 50, 'Prof. Nuevo', 'Señales'),\n",
       " ('333333333D', 'Luisa', 45, 'Investigador', 'Radio')]"
      ]
     },
     "execution_count": 10,
     "metadata": {},
     "output_type": "execute_result"
    }
   ],
   "source": [
    "%sql SELECT * FROM profesor"
   ]
  },
  {
   "cell_type": "code",
   "execution_count": 11,
   "metadata": {},
   "outputs": [
    {
     "name": "stdout",
     "output_type": "stream",
     "text": [
      "Done.\n"
     ]
    },
    {
     "data": {
      "text/plain": [
       "[]"
      ]
     },
     "execution_count": 11,
     "metadata": {},
     "output_type": "execute_result"
    }
   ],
   "source": [
    "%%sql create table proyecto (num int,\n",
    "                             entidad char(30),\n",
    "                             comienzo date,\n",
    "                             finalizacion date,\n",
    "                             presupuesto float,\n",
    "                             nif_prof varchar(10) not null,\n",
    "                             primary key (num),\n",
    "                             URJCforeign key (nif_prof) references profesor(nif));"
   ]
  },
  {
   "cell_type": "code",
   "execution_count": 14,
   "metadata": {},
   "outputs": [
    {
     "name": "stdout",
     "output_type": "stream",
     "text": [
      "1 rows affected.\n",
      "1 rows affected.\n",
      "1 rows affected.\n"
     ]
    },
    {
     "data": {
      "text/plain": [
       "[]"
      ]
     },
     "execution_count": 14,
     "metadata": {},
     "output_type": "execute_result"
    }
   ],
   "source": [
    "%sql INSERT INTO proyecto VALUES (1, 'URJC', '2016-01-01', '2016-12-20', 200000, '333333333D');\n",
    "%sql INSERT INTO proyecto VALUES (2, 'Caixa', '2016-02-15', '2017-05-25', 200000, '111111111B');\n",
    "%sql INSERT INTO proyecto VALUES (3, 'BBVA', '2015-10-20', '2016-02-10', 200000, '123456789A');"
   ]
  },
  {
   "cell_type": "code",
   "execution_count": 16,
   "metadata": {},
   "outputs": [
    {
     "name": "stdout",
     "output_type": "stream",
     "text": [
      "1 rows affected.\n"
     ]
    },
    {
     "data": {
      "text/plain": [
       "[]"
      ]
     },
     "execution_count": 16,
     "metadata": {},
     "output_type": "execute_result"
    }
   ],
   "source": [
    "%sql INSERT INTO proyecto VALUES (4, 'Bankia', '2014-10-20', '2015-02-10', 400000, '123456789A');"
   ]
  },
  {
   "cell_type": "code",
   "execution_count": 17,
   "metadata": {},
   "outputs": [
    {
     "name": "stdout",
     "output_type": "stream",
     "text": [
      "Done.\n"
     ]
    },
    {
     "data": {
      "text/html": [
       "<table>\n",
       "    <tr>\n",
       "        <th>num</th>\n",
       "        <th>entidad</th>\n",
       "        <th>comienzo</th>\n",
       "        <th>finalizacion</th>\n",
       "        <th>presupuesto</th>\n",
       "        <th>nif_prof</th>\n",
       "    </tr>\n",
       "    <tr>\n",
       "        <td>1</td>\n",
       "        <td>URJC</td>\n",
       "        <td>2016-01-01</td>\n",
       "        <td>2016-12-20</td>\n",
       "        <td>200000.0</td>\n",
       "        <td>333333333D</td>\n",
       "    </tr>\n",
       "    <tr>\n",
       "        <td>2</td>\n",
       "        <td>Caixa</td>\n",
       "        <td>2016-02-15</td>\n",
       "        <td>2017-05-25</td>\n",
       "        <td>200000.0</td>\n",
       "        <td>111111111B</td>\n",
       "    </tr>\n",
       "    <tr>\n",
       "        <td>3</td>\n",
       "        <td>BBVA</td>\n",
       "        <td>2015-10-20</td>\n",
       "        <td>2016-02-10</td>\n",
       "        <td>200000.0</td>\n",
       "        <td>123456789A</td>\n",
       "    </tr>\n",
       "    <tr>\n",
       "        <td>4</td>\n",
       "        <td>Bankia</td>\n",
       "        <td>2014-10-20</td>\n",
       "        <td>2015-02-10</td>\n",
       "        <td>400000.0</td>\n",
       "        <td>123456789A</td>\n",
       "    </tr>\n",
       "</table>"
      ],
      "text/plain": [
       "[(1, 'URJC', '2016-01-01', '2016-12-20', 200000.0, '333333333D'),\n",
       " (2, 'Caixa', '2016-02-15', '2017-05-25', 200000.0, '111111111B'),\n",
       " (3, 'BBVA', '2015-10-20', '2016-02-10', 200000.0, '123456789A'),\n",
       " (4, 'Bankia', '2014-10-20', '2015-02-10', 400000.0, '123456789A')]"
      ]
     },
     "execution_count": 17,
     "metadata": {},
     "output_type": "execute_result"
    }
   ],
   "source": [
    "%sql SELECT * FROM proyecto"
   ]
  },
  {
   "cell_type": "code",
   "execution_count": 22,
   "metadata": {},
   "outputs": [
    {
     "name": "stdout",
     "output_type": "stream",
     "text": [
      "Done.\n"
     ]
    },
    {
     "data": {
      "text/html": [
       "<table>\n",
       "    <tr>\n",
       "        <th>nombre</th>\n",
       "        <th>entidad</th>\n",
       "        <th>num</th>\n",
       "    </tr>\n",
       "    <tr>\n",
       "        <td>Luisa</td>\n",
       "        <td>URJC</td>\n",
       "        <td>1</td>\n",
       "    </tr>\n",
       "    <tr>\n",
       "        <td>Pepe</td>\n",
       "        <td>Caixa</td>\n",
       "        <td>2</td>\n",
       "    </tr>\n",
       "    <tr>\n",
       "        <td>Juan</td>\n",
       "        <td>BBVA</td>\n",
       "        <td>3</td>\n",
       "    </tr>\n",
       "    <tr>\n",
       "        <td>Juan</td>\n",
       "        <td>Bankia</td>\n",
       "        <td>4</td>\n",
       "    </tr>\n",
       "</table>"
      ],
      "text/plain": [
       "[('Luisa', 'URJC', 1),\n",
       " ('Pepe', 'Caixa', 2),\n",
       " ('Juan', 'BBVA', 3),\n",
       " ('Juan', 'Bankia', 4)]"
      ]
     },
     "execution_count": 22,
     "metadata": {},
     "output_type": "execute_result"
    }
   ],
   "source": [
    "%sql SELECT P.nombre, Py.entidad, Py.num FROM profesor P, Proyecto Py WHERE P.nif = Py.nif_prof;"
   ]
  },
  {
   "cell_type": "code",
   "execution_count": 38,
   "metadata": {},
   "outputs": [
    {
     "name": "stdout",
     "output_type": "stream",
     "text": [
      "Done.\n"
     ]
    },
    {
     "data": {
      "text/plain": [
       "[]"
      ]
     },
     "execution_count": 38,
     "metadata": {},
     "output_type": "execute_result"
    }
   ],
   "source": [
    "%%sql create table departamento(num int,\n",
    "                                nombre char(30),\n",
    "                                edificio int(2),\n",
    "                                nif_prof_dir varchar(10) not null,\n",
    "                                primary key (num),\n",
    "                                foreign key (nif_prof_dir) references profesor(nif));"
   ]
  },
  {
   "cell_type": "code",
   "execution_count": 45,
   "metadata": {},
   "outputs": [
    {
     "name": "stdout",
     "output_type": "stream",
     "text": [
      "1 rows affected.\n",
      "1 rows affected.\n",
      "1 rows affected.\n"
     ]
    },
    {
     "data": {
      "text/plain": [
       "[]"
      ]
     },
     "execution_count": 45,
     "metadata": {},
     "output_type": "execute_result"
    }
   ],
   "source": [
    "%sql INSERT INTO departamento VALUES (1, 'Señales', 2, '123456789A');\n",
    "%sql INSERT INTO departamento VALUES (2, 'Comunicaciones', 1, '222222222C');\n",
    "%sql INSERT INTO departamento VALUES (3, 'Programación', 3, '111111111B');\n"
   ]
  },
  {
   "cell_type": "code",
   "execution_count": 49,
   "metadata": {},
   "outputs": [
    {
     "name": "stdout",
     "output_type": "stream",
     "text": [
      "Done.\n"
     ]
    },
    {
     "data": {
      "text/html": [
       "<table>\n",
       "    <tr>\n",
       "        <th>num</th>\n",
       "        <th>nombre</th>\n",
       "        <th>edificio</th>\n",
       "        <th>nif_prof_dir</th>\n",
       "    </tr>\n",
       "    <tr>\n",
       "        <td>1</td>\n",
       "        <td>Señales</td>\n",
       "        <td>2</td>\n",
       "        <td>123456789A</td>\n",
       "    </tr>\n",
       "    <tr>\n",
       "        <td>2</td>\n",
       "        <td>Comunicaciones</td>\n",
       "        <td>1</td>\n",
       "        <td>222222222C</td>\n",
       "    </tr>\n",
       "    <tr>\n",
       "        <td>3</td>\n",
       "        <td>Programación</td>\n",
       "        <td>3</td>\n",
       "        <td>111111111B</td>\n",
       "    </tr>\n",
       "</table>"
      ],
      "text/plain": [
       "[(1, 'Señales', 2, '123456789A'),\n",
       " (2, 'Comunicaciones', 1, '222222222C'),\n",
       " (3, 'Programación', 3, '111111111B')]"
      ]
     },
     "execution_count": 49,
     "metadata": {},
     "output_type": "execute_result"
    }
   ],
   "source": [
    "%sql SELECT * FROM departamento"
   ]
  },
  {
   "cell_type": "code",
   "execution_count": 59,
   "metadata": {
    "scrolled": true
   },
   "outputs": [
    {
     "name": "stdout",
     "output_type": "stream",
     "text": [
      "Done.\n"
     ]
    },
    {
     "data": {
      "text/plain": [
       "[]"
      ]
     },
     "execution_count": 59,
     "metadata": {},
     "output_type": "execute_result"
    }
   ],
   "source": [
    "%%sql create table estudiante (nombre char(30), \n",
    "                               edad int, \n",
    "                               nif varchar(10), \n",
    "                               titulacion char(30),\n",
    "                               nif_tutor varchar(10) not null,\n",
    "                               num_dept int not null,\n",
    "                               primary key (nif),\n",
    "                               foreign key (nif_tutor) references estudiante(nif),\n",
    "                               foreign key (num_dept) references departamento(num));"
   ]
  },
  {
   "cell_type": "code",
   "execution_count": 60,
   "metadata": {},
   "outputs": [
    {
     "name": "stdout",
     "output_type": "stream",
     "text": [
      "1 rows affected.\n",
      "1 rows affected.\n",
      "1 rows affected.\n",
      "1 rows affected.\n"
     ]
    },
    {
     "data": {
      "text/plain": [
       "[]"
      ]
     },
     "execution_count": 60,
     "metadata": {},
     "output_type": "execute_result"
    }
   ],
   "source": [
    "%sql INSERT INTO estudiante VALUES ('Sheila', 21, '000000000A', 'Ing. Tecn. Teleco', '000000000M', 1);\n",
    "%sql INSERT INTO estudiante VALUES ('Adrian', 25, '000000000B', 'Marketing', '000000000N', 2);\n",
    "%sql INSERT INTO estudiante VALUES ('Elena', 23, '000000000C', 'ADE', '000000000M', 2);\n",
    "%sql INSERT INTO estudiante VALUES ('Kevin', 26, '000000000D', 'Ing. Sist. Teleco', '000000000P', 3);\n",
    "\n"
   ]
  },
  {
   "cell_type": "code",
   "execution_count": 72,
   "metadata": {},
   "outputs": [
    {
     "name": "stdout",
     "output_type": "stream",
     "text": [
      "1 rows affected.\n",
      "1 rows affected.\n",
      "1 rows affected.\n"
     ]
    },
    {
     "data": {
      "text/plain": [
       "[]"
      ]
     },
     "execution_count": 72,
     "metadata": {},
     "output_type": "execute_result"
    }
   ],
   "source": [
    "%sql INSERT INTO estudiante VALUES ('Andrea', 23, '000000000M', 'Ing. Telem', '000000000P', 3);\n",
    "%sql INSERT INTO estudiante VALUES ('Yoli', 30, '000000000N', 'Ing. Inf.', '000000000M', 1);\n",
    "%sql INSERT INTO estudiante VALUES ('Gustavo', 26, '000000000P', 'Arquitec', '000000000N', 2);\n",
    "\n"
   ]
  },
  {
   "cell_type": "code",
   "execution_count": 73,
   "metadata": {},
   "outputs": [
    {
     "name": "stdout",
     "output_type": "stream",
     "text": [
      "Done.\n"
     ]
    },
    {
     "data": {
      "text/html": [
       "<table>\n",
       "    <tr>\n",
       "        <th>nombre</th>\n",
       "        <th>edad</th>\n",
       "        <th>nif</th>\n",
       "        <th>titulacion</th>\n",
       "        <th>nif_tutor</th>\n",
       "        <th>num_dept</th>\n",
       "    </tr>\n",
       "    <tr>\n",
       "        <td>Sheila</td>\n",
       "        <td>21</td>\n",
       "        <td>000000000A</td>\n",
       "        <td>Ing. Tecn. Teleco</td>\n",
       "        <td>000000000M</td>\n",
       "        <td>1</td>\n",
       "    </tr>\n",
       "    <tr>\n",
       "        <td>Adrian</td>\n",
       "        <td>25</td>\n",
       "        <td>000000000B</td>\n",
       "        <td>Marketing</td>\n",
       "        <td>000000000N</td>\n",
       "        <td>2</td>\n",
       "    </tr>\n",
       "    <tr>\n",
       "        <td>Elena</td>\n",
       "        <td>23</td>\n",
       "        <td>000000000C</td>\n",
       "        <td>ADE</td>\n",
       "        <td>000000000M</td>\n",
       "        <td>2</td>\n",
       "    </tr>\n",
       "    <tr>\n",
       "        <td>Kevin</td>\n",
       "        <td>26</td>\n",
       "        <td>000000000D</td>\n",
       "        <td>Ing. Sist. Teleco</td>\n",
       "        <td>000000000P</td>\n",
       "        <td>3</td>\n",
       "    </tr>\n",
       "    <tr>\n",
       "        <td>Andrea</td>\n",
       "        <td>23</td>\n",
       "        <td>000000000M</td>\n",
       "        <td>Ing. Telem</td>\n",
       "        <td>000000000P</td>\n",
       "        <td>3</td>\n",
       "    </tr>\n",
       "    <tr>\n",
       "        <td>Yoli</td>\n",
       "        <td>30</td>\n",
       "        <td>000000000N</td>\n",
       "        <td>Ing. Inf.</td>\n",
       "        <td>000000000M</td>\n",
       "        <td>1</td>\n",
       "    </tr>\n",
       "    <tr>\n",
       "        <td>Gustavo</td>\n",
       "        <td>26</td>\n",
       "        <td>000000000P</td>\n",
       "        <td>Arquitec</td>\n",
       "        <td>000000000N</td>\n",
       "        <td>2</td>\n",
       "    </tr>\n",
       "</table>"
      ],
      "text/plain": [
       "[('Sheila', 21, '000000000A', 'Ing. Tecn. Teleco', '000000000M', 1),\n",
       " ('Adrian', 25, '000000000B', 'Marketing', '000000000N', 2),\n",
       " ('Elena', 23, '000000000C', 'ADE', '000000000M', 2),\n",
       " ('Kevin', 26, '000000000D', 'Ing. Sist. Teleco', '000000000P', 3),\n",
       " ('Andrea', 23, '000000000M', 'Ing. Telem', '000000000P', 3),\n",
       " ('Yoli', 30, '000000000N', 'Ing. Inf.', '000000000M', 1),\n",
       " ('Gustavo', 26, '000000000P', 'Arquitec', '000000000N', 2)]"
      ]
     },
     "execution_count": 73,
     "metadata": {},
     "output_type": "execute_result"
    }
   ],
   "source": [
    "%sql SELECT * FROM estudiante"
   ]
  },
  {
   "cell_type": "code",
   "execution_count": 68,
   "metadata": {},
   "outputs": [
    {
     "name": "stdout",
     "output_type": "stream",
     "text": [
      "Done.\n"
     ]
    },
    {
     "data": {
      "text/html": [
       "<table>\n",
       "    <tr>\n",
       "        <th>nombre</th>\n",
       "        <th>Dept</th>\n",
       "    </tr>\n",
       "    <tr>\n",
       "        <td>Sheila</td>\n",
       "        <td>Señales</td>\n",
       "    </tr>\n",
       "    <tr>\n",
       "        <td>Adrian</td>\n",
       "        <td>Comunicaciones</td>\n",
       "    </tr>\n",
       "    <tr>\n",
       "        <td>Elena</td>\n",
       "        <td>Comunicaciones</td>\n",
       "    </tr>\n",
       "    <tr>\n",
       "        <td>Kevin</td>\n",
       "        <td>Programación</td>\n",
       "    </tr>\n",
       "</table>"
      ],
      "text/plain": [
       "[('Sheila', 'Señales'),\n",
       " ('Adrian', 'Comunicaciones'),\n",
       " ('Elena', 'Comunicaciones'),\n",
       " ('Kevin', 'Programación')]"
      ]
     },
     "execution_count": 68,
     "metadata": {},
     "output_type": "execute_result"
    }
   ],
   "source": [
    "%sql SELECT E.nombre, D.nombre AS Dept FROM estudiante E, departamento D WHERE E.num_dept = D.num;"
   ]
  },
  {
   "cell_type": "code",
   "execution_count": 70,
   "metadata": {},
   "outputs": [
    {
     "name": "stdout",
     "output_type": "stream",
     "text": [
      "Done.\n"
     ]
    },
    {
     "data": {
      "text/plain": [
       "[]"
      ]
     },
     "execution_count": 70,
     "metadata": {},
     "output_type": "execute_result"
    }
   ],
   "source": [
    "%%sql create table ayuda_en(num_proy int,\n",
    "                            nif varchar(10) not null,\n",
    "                            primary key (num_proy, nif),\n",
    "                            foreign key (num_proy) references proyecto(num),\n",
    "                            foreign key (nif) references estudiante(nif));"
   ]
  },
  {
   "cell_type": "code",
   "execution_count": 74,
   "metadata": {},
   "outputs": [
    {
     "name": "stdout",
     "output_type": "stream",
     "text": [
      "1 rows affected.\n",
      "1 rows affected.\n",
      "1 rows affected.\n",
      "1 rows affected.\n",
      "1 rows affected.\n"
     ]
    },
    {
     "data": {
      "text/plain": [
       "[]"
      ]
     },
     "execution_count": 74,
     "metadata": {},
     "output_type": "execute_result"
    }
   ],
   "source": [
    "%sql INSERT INTO ayuda_en VALUES (4, '000000000B');\n",
    "%sql INSERT INTO ayuda_en VALUES (2, '000000000M');\n",
    "%sql INSERT INTO ayuda_en VALUES (1, '000000000P');\n",
    "%sql INSERT INTO ayuda_en VALUES (2, '000000000D');\n",
    "%sql INSERT INTO ayuda_en VALUES (3, '000000000A');\n"
   ]
  },
  {
   "cell_type": "code",
   "execution_count": 75,
   "metadata": {},
   "outputs": [
    {
     "name": "stdout",
     "output_type": "stream",
     "text": [
      "Done.\n"
     ]
    },
    {
     "data": {
      "text/html": [
       "<table>\n",
       "    <tr>\n",
       "        <th>num_proy</th>\n",
       "        <th>nif</th>\n",
       "    </tr>\n",
       "    <tr>\n",
       "        <td>4</td>\n",
       "        <td>000000000B</td>\n",
       "    </tr>\n",
       "    <tr>\n",
       "        <td>2</td>\n",
       "        <td>000000000M</td>\n",
       "    </tr>\n",
       "    <tr>\n",
       "        <td>1</td>\n",
       "        <td>000000000P</td>\n",
       "    </tr>\n",
       "    <tr>\n",
       "        <td>2</td>\n",
       "        <td>000000000D</td>\n",
       "    </tr>\n",
       "    <tr>\n",
       "        <td>3</td>\n",
       "        <td>000000000A</td>\n",
       "    </tr>\n",
       "</table>"
      ],
      "text/plain": [
       "[(4, '000000000B'),\n",
       " (2, '000000000M'),\n",
       " (1, '000000000P'),\n",
       " (2, '000000000D'),\n",
       " (3, '000000000A')]"
      ]
     },
     "execution_count": 75,
     "metadata": {},
     "output_type": "execute_result"
    }
   ],
   "source": [
    "%sql SELECT * FROM ayuda_en"
   ]
  },
  {
   "cell_type": "code",
   "execution_count": 79,
   "metadata": {},
   "outputs": [
    {
     "name": "stdout",
     "output_type": "stream",
     "text": [
      "Done.\n"
     ]
    },
    {
     "data": {
      "text/html": [
       "<table>\n",
       "    <tr>\n",
       "        <th>num_proy</th>\n",
       "        <th>nombre</th>\n",
       "    </tr>\n",
       "    <tr>\n",
       "        <td>4</td>\n",
       "        <td>Adrian</td>\n",
       "    </tr>\n",
       "    <tr>\n",
       "        <td>2</td>\n",
       "        <td>Andrea</td>\n",
       "    </tr>\n",
       "    <tr>\n",
       "        <td>1</td>\n",
       "        <td>Gustavo</td>\n",
       "    </tr>\n",
       "    <tr>\n",
       "        <td>2</td>\n",
       "        <td>Kevin</td>\n",
       "    </tr>\n",
       "    <tr>\n",
       "        <td>3</td>\n",
       "        <td>Sheila</td>\n",
       "    </tr>\n",
       "</table>"
      ],
      "text/plain": [
       "[(4, 'Adrian'), (2, 'Andrea'), (1, 'Gustavo'), (2, 'Kevin'), (3, 'Sheila')]"
      ]
     },
     "execution_count": 79,
     "metadata": {},
     "output_type": "execute_result"
    }
   ],
   "source": [
    "%sql SELECT A.num_proy, E.nombre FROM ayuda_en A, estudiante E WHERE E.nif = A.nif;"
   ]
  },
  {
   "cell_type": "code",
   "execution_count": 80,
   "metadata": {},
   "outputs": [
    {
     "name": "stdout",
     "output_type": "stream",
     "text": [
      "Done.\n"
     ]
    },
    {
     "data": {
      "text/plain": [
       "[]"
      ]
     },
     "execution_count": 80,
     "metadata": {},
     "output_type": "execute_result"
    }
   ],
   "source": [
    "%%sql create table trabaja (num_proy int,\n",
    "                            nif varchar(10) not null,\n",
    "                            primary key (num_proy, nif),\n",
    "                            foreign key (num_proy) references proyecto(num),\n",
    "                            foreign key (nif) references profesor(nif));"
   ]
  },
  {
   "cell_type": "code",
   "execution_count": 42,
   "metadata": {},
   "outputs": [
    {
     "name": "stdout",
     "output_type": "stream",
     "text": [
      "Done.\n"
     ]
    },
    {
     "data": {
      "text/html": [
       "<table>\n",
       "    <tr>\n",
       "        <th>num_proy</th>\n",
       "        <th>nif</th>\n",
       "    </tr>\n",
       "</table>"
      ],
      "text/plain": [
       "[]"
      ]
     },
     "execution_count": 42,
     "metadata": {},
     "output_type": "execute_result"
    }
   ],
   "source": [
    "%sql SELECT * FROM trabaja"
   ]
  },
  {
   "cell_type": "code",
   "execution_count": 43,
   "metadata": {},
   "outputs": [
    {
     "name": "stdout",
     "output_type": "stream",
     "text": [
      "Done.\n"
     ]
    },
    {
     "data": {
      "text/plain": [
       "[]"
      ]
     },
     "execution_count": 43,
     "metadata": {},
     "output_type": "execute_result"
    }
   ],
   "source": [
    "%%sql create table trabaja_en (tiempo int,\n",
    "                            num_dep int not null,\n",
    "                            nif varchar(10),\n",
    "                            primary key (num_dep, nif),\n",
    "                            foreign key (num_dep) references departamento(num),\n",
    "                            foreign key (nif) references profesor(nif));"
   ]
  },
  {
   "cell_type": "code",
   "execution_count": 44,
   "metadata": {},
   "outputs": [
    {
     "name": "stdout",
     "output_type": "stream",
     "text": [
      "Done.\n"
     ]
    },
    {
     "data": {
      "text/html": [
       "<table>\n",
       "    <tr>\n",
       "        <th>tiempo</th>\n",
       "        <th>num_dep</th>\n",
       "        <th>nif</th>\n",
       "    </tr>\n",
       "</table>"
      ],
      "text/plain": [
       "[]"
      ]
     },
     "execution_count": 44,
     "metadata": {},
     "output_type": "execute_result"
    }
   ],
   "source": [
    "%sql SELECT * FROM trabaja_en"
   ]
  },
  {
   "cell_type": "code",
   "execution_count": 45,
   "metadata": {},
   "outputs": [
    {
     "name": "stdout",
     "output_type": "stream",
     "text": [
      "Done.\n"
     ]
    },
    {
     "data": {
      "text/plain": [
       "[]"
      ]
     },
     "execution_count": 45,
     "metadata": {},
     "output_type": "execute_result"
    }
   ],
   "source": [
    "%%sql create table supervisa(nif_prof varchar(10),\n",
    "                            nif_est varchar(10),\n",
    "                            num_proy int,\n",
    "                            primary key (nif_prof, nif_est, num_proy),\n",
    "                            foreign key (nif_prof) references profesor(nif),\n",
    "                            foreign key (nif_est, num_proy) references ayuda_en(nif, num_proy));"
   ]
  },
  {
   "cell_type": "code",
   "execution_count": 47,
   "metadata": {},
   "outputs": [
    {
     "name": "stdout",
     "output_type": "stream",
     "text": [
      "Done.\n"
     ]
    },
    {
     "data": {
      "text/html": [
       "<table>\n",
       "    <tr>\n",
       "        <th>nif_prof</th>\n",
       "        <th>nif_est</th>\n",
       "        <th>num_proy</th>\n",
       "    </tr>\n",
       "</table>"
      ],
      "text/plain": [
       "[]"
      ]
     },
     "execution_count": 47,
     "metadata": {},
     "output_type": "execute_result"
    }
   ],
   "source": [
    "%sql SELECT * FROM supervisa"
   ]
  }
 ],
 "metadata": {
  "kernelspec": {
   "display_name": "Python 3",
   "language": "python",
   "name": "python3"
  },
  "language_info": {
   "codemirror_mode": {
    "name": "ipython",
    "version": 3
   },
   "file_extension": ".py",
   "mimetype": "text/x-python",
   "name": "python",
   "nbconvert_exporter": "python",
   "pygments_lexer": "ipython3",
   "version": "3.4.3"
  }
 },
 "nbformat": 4,
 "nbformat_minor": 2
}
