{
 "cells": [
  {
   "cell_type": "code",
   "execution_count": 1,
   "metadata": {},
   "outputs": [],
   "source": [
    "%load_ext sql"
   ]
  },
  {
   "cell_type": "code",
   "execution_count": 2,
   "metadata": {},
   "outputs": [
    {
     "data": {
      "text/plain": [
       "'Connected: None@Ejercicio2.db'"
      ]
     },
     "execution_count": 2,
     "metadata": {},
     "output_type": "execute_result"
    }
   ],
   "source": [
    "%sql sqlite:///Ejercicio2.db"
   ]
  },
  {
   "cell_type": "code",
   "execution_count": 3,
   "metadata": {},
   "outputs": [
    {
     "name": "stdout",
     "output_type": "stream",
     "text": [
      "Done.\n"
     ]
    },
    {
     "data": {
      "text/plain": [
       "[]"
      ]
     },
     "execution_count": 3,
     "metadata": {},
     "output_type": "execute_result"
    }
   ],
   "source": [
    "%%sql Create table profesores\n",
    "(nif varchar(10),\n",
    " nombre char(30),\n",
    " edad int,\n",
    " especialidad char(30),\n",
    " primary key (nif))"
   ]
  },
  {
   "cell_type": "code",
   "execution_count": 4,
   "metadata": {},
   "outputs": [
    {
     "name": "stdout",
     "output_type": "stream",
     "text": [
      "Done.\n"
     ]
    },
    {
     "data": {
      "text/plain": [
       "[]"
      ]
     },
     "execution_count": 4,
     "metadata": {},
     "output_type": "execute_result"
    }
   ],
   "source": [
    "%%sql Create table proyectos\n",
    "(num_pro int,\n",
    " entidad char(30),\n",
    " fecha_ini date,\n",
    " fecha_fin date,\n",
    " presupuesto float,\n",
    " nif_prof varchar(10) not null,\n",
    " primary key (num_pro),\n",
    " foreign key (nif_prof) references profesores(nif))"
   ]
  },
  {
   "cell_type": "code",
   "execution_count": 6,
   "metadata": {},
   "outputs": [
    {
     "name": "stdout",
     "output_type": "stream",
     "text": [
      "Done.\n"
     ]
    },
    {
     "data": {
      "text/plain": [
       "[]"
      ]
     },
     "execution_count": 6,
     "metadata": {},
     "output_type": "execute_result"
    }
   ],
   "source": [
    "%%sql Create table estudiantes\n",
    "(nombre char(30),\n",
    " edad int,\n",
    " nif varchar(10),\n",
    " titulacion char(30),\n",
    " nif_tutor varchar(10) not null,\n",
    " num_dep int not null,\n",
    " primary key (nif),\n",
    " foreign key (nif_tutor) references estudiantes(nif),\n",
    " foreign key (num_dep) references departamentos(num_id))"
   ]
  },
  {
   "cell_type": "code",
   "execution_count": 7,
   "metadata": {},
   "outputs": [
    {
     "name": "stdout",
     "output_type": "stream",
     "text": [
      "Done.\n"
     ]
    },
    {
     "data": {
      "text/plain": [
       "[]"
      ]
     },
     "execution_count": 7,
     "metadata": {},
     "output_type": "execute_result"
    }
   ],
   "source": [
    "%%sql Create table departamentos\n",
    "(num_id int,\n",
    " nombre char(30),\n",
    " edificio int,\n",
    " nif_profe varchar(10) not null,\n",
    " primary key (num_id),\n",
    " foreign key (nif_profe) references profesores(nif))"
   ]
  },
  {
   "cell_type": "code",
   "execution_count": 13,
   "metadata": {},
   "outputs": [
    {
     "name": "stdout",
     "output_type": "stream",
     "text": [
      "Done.\n"
     ]
    },
    {
     "data": {
      "text/plain": [
       "[]"
      ]
     },
     "execution_count": 13,
     "metadata": {},
     "output_type": "execute_result"
    }
   ],
   "source": [
    "%%sql Create table ayuda_en\n",
    "(num_pro int,\n",
    " nif_est varchar(10) not null,\n",
    " nif_prof varchar(10) not null,\n",
    " primary key (num_pro, nif_est, nif_prof),\n",
    " foreign key (num_pro) references proyectos(num_pro),\n",
    " foreign key (nif_est) references estudiantes(nif),\n",
    " foreign key (nif_prof) references profesores(nif))"
   ]
  },
  {
   "cell_type": "code",
   "execution_count": 12,
   "metadata": {},
   "outputs": [
    {
     "name": "stdout",
     "output_type": "stream",
     "text": [
      "Done.\n"
     ]
    },
    {
     "data": {
      "text/plain": [
       "[]"
      ]
     },
     "execution_count": 12,
     "metadata": {},
     "output_type": "execute_result"
    }
   ],
   "source": [
    "%sql drop table ayuda_en"
   ]
  },
  {
   "cell_type": "code",
   "execution_count": 14,
   "metadata": {},
   "outputs": [
    {
     "name": "stdout",
     "output_type": "stream",
     "text": [
      "Done.\n"
     ]
    },
    {
     "data": {
      "text/plain": [
       "[]"
      ]
     },
     "execution_count": 14,
     "metadata": {},
     "output_type": "execute_result"
    }
   ],
   "source": [
    "%%sql Create table trabaja_pp\n",
    "(num_pro int,\n",
    " nif_prof varchar(10) not null,\n",
    " primary key (num_pro, nif_prof),\n",
    " foreign key (num_pro) references proyectos(num_pro),\n",
    " foreign key (nif_prof) references profesores(nif))"
   ]
  },
  {
   "cell_type": "code",
   "execution_count": 17,
   "metadata": {},
   "outputs": [
    {
     "name": "stdout",
     "output_type": "stream",
     "text": [
      "Done.\n"
     ]
    },
    {
     "data": {
      "text/plain": [
       "[]"
      ]
     },
     "execution_count": 17,
     "metadata": {},
     "output_type": "execute_result"
    }
   ],
   "source": [
    "%%sql Create table trabaja_pd\n",
    "(num_dep int not null,\n",
    " nif_prof varchar(10),\n",
    " primary key (num_dep, nif_prof),\n",
    " foreign key (num_dep) references departamentos(num_id),\n",
    " foreign key (nif_prof) references profesores(nif))"
   ]
  },
  {
   "cell_type": "code",
   "execution_count": null,
   "metadata": {},
   "outputs": [],
   "source": []
  }
 ],
 "metadata": {
  "kernelspec": {
   "display_name": "Python 3",
   "language": "python",
   "name": "python3"
  },
  "language_info": {
   "codemirror_mode": {
    "name": "ipython",
    "version": 3
   },
   "file_extension": ".py",
   "mimetype": "text/x-python",
   "name": "python",
   "nbconvert_exporter": "python",
   "pygments_lexer": "ipython3",
   "version": "3.5.2"
  }
 },
 "nbformat": 4,
 "nbformat_minor": 2
}
