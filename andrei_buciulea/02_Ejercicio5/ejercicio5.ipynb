{
 "cells": [
  {
   "cell_type": "code",
   "execution_count": 1,
   "metadata": {},
   "outputs": [],
   "source": [
    "%load_ext sql"
   ]
  },
  {
   "cell_type": "code",
   "execution_count": 2,
   "metadata": {},
   "outputs": [
    {
     "data": {
      "text/plain": [
       "'Connected: None@Ejercicio5.db'"
      ]
     },
     "execution_count": 2,
     "metadata": {},
     "output_type": "execute_result"
    }
   ],
   "source": [
    "%sql sqlite:///Ejercicio5.db"
   ]
  },
  {
   "cell_type": "code",
   "execution_count": 8,
   "metadata": {},
   "outputs": [
    {
     "name": "stdout",
     "output_type": "stream",
     "text": [
      "Done.\n"
     ]
    },
    {
     "data": {
      "text/plain": [
       "[]"
      ]
     },
     "execution_count": 8,
     "metadata": {},
     "output_type": "execute_result"
    }
   ],
   "source": [
    "%%sql Create table pacientes\n",
    "    (nif varchar(10) not null, nombre char(30),direccion char(30),\n",
    "     edad int,nif_med varchar(10) not null,\n",
    "    primary key(nif),\n",
    "    foreign key (nif_med) references medicos(nif))"
   ]
  },
  {
   "cell_type": "code",
   "execution_count": 9,
   "metadata": {},
   "outputs": [
    {
     "name": "stdout",
     "output_type": "stream",
     "text": [
      "Done.\n"
     ]
    },
    {
     "data": {
      "text/plain": [
       "[]"
      ]
     },
     "execution_count": 9,
     "metadata": {},
     "output_type": "execute_result"
    }
   ],
   "source": [
    "%%sql Create table medicos\n",
    "    (nif varchar(10), nombre char(30),especialidad char(30),anos_exp int,\n",
    "    primary key(nif))"
   ]
  },
  {
   "cell_type": "code",
   "execution_count": 10,
   "metadata": {},
   "outputs": [
    {
     "name": "stdout",
     "output_type": "stream",
     "text": [
      "Done.\n"
     ]
    },
    {
     "data": {
      "text/plain": [
       "[]"
      ]
     },
     "execution_count": 10,
     "metadata": {},
     "output_type": "execute_result"
    }
   ],
   "source": [
    "%%sql Create table receta\n",
    "    (nif_p varchar(10),nif_med varchar(10),nombre_medicamento char(30),\n",
    "     nombre_comp char(30), fecha date, cantidad float,\n",
    "    primary key(nif_p,nif_med,nombre_medicamento,nombre_comp),\n",
    "    foreign key (nif_med) references medicos(nif),\n",
    "    foreign key (nif_p) references pacientes(nif),\n",
    "    foreign key (nombre_medicamento) references medicamentos(nombre),\n",
    "    foreign key (nombre_comp) references compania(nombre))"
   ]
  },
  {
   "cell_type": "code",
   "execution_count": 24,
   "metadata": {},
   "outputs": [
    {
     "name": "stdout",
     "output_type": "stream",
     "text": [
      "Done.\n"
     ]
    },
    {
     "data": {
      "text/plain": [
       "[]"
      ]
     },
     "execution_count": 24,
     "metadata": {},
     "output_type": "execute_result"
    }
   ],
   "source": [
    "%%sql Create table medicamentos\n",
    "    (nombre char(30) not null,formula char(30),nombre_comp char(30) not null,\n",
    "    primary key(nombre),\n",
    "    foreign key (nombre_comp) references compania(nombre)\n",
    "                                on delete cascade)"
   ]
  },
  {
   "cell_type": "code",
   "execution_count": 14,
   "metadata": {},
   "outputs": [
    {
     "name": "stdout",
     "output_type": "stream",
     "text": [
      "Done.\n"
     ]
    },
    {
     "data": {
      "text/plain": [
       "[]"
      ]
     },
     "execution_count": 14,
     "metadata": {},
     "output_type": "execute_result"
    }
   ],
   "source": [
    "%%sql Create table compania\n",
    "    (nombre char(30),telefono int,\n",
    "    primary key(nombre))"
   ]
  },
  {
   "cell_type": "code",
   "execution_count": 15,
   "metadata": {},
   "outputs": [
    {
     "name": "stdout",
     "output_type": "stream",
     "text": [
      "Done.\n"
     ]
    },
    {
     "data": {
      "text/plain": [
       "[]"
      ]
     },
     "execution_count": 15,
     "metadata": {},
     "output_type": "execute_result"
    }
   ],
   "source": [
    "%%sql Create table vender\n",
    "    (nombre_medicamento char(30),nombre_farmacia char(30) not null,precio float,\n",
    "    primary key(nombre_medicamento,nombre_farmacia),\n",
    "    foreign key (nombre_medicamento) references medicamentos(nombre),\n",
    "    foreign key (nombre_farmacia) references farmacias(nombre))"
   ]
  },
  {
   "cell_type": "code",
   "execution_count": 16,
   "metadata": {},
   "outputs": [
    {
     "name": "stdout",
     "output_type": "stream",
     "text": [
      "Done.\n"
     ]
    },
    {
     "data": {
      "text/plain": [
       "[]"
      ]
     },
     "execution_count": 16,
     "metadata": {},
     "output_type": "execute_result"
    }
   ],
   "source": [
    "%%sql Create table farmacia\n",
    "    (nombre char(30),direccion char(30),telefono int,\n",
    "    primary key(nombre))"
   ]
  },
  {
   "cell_type": "code",
   "execution_count": 17,
   "metadata": {},
   "outputs": [
    {
     "name": "stdout",
     "output_type": "stream",
     "text": [
      "Done.\n"
     ]
    },
    {
     "data": {
      "text/plain": [
       "[]"
      ]
     },
     "execution_count": 17,
     "metadata": {},
     "output_type": "execute_result"
    }
   ],
   "source": [
    "%%sql Create table contratar\n",
    "    (nombre_compania char(30),nombre_farmacia char(30),texto_contrato char(100),\n",
    "    primary key(nombre_compania,nombre_farmacia,texto_contrato),\n",
    "    foreign key (nombre_compania) references compania(nombre),\n",
    "    foreign key (nombre_farmacia) references farmacias(nombre),\n",
    "    foreign key (texto_contrato) references contrato(texto))"
   ]
  },
  {
   "cell_type": "code",
   "execution_count": 18,
   "metadata": {},
   "outputs": [
    {
     "name": "stdout",
     "output_type": "stream",
     "text": [
      "Done.\n"
     ]
    },
    {
     "data": {
      "text/plain": [
       "[]"
      ]
     },
     "execution_count": 18,
     "metadata": {},
     "output_type": "execute_result"
    }
   ],
   "source": [
    "%%sql Create table contrato\n",
    "    (fecha_ini date,fecha_fin date,texto char(100),\n",
    "    primary key(texto))"
   ]
  },
  {
   "cell_type": "code",
   "execution_count": 19,
   "metadata": {},
   "outputs": [
    {
     "name": "stdout",
     "output_type": "stream",
     "text": [
      "Done.\n"
     ]
    },
    {
     "data": {
      "text/plain": [
       "[]"
      ]
     },
     "execution_count": 19,
     "metadata": {},
     "output_type": "execute_result"
    }
   ],
   "source": [
    "%%sql Create table supervisor\n",
    "    (nif varchar(10),\n",
    "    primary key(nif))"
   ]
  },
  {
   "cell_type": "code",
   "execution_count": 20,
   "metadata": {},
   "outputs": [
    {
     "name": "stdout",
     "output_type": "stream",
     "text": [
      "Done.\n"
     ]
    },
    {
     "data": {
      "text/plain": [
       "[]"
      ]
     },
     "execution_count": 20,
     "metadata": {},
     "output_type": "execute_result"
    }
   ],
   "source": [
    "%%sql Create table supervisa\n",
    "    (nif_supervisor varchar(10) not null,texto_contrato char(100),\n",
    "    primary key(nif_supervisor,texto_contrato),\n",
    "    foreign key (nif_supervisor) references supervisor(nif),\n",
    "    foreign key (texto_contrato) references contrato(texto))"
   ]
  },
  {
   "cell_type": "code",
   "execution_count": null,
   "metadata": {},
   "outputs": [],
   "source": []
  }
 ],
 "metadata": {
  "kernelspec": {
   "display_name": "Python 3",
   "language": "python",
   "name": "python3"
  },
  "language_info": {
   "codemirror_mode": {
    "name": "ipython",
    "version": 3
   },
   "file_extension": ".py",
   "mimetype": "text/x-python",
   "name": "python",
   "nbconvert_exporter": "python",
   "pygments_lexer": "ipython3",
   "version": "3.5.2"
  }
 },
 "nbformat": 4,
 "nbformat_minor": 2
}
