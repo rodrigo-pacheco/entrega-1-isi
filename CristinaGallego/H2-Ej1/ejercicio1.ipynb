{
 "cells": [
  {
   "cell_type": "markdown",
   "metadata": {},
   "source": [
    "Ejercicio 1 \n",
    "== \n",
    "\n",
    "Tiene varios apartados."
   ]
  },
  {
   "cell_type": "markdown",
   "metadata": {},
   "source": [
    "from IPython.display import Image\n",
    "./ej1.JPG"
   ]
  },
  {
   "cell_type": "code",
   "execution_count": 1,
   "metadata": {},
   "outputs": [],
   "source": [
    "%load_ext sql "
   ]
  },
  {
   "cell_type": "code",
   "execution_count": 2,
   "metadata": {},
   "outputs": [
    {
     "data": {
      "text/plain": [
       "'Connected: None@ej1.db'"
      ]
     },
     "execution_count": 2,
     "metadata": {},
     "output_type": "execute_result"
    }
   ],
   "source": [
    "%sql sqlite:///ej1.db "
   ]
  },
  {
   "cell_type": "markdown",
   "metadata": {},
   "source": [
    "1. Los profesores pueden enseñar la misma asignatura en varios cuatrimestres, y se deben guardar todas ellas."
   ]
  },
  {
   "cell_type": "code",
   "execution_count": 3,
   "metadata": {},
   "outputs": [
    {
     "name": "stdout",
     "output_type": "stream",
     "text": [
      "Done.\n",
      "Done.\n"
     ]
    },
    {
     "data": {
      "text/plain": [
       "[]"
      ]
     },
     "execution_count": 3,
     "metadata": {},
     "output_type": "execute_result"
    }
   ],
   "source": [
    "%%sql \n",
    "DROP TABLE IF EXISTS profesor ;\n",
    "CREATE TABLE profesor(\n",
    "    dni VARCHAR(10),\n",
    "    PRIMARY KEY (dni));"
   ]
  },
  {
   "cell_type": "code",
   "execution_count": 4,
   "metadata": {},
   "outputs": [
    {
     "name": "stdout",
     "output_type": "stream",
     "text": [
      "Done.\n",
      "Done.\n"
     ]
    },
    {
     "data": {
      "text/plain": [
       "[]"
      ]
     },
     "execution_count": 4,
     "metadata": {},
     "output_type": "execute_result"
    }
   ],
   "source": [
    "%%sql \n",
    "DROP TABLE IF EXISTS asignaturas;\n",
    "CREATE TABLE asignaturas(\n",
    "    num INT,\n",
    "    PRIMARY KEY(num)\n",
    ");"
   ]
  },
  {
   "cell_type": "code",
   "execution_count": 5,
   "metadata": {},
   "outputs": [
    {
     "name": "stdout",
     "output_type": "stream",
     "text": [
      "Done.\n",
      "Done.\n"
     ]
    },
    {
     "data": {
      "text/plain": [
       "[]"
      ]
     },
     "execution_count": 5,
     "metadata": {},
     "output_type": "execute_result"
    }
   ],
   "source": [
    "%%sql \n",
    "DROP TABLE IF EXISTS cuatrimestre;\n",
    "CREATE TABLE cuatrimestre(\n",
    "    num_cuatri INT,\n",
    "    PRIMARY KEY(num_cuatri)\n",
    ");"
   ]
  },
  {
   "cell_type": "code",
   "execution_count": 6,
   "metadata": {},
   "outputs": [
    {
     "name": "stdout",
     "output_type": "stream",
     "text": [
      "Done.\n",
      "Done.\n"
     ]
    },
    {
     "data": {
      "text/plain": [
       "[]"
      ]
     },
     "execution_count": 6,
     "metadata": {},
     "output_type": "execute_result"
    }
   ],
   "source": [
    "%%sql \n",
    "DROP TABLE IF EXISTS enseña;\n",
    "CREATE TABLE enseña(\n",
    "    num_cuatri INT,\n",
    "    num INT,\n",
    "    dni VARCHAR(10),\n",
    "\n",
    "\n",
    "    PRIMARY KEY(num_cuatri,num,dni)\n",
    "    FOREIGN KEY (num_cuatri) REFERENCES cuatrimestre(num_cuatri),\n",
    "    FOREIGN KEY (num) REFERENCES asignaturas(num),\n",
    "    FOREIGN KEY (dni) REFERENCES profesor(dni));"
   ]
  },
  {
   "cell_type": "markdown",
   "metadata": {},
   "source": [
    "b- Los profesores pueden enseñar la misma asignatura en varios cuatrimestres, y sólo se debe guardar la más reciente."
   ]
  },
  {
   "cell_type": "code",
   "execution_count": null,
   "metadata": {},
   "outputs": [],
   "source": [
    "%%sql \n",
    "DROP TABLE IF EXISTS profesor ;\n",
    "CREATE TABLE profesor(\n",
    "    dni VARCHAR(10),\n",
    "    PRIMARY KEY (dni));"
   ]
  },
  {
   "cell_type": "code",
   "execution_count": null,
   "metadata": {},
   "outputs": [],
   "source": [
    "%%sql \n",
    "DROP TABLE IF EXISTS asignaturas;\n",
    "CREATE TABLE asignaturas(\n",
    "    num INT,\n",
    "    PRIMARY KEY(num)\n",
    ");"
   ]
  },
  {
   "cell_type": "code",
   "execution_count": 8,
   "metadata": {},
   "outputs": [
    {
     "name": "stdout",
     "output_type": "stream",
     "text": [
      "Done.\n",
      "Done.\n"
     ]
    },
    {
     "data": {
      "text/plain": [
       "[]"
      ]
     },
     "execution_count": 8,
     "metadata": {},
     "output_type": "execute_result"
    }
   ],
   "source": [
    "%%sql \n",
    "DROP TABLE IF EXISTS enseña;\n",
    "CREATE TABLE enseña(\n",
    "    num_cuatri INT,\n",
    "    num INT,\n",
    "    dni VARCHAR(10),\n",
    "\n",
    "\n",
    "    PRIMARY KEY(num,dni),\n",
    "    FOREIGN KEY (num) REFERENCES asignaturas(num),\n",
    "    FOREIGN KEY (dni) REFERENCES profesor(dni));"
   ]
  },
  {
   "cell_type": "markdown",
   "metadata": {},
   "source": [
    "c- Los profesores pueden enseñar la misma asignatura en varios cuatrimestres, y sólo se debe guardar la más reciente. Cada profesor tiene la obligación de enseñar alguna asignatra."
   ]
  },
  {
   "cell_type": "code",
   "execution_count": null,
   "metadata": {},
   "outputs": [],
   "source": [
    "%%sql \n",
    "DROP TABLE IF EXISTS profesor ;\n",
    "CREATE TABLE profesor(\n",
    "    dni VARCHAR(10),\n",
    "    PRIMARY KEY (dni));"
   ]
  },
  {
   "cell_type": "code",
   "execution_count": null,
   "metadata": {},
   "outputs": [],
   "source": [
    "%%sql \n",
    "DROP TABLE IF EXISTS asignaturas;\n",
    "CREATE TABLE asignaturas(\n",
    "    num INT,\n",
    "    PRIMARY KEY(num)\n",
    ");"
   ]
  },
  {
   "cell_type": "code",
   "execution_count": null,
   "metadata": {},
   "outputs": [],
   "source": [
    "%%sql \n",
    "DROP TABLE IF EXISTS enseña;\n",
    "CREATE TABLE enseña(\n",
    "    num_cuatri INT,\n",
    "    num INT NOT NULL,\n",
    "    dni VARCHAR(10) NOT NULL,\n",
    "\n",
    "\n",
    "    PRIMARY KEY(num,dni),\n",
    "    FOREIGN KEY (num) REFERENCES asignaturas(num),\n",
    "    FOREIGN KEY (dni) REFERENCES profesor(dni));"
   ]
  },
  {
   "cell_type": "markdown",
   "metadata": {},
   "source": [
    "d- Los profesores pueden enseñar la misma asignatura en varios cuatrimestres, y sólo se debe guardar la más reciente. Cada profesor enseña exactamente una asignatura en el cuatrimestre."
   ]
  },
  {
   "cell_type": "code",
   "execution_count": null,
   "metadata": {},
   "outputs": [],
   "source": [
    "%%sql \n",
    "DROP TABLE IF EXISTS profesor ;\n",
    "CREATE TABLE profesor(\n",
    "    dni VARCHAR(10),\n",
    "    PRIMARY KEY (dni));"
   ]
  },
  {
   "cell_type": "code",
   "execution_count": 10,
   "metadata": {},
   "outputs": [
    {
     "name": "stdout",
     "output_type": "stream",
     "text": [
      "Done.\n",
      "Done.\n"
     ]
    },
    {
     "data": {
      "text/plain": [
       "[]"
      ]
     },
     "execution_count": 10,
     "metadata": {},
     "output_type": "execute_result"
    }
   ],
   "source": [
    "%%sql \n",
    "DROP TABLE IF EXISTS asignaturas;\n",
    "CREATE TABLE asignaturas(\n",
    "    num INT,\n",
    "    dni VARCHAR(10) NOT NULL,\n",
    "    cuatrimentre VARCHAR(30),\n",
    "    PRIMARY KEY(num),\n",
    "    FOREIGN KEY (dni) REFERENCES profesor(dni));\n"
   ]
  },
  {
   "cell_type": "markdown",
   "metadata": {},
   "source": [
    "e- Los profesores pueden enseñar la misma asignatura en varios cuatrimestres, y sólo se debe guardar la más reciente. Cada profesor enseña exactamente una asignatura en el cuatrimestre, y toda asignatura debe ser enseñada por al menos un profesor."
   ]
  },
  {
   "cell_type": "code",
   "execution_count": 7,
   "metadata": {},
   "outputs": [
    {
     "name": "stdout",
     "output_type": "stream",
     "text": [
      "Done.\n",
      "Done.\n"
     ]
    },
    {
     "data": {
      "text/plain": [
       "[]"
      ]
     },
     "execution_count": 7,
     "metadata": {},
     "output_type": "execute_result"
    }
   ],
   "source": [
    "%%sql \n",
    "DROP TABLE IF EXISTS profesor ;\n",
    "CREATE TABLE profesor(\n",
    "    dni VARCHAR(10),\n",
    "    PRIMARY KEY (dni));"
   ]
  },
  {
   "cell_type": "code",
   "execution_count": 8,
   "metadata": {},
   "outputs": [
    {
     "name": "stdout",
     "output_type": "stream",
     "text": [
      "Done.\n",
      "Done.\n"
     ]
    },
    {
     "data": {
      "text/plain": [
       "[]"
      ]
     },
     "execution_count": 8,
     "metadata": {},
     "output_type": "execute_result"
    }
   ],
   "source": [
    "%%sql \n",
    "DROP TABLE IF EXISTS asignaturas;\n",
    "CREATE TABLE asignaturas(\n",
    "    num INT NOT NULL,\n",
    "    dni VARCHAR(10) NOT NULL,\n",
    "    cuatrimentre VARCHAR(30),\n",
    "    PRIMARY KEY(num),\n",
    "    FOREIGN KEY (dni) REFERENCES profesor(dni));\n"
   ]
  },
  {
   "cell_type": "markdown",
   "metadata": {},
   "source": [
    "f- Los profesores pueden enseñar la misma asignatura en varios cuatrimestres, y sólo se debe guardar la más reciente. Algunas asignaturas tienen que ser enseñadas por un grupo de profesores conjuntamente, pero es posible que en un grupo no haya ningún profesor que pueda enseñar una asignatura."
   ]
  },
  {
   "cell_type": "code",
   "execution_count": 9,
   "metadata": {},
   "outputs": [
    {
     "name": "stdout",
     "output_type": "stream",
     "text": [
      "Done.\n",
      "Done.\n"
     ]
    },
    {
     "data": {
      "text/plain": [
       "[]"
      ]
     },
     "execution_count": 9,
     "metadata": {},
     "output_type": "execute_result"
    }
   ],
   "source": [
    "%%sql \n",
    "DROP TABLE IF EXISTS profesor ;\n",
    "CREATE TABLE profesor(\n",
    "    dni VARCHAR(10),\n",
    "    grupo VARCHAR(30),\n",
    "    PRIMARY KEY (dni));"
   ]
  },
  {
   "cell_type": "code",
   "execution_count": 10,
   "metadata": {},
   "outputs": [
    {
     "name": "stdout",
     "output_type": "stream",
     "text": [
      "Done.\n",
      "Done.\n"
     ]
    },
    {
     "data": {
      "text/plain": [
       "[]"
      ]
     },
     "execution_count": 10,
     "metadata": {},
     "output_type": "execute_result"
    }
   ],
   "source": [
    "%%sql \n",
    "DROP TABLE IF EXISTS asignaturas;\n",
    "CREATE TABLE asignaturas(\n",
    "    num INT NOT NULL,\n",
    "    dni VARCHAR(10),\n",
    "    cuatrimentre VARCHAR(30),\n",
    "    PRIMARY KEY(num),\n",
    "    FOREIGN KEY (dni) REFERENCES profesor(dni));\n"
   ]
  }
 ],
 "metadata": {
  "kernelspec": {
   "display_name": "Python 3",
   "language": "python",
   "name": "python3"
  },
  "language_info": {
   "codemirror_mode": {
    "name": "ipython",
    "version": 3
   },
   "file_extension": ".py",
   "mimetype": "text/x-python",
   "name": "python",
   "nbconvert_exporter": "python",
   "pygments_lexer": "ipython3",
   "version": "3.4.3"
  }
 },
 "nbformat": 4,
 "nbformat_minor": 2
}
